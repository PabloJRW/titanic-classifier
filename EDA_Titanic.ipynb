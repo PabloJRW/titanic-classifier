{
 "cells": [
  {
   "cell_type": "code",
   "execution_count": 1,
   "metadata": {
    "id": "9eR0Fb5BvCJ6"
   },
   "outputs": [],
   "source": [
    "# Manipulación de datos\n",
    "# ==============================================================================\n",
    "import numpy as np\n",
    "import pandas as pd\n",
    "\n",
    "# Visualización de datos\n",
    "# ==============================================================================\n",
    "import matplotlib.pyplot as plt\n",
    "import seaborn as sns\n",
    "import matplotlib.ticker as ticker\n",
    "import pylab\n",
    "\n",
    "import scipy.stats as stats\n",
    "\n",
    "from sklearn.feature_selection import SelectKBest\n",
    "from sklearn.feature_selection import f_classif\n",
    "\n",
    "\n",
    "# Modelado\n",
    "# ==============================================================================\n",
    "\n",
    "from sklearn.feature_selection import mutual_info_regression\n",
    "from sklearn.base import BaseEstimator, TransformerMixin\n",
    "from sklearn.compose import ColumnTransformer\n",
    "from sklearn.pipeline import Pipeline, FeatureUnion\n",
    "from sklearn.impute import SimpleImputer\n",
    "from sklearn.preprocessing import RobustScaler\n",
    "from sklearn.preprocessing import FunctionTransformer, OneHotEncoder\n",
    "from sklearn.neighbors import KNeighborsClassifier\n",
    "from sklearn.model_selection import cross_val_predict\n",
    "from sklearn.metrics import precision_score, recall_score, f1_score\n",
    "from sklearn.svm import SVC\n",
    "from sklearn.linear_model import LogisticRegression\n",
    "from sklearn.ensemble import RandomForestClassifier\n",
    "from sklearn.neighbors import KNeighborsClassifier\n",
    "from sklearn.metrics import classification_report\n",
    "from sklearn.metrics import roc_curve\n",
    "from sklearn.metrics import roc_auc_score\n",
    "from sklearn.model_selection import GridSearchCV, KFold\n",
    "from sklearn.model_selection import RandomizedSearchCV\n",
    "from sklearn.metrics import confusion_matrix\n",
    "\n",
    "\n",
    "# Configuración warnings\n",
    "# ==============================================================================\n",
    "import warnings\n",
    "warnings.filterwarnings('ignore')"
   ]
  },
  {
   "cell_type": "code",
   "execution_count": 2,
   "metadata": {},
   "outputs": [],
   "source": [
    "plt.style.use('ggplot')"
   ]
  },
  {
   "cell_type": "code",
   "execution_count": 3,
   "metadata": {
    "id": "eTsQ946cvCKB"
   },
   "outputs": [],
   "source": [
    "url_train = \"https://github.com/PabloJRW/titanic-classifier/raw/main/train.csv\"\n",
    "url_test = \"https://github.com/PabloJRW/titanic-classifier/raw/main/test.csv\"\n",
    "df_train = pd.read_csv(url_train)\n",
    "df_test = pd.read_csv(url_test)"
   ]
  },
  {
   "cell_type": "markdown",
   "metadata": {
    "id": "hMeL5fOWvCKB"
   },
   "source": [
    "# <b>EDA (Análisis Exploratorio de Datos) "
   ]
  },
  {
   "cell_type": "code",
   "execution_count": 4,
   "metadata": {},
   "outputs": [
    {
     "data": {
      "text/plain": [
       "(891, 12)"
      ]
     },
     "execution_count": 4,
     "metadata": {},
     "output_type": "execute_result"
    }
   ],
   "source": [
    " # Dimensión de los datos\n",
    "df_train.shape"
   ]
  },
  {
   "cell_type": "code",
   "execution_count": 5,
   "metadata": {
    "colab": {
     "base_uri": "https://localhost:8080/",
     "height": 374
    },
    "id": "DVMdclSRvCKC",
    "outputId": "23a50411-9682-47ce-ada4-c627318aa4ce"
   },
   "outputs": [
    {
     "data": {
      "text/html": [
       "<div>\n",
       "<style scoped>\n",
       "    .dataframe tbody tr th:only-of-type {\n",
       "        vertical-align: middle;\n",
       "    }\n",
       "\n",
       "    .dataframe tbody tr th {\n",
       "        vertical-align: top;\n",
       "    }\n",
       "\n",
       "    .dataframe thead th {\n",
       "        text-align: right;\n",
       "    }\n",
       "</style>\n",
       "<table border=\"1\" class=\"dataframe\">\n",
       "  <thead>\n",
       "    <tr style=\"text-align: right;\">\n",
       "      <th></th>\n",
       "      <th>PassengerId</th>\n",
       "      <th>Survived</th>\n",
       "      <th>Pclass</th>\n",
       "      <th>Name</th>\n",
       "      <th>Sex</th>\n",
       "      <th>Age</th>\n",
       "      <th>SibSp</th>\n",
       "      <th>Parch</th>\n",
       "      <th>Ticket</th>\n",
       "      <th>Fare</th>\n",
       "      <th>Cabin</th>\n",
       "      <th>Embarked</th>\n",
       "    </tr>\n",
       "  </thead>\n",
       "  <tbody>\n",
       "    <tr>\n",
       "      <th>0</th>\n",
       "      <td>1</td>\n",
       "      <td>0</td>\n",
       "      <td>3</td>\n",
       "      <td>Braund, Mr. Owen Harris</td>\n",
       "      <td>male</td>\n",
       "      <td>22.0</td>\n",
       "      <td>1</td>\n",
       "      <td>0</td>\n",
       "      <td>A/5 21171</td>\n",
       "      <td>7.2500</td>\n",
       "      <td>NaN</td>\n",
       "      <td>S</td>\n",
       "    </tr>\n",
       "    <tr>\n",
       "      <th>1</th>\n",
       "      <td>2</td>\n",
       "      <td>1</td>\n",
       "      <td>1</td>\n",
       "      <td>Cumings, Mrs. John Bradley (Florence Briggs Th...</td>\n",
       "      <td>female</td>\n",
       "      <td>38.0</td>\n",
       "      <td>1</td>\n",
       "      <td>0</td>\n",
       "      <td>PC 17599</td>\n",
       "      <td>71.2833</td>\n",
       "      <td>C85</td>\n",
       "      <td>C</td>\n",
       "    </tr>\n",
       "    <tr>\n",
       "      <th>2</th>\n",
       "      <td>3</td>\n",
       "      <td>1</td>\n",
       "      <td>3</td>\n",
       "      <td>Heikkinen, Miss. Laina</td>\n",
       "      <td>female</td>\n",
       "      <td>26.0</td>\n",
       "      <td>0</td>\n",
       "      <td>0</td>\n",
       "      <td>STON/O2. 3101282</td>\n",
       "      <td>7.9250</td>\n",
       "      <td>NaN</td>\n",
       "      <td>S</td>\n",
       "    </tr>\n",
       "    <tr>\n",
       "      <th>3</th>\n",
       "      <td>4</td>\n",
       "      <td>1</td>\n",
       "      <td>1</td>\n",
       "      <td>Futrelle, Mrs. Jacques Heath (Lily May Peel)</td>\n",
       "      <td>female</td>\n",
       "      <td>35.0</td>\n",
       "      <td>1</td>\n",
       "      <td>0</td>\n",
       "      <td>113803</td>\n",
       "      <td>53.1000</td>\n",
       "      <td>C123</td>\n",
       "      <td>S</td>\n",
       "    </tr>\n",
       "    <tr>\n",
       "      <th>4</th>\n",
       "      <td>5</td>\n",
       "      <td>0</td>\n",
       "      <td>3</td>\n",
       "      <td>Allen, Mr. William Henry</td>\n",
       "      <td>male</td>\n",
       "      <td>35.0</td>\n",
       "      <td>0</td>\n",
       "      <td>0</td>\n",
       "      <td>373450</td>\n",
       "      <td>8.0500</td>\n",
       "      <td>NaN</td>\n",
       "      <td>S</td>\n",
       "    </tr>\n",
       "  </tbody>\n",
       "</table>\n",
       "</div>"
      ],
      "text/plain": [
       "   PassengerId  Survived  Pclass  \\\n",
       "0            1         0       3   \n",
       "1            2         1       1   \n",
       "2            3         1       3   \n",
       "3            4         1       1   \n",
       "4            5         0       3   \n",
       "\n",
       "                                                Name     Sex   Age  SibSp  \\\n",
       "0                            Braund, Mr. Owen Harris    male  22.0      1   \n",
       "1  Cumings, Mrs. John Bradley (Florence Briggs Th...  female  38.0      1   \n",
       "2                             Heikkinen, Miss. Laina  female  26.0      0   \n",
       "3       Futrelle, Mrs. Jacques Heath (Lily May Peel)  female  35.0      1   \n",
       "4                           Allen, Mr. William Henry    male  35.0      0   \n",
       "\n",
       "   Parch            Ticket     Fare Cabin Embarked  \n",
       "0      0         A/5 21171   7.2500   NaN        S  \n",
       "1      0          PC 17599  71.2833   C85        C  \n",
       "2      0  STON/O2. 3101282   7.9250   NaN        S  \n",
       "3      0            113803  53.1000  C123        S  \n",
       "4      0            373450   8.0500   NaN        S  "
      ]
     },
     "execution_count": 5,
     "metadata": {},
     "output_type": "execute_result"
    }
   ],
   "source": [
    "df_train.head(5)"
   ]
  },
  {
   "cell_type": "code",
   "execution_count": 6,
   "metadata": {},
   "outputs": [
    {
     "name": "stdout",
     "output_type": "stream",
     "text": [
      "<class 'pandas.core.frame.DataFrame'>\n",
      "RangeIndex: 891 entries, 0 to 890\n",
      "Data columns (total 12 columns):\n",
      " #   Column       Non-Null Count  Dtype  \n",
      "---  ------       --------------  -----  \n",
      " 0   PassengerId  891 non-null    int64  \n",
      " 1   Survived     891 non-null    int64  \n",
      " 2   Pclass       891 non-null    int64  \n",
      " 3   Name         891 non-null    object \n",
      " 4   Sex          891 non-null    object \n",
      " 5   Age          714 non-null    float64\n",
      " 6   SibSp        891 non-null    int64  \n",
      " 7   Parch        891 non-null    int64  \n",
      " 8   Ticket       891 non-null    object \n",
      " 9   Fare         891 non-null    float64\n",
      " 10  Cabin        204 non-null    object \n",
      " 11  Embarked     889 non-null    object \n",
      "dtypes: float64(2), int64(5), object(5)\n",
      "memory usage: 83.7+ KB\n"
     ]
    }
   ],
   "source": [
    "df_train.info()"
   ]
  },
  {
   "cell_type": "code",
   "execution_count": 7,
   "metadata": {},
   "outputs": [],
   "source": [
    "df_train.drop('PassengerId', axis=1, inplace=True)\n",
    "df_test.drop('PassengerId', axis=1, inplace=True)\n",
    "\n",
    "# Cambio el nombre de las variables \n",
    "df_train.columns = [\"vida\", \"clase\", \"nombre\", \"sexo\", \"edad\", \"sibsp\", \"parch\", \"ticket\", \"tarifa\", \"cabina\", \"puerto\"]\n",
    "df_test.columns = [\"clase\", \"nombre\", \"sexo\", \"edad\", \"sibsp\", \"parch\", \"ticket\", \"tarifa\", \"cabina\", \"puerto\"]"
   ]
  },
  {
   "cell_type": "markdown",
   "metadata": {},
   "source": [
    "Los datos contenidos en la variable nombre, tienen la particularidad de que contienen los títulos de cortesía, por ejemplo, Mr, Mrs, Miss, entre otros títulos. Hago la extracción de estos para conocer posteriormente si es un factor predictivo del problema."
   ]
  },
  {
   "cell_type": "code",
   "execution_count": 8,
   "metadata": {},
   "outputs": [],
   "source": [
    "# Extracción del título social \n",
    "df_train['titulo'] = df_train.nombre.str.extract(' ([A-Za-z]+)\\.', expand = False)\n",
    "df_test['titulo'] = df_test.nombre.str.extract(' ([A-Za-z]+)\\.', expand = False)"
   ]
  },
  {
   "cell_type": "code",
   "execution_count": 9,
   "metadata": {},
   "outputs": [
    {
     "data": {
      "text/html": [
       "<div>\n",
       "<style scoped>\n",
       "    .dataframe tbody tr th:only-of-type {\n",
       "        vertical-align: middle;\n",
       "    }\n",
       "\n",
       "    .dataframe tbody tr th {\n",
       "        vertical-align: top;\n",
       "    }\n",
       "\n",
       "    .dataframe thead th {\n",
       "        text-align: right;\n",
       "    }\n",
       "</style>\n",
       "<table border=\"1\" class=\"dataframe\">\n",
       "  <thead>\n",
       "    <tr style=\"text-align: right;\">\n",
       "      <th></th>\n",
       "      <th>vida</th>\n",
       "      <th>clase</th>\n",
       "      <th>nombre</th>\n",
       "      <th>sexo</th>\n",
       "      <th>edad</th>\n",
       "      <th>sibsp</th>\n",
       "      <th>parch</th>\n",
       "      <th>ticket</th>\n",
       "      <th>tarifa</th>\n",
       "      <th>cabina</th>\n",
       "      <th>puerto</th>\n",
       "      <th>titulo</th>\n",
       "    </tr>\n",
       "  </thead>\n",
       "  <tbody>\n",
       "    <tr>\n",
       "      <th>0</th>\n",
       "      <td>0</td>\n",
       "      <td>3</td>\n",
       "      <td>Braund, Mr. Owen Harris</td>\n",
       "      <td>male</td>\n",
       "      <td>22.0</td>\n",
       "      <td>1</td>\n",
       "      <td>0</td>\n",
       "      <td>A/5 21171</td>\n",
       "      <td>7.2500</td>\n",
       "      <td>NaN</td>\n",
       "      <td>S</td>\n",
       "      <td>Mr</td>\n",
       "    </tr>\n",
       "    <tr>\n",
       "      <th>1</th>\n",
       "      <td>1</td>\n",
       "      <td>1</td>\n",
       "      <td>Cumings, Mrs. John Bradley (Florence Briggs Th...</td>\n",
       "      <td>female</td>\n",
       "      <td>38.0</td>\n",
       "      <td>1</td>\n",
       "      <td>0</td>\n",
       "      <td>PC 17599</td>\n",
       "      <td>71.2833</td>\n",
       "      <td>C85</td>\n",
       "      <td>C</td>\n",
       "      <td>Mrs</td>\n",
       "    </tr>\n",
       "    <tr>\n",
       "      <th>2</th>\n",
       "      <td>1</td>\n",
       "      <td>3</td>\n",
       "      <td>Heikkinen, Miss. Laina</td>\n",
       "      <td>female</td>\n",
       "      <td>26.0</td>\n",
       "      <td>0</td>\n",
       "      <td>0</td>\n",
       "      <td>STON/O2. 3101282</td>\n",
       "      <td>7.9250</td>\n",
       "      <td>NaN</td>\n",
       "      <td>S</td>\n",
       "      <td>Miss</td>\n",
       "    </tr>\n",
       "  </tbody>\n",
       "</table>\n",
       "</div>"
      ],
      "text/plain": [
       "   vida  clase                                             nombre    sexo  \\\n",
       "0     0      3                            Braund, Mr. Owen Harris    male   \n",
       "1     1      1  Cumings, Mrs. John Bradley (Florence Briggs Th...  female   \n",
       "2     1      3                             Heikkinen, Miss. Laina  female   \n",
       "\n",
       "   edad  sibsp  parch            ticket   tarifa cabina puerto titulo  \n",
       "0  22.0      1      0         A/5 21171   7.2500    NaN      S     Mr  \n",
       "1  38.0      1      0          PC 17599  71.2833    C85      C    Mrs  \n",
       "2  26.0      0      0  STON/O2. 3101282   7.9250    NaN      S   Miss  "
      ]
     },
     "execution_count": 9,
     "metadata": {},
     "output_type": "execute_result"
    }
   ],
   "source": [
    "df_train.head(3)"
   ]
  },
  {
   "cell_type": "markdown",
   "metadata": {},
   "source": [
    "#### <b>Valores nulos"
   ]
  },
  {
   "cell_type": "code",
   "execution_count": 10,
   "metadata": {},
   "outputs": [
    {
     "data": {
      "image/png": "[encoded data removed]",
      "text/plain": [
       "<Figure size 648x432 with 1 Axes>"
      ]
     },
     "metadata": {},
     "output_type": "display_data"
    },
    {
     "name": "stdout",
     "output_type": "stream",
     "text": [
      "PORCENTAJE DE VALORES NULOS:\n",
      "================================================================\n",
      "edad      19.87\n",
      "cabina    77.10\n",
      "puerto     0.22\n",
      "dtype: float64\n"
     ]
    }
   ],
   "source": [
    "# Visualización de variables con valores faltantes\n",
    "plt.figure(figsize=(9,6))\n",
    "plt.title('VALORES NULOS', fontweight='bold')\n",
    "sns.heatmap(df_train.isnull(), yticklabels=False, cbar=False, cmap='Paired')\n",
    "plt.show()\n",
    "\n",
    "nulls = df_train.isnull().sum()\n",
    "print('PORCENTAJE DE VALORES NULOS:')\n",
    "print('='*64)\n",
    "print(round(nulls[nulls>0]/len(df_train)*100, 2))"
   ]
  },
  {
   "cell_type": "code",
   "execution_count": 11,
   "metadata": {},
   "outputs": [],
   "source": [
    "# La variable cabina contiene gran cantidad de valores faltantes por lo que la elimino.\n",
    "df_train.drop('cabina', axis=1, inplace=True)\n",
    "df_test.drop('cabina', axis=1, inplace=True)\n",
    "\n",
    "# Copia de los datasets\n",
    "df_train = df_train.copy()\n",
    "df_test = df_test.copy()"
   ]
  },
  {
   "cell_type": "markdown",
   "metadata": {},
   "source": [
    "## <b>Variable Objetivo"
   ]
  },
  {
   "cell_type": "markdown",
   "metadata": {},
   "source": [
    "Recordemos que el análisis de los datos aquí aplicado tiene como objetivo encontrar las mejores características predictoras para alimentar un modelo de aprendizaje automático. Por la naturaleza de la variable objetivo (que se busca predecir), podemos determinar que se trata de un problema de clasificación binario. "
   ]
  },
  {
   "cell_type": "code",
   "execution_count": 12,
   "metadata": {
    "colab": {
     "base_uri": "https://localhost:8080/",
     "height": 369
    },
    "id": "KD7srs23AwsJ",
    "outputId": "17fc1387-cc4a-49ca-9d11-41253e32150d"
   },
   "outputs": [
    {
     "data": {
      "image/png": "[encoded data removed]",
      "text/plain": [
       "<Figure size 720x360 with 1 Axes>"
      ]
     },
     "metadata": {},
     "output_type": "display_data"
    }
   ],
   "source": [
    "# Distribución de la variable objetivo\n",
    "plt.figure(figsize=(10, 5))\n",
    "plt.title('Distribución de vida', fontweight='bold', fontsize=20)\n",
    "sns.countplot(x=df_train['vida'])\n",
    "plt.show()"
   ]
  },
  {
   "cell_type": "code",
   "execution_count": 13,
   "metadata": {
    "colab": {
     "base_uri": "https://localhost:8080/"
    },
    "id": "GGn-gnMcD53s",
    "outputId": "821af613-fbbb-4cc1-a358-f97e1e9a0cd5"
   },
   "outputs": [
    {
     "name": "stdout",
     "output_type": "stream",
     "text": [
      "Porcentaje de supervivientes: 38.38%\n",
      "Porcentaje de muertes: 61.62%\n"
     ]
    }
   ],
   "source": [
    "# Cuál fue el porcentaje de sobrevivientes?\n",
    "print(f\"Porcentaje de supervivientes: {round(len(df_train[df_train['vida']==1]) / len(df_train) * 100, 2) }%\")\n",
    "print(f\"Porcentaje de muertes: {round(len(df_train[df_train['vida']==0]) / len(df_train) * 100, 2) }%\")"
   ]
  },
  {
   "cell_type": "markdown",
   "metadata": {
    "id": "opVhtAuFvCKI"
   },
   "source": [
    "## <b>VARIABLES NUMÉRICAS"
   ]
  },
  {
   "cell_type": "markdown",
   "metadata": {},
   "source": [
    "En este punto procedo al análisis de las variables numéricas."
   ]
  },
  {
   "cell_type": "code",
   "execution_count": 14,
   "metadata": {
    "colab": {
     "base_uri": "https://localhost:8080/"
    },
    "id": "LnsHifTRzmYc",
    "outputId": "b0672cda-0885-44bb-8637-8b20584eef2d"
   },
   "outputs": [
    {
     "data": {
      "text/html": [
       "<div>\n",
       "<style scoped>\n",
       "    .dataframe tbody tr th:only-of-type {\n",
       "        vertical-align: middle;\n",
       "    }\n",
       "\n",
       "    .dataframe tbody tr th {\n",
       "        vertical-align: top;\n",
       "    }\n",
       "\n",
       "    .dataframe thead th {\n",
       "        text-align: right;\n",
       "    }\n",
       "</style>\n",
       "<table border=\"1\" class=\"dataframe\">\n",
       "  <thead>\n",
       "    <tr style=\"text-align: right;\">\n",
       "      <th></th>\n",
       "      <th>count</th>\n",
       "      <th>mean</th>\n",
       "      <th>std</th>\n",
       "      <th>min</th>\n",
       "      <th>25%</th>\n",
       "      <th>50%</th>\n",
       "      <th>75%</th>\n",
       "      <th>max</th>\n",
       "    </tr>\n",
       "  </thead>\n",
       "  <tbody>\n",
       "    <tr>\n",
       "      <th>vida</th>\n",
       "      <td>891.0</td>\n",
       "      <td>0.383838</td>\n",
       "      <td>0.486592</td>\n",
       "      <td>0.00</td>\n",
       "      <td>0.0000</td>\n",
       "      <td>0.0000</td>\n",
       "      <td>1.0</td>\n",
       "      <td>1.0000</td>\n",
       "    </tr>\n",
       "    <tr>\n",
       "      <th>clase</th>\n",
       "      <td>891.0</td>\n",
       "      <td>2.308642</td>\n",
       "      <td>0.836071</td>\n",
       "      <td>1.00</td>\n",
       "      <td>2.0000</td>\n",
       "      <td>3.0000</td>\n",
       "      <td>3.0</td>\n",
       "      <td>3.0000</td>\n",
       "    </tr>\n",
       "    <tr>\n",
       "      <th>edad</th>\n",
       "      <td>714.0</td>\n",
       "      <td>29.699118</td>\n",
       "      <td>14.526497</td>\n",
       "      <td>0.42</td>\n",
       "      <td>20.1250</td>\n",
       "      <td>28.0000</td>\n",
       "      <td>38.0</td>\n",
       "      <td>80.0000</td>\n",
       "    </tr>\n",
       "    <tr>\n",
       "      <th>sibsp</th>\n",
       "      <td>891.0</td>\n",
       "      <td>0.523008</td>\n",
       "      <td>1.102743</td>\n",
       "      <td>0.00</td>\n",
       "      <td>0.0000</td>\n",
       "      <td>0.0000</td>\n",
       "      <td>1.0</td>\n",
       "      <td>8.0000</td>\n",
       "    </tr>\n",
       "    <tr>\n",
       "      <th>parch</th>\n",
       "      <td>891.0</td>\n",
       "      <td>0.381594</td>\n",
       "      <td>0.806057</td>\n",
       "      <td>0.00</td>\n",
       "      <td>0.0000</td>\n",
       "      <td>0.0000</td>\n",
       "      <td>0.0</td>\n",
       "      <td>6.0000</td>\n",
       "    </tr>\n",
       "    <tr>\n",
       "      <th>tarifa</th>\n",
       "      <td>891.0</td>\n",
       "      <td>32.204208</td>\n",
       "      <td>49.693429</td>\n",
       "      <td>0.00</td>\n",
       "      <td>7.9104</td>\n",
       "      <td>14.4542</td>\n",
       "      <td>31.0</td>\n",
       "      <td>512.3292</td>\n",
       "    </tr>\n",
       "  </tbody>\n",
       "</table>\n",
       "</div>"
      ],
      "text/plain": [
       "        count       mean        std   min      25%      50%   75%       max\n",
       "vida    891.0   0.383838   0.486592  0.00   0.0000   0.0000   1.0    1.0000\n",
       "clase   891.0   2.308642   0.836071  1.00   2.0000   3.0000   3.0    3.0000\n",
       "edad    714.0  29.699118  14.526497  0.42  20.1250  28.0000  38.0   80.0000\n",
       "sibsp   891.0   0.523008   1.102743  0.00   0.0000   0.0000   1.0    8.0000\n",
       "parch   891.0   0.381594   0.806057  0.00   0.0000   0.0000   0.0    6.0000\n",
       "tarifa  891.0  32.204208  49.693429  0.00   7.9104  14.4542  31.0  512.3292"
      ]
     },
     "execution_count": 14,
     "metadata": {},
     "output_type": "execute_result"
    }
   ],
   "source": [
    "# Variables numéricas\n",
    "# ==============================================================================\n",
    "numeric_features = df_train.select_dtypes(include=[\"float\", \"int\"]).columns\n",
    "df_train[numeric_features].describe().T"
   ]
  },
  {
   "cell_type": "code",
   "execution_count": 15,
   "metadata": {
    "scrolled": true
   },
   "outputs": [
    {
     "data": {
      "image/png": "[encoded data removed]",
      "text/plain": [
       "<Figure size 1296x648 with 6 Axes>"
      ]
     },
     "metadata": {},
     "output_type": "display_data"
    }
   ],
   "source": [
    "# Gráficos de distribución - Variable numéricas\n",
    "# ==============================================================================\n",
    "# Ajustar el número de subplots en función de la cantidad de variables\n",
    "fig, axes = plt.subplots(nrows=3, ncols=2, figsize=(18, 9))\n",
    "axes = axes.flat\n",
    "\n",
    "for i, colum in enumerate(numeric_features):\n",
    "    sns.histplot(\n",
    "        x       = df_train[colum].dropna(),\n",
    "        stat    = \"count\",\n",
    "        kde     = True,\n",
    "        color   = (list(plt.rcParams['axes.prop_cycle'])*2)[i][\"color\"],\n",
    "        line_kws= {'linewidth': 2},\n",
    "        alpha   = 0.3,\n",
    "        ax      = axes[i]\n",
    "    )\n",
    "    axes[i].set_title(colum, fontsize = 12, fontweight = \"bold\")\n",
    "    axes[i].tick_params(labelsize = 9)\n",
    "    axes[i].set_xlabel(\"\")\n",
    "    \n",
    "    \n",
    "fig.tight_layout()\n",
    "plt.subplots_adjust(top = 0.85)\n",
    "fig.suptitle('Distribución variables numéricas', fontsize = 24, fontweight = \"bold\");"
   ]
  },
  {
   "cell_type": "markdown",
   "metadata": {},
   "source": [
    "### <b> Edad"
   ]
  },
  {
   "cell_type": "markdown",
   "metadata": {},
   "source": [
    "<b>Hubo diferencias significativas en cuanto a la edad, en los pasajeros sobrevientes sobre aquellos que fallecieron?. "
   ]
  },
  {
   "cell_type": "markdown",
   "metadata": {},
   "source": [
    "De haber diferencias en edades de los pasajeros sobrevivientes y fallecidos, podemos concluir que esta variable nos podría aportar información a nuestro modelo de predicción. De no ser el caso, la excluimos para el mismo."
   ]
  },
  {
   "cell_type": "code",
   "execution_count": 16,
   "metadata": {},
   "outputs": [
    {
     "data": {
      "image/png": "[encoded data removed]",
      "text/plain": [
       "<Figure size 2016x288 with 2 Axes>"
      ]
     },
     "metadata": {},
     "output_type": "display_data"
    }
   ],
   "source": [
    "# Gráficas de distribución para la variable edad\n",
    "# ==============================================================================\n",
    "fig = plt.figure(figsize=(28,4))\n",
    "gs = fig.add_gridspec(1,3)\n",
    "\n",
    "ax0 = fig.add_subplot(gs[0,0])\n",
    "ax1 = fig.add_subplot(gs[0,1])\n",
    "\n",
    "ax0.set_title(\"HISTOGRAMA EDAD\", fontweight='bold')\n",
    "ax1.set_title(\"BOX-PLOT\", fontweight='bold')\n",
    "\n",
    "sns.histplot(x='edad', hue='vida', data=df_train, multiple='stack', kde=True, ax=ax0)\n",
    "ax0.legend(['Fallecidos','Sobrevivientes'])\n",
    "\n",
    "sns.boxplot(x='edad', y='vida', orient='h', data=df_train, ax=ax1)\n",
    "\n",
    "\n",
    "fig.subplots_adjust(wspace=0.09)\n",
    "plt.show()"
   ]
  },
  {
   "cell_type": "markdown",
   "metadata": {},
   "source": [
    "Aplico la prueba de normalidad a la variable edad mediante el método D'Agostino K-squared. La misma establece como hipótesis nula, que los datos se distribuyen de manera normal. Alpha = 5%"
   ]
  },
  {
   "cell_type": "code",
   "execution_count": 17,
   "metadata": {},
   "outputs": [
    {
     "name": "stdout",
     "output_type": "stream",
     "text": [
      "p-value: 0.00011709599657350744\n",
      "Hay evidencias significativas para rechazar la hipótesis nula. No Gaussiana\n"
     ]
    }
   ],
   "source": [
    "# Prueba de normalidad\n",
    "k2, p = stats.normaltest(df_train.edad, nan_policy='omit')\n",
    "\n",
    "print('p-value: {}'.format(p))\n",
    "if p > 0.05:\n",
    "    print('No hay evidencias significativas para rechazar la hipótesis nula. Gaussiana')\n",
    "else:\n",
    "    print('Hay evidencias significativas para rechazar la hipótesis nula. No Gaussiana')\n"
   ]
  },
  {
   "cell_type": "markdown",
   "metadata": {},
   "source": [
    "El test de normalidad nos da como resultado un p-valor por debajo del nivel de significancia establecido a priori (0.05), por lo que se podemos concluir, que contamos con las evidencias significativas para rechazar la hipótesis nula de que los datos se distribuyen de manera Gaussiana. "
   ]
  },
  {
   "cell_type": "markdown",
   "metadata": {},
   "source": [
    "Realizo una prueba de hipótesis para conocer si hubo diferencia en las edades entre los grupos de pasajeros que sobrevivieron y aquellos que no lo hicieron. Y así, determinar si la variable edad es una característica que nos aporta información a nuestro modelo de predicción."
   ]
  },
  {
   "cell_type": "markdown",
   "metadata": {},
   "source": [
    "Antes aplico el análisis de homogeneidad de varianza, para conocer qué prueba de hipótesis conviene más utilizar. "
   ]
  },
  {
   "cell_type": "code",
   "execution_count": 26,
   "metadata": {},
   "outputs": [],
   "source": [
    "# División de los grupos de supervivientes y fallecidos\n",
    "fallecidos = df_train[df_train['vida']==0]    # Grupo de sobrevivientes\n",
    "sobrevivientes = df_train[df_train['vida']==1] # Grupo de fallecidos\n",
    "\n",
    "edad_fallecidos, edad_sobrevivientes = fallecidos['edad'], sobrevivientes['edad']"
   ]
  },
  {
   "cell_type": "code",
   "execution_count": 62,
   "metadata": {},
   "outputs": [
    {
     "name": "stdout",
     "output_type": "stream",
     "text": [
      "0.022810547347457587\n",
      "0.01690660597210018\n"
     ]
    }
   ],
   "source": [
    "# Levene Test\n",
    "# ==============================================================================\n",
    "levene_test = stats.levene(edad_fallecidos, edad_sobrevivientes, center='median')\n",
    "\n",
    "# Fligner-Killeen test\n",
    "# ==============================================================================\n",
    "fligner_test = stats.fligner(edad_fallecidos,  edad_sobrevivientes, center='median')\n",
    "\n",
    "print(levene_test[1])\n",
    "print(fligner_test[1])"
   ]
  },
  {
   "cell_type": "markdown",
   "metadata": {},
   "source": [
    "El test de Levene (utilizando la mediana) y el test de Fligner-Killeen (no paramétrico), muestran evidencias significativas para rechazar la hipótesis nula, de que ambos grupos tienen la misma varianza.  p-valor < 0.05. Es decir, nuestros datos son heterocedásticos."
   ]
  },
  {
   "cell_type": "markdown",
   "metadata": {},
   "source": [
    "Una vez conocidas las caracteŕisticas de las muestras en cuestión, la prueba de hipótesis que mejor se ajusta a estas, es la prueba t de Welch."
   ]
  },
  {
   "cell_type": "code",
   "execution_count": 30,
   "metadata": {},
   "outputs": [
    {
     "name": "stdout",
     "output_type": "stream",
     "text": [
      "0.05830915997775747\n"
     ]
    }
   ],
   "source": [
    "# Welch's t-test\n",
    "# ===============================================================================\n",
    "welch_test = stats.ttest_ind( edad_sobrevivientes, edad_fallecidos, equal_var=False)\n",
    "print(welch_test[1])"
   ]
  },
  {
   "cell_type": "markdown",
   "metadata": {},
   "source": [
    "### <b>Tarifa"
   ]
  },
  {
   "cell_type": "code",
   "execution_count": 61,
   "metadata": {},
   "outputs": [
    {
     "data": {
      "image/png": "[encoded data removed]",
      "text/plain": [
       "<Figure size 648x216 with 1 Axes>"
      ]
     },
     "metadata": {},
     "output_type": "display_data"
    }
   ],
   "source": [
    "# Gráficas de distribución para la variable tarifa\n",
    "# ==============================================================================\n",
    "fig, ax = plt.subplots(figsize=(9,3))\n",
    "\n",
    "ax.set_title(\"HISTOGRAMA TARIFA\", fontweight='bold')\n",
    "sns.histplot(x=df_train.tarifa , bins=50, kde=True, ax=ax)\n",
    "\n",
    "plt.show()"
   ]
  },
  {
   "cell_type": "markdown",
   "metadata": {},
   "source": [
    "Se puede observar que <b>tarifa</b> tiene una distribución asimetrica y contiene gran cantidad de valores atípicos."
   ]
  },
  {
   "cell_type": "code",
   "execution_count": 59,
   "metadata": {},
   "outputs": [
    {
     "data": {
      "image/png": "[encoded data removed]",
      "text/plain": [
       "<Figure size 432x288 with 1 Axes>"
      ]
     },
     "metadata": {},
     "output_type": "display_data"
    }
   ],
   "source": [
    "tarifa_log =np.log(df_train['tarifa'])\n",
    "sns.scatterplot(x=df_train['edad'], y=tarifa_log, hue=df_train['vida'])\n",
    "plt.show()"
   ]
  },
  {
   "cell_type": "markdown",
   "metadata": {},
   "source": [
    "## <b>VARIABLES CUALITATIVAS"
   ]
  },
  {
   "cell_type": "code",
   "execution_count": 63,
   "metadata": {},
   "outputs": [],
   "source": [
    "train = df_train.copy()\n",
    "test = df_test.copy()"
   ]
  },
  {
   "cell_type": "code",
   "execution_count": 64,
   "metadata": {},
   "outputs": [],
   "source": [
    "# Transformando variables a categóricas\n",
    "for col in ['parch','clase','sibsp']:\n",
    "    train[col] = train[col].astype('object')"
   ]
  },
  {
   "cell_type": "code",
   "execution_count": 66,
   "metadata": {},
   "outputs": [
    {
     "data": {
      "text/html": [
       "<div>\n",
       "<style scoped>\n",
       "    .dataframe tbody tr th:only-of-type {\n",
       "        vertical-align: middle;\n",
       "    }\n",
       "\n",
       "    .dataframe tbody tr th {\n",
       "        vertical-align: top;\n",
       "    }\n",
       "\n",
       "    .dataframe thead th {\n",
       "        text-align: right;\n",
       "    }\n",
       "</style>\n",
       "<table border=\"1\" class=\"dataframe\">\n",
       "  <thead>\n",
       "    <tr style=\"text-align: right;\">\n",
       "      <th></th>\n",
       "      <th>count</th>\n",
       "      <th>unique</th>\n",
       "      <th>top</th>\n",
       "      <th>freq</th>\n",
       "    </tr>\n",
       "  </thead>\n",
       "  <tbody>\n",
       "    <tr>\n",
       "      <th>clase</th>\n",
       "      <td>891</td>\n",
       "      <td>3</td>\n",
       "      <td>3</td>\n",
       "      <td>491</td>\n",
       "    </tr>\n",
       "    <tr>\n",
       "      <th>nombre</th>\n",
       "      <td>891</td>\n",
       "      <td>891</td>\n",
       "      <td>Johnson, Master. Harold Theodor</td>\n",
       "      <td>1</td>\n",
       "    </tr>\n",
       "    <tr>\n",
       "      <th>sexo</th>\n",
       "      <td>891</td>\n",
       "      <td>2</td>\n",
       "      <td>male</td>\n",
       "      <td>577</td>\n",
       "    </tr>\n",
       "    <tr>\n",
       "      <th>sibsp</th>\n",
       "      <td>891</td>\n",
       "      <td>7</td>\n",
       "      <td>0</td>\n",
       "      <td>608</td>\n",
       "    </tr>\n",
       "    <tr>\n",
       "      <th>parch</th>\n",
       "      <td>891</td>\n",
       "      <td>7</td>\n",
       "      <td>0</td>\n",
       "      <td>678</td>\n",
       "    </tr>\n",
       "    <tr>\n",
       "      <th>ticket</th>\n",
       "      <td>891</td>\n",
       "      <td>681</td>\n",
       "      <td>347082</td>\n",
       "      <td>7</td>\n",
       "    </tr>\n",
       "    <tr>\n",
       "      <th>puerto</th>\n",
       "      <td>889</td>\n",
       "      <td>3</td>\n",
       "      <td>S</td>\n",
       "      <td>644</td>\n",
       "    </tr>\n",
       "    <tr>\n",
       "      <th>titulo</th>\n",
       "      <td>891</td>\n",
       "      <td>17</td>\n",
       "      <td>Mr</td>\n",
       "      <td>517</td>\n",
       "    </tr>\n",
       "  </tbody>\n",
       "</table>\n",
       "</div>"
      ],
      "text/plain": [
       "       count unique                              top freq\n",
       "clase    891      3                                3  491\n",
       "nombre   891    891  Johnson, Master. Harold Theodor    1\n",
       "sexo     891      2                             male  577\n",
       "sibsp    891      7                                0  608\n",
       "parch    891      7                                0  678\n",
       "ticket   891    681                           347082    7\n",
       "puerto   889      3                                S  644\n",
       "titulo   891     17                               Mr  517"
      ]
     },
     "execution_count": 66,
     "metadata": {},
     "output_type": "execute_result"
    }
   ],
   "source": [
    "# Variables cualitativas (tipo object)\n",
    "# ==============================================================================\n",
    "train.select_dtypes(include=['object']).describe().T"
   ]
  },
  {
   "cell_type": "code",
   "execution_count": 68,
   "metadata": {},
   "outputs": [
    {
     "data": {
      "image/png": "[encoded data removed]",
      "text/plain": [
       "<Figure size 1080x432 with 12 Axes>"
      ]
     },
     "metadata": {},
     "output_type": "display_data"
    }
   ],
   "source": [
    "# Gráfico para cada variable cualitativa\n",
    "# ==============================================================================\n",
    "\n",
    "mask = train.drop(['ticket'], axis=1)\n",
    "\n",
    "# Ajustar número de subplots en función del número de columnas\n",
    "fig, axes = plt.subplots(nrows=4, ncols=3, figsize=(15, 6))\n",
    "axes = axes.flat\n",
    "columnas_object = mask.select_dtypes(include=['object']).columns\n",
    "\n",
    "for i, colum in enumerate(columnas_object):\n",
    "    mask[colum].value_counts().plot.barh(ax = axes[i])\n",
    "    axes[i].set_title(colum, fontsize = 12, fontweight = \"bold\")\n",
    "    axes[i].tick_params(labelsize = 9)\n",
    "    axes[i].set_xlabel(\"\")\n",
    " \n",
    "fig.tight_layout()\n",
    "plt.subplots_adjust(top=0.9)\n",
    "fig.suptitle('Distribución variables cualitativas',\n",
    "             fontsize = 15, fontweight = \"bold\");"
   ]
  },
  {
   "cell_type": "markdown",
   "metadata": {
    "tags": []
   },
   "source": [
    "## <b>Ticket"
   ]
  },
  {
   "cell_type": "code",
   "execution_count": null,
   "metadata": {},
   "outputs": [],
   "source": [
    "train['ticket'].value_counts()"
   ]
  },
  {
   "cell_type": "markdown",
   "metadata": {},
   "source": [
    "## <b>Parch"
   ]
  },
  {
   "cell_type": "markdown",
   "metadata": {},
   "source": [
    "Esta variable contiene observaciones que van desde 0 hasta el 6. En la que el valor 0: representa a los pasajeros que viajaron sin acompañantes; 1: acompañados por una persona; 2: acompañados por dos personas, y así sucesivamente."
   ]
  },
  {
   "cell_type": "code",
   "execution_count": null,
   "metadata": {},
   "outputs": [],
   "source": [
    "# Cantidad por acompañantes en parch\n",
    "train.parch.value_counts()"
   ]
  },
  {
   "cell_type": "code",
   "execution_count": null,
   "metadata": {},
   "outputs": [],
   "source": [
    "# Gráfica de supervivencia por acompañantes\n",
    "plt.title(\"SUPERVIVENCIA POR ACOMPAÑANTES\")\n",
    "sns.countplot(x='parch', hue='vida', data=train)\n",
    "plt.legend(['Fallecieron', 'Sobrevivieron'], loc='upper right')\n",
    "plt.show()"
   ]
  },
  {
   "cell_type": "markdown",
   "metadata": {},
   "source": [
    "<div style=\"color:#9A7D0A;\n",
    "           display:fill;\n",
    "           padding: 5px;\n",
    "           border-radius:10px;\n",
    "           border-style: solid;\n",
    "           border-color: #F9E79F;\n",
    "           background-color:#FCF3CF;\n",
    "           font-size:15px;\n",
    "           font-family: Didot;\n",
    "           letter-spacing:0.5px\">\n",
    "<b>📝 Note:</b> Hay muy pocas observaciones de pasajeros que no viajaron solos.\n",
    "</div>"
   ]
  },
  {
   "cell_type": "markdown",
   "metadata": {},
   "source": [
    "<div style=\"color:#21618C;\n",
    "           display:fill;\n",
    "           padding: 5px;\n",
    "           border-radius:10px;\n",
    "           border-style: solid;\n",
    "           border-color: #AED6F1;\n",
    "           background-color:#D6EAF8;\n",
    "           font-size:15px;\n",
    "           font-family: Didot;\n",
    "           letter-spacing:0.5px\">\n",
    "<b>💡 Idea:</b> Convertir las observaciones en valores binarios. Pasajeros que viajaron solos y pasajeros acompañados.\n",
    "</div>"
   ]
  },
  {
   "cell_type": "markdown",
   "metadata": {
    "id": "Bvc5vSQhvCKM"
   },
   "source": [
    "## <b> Clase\n",
    "\n"
   ]
  },
  {
   "cell_type": "code",
   "execution_count": null,
   "metadata": {
    "colab": {
     "base_uri": "https://localhost:8080/",
     "height": 515
    },
    "id": "BHdU92FHvCKN",
    "outputId": "853f999e-7c0e-40c7-900b-664665d18a73"
   },
   "outputs": [],
   "source": [
    "# Visualización de distribución de clases\n",
    "fig = plt.figure(figsize=(30,3))\n",
    "\n",
    "# add grid to figure\n",
    "gs = fig.add_gridspec(1,3)\n",
    "\n",
    "# fill grid with subplots\n",
    "ax0 = fig.add_subplot(gs[0,0])\n",
    "ax1 = fig.add_subplot(gs[0,1])\n",
    "\n",
    "# adjust subheadline fontsize\n",
    "ax0.set_title(\"DISTRIBUCIÓN CLASE\", fontsize=20)\n",
    "ax1.set_title(\"SUPERVIVENCIA POR CLASE\", fontsize=20)\n",
    "\n",
    "# adjust lable fontsize\n",
    "ax0.tick_params(labelsize=15)\n",
    "ax1.tick_params(labelsize=15)\n",
    "\n",
    "# plot data into subplots \n",
    "sns.countplot(x=\"clase\",data=train, ax=ax0, linewidth = 3).set(xlabel=\"Clase\", ylabel=\"CANTIDAD\")\n",
    "sns.countplot(x=\"clase\",data=train, ax=ax1, linewidth = 3, hue=\"vida\").set(xlabel=\"Clases\",ylabel=\"CANTIDAD\")\n",
    "fig.subplots_adjust(wspace=0.15)\n",
    "plt.show()"
   ]
  },
  {
   "cell_type": "markdown",
   "metadata": {
    "id": "mzZEcJhGvCKN"
   },
   "source": [
    "<div style=\"color:#9A7D0A;\n",
    "           display:fill;\n",
    "           padding: 5px;\n",
    "           border-radius:10px;\n",
    "           border-style: solid;\n",
    "           border-color: #F9E79F;\n",
    "           background-color:#FCF3CF;\n",
    "           font-size:15px;\n",
    "           font-family: Didot;\n",
    "           letter-spacing:0.5px\">\n",
    "<b>📝 Note:</b> La mayoría de los pasajeros abordo viajaron en tercera clase, seguido por los de primera clase y segunda clase.\n",
    "</div>"
   ]
  },
  {
   "cell_type": "markdown",
   "metadata": {
    "id": "zJpUWyfrvCKO"
   },
   "source": [
    "<div style=\"color:#9A7D0A;\n",
    "           display:fill;\n",
    "           padding: 5px;\n",
    "           border-radius:10px;\n",
    "           border-style: solid;\n",
    "           border-color: #F9E79F;\n",
    "           background-color:#FCF3CF;\n",
    "           font-size:15px;\n",
    "           font-family: Didot;\n",
    "           letter-spacing:0.5px\">\n",
    "<b>📝 Note:</b> La primera clase fue la única que registró un porcentaje de sobrevivientes mayor que de fallecidos, sin embargo, es notable la gran proporción de fallecidos que viajaron en tercera clase. Esta parece ser una variable de peso para inferir si un pasajero abordo sebrevivió o no.  \n",
    "</div>"
   ]
  },
  {
   "cell_type": "markdown",
   "metadata": {
    "colab": {
     "base_uri": "https://localhost:8080/"
    },
    "id": "xDmuqe7lvCKO",
    "outputId": "0a33431d-d2f5-4b30-9652-e1c388715151"
   },
   "source": [
    "<b> "
   ]
  },
  {
   "cell_type": "markdown",
   "metadata": {
    "id": "-_JuqskjvCKO"
   },
   "source": [
    "## <b>Sexo"
   ]
  },
  {
   "cell_type": "code",
   "execution_count": null,
   "metadata": {
    "colab": {
     "base_uri": "https://localhost:8080/",
     "height": 0
    },
    "id": "aElfDDQmNdGk",
    "outputId": "72fee67d-37f0-4587-db77-bee41a0a4a6a"
   },
   "outputs": [],
   "source": [
    "# Visualización de distribución de sexo\n",
    "# build figure\n",
    "fig = plt.figure(figsize=(30,3))\n",
    "\n",
    "# add grid to figure\n",
    "gs = fig.add_gridspec(1,3)\n",
    "\n",
    "# fill grid with subplots\n",
    "ax0 = fig.add_subplot(gs[0,0])\n",
    "ax1 = fig.add_subplot(gs[0,1])\n",
    "\n",
    "# adjust subheadline fontsize\n",
    "ax0.set_title(\"DISTRIBUCIÓN SEXO\", fontsize=20)\n",
    "ax1.set_title(\"SEXO / SUPERVIVENCIA\", fontsize=20)\n",
    "\n",
    "# adjust lable fontsize\n",
    "ax0.tick_params(labelsize=15)\n",
    "ax1.tick_params(labelsize=15)\n",
    "\n",
    "# plot data into subplots \n",
    "sns.countplot(x=\"sexo\",data=train, ax=ax0, linewidth = 3).set(xlabel=\"SEXO\", ylabel=\"CANTIDAD DE PASAJEROS\")\n",
    "sns.countplot(x=\"sexo\",data=train, ax=ax1, linewidth = 3, hue=\"vida\").set(xlabel=\"SEXO\", ylabel=\"CANTIDAD DE PASAJEROS\")\n",
    "plt.legend([\"fallecieron\", \"sobrevivieron\"])\n",
    "fig.subplots_adjust(wspace=0.25)\n",
    "plt.show()"
   ]
  },
  {
   "cell_type": "code",
   "execution_count": null,
   "metadata": {
    "colab": {
     "base_uri": "https://localhost:8080/"
    },
    "id": "QHemycuovCKP",
    "outputId": "977f894d-1b36-4573-efc0-0b6fad43e6ec"
   },
   "outputs": [],
   "source": [
    "# Porcentaje de supervivientes por sexo.\n",
    "hombres_df = train[train['sexo']=='male']['vida']\n",
    "mujeres_df = train[train['sexo']=='female']['vida']\n",
    "\n",
    "print('El '+ str(round(len(hombres_df[hombres_df==1])*100/len(hombres_df),2)) +'% de los hombres sobrevivió.')\n",
    "print('El '+ str(round(len(mujeres_df[mujeres_df==1])*100/len(mujeres_df),2)) +'% de los mujeres sobrevivió.')"
   ]
  },
  {
   "cell_type": "markdown",
   "metadata": {
    "id": "MNNWcstYvCKP"
   },
   "source": [
    "<div style=\"color:#9A7D0A;\n",
    "           display:fill;\n",
    "           padding: 5px;\n",
    "           border-radius:10px;\n",
    "           border-style: solid;\n",
    "           border-color: #F9E79F;\n",
    "           background-color:#FCF3CF;\n",
    "           font-size:15px;\n",
    "           font-family: Didot;\n",
    "           letter-spacing:0.5px\">\n",
    "<b>💡 Idea:</b> Claramente se puede observar que gran porcentaje de las feminas sobrevivió (74%), en contraste, el porcentaje de los masculinos sobrevivientes fue muy bajo (19%).\n",
    "</div>"
   ]
  },
  {
   "cell_type": "markdown",
   "metadata": {},
   "source": [
    "## <b>Clase vs Sexo"
   ]
  },
  {
   "cell_type": "code",
   "execution_count": null,
   "metadata": {},
   "outputs": [],
   "source": [
    "f_clase = train[train['sexo']=='female'][['clase', 'vida']]\n",
    "m_clase = train[train['sexo']=='male'][['clase', 'vida']]"
   ]
  },
  {
   "cell_type": "code",
   "execution_count": null,
   "metadata": {},
   "outputs": [],
   "source": [
    "# Visualización de distribución de sexo\n",
    "# build figure\n",
    "fig = plt.figure(figsize=(30,3))\n",
    "\n",
    "# add grid to figure\n",
    "gs = fig.add_gridspec(1,3)\n",
    "\n",
    "# fill grid with subplots\n",
    "ax0 = fig.add_subplot(gs[0,0])\n",
    "ax1 = fig.add_subplot(gs[0,1])\n",
    "\n",
    "# adjust subheadline fontsize\n",
    "ax0.set_title(\"SUPERVIVENCIA FEMENINA\", fontsize=20)\n",
    "ax1.set_title(\"SUPERVIVENCIA MASCULINA\", fontsize=20)\n",
    "\n",
    "# adjust lable fontsize\n",
    "ax0.tick_params(labelsize=15)\n",
    "ax1.tick_params(labelsize=15)\n",
    "\n",
    "# plot data into subplots \n",
    "sns.countplot(x='clase', hue='vida', data=f_clase, ax=ax0).set(xlabel=\"SEXO\", ylabel=\"CANTIDAD\")\n",
    "sns.countplot(x='clase', hue='vida', data=m_clase, ax=ax1).set(xlabel=\"SEXO\", ylabel=\"CANTIDAD\")\n",
    "fig.subplots_adjust(wspace=0.25)\n",
    "plt.show()"
   ]
  },
  {
   "cell_type": "code",
   "execution_count": null,
   "metadata": {},
   "outputs": [],
   "source": [
    "# Unión de las variables sexo y clase\n",
    "# ===========================================================================\n",
    "train['clase_sexo'] = train['sexo'].map(str) +'_'+ train['clase'].map(str)\n",
    "test['clase_sexo'] = test['sexo'].map(str) +'_'+ test['clase'].map(str)\n",
    "\n",
    "# Eliminación de variables\n",
    "# ===========================================================================\n",
    "train.drop(['clase', 'sexo'], axis=1, inplace=True)\n",
    "test.drop(['clase', 'sexo'], axis=1, inplace=True)"
   ]
  },
  {
   "cell_type": "markdown",
   "metadata": {},
   "source": [
    "# <b>Puerto"
   ]
  },
  {
   "cell_type": "code",
   "execution_count": null,
   "metadata": {},
   "outputs": [],
   "source": [
    "sns.countplot(x=train.puerto, hue=train.vida)\n",
    "plt.show()"
   ]
  },
  {
   "cell_type": "code",
   "execution_count": null,
   "metadata": {},
   "outputs": [],
   "source": [
    "sns.countplot(x='puerto', hue='clase', data=df_train)\n",
    "plt.show()"
   ]
  },
  {
   "cell_type": "markdown",
   "metadata": {
    "id": "p_LtWPW2vCKX"
   },
   "source": [
    "# <b>PREPARE DATA"
   ]
  },
  {
   "cell_type": "markdown",
   "metadata": {},
   "source": [
    "<b>Sólo utilizaré tres variables 3 variables como predictores."
   ]
  },
  {
   "cell_type": "code",
   "execution_count": null,
   "metadata": {
    "id": "_AAYBTJPvCKX"
   },
   "outputs": [],
   "source": [
    "# Conjunto de datos de entrenamiento\n",
    "X_train = train[['ticket', 'clase_sexo', 'tarifa']]\n",
    "y_train = train.vida\n",
    "\n",
    "# Conjunto de datos de prueba\n",
    "X_test = test[['ticket', 'clase_sexo', 'tarifa']]"
   ]
  },
  {
   "cell_type": "code",
   "execution_count": null,
   "metadata": {
    "id": "Ft8z82O6vCKX"
   },
   "outputs": [],
   "source": [
    "num_features = X_train.select_dtypes(exclude='object').columns\n",
    "cat_features = X_train.select_dtypes(include='object').columns"
   ]
  },
  {
   "cell_type": "markdown",
   "metadata": {
    "id": "MrWtqDXTvCKY"
   },
   "source": [
    "### <b>TRANSFORMADOR"
   ]
  },
  {
   "cell_type": "code",
   "execution_count": null,
   "metadata": {
    "colab": {
     "base_uri": "https://localhost:8080/",
     "height": 476
    },
    "id": "ytZL44AmvCKY",
    "outputId": "3257db45-6a46-414a-c47e-0d3fed4be7b0"
   },
   "outputs": [],
   "source": [
    "# Transformación de predictores\n",
    "# =============================================================================\n",
    "\n",
    "# numerical transformer pipeline (only contains 'tarifa')\n",
    "num_transformer = Pipeline([\n",
    "    ('imputer', SimpleImputer(strategy='median')),\n",
    "    (\"scaler\", RobustScaler()),\n",
    "                           ])\n",
    "\n",
    "# categorical transformer pipeline\n",
    "cat_transformer = Pipeline([ \n",
    "    ('imputer', SimpleImputer(strategy='most_frequent')),\n",
    "    ('ohe', OneHotEncoder(handle_unknown='ignore')),\n",
    "                            ])\n",
    "\n",
    "transformer = ColumnTransformer([\n",
    "    ('num_transfomer', num_transformer, num_features),\n",
    "    ('cat_transformer', cat_transformer, cat_features),\n",
    "                                ],remainder='passthrough')\n",
    "\n",
    "X_prepared = transformer.fit_transform(X_train)"
   ]
  },
  {
   "cell_type": "markdown",
   "metadata": {
    "id": "FDgrZyP6vCKY"
   },
   "source": [
    "### <b>SELECCIÓN DE MODELO"
   ]
  },
  {
   "cell_type": "code",
   "execution_count": null,
   "metadata": {
    "id": "VPwy-_jWvCKY"
   },
   "outputs": [],
   "source": [
    "# Búsqueda del modelo con mejor puntaje\n",
    "# ===================================================================================\n",
    "\n",
    "models = {'svc': SVC(), \n",
    "          'logistic': LogisticRegression(),\n",
    "          'random_forest': RandomForestClassifier(),\n",
    "          'knn': KNeighborsClassifier()}\n",
    "\n",
    "n_models = len(models)\n",
    "scores=[]\n",
    "for name, model in models.items():\n",
    "    y_train_pred = cross_val_predict(model, X_prepared, y_train, cv=10)\n",
    "    precision = np.mean(precision_score(y_train, y_train_pred)).round(2)\n",
    "    recall = np.mean(recall_score(y_train, y_train_pred)).round(2)\n",
    "    f1 = np.mean(f1_score(y_train, y_train_pred)).round(2)\n",
    "\n",
    "    model_scores = np.array([name, precision, recall, f1])\n",
    "    scores.append(np.array(model_scores))\n",
    "          \n",
    "scores_df = pd.DataFrame(scores, columns=['Model', 'Precision', 'Recall', 'F1']); scores_df.set_index('Model', inplace=True)\n",
    "scores_df.sort_values(by='F1', ascending=False)"
   ]
  },
  {
   "cell_type": "code",
   "execution_count": null,
   "metadata": {
    "id": "NaiJNs35vCKY"
   },
   "outputs": [],
   "source": [
    "# Reporte de puntuaciones del modelo Random Forest\n",
    "# ==============================================================================\n",
    "rforest_clf = RandomForestClassifier(random_state=42)\n",
    "y_pred = cross_val_predict(rforest_clf, X_prepared, y_train)\n",
    "print(confusion_matrix(y_train, y_pred))\n",
    "print(classification_report(y_train, y_pred))"
   ]
  },
  {
   "cell_type": "code",
   "execution_count": null,
   "metadata": {
    "id": "4lrLWt07vCKZ"
   },
   "outputs": [],
   "source": [
    "# Área bajo la curva\n",
    "# ================================================================================\n",
    "\n",
    "y_scores = cross_val_predict(rforest_clf, X_prepared, y_train, cv=5, n_jobs=-1)\n",
    "threshold = 0.5\n",
    "y_with_thres = (y_scores > threshold)\n",
    "fpr, tpr, thresholds = roc_curve(y_train, y_scores)\n",
    "\n",
    "def plot_roc_curve(fpr, tpr, label=None):\n",
    "    plt.plot(fpr, tpr, label=label)\n",
    "    plt.plot([0, 1], [0,1], 'k--')\n",
    "    plt.axis([0, 1, 0, 1])\n",
    "    plt.title('ROC Curve')\n",
    "    plt.xlabel('False Positive Rate')\n",
    "    plt.ylabel('True Positive Rate')\n",
    "    \n",
    "plot_roc_curve(fpr, tpr)\n",
    "plt.show()"
   ]
  },
  {
   "cell_type": "code",
   "execution_count": null,
   "metadata": {
    "id": "nXC54iqvvCKZ"
   },
   "outputs": [],
   "source": [
    "# Puntaje del area bajo la curva\n",
    "# ============================================================================================\n",
    "roc_auc_score(y_train, y_pred)"
   ]
  },
  {
   "cell_type": "markdown",
   "metadata": {},
   "source": [
    "### <b>CONSTRUCCIÓN DEL MODELO (RANDOM FOREST)"
   ]
  },
  {
   "cell_type": "code",
   "execution_count": null,
   "metadata": {
    "id": "bsf018H3vCKZ"
   },
   "outputs": [],
   "source": [
    "# Valores para hiperparámetros\n",
    "# ===================================================================\n",
    "# Cantidad de árboles\n",
    "n_estimators = [int(x) for x in np.linspace(start=10, stop=500)]\n",
    "# Cantidad de características a considerar en cada split\n",
    "max_features = ['auto', 'sqrt', None]\n",
    "# Máximo de niveles por árbol\n",
    "max_depth = [int(x) for x in np.linspace(5, 50, num=45)]\n",
    "max_depth.append(None)\n",
    "# Mínimas muestras requeridad para dividir un nodo\n",
    "min_samples_split = [2, 4, 6, 8, 10]\n",
    "# Cantidad de muestras requeridas para cada hoja de nodo\n",
    "min_samples_leaf = [1, 2, 4, 8, 10, 12, 14, 16, 20, 25, 30]\n",
    "# Método de selección de muestras para entrenamiento en cada árbol\n",
    "bootstrap = [True]\n",
    "\n",
    "# Create the random grid\n",
    "random_grid = {'n_estimators': n_estimators,\n",
    "               'max_features': max_features,\n",
    "               'max_depth': max_depth,\n",
    "               'min_samples_split': min_samples_split,\n",
    "               'min_samples_leaf': min_samples_leaf,\n",
    "               'bootstrap': bootstrap}"
   ]
  },
  {
   "cell_type": "code",
   "execution_count": null,
   "metadata": {},
   "outputs": [],
   "source": [
    "# Búsqueda aleatoria de hiperparámetros - RandomizedSearchCV\n",
    "# ==============================================================================\n",
    "rforest_classifier = RandomForestClassifier(random_state=23)\n",
    "rf_random = RandomizedSearchCV(estimator=rforest_classifier, param_distributions=random_grid, n_iter=100, scoring='f1',\n",
    "                               cv=3, random_state=123, n_jobs=-1,\n",
    "                               return_train_score=False)\n",
    "\n",
    "rf_random.fit(X_prepared, y_train)"
   ]
  },
  {
   "cell_type": "code",
   "execution_count": null,
   "metadata": {},
   "outputs": [],
   "source": [
    "# Mejores hiperparámetros aleatorios\n",
    "# ==============================================================================\n",
    "rf_random.best_params_"
   ]
  },
  {
   "cell_type": "code",
   "execution_count": null,
   "metadata": {
    "id": "s-W7sCqevCKZ"
   },
   "outputs": [],
   "source": [
    "# Resultados de predicción del modelo con los mejores hiperparámetros aleatorios.\n",
    "# ==============================================================================\n",
    "rf_random = rf_random.best_estimator_\n",
    "rf_random_pred = cross_val_predict(rf_random, X_prepared, y_train, cv=10, n_jobs=-1)\n",
    "confusion_matrix(y_train, rf_random_pred)"
   ]
  },
  {
   "cell_type": "code",
   "execution_count": null,
   "metadata": {},
   "outputs": [],
   "source": [
    "# Reporte de puntuaciones del modelo con los mejores hiperparámetros aleatorios.\n",
    "# ==============================================================================\n",
    "print(classification_report(y_train, rf_random_pred))"
   ]
  },
  {
   "cell_type": "markdown",
   "metadata": {},
   "source": [
    "<div style=\"color:#9A7D0A;\n",
    "           display:fill;\n",
    "           padding: 5px;\n",
    "           border-radius:10px;\n",
    "           border-style: solid;\n",
    "           border-color: #F9E79F;\n",
    "           background-color:#FCF3CF;\n",
    "           font-size:15px;\n",
    "           font-family: Didot;\n",
    "           letter-spacing:0.5px\">\n",
    "    <b>📝 Note:</b> Utilizando <b>F1-score</b> como métrica para evaluar el rendimiento del modelo, se puede apreciar un muy ligero incremento en la puntuación. 0.01 <b>(0.87)</b> para clase 0 y 0.01 <b>(0.75)</b> para clase 1.\n",
    "</div>"
   ]
  },
  {
   "cell_type": "markdown",
   "metadata": {},
   "source": [
    "#### <b>param_grid "
   ]
  },
  {
   "cell_type": "markdown",
   "metadata": {},
   "source": [
    "<b> Tomando como referencia los mejores parámetros arrojados por <b>RandomizedGridCV</b>, busco muevos parámetros que puedan mejor la precisión del modelo."
   ]
  },
  {
   "cell_type": "code",
   "execution_count": null,
   "metadata": {},
   "outputs": [],
   "source": [
    "param_grid = {\n",
    "    'n_estimators': [200, 210, 220, 230, 240],\n",
    "    'min_samples_split': [7, 8, 9],\n",
    "    'min_samples_leaf': [1, 2, 3],\n",
    "    'max_features': [None],\n",
    "    'max_depth': [40, 45, 55, 60],\n",
    "    'bootstrap': [True]\n",
    "}\n",
    "\n",
    "rforest_classifier2 = RandomForestClassifier(random_state=65)\n",
    "grid_search = GridSearchCV(estimator=rforest_classifier2, param_grid =param_grid,\n",
    "                           cv=3, n_jobs=-1, scoring='f1',\n",
    "                           return_train_score=False)\n",
    "\n",
    "grid_search.fit(X_prepared, y_train)"
   ]
  },
  {
   "cell_type": "code",
   "execution_count": null,
   "metadata": {},
   "outputs": [],
   "source": [
    "# Mejores parámetros con GridSearch\n",
    "# ==============================================================================\n",
    "grid_search.best_params_"
   ]
  },
  {
   "cell_type": "code",
   "execution_count": null,
   "metadata": {},
   "outputs": [],
   "source": [
    "# Resultados de predicción del modelo con los mejores parámetros GridSearchCV\n",
    "# ==============================================================================\n",
    "grid_search_model = grid_search.best_estimator_\n",
    "grid_pred = cross_val_predict(grid_search_model, X_prepared, y_train, cv=10, n_jobs=-1)\n",
    "confusion_matrix(y_train, grid_pred)"
   ]
  },
  {
   "cell_type": "code",
   "execution_count": null,
   "metadata": {},
   "outputs": [],
   "source": [
    "# Reporte de puntuaciones del modelo Random Forest utilizando GridSearchCV\n",
    "# ==============================================================================\n",
    "print(classification_report(y_train, grid_pred))"
   ]
  },
  {
   "cell_type": "markdown",
   "metadata": {},
   "source": [
    "Hubo una pequeña mejora para la clasificación de la clase 1 en un 0.01 (0.76) con el modelo <b>grid_model</b>."
   ]
  },
  {
   "cell_type": "code",
   "execution_count": null,
   "metadata": {},
   "outputs": [],
   "source": [
    "# Última búsqueda de parámetros\n",
    "# ================================================================================\n",
    "param_grid2 = {'bootstrap': [True],\n",
    " 'max_depth': [38, 40, 42],\n",
    " 'max_features': [None],\n",
    " 'min_samples_leaf': [1],\n",
    " 'min_samples_split': [7],\n",
    " 'n_estimators': [205, 210, 215]}\n",
    "\n",
    "rforest_classifier3 = RandomForestClassifier(random_state=12)\n",
    "grid_search2 = GridSearchCV(estimator=rforest_classifier3, param_grid =param_grid2,\n",
    "                           cv=3, n_jobs=-1, scoring='f1',\n",
    "                           return_train_score=False)\n",
    "\n",
    "grid_search2.fit(X_prepared, y_train)"
   ]
  },
  {
   "cell_type": "code",
   "execution_count": null,
   "metadata": {},
   "outputs": [],
   "source": [
    "grid_search2.best_params_"
   ]
  },
  {
   "cell_type": "code",
   "execution_count": null,
   "metadata": {},
   "outputs": [],
   "source": [
    "# Resultados de predicción del modelo con los mejores parámetros GridSearchCV\n",
    "# ==============================================================================\n",
    "grid_search_model2 = grid_search2.best_estimator_\n",
    "grid_pred2 = cross_val_predict(grid_search_model2, X_prepared, y_train, cv=10, n_jobs=-1)\n",
    "confusion_matrix(y_train, grid_pred2)"
   ]
  },
  {
   "cell_type": "code",
   "execution_count": null,
   "metadata": {},
   "outputs": [],
   "source": [
    "# Reporte de puntuaciones del modelo Random Forest utilizando GridSearchCV\n",
    "# ==============================================================================\n",
    "print(classification_report(y_train, grid_pred2))"
   ]
  },
  {
   "cell_type": "markdown",
   "metadata": {},
   "source": [
    "No hubo mejoras en la capacidad de predicción sobre el modelo anterior. Tomo este como modelo final."
   ]
  },
  {
   "cell_type": "code",
   "execution_count": null,
   "metadata": {},
   "outputs": [],
   "source": [
    "final_model = grid_search_model2"
   ]
  },
  {
   "cell_type": "markdown",
   "metadata": {},
   "source": [
    "# <b>PREDICCIÓN"
   ]
  },
  {
   "cell_type": "code",
   "execution_count": null,
   "metadata": {
    "id": "rXNTZ1IWvCKa"
   },
   "outputs": [],
   "source": [
    "# Transformación de los predictores en el conjunto de datos de prueba\n",
    "test_prepared = transformer.transform(X_test)"
   ]
  },
  {
   "cell_type": "code",
   "execution_count": null,
   "metadata": {
    "id": "nGr9BxTmvCKb"
   },
   "outputs": [],
   "source": [
    "# Predicciones\n",
    "# ====================================================================================\n",
    "predictions = final_model.predict(test_prepared)"
   ]
  },
  {
   "cell_type": "code",
   "execution_count": null,
   "metadata": {
    "id": "VxmtYMx0vCKb"
   },
   "outputs": [],
   "source": [
    "test['vida'] = predictions\n",
    "titanic_preds = test[['id', 'vida']]\n",
    "titanic_preds.columns=['PassengerId', 'Survived']\n",
    "titanic_preds.to_csv('submission2.csv',index=False)"
   ]
  },
  {
   "cell_type": "code",
   "execution_count": null,
   "metadata": {},
   "outputs": [],
   "source": [
    "# Resultados de predicciones\n",
    "# =====================================================================================\n",
    "titanic_preds"
   ]
  },
  {
   "cell_type": "code",
   "execution_count": null,
   "metadata": {},
   "outputs": [],
   "source": []
  }
 ],
 "metadata": {
  "accelerator": "GPU",
  "colab": {
   "name": "Copy of Titanic-Copy1.ipynb",
   "provenance": [],
   "toc_visible": true
  },
  "kernelspec": {
   "display_name": "Python 3 (ipykernel)",
   "language": "python",
   "name": "python3"
  },
  "language_info": {
   "codemirror_mode": {
    "name": "ipython",
    "version": 3
   },
   "file_extension": ".py",
   "mimetype": "text/x-python",
   "name": "python",
   "nbconvert_exporter": "python",
   "pygments_lexer": "ipython3",
   "version": "3.8.8"
  }
 },
 "nbformat": 4,
 "nbformat_minor": 4
}
