{
  "nbformat": 4,
  "nbformat_minor": 0,
  "metadata": {
    "colab": {
      "provenance": [],
      "authorship_tag": "ABX9TyNxHSzLLi/OnspUVN4P1lXT",
      "include_colab_link": true
    },
    "kernelspec": {
      "name": "python3",
      "display_name": "Python 3"
    },
    "language_info": {
      "name": "python"
    }
  },
  "cells": [
    {
      "cell_type": "markdown",
      "metadata": {
        "id": "view-in-github",
        "colab_type": "text"
      },
      "source": [
        "<a href=\"https://colab.research.google.com/github/PabloJRW/titanic-classifier/blob/main/notebooks/Preprocessing.ipynb\" target=\"_parent\"><img src=\"https://colab.research.google.com/assets/colab-badge.svg\" alt=\"Open In Colab\"/></a>"
      ]
    },
    {
      "cell_type": "code",
      "execution_count": null,
      "metadata": {
        "id": "Uantj4la9Myk"
      },
      "outputs": [],
      "source": [
        "# numerical transformer pipeline (only contains 'tarifa')\n",
        "num_transformer = Pipeline([\n",
        "    ('imputer', SimpleImputer(strategy='median')),\n",
        "    (\"scaler\", RobustScaler()),\n",
        "                           ])\n",
        "\n",
        "# categorical transformer pipeline\n",
        "cat_transformer = Pipeline([ \n",
        "    ('imputer', SimpleImputer(strategy='most_frequent')),\n",
        "    ('ohe', OneHotEncoder(handle_unknown='ignore')),\n",
        "                            ])\n",
        "\n",
        "transformer = ColumnTransformer([\n",
        "    ('num_transfomer', num_transformer, num_features),\n",
        "    ('cat_transformer', cat_transformer, cat_features),\n",
        "                                ],remainder='passthrough')\n",
        "\n",
        "X_prepared = transformer.fit_transform(X_train)"
      ]
    },
    {
      "cell_type": "markdown",
      "source": [
        "## Model Selection"
      ],
      "metadata": {
        "id": "Vnb79Cg5-RBB"
      }
    },
    {
      "cell_type": "code",
      "source": [
        "# Búsqueda del modelo con mejor puntaje\n",
        "# ===================================================================================\n",
        "\n",
        "models = {'svc': SVC(), \n",
        "          'logistic': LogisticRegression(),\n",
        "          'random_forest': RandomForestClassifier(),\n",
        "          'knn': KNeighborsClassifier()}\n",
        "\n",
        "n_models = len(models)\n",
        "scores=[]\n",
        "for name, model in models.items():\n",
        "    y_train_pred = cross_val_predict(model, X_prepared, y_train, cv=10)\n",
        "    precision = np.mean(precision_score(y_train, y_train_pred)).round(2)\n",
        "    recall = np.mean(recall_score(y_train, y_train_pred)).round(2)\n",
        "    f1 = np.mean(f1_score(y_train, y_train_pred)).round(2)\n",
        "\n",
        "    model_scores = np.array([name, precision, recall, f1])\n",
        "    scores.append(np.array(model_scores))\n",
        "          \n",
        "scores_df = pd.DataFrame(scores, columns=['Model', 'Precision', 'Recall', 'F1']); scores_df.set_index('Model', inplace=True)\n",
        "scores_df.sort_values(by='F1', ascending=False)"
      ],
      "metadata": {
        "id": "LqrCnnVN-TP3"
      },
      "execution_count": null,
      "outputs": []
    },
    {
      "cell_type": "code",
      "source": [
        "# Reporte de puntuaciones del modelo Random Forest\n",
        "# ==============================================================================\n",
        "rforest_clf = RandomForestClassifier(random_state=42)\n",
        "y_pred = cross_val_predict(rforest_clf, X_prepared, y_train)\n",
        "print(confusion_matrix(y_train, y_pred))\n",
        "print(classification_report(y_train, y_pred))"
      ],
      "metadata": {
        "id": "TDyMJahD-koa"
      },
      "execution_count": null,
      "outputs": []
    },
    {
      "cell_type": "code",
      "source": [
        "y_scores = cross_val_predict(rforest_clf, X_prepared, y_train, cv=5, n_jobs=-1)\n",
        "threshold = 0.5\n",
        "y_with_thres = (y_scores > threshold)\n",
        "fpr, tpr, thresholds = roc_curve(y_train, y_scores)\n",
        "\n",
        "# Defining AUC function\n",
        "def plot_roc_curve(fpr, tpr, label=None):\n",
        "    plt.plot(fpr, tpr, label=label)\n",
        "    plt.plot([0, 1], [0,1], 'k--')\n",
        "    plt.axis([0, 1, 0, 1])\n",
        "    plt.title('ROC Curve')\n",
        "    plt.xlabel('False Positive Rate')\n",
        "    plt.ylabel('True Positive Rate')\n",
        "    \n",
        "plot_roc_curve(fpr, tpr)\n",
        "plt.show()"
      ],
      "metadata": {
        "id": "jb9wCyU_-nw3"
      },
      "execution_count": null,
      "outputs": []
    },
    {
      "cell_type": "code",
      "source": [
        "# Area Under Curve\n",
        "roc_auc_score(y_train, y_pred)"
      ],
      "metadata": {
        "id": "3W3Tk4VE-szS"
      },
      "execution_count": null,
      "outputs": []
    }
  ]
}