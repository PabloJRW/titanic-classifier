{
  "nbformat": 4,
  "nbformat_minor": 0,
  "metadata": {
    "colab": {
      "provenance": [],
      "authorship_tag": "ABX9TyOZZC/qDZUe1DCYcr1Ffrzo",
      "include_colab_link": true
    },
    "kernelspec": {
      "name": "python3",
      "display_name": "Python 3"
    },
    "language_info": {
      "name": "python"
    }
  },
  "cells": [
    {
      "cell_type": "markdown",
      "metadata": {
        "id": "view-in-github",
        "colab_type": "text"
      },
      "source": [
        "<a href=\"https://colab.research.google.com/github/PabloJRW/titanic-classifier/blob/main/notebooks/Preprocessing.ipynb\" target=\"_parent\"><img src=\"https://colab.research.google.com/assets/colab-badge.svg\" alt=\"Open In Colab\"/></a>"
      ]
    },
    {
      "cell_type": "code",
      "source": [
        "import re\n",
        "import numpy as np\n",
        "import pandas as pd\n",
        "from sklearn.pipeline import Pipeline, make_pipeline\n",
        "from sklearn.compose import ColumnTransformer\n",
        "from sklearn.impute import SimpleImputer\n",
        "from sklearn.preprocessing import StandardScaler, OneHotEncoder, FunctionTransformer"
      ],
      "metadata": {
        "id": "soBeWaKvQKGq"
      },
      "execution_count": 202,
      "outputs": []
    },
    {
      "cell_type": "code",
      "source": [
        "num_features = ['Fare']\n",
        "cat_features = ['Pclass', 'Sex', 'SibSp', 'Embarked']"
      ],
      "metadata": {
        "id": "anS6Uig-hggB"
      },
      "execution_count": 218,
      "outputs": []
    },
    {
      "cell_type": "code",
      "source": [
        "# Importing regular expression library\n",
        "import re\n",
        "\n",
        "def extract_title(series):\n",
        "    \"\"\"\n",
        "    Extract the social title from name.\n",
        "    E.g Mr, Mrs, Miss\n",
        "    \"\"\"\n",
        "    pattern = r\",\\s(.+?)\\s\"\n",
        "    df_col = pd.Series(series).fillna(\"\")\n",
        "    titles = df_col.apply(lambda x: re.search(pattern, x).group(1) if re.search(pattern, x) else \"\")\n",
        "    return titles"
      ],
      "metadata": {
        "id": "Cdoj7O_mVGpj"
      },
      "execution_count": 219,
      "outputs": []
    },
    {
      "cell_type": "code",
      "execution_count": 220,
      "metadata": {
        "id": "Uantj4la9Myk"
      },
      "outputs": [],
      "source": [
        "# numerical transformer pipeline (only 'fare')\n",
        "num_transformer = Pipeline(steps=[\n",
        "    ('log_transform', FunctionTransformer(np.log1p)),\n",
        "    ('scaler', StandardScaler())]\n",
        ")\n",
        "\n",
        "# categorical transformer pipeline\n",
        "cat_transformer = Pipeline(\n",
        "    steps=[ \n",
        "      ('imputer', SimpleImputer(strategy='most_frequent')),\n",
        "      ('ohe', OneHotEncoder(handle_unknown='ignore'))]\n",
        ")\n",
        "\n",
        "# \n",
        "socialt_transformer = Pipeline(\n",
        "    steps=[\n",
        "        ('extractor', FunctionTransformer(extract_title)),\n",
        "        ('ohe', OneHotEncoder(handle_unknown='ignore'))]\n",
        ")\n",
        "\n",
        "# Final pipeline\n",
        "final_pipeline = ColumnTransformer(\n",
        "    transformers=[\n",
        "      ('num_transfomer', num_transformer, num_features),\n",
        "      ('cat_transformer', cat_transformer, cat_features),\n",
        "     # ('extract', socialt_transformer, 4)\n",
        "    ],remainder='drop'\n",
        ")\n"
      ]
    },
    {
      "cell_type": "code",
      "source": [
        "# importing the training set\n",
        "url_train = \"https://github.com/PabloJRW/titanic-classifier/raw/main/train.csv\"\n",
        "df_train = pd.read_csv(url_train)"
      ],
      "metadata": {
        "id": "1fPX_DzejKVO"
      },
      "execution_count": 221,
      "outputs": []
    },
    {
      "cell_type": "code",
      "source": [
        "df_train_transformed = final_pipeline.fit_transform(df_train)"
      ],
      "metadata": {
        "id": "AxpCrPOUi4WB"
      },
      "execution_count": 222,
      "outputs": []
    },
    {
      "cell_type": "code",
      "source": [
        "df_train_transformed\n"
      ],
      "metadata": {
        "id": "-fWNYUEfqpUm",
        "outputId": "74d1f7f0-36ff-487a-8ea7-db918f12f166",
        "colab": {
          "base_uri": "https://localhost:8080/"
        }
      },
      "execution_count": 223,
      "outputs": [
        {
          "output_type": "execute_result",
          "data": {
            "text/plain": [
              "array([[-0.87974057,  0.        ,  0.        , ...,  0.        ,\n",
              "         0.        ,  1.        ],\n",
              "       [ 1.36121993,  1.        ,  0.        , ...,  1.        ,\n",
              "         0.        ,  0.        ],\n",
              "       [-0.79853997,  0.        ,  0.        , ...,  0.        ,\n",
              "         0.        ,  1.        ],\n",
              "       ...,\n",
              "       [ 0.24200664,  0.        ,  0.        , ...,  0.        ,\n",
              "         0.        ,  1.        ],\n",
              "       [ 0.48708246,  1.        ,  0.        , ...,  1.        ,\n",
              "         0.        ,  0.        ],\n",
              "       [-0.81898658,  0.        ,  0.        , ...,  0.        ,\n",
              "         1.        ,  0.        ]])"
            ]
          },
          "metadata": {},
          "execution_count": 223
        }
      ]
    }
  ]
}