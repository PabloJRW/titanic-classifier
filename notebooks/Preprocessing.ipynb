{
 "cells": [
  {
   "cell_type": "markdown",
   "metadata": {
    "colab_type": "text",
    "id": "view-in-github"
   },
   "source": [
    "<a href=\"https://colab.research.google.com/github/PabloJRW/titanic-classifier/blob/main/notebooks/Preprocessing.ipynb\" target=\"_parent\"><img src=\"https://colab.research.google.com/assets/colab-badge.svg\" alt=\"Open In Colab\"/></a>"
   ]
  },
  {
   "cell_type": "code",
   "execution_count": 1,
   "metadata": {
    "id": "soBeWaKvQKGq"
   },
   "outputs": [],
   "source": [
    "import re\n",
    "import numpy as np\n",
    "import pandas as pd\n",
    "from sklearn.pipeline import Pipeline, make_pipeline\n",
    "from sklearn.compose import ColumnTransformer\n",
    "from sklearn.impute import SimpleImputer\n",
    "from sklearn.preprocessing import StandardScaler, OneHotEncoder, FunctionTransformer\n",
    "from joblib import dump"
   ]
  },
  {
   "cell_type": "code",
   "execution_count": 2,
   "metadata": {},
   "outputs": [],
   "source": [
    "def replace_values(series):\n",
    "    series[series >= 3] = 2\n",
    "    return series"
   ]
  },
  {
   "cell_type": "code",
   "execution_count": 3,
   "metadata": {
    "id": "Cdoj7O_mVGpj"
   },
   "outputs": [],
   "source": [
    "# Importing regular expression library\n",
    "import re\n",
    "\n",
    "def extract_title(series):\n",
    "    \"\"\"\n",
    "    Extract the social title from name.\n",
    "    E.g Mr, Mrs, Miss\n",
    "    \"\"\"\n",
    "    pattern = r\",\\s(.+?)\\s\"\n",
    "    df_col = pd.Series(series).fillna(\"\")\n",
    "    titles = df_col.apply(lambda x: re.search(pattern, x).group(1) if re.search(pattern, x) else \"\")\n",
    "    return titles"
   ]
  },
  {
   "cell_type": "code",
   "execution_count": 10,
   "metadata": {
    "id": "Uantj4la9Myk"
   },
   "outputs": [],
   "source": [
    "# numerical transformer pipeline (only 'fare')\n",
    "num_transformer = Pipeline(\n",
    "    steps=[\n",
    "        ('log_transform', FunctionTransformer(np.log1p)),\n",
    "        ('scaler', StandardScaler( ))\n",
    "    ]\n",
    ")\n",
    "\n",
    "# categorical transformer pipeline\n",
    "cat_transformer = Pipeline(\n",
    "    steps=[ \n",
    "        ('imputer', SimpleImputer(strategy='most_frequent')),\n",
    "        ('ohe', OneHotEncoder(handle_unknown='ignore'))\n",
    "    ]\n",
    ")\n",
    "\n",
    "mapper = Pipeline(\n",
    "    steps=[\n",
    "        ('mapper', FunctionTransformer(replace_values)),\n",
    "    ]\n",
    ")\n",
    "\n",
    "# \n",
    "socialt_transformer = Pipeline(\n",
    "    steps=[\n",
    "        ('extractor', FunctionTransformer(extract_title)),\n",
    "        ('ohe', OneHotEncoder(handle_unknown='ignore'))\n",
    "    ]\n",
    ")\n",
    "\n",
    "# Final pipeline\n",
    "preprocessing_pipeline = ColumnTransformer(\n",
    "    transformers=[\n",
    "        ('extract', socialt_transformer, 3),\n",
    "        #('num_transfomer', num_transformer, [9]),\n",
    "        ('cat_transformer', cat_transformer, [2, 4, 11]),\n",
    "        ('mapper_transformer', mapper, [6, 7])\n",
    "    ],remainder='drop', verbose=True\n",
    ")\n"
   ]
  },
  {
   "cell_type": "code",
   "execution_count": 11,
   "metadata": {
    "id": "1fPX_DzejKVO"
   },
   "outputs": [],
   "source": [
    "# importing the training set\n",
    "url_train = \"https://raw.githubusercontent.com/PabloJRW/titanic-classifier/main/datasets/raw/train.csv\"\n",
    "df_train = pd.read_csv(url_train)\n",
    "df_train = np.array(df_train)"
   ]
  },
  {
   "cell_type": "code",
   "execution_count": 12,
   "metadata": {
    "id": "AxpCrPOUi4WB"
   },
   "outputs": [
    {
     "ename": "ValueError",
     "evalue": "1D data passed to a transformer that expects 2D data. Try to specify the column selection as a list of one item instead of a scalar.",
     "output_type": "error",
     "traceback": [
      "\u001b[0;31m---------------------------------------------------------------------------\u001b[0m",
      "\u001b[0;31mValueError\u001b[0m                                Traceback (most recent call last)",
      "\u001b[0;32m~/anaconda3/lib/python3.8/site-packages/sklearn/compose/_column_transformer.py\u001b[0m in \u001b[0;36m_fit_transform\u001b[0;34m(self, X, y, func, fitted)\u001b[0m\n\u001b[1;32m    434\u001b[0m         \u001b[0;32mtry\u001b[0m\u001b[0;34m:\u001b[0m\u001b[0;34m\u001b[0m\u001b[0;34m\u001b[0m\u001b[0m\n\u001b[0;32m--> 435\u001b[0;31m             return Parallel(n_jobs=self.n_jobs)(\n\u001b[0m\u001b[1;32m    436\u001b[0m                 delayed(func)(\n",
      "\u001b[0;32m~/anaconda3/lib/python3.8/site-packages/joblib/parallel.py\u001b[0m in \u001b[0;36m__call__\u001b[0;34m(self, iterable)\u001b[0m\n\u001b[1;32m   1042\u001b[0m             \u001b[0mself\u001b[0m\u001b[0;34m.\u001b[0m\u001b[0m_iterating\u001b[0m \u001b[0;34m=\u001b[0m \u001b[0;32mFalse\u001b[0m\u001b[0;34m\u001b[0m\u001b[0;34m\u001b[0m\u001b[0m\n\u001b[0;32m-> 1043\u001b[0;31m             \u001b[0;32mif\u001b[0m \u001b[0mself\u001b[0m\u001b[0;34m.\u001b[0m\u001b[0mdispatch_one_batch\u001b[0m\u001b[0;34m(\u001b[0m\u001b[0miterator\u001b[0m\u001b[0;34m)\u001b[0m\u001b[0;34m:\u001b[0m\u001b[0;34m\u001b[0m\u001b[0;34m\u001b[0m\u001b[0m\n\u001b[0m\u001b[1;32m   1044\u001b[0m                 \u001b[0mself\u001b[0m\u001b[0;34m.\u001b[0m\u001b[0m_iterating\u001b[0m \u001b[0;34m=\u001b[0m \u001b[0mself\u001b[0m\u001b[0;34m.\u001b[0m\u001b[0m_original_iterator\u001b[0m \u001b[0;32mis\u001b[0m \u001b[0;32mnot\u001b[0m \u001b[0;32mNone\u001b[0m\u001b[0;34m\u001b[0m\u001b[0;34m\u001b[0m\u001b[0m\n",
      "\u001b[0;32m~/anaconda3/lib/python3.8/site-packages/joblib/parallel.py\u001b[0m in \u001b[0;36mdispatch_one_batch\u001b[0;34m(self, iterator)\u001b[0m\n\u001b[1;32m    860\u001b[0m             \u001b[0;32melse\u001b[0m\u001b[0;34m:\u001b[0m\u001b[0;34m\u001b[0m\u001b[0;34m\u001b[0m\u001b[0m\n\u001b[0;32m--> 861\u001b[0;31m                 \u001b[0mself\u001b[0m\u001b[0;34m.\u001b[0m\u001b[0m_dispatch\u001b[0m\u001b[0;34m(\u001b[0m\u001b[0mtasks\u001b[0m\u001b[0;34m)\u001b[0m\u001b[0;34m\u001b[0m\u001b[0;34m\u001b[0m\u001b[0m\n\u001b[0m\u001b[1;32m    862\u001b[0m                 \u001b[0;32mreturn\u001b[0m \u001b[0;32mTrue\u001b[0m\u001b[0;34m\u001b[0m\u001b[0;34m\u001b[0m\u001b[0m\n",
      "\u001b[0;32m~/anaconda3/lib/python3.8/site-packages/joblib/parallel.py\u001b[0m in \u001b[0;36m_dispatch\u001b[0;34m(self, batch)\u001b[0m\n\u001b[1;32m    778\u001b[0m             \u001b[0mjob_idx\u001b[0m \u001b[0;34m=\u001b[0m \u001b[0mlen\u001b[0m\u001b[0;34m(\u001b[0m\u001b[0mself\u001b[0m\u001b[0;34m.\u001b[0m\u001b[0m_jobs\u001b[0m\u001b[0;34m)\u001b[0m\u001b[0;34m\u001b[0m\u001b[0;34m\u001b[0m\u001b[0m\n\u001b[0;32m--> 779\u001b[0;31m             \u001b[0mjob\u001b[0m \u001b[0;34m=\u001b[0m \u001b[0mself\u001b[0m\u001b[0;34m.\u001b[0m\u001b[0m_backend\u001b[0m\u001b[0;34m.\u001b[0m\u001b[0mapply_async\u001b[0m\u001b[0;34m(\u001b[0m\u001b[0mbatch\u001b[0m\u001b[0;34m,\u001b[0m \u001b[0mcallback\u001b[0m\u001b[0;34m=\u001b[0m\u001b[0mcb\u001b[0m\u001b[0;34m)\u001b[0m\u001b[0;34m\u001b[0m\u001b[0;34m\u001b[0m\u001b[0m\n\u001b[0m\u001b[1;32m    780\u001b[0m             \u001b[0;31m# A job can complete so quickly than its callback is\u001b[0m\u001b[0;34m\u001b[0m\u001b[0;34m\u001b[0m\u001b[0;34m\u001b[0m\u001b[0m\n",
      "\u001b[0;32m~/anaconda3/lib/python3.8/site-packages/joblib/_parallel_backends.py\u001b[0m in \u001b[0;36mapply_async\u001b[0;34m(self, func, callback)\u001b[0m\n\u001b[1;32m    207\u001b[0m         \u001b[0;34m\"\"\"Schedule a func to be run\"\"\"\u001b[0m\u001b[0;34m\u001b[0m\u001b[0;34m\u001b[0m\u001b[0m\n\u001b[0;32m--> 208\u001b[0;31m         \u001b[0mresult\u001b[0m \u001b[0;34m=\u001b[0m \u001b[0mImmediateResult\u001b[0m\u001b[0;34m(\u001b[0m\u001b[0mfunc\u001b[0m\u001b[0;34m)\u001b[0m\u001b[0;34m\u001b[0m\u001b[0;34m\u001b[0m\u001b[0m\n\u001b[0m\u001b[1;32m    209\u001b[0m         \u001b[0;32mif\u001b[0m \u001b[0mcallback\u001b[0m\u001b[0;34m:\u001b[0m\u001b[0;34m\u001b[0m\u001b[0;34m\u001b[0m\u001b[0m\n",
      "\u001b[0;32m~/anaconda3/lib/python3.8/site-packages/joblib/_parallel_backends.py\u001b[0m in \u001b[0;36m__init__\u001b[0;34m(self, batch)\u001b[0m\n\u001b[1;32m    571\u001b[0m         \u001b[0;31m# arguments in memory\u001b[0m\u001b[0;34m\u001b[0m\u001b[0;34m\u001b[0m\u001b[0;34m\u001b[0m\u001b[0m\n\u001b[0;32m--> 572\u001b[0;31m         \u001b[0mself\u001b[0m\u001b[0;34m.\u001b[0m\u001b[0mresults\u001b[0m \u001b[0;34m=\u001b[0m \u001b[0mbatch\u001b[0m\u001b[0;34m(\u001b[0m\u001b[0;34m)\u001b[0m\u001b[0;34m\u001b[0m\u001b[0;34m\u001b[0m\u001b[0m\n\u001b[0m\u001b[1;32m    573\u001b[0m \u001b[0;34m\u001b[0m\u001b[0m\n",
      "\u001b[0;32m~/anaconda3/lib/python3.8/site-packages/joblib/parallel.py\u001b[0m in \u001b[0;36m__call__\u001b[0;34m(self)\u001b[0m\n\u001b[1;32m    261\u001b[0m         \u001b[0;32mwith\u001b[0m \u001b[0mparallel_backend\u001b[0m\u001b[0;34m(\u001b[0m\u001b[0mself\u001b[0m\u001b[0;34m.\u001b[0m\u001b[0m_backend\u001b[0m\u001b[0;34m,\u001b[0m \u001b[0mn_jobs\u001b[0m\u001b[0;34m=\u001b[0m\u001b[0mself\u001b[0m\u001b[0;34m.\u001b[0m\u001b[0m_n_jobs\u001b[0m\u001b[0;34m)\u001b[0m\u001b[0;34m:\u001b[0m\u001b[0;34m\u001b[0m\u001b[0;34m\u001b[0m\u001b[0m\n\u001b[0;32m--> 262\u001b[0;31m             return [func(*args, **kwargs)\n\u001b[0m\u001b[1;32m    263\u001b[0m                     for func, args, kwargs in self.items]\n",
      "\u001b[0;32m~/anaconda3/lib/python3.8/site-packages/joblib/parallel.py\u001b[0m in \u001b[0;36m<listcomp>\u001b[0;34m(.0)\u001b[0m\n\u001b[1;32m    261\u001b[0m         \u001b[0;32mwith\u001b[0m \u001b[0mparallel_backend\u001b[0m\u001b[0;34m(\u001b[0m\u001b[0mself\u001b[0m\u001b[0;34m.\u001b[0m\u001b[0m_backend\u001b[0m\u001b[0;34m,\u001b[0m \u001b[0mn_jobs\u001b[0m\u001b[0;34m=\u001b[0m\u001b[0mself\u001b[0m\u001b[0;34m.\u001b[0m\u001b[0m_n_jobs\u001b[0m\u001b[0;34m)\u001b[0m\u001b[0;34m:\u001b[0m\u001b[0;34m\u001b[0m\u001b[0;34m\u001b[0m\u001b[0m\n\u001b[0;32m--> 262\u001b[0;31m             return [func(*args, **kwargs)\n\u001b[0m\u001b[1;32m    263\u001b[0m                     for func, args, kwargs in self.items]\n",
      "\u001b[0;32m~/anaconda3/lib/python3.8/site-packages/sklearn/utils/fixes.py\u001b[0m in \u001b[0;36m__call__\u001b[0;34m(self, *args, **kwargs)\u001b[0m\n\u001b[1;32m    221\u001b[0m         \u001b[0;32mwith\u001b[0m \u001b[0mconfig_context\u001b[0m\u001b[0;34m(\u001b[0m\u001b[0;34m**\u001b[0m\u001b[0mself\u001b[0m\u001b[0;34m.\u001b[0m\u001b[0mconfig\u001b[0m\u001b[0;34m)\u001b[0m\u001b[0;34m:\u001b[0m\u001b[0;34m\u001b[0m\u001b[0;34m\u001b[0m\u001b[0m\n\u001b[0;32m--> 222\u001b[0;31m             \u001b[0;32mreturn\u001b[0m \u001b[0mself\u001b[0m\u001b[0;34m.\u001b[0m\u001b[0mfunction\u001b[0m\u001b[0;34m(\u001b[0m\u001b[0;34m*\u001b[0m\u001b[0margs\u001b[0m\u001b[0;34m,\u001b[0m \u001b[0;34m**\u001b[0m\u001b[0mkwargs\u001b[0m\u001b[0;34m)\u001b[0m\u001b[0;34m\u001b[0m\u001b[0;34m\u001b[0m\u001b[0m\n\u001b[0m",
      "\u001b[0;32m~/anaconda3/lib/python3.8/site-packages/sklearn/pipeline.py\u001b[0m in \u001b[0;36m_fit_transform_one\u001b[0;34m(transformer, X, y, weight, message_clsname, message, **fit_params)\u001b[0m\n\u001b[1;32m    753\u001b[0m         \u001b[0;32mif\u001b[0m \u001b[0mhasattr\u001b[0m\u001b[0;34m(\u001b[0m\u001b[0mtransformer\u001b[0m\u001b[0;34m,\u001b[0m \u001b[0;34m'fit_transform'\u001b[0m\u001b[0;34m)\u001b[0m\u001b[0;34m:\u001b[0m\u001b[0;34m\u001b[0m\u001b[0;34m\u001b[0m\u001b[0m\n\u001b[0;32m--> 754\u001b[0;31m             \u001b[0mres\u001b[0m \u001b[0;34m=\u001b[0m \u001b[0mtransformer\u001b[0m\u001b[0;34m.\u001b[0m\u001b[0mfit_transform\u001b[0m\u001b[0;34m(\u001b[0m\u001b[0mX\u001b[0m\u001b[0;34m,\u001b[0m \u001b[0my\u001b[0m\u001b[0;34m,\u001b[0m \u001b[0;34m**\u001b[0m\u001b[0mfit_params\u001b[0m\u001b[0;34m)\u001b[0m\u001b[0;34m\u001b[0m\u001b[0;34m\u001b[0m\u001b[0m\n\u001b[0m\u001b[1;32m    755\u001b[0m         \u001b[0;32melse\u001b[0m\u001b[0;34m:\u001b[0m\u001b[0;34m\u001b[0m\u001b[0;34m\u001b[0m\u001b[0m\n",
      "\u001b[0;32m~/anaconda3/lib/python3.8/site-packages/sklearn/pipeline.py\u001b[0m in \u001b[0;36mfit_transform\u001b[0;34m(self, X, y, **fit_params)\u001b[0m\n\u001b[1;32m    386\u001b[0m             \u001b[0;32mif\u001b[0m \u001b[0mhasattr\u001b[0m\u001b[0;34m(\u001b[0m\u001b[0mlast_step\u001b[0m\u001b[0;34m,\u001b[0m \u001b[0;34m'fit_transform'\u001b[0m\u001b[0;34m)\u001b[0m\u001b[0;34m:\u001b[0m\u001b[0;34m\u001b[0m\u001b[0;34m\u001b[0m\u001b[0m\n\u001b[0;32m--> 387\u001b[0;31m                 \u001b[0;32mreturn\u001b[0m \u001b[0mlast_step\u001b[0m\u001b[0;34m.\u001b[0m\u001b[0mfit_transform\u001b[0m\u001b[0;34m(\u001b[0m\u001b[0mXt\u001b[0m\u001b[0;34m,\u001b[0m \u001b[0my\u001b[0m\u001b[0;34m,\u001b[0m \u001b[0;34m**\u001b[0m\u001b[0mfit_params_last_step\u001b[0m\u001b[0;34m)\u001b[0m\u001b[0;34m\u001b[0m\u001b[0;34m\u001b[0m\u001b[0m\n\u001b[0m\u001b[1;32m    388\u001b[0m             \u001b[0;32melse\u001b[0m\u001b[0;34m:\u001b[0m\u001b[0;34m\u001b[0m\u001b[0;34m\u001b[0m\u001b[0m\n",
      "\u001b[0;32m~/anaconda3/lib/python3.8/site-packages/sklearn/preprocessing/_encoders.py\u001b[0m in \u001b[0;36mfit_transform\u001b[0;34m(self, X, y)\u001b[0m\n\u001b[1;32m    442\u001b[0m         \u001b[0mself\u001b[0m\u001b[0;34m.\u001b[0m\u001b[0m_validate_keywords\u001b[0m\u001b[0;34m(\u001b[0m\u001b[0;34m)\u001b[0m\u001b[0;34m\u001b[0m\u001b[0;34m\u001b[0m\u001b[0m\n\u001b[0;32m--> 443\u001b[0;31m         \u001b[0;32mreturn\u001b[0m \u001b[0msuper\u001b[0m\u001b[0;34m(\u001b[0m\u001b[0;34m)\u001b[0m\u001b[0;34m.\u001b[0m\u001b[0mfit_transform\u001b[0m\u001b[0;34m(\u001b[0m\u001b[0mX\u001b[0m\u001b[0;34m,\u001b[0m \u001b[0my\u001b[0m\u001b[0;34m)\u001b[0m\u001b[0;34m\u001b[0m\u001b[0;34m\u001b[0m\u001b[0m\n\u001b[0m\u001b[1;32m    444\u001b[0m \u001b[0;34m\u001b[0m\u001b[0m\n",
      "\u001b[0;32m~/anaconda3/lib/python3.8/site-packages/sklearn/base.py\u001b[0m in \u001b[0;36mfit_transform\u001b[0;34m(self, X, y, **fit_params)\u001b[0m\n\u001b[1;32m    698\u001b[0m             \u001b[0;31m# fit method of arity 1 (unsupervised transformation)\u001b[0m\u001b[0;34m\u001b[0m\u001b[0;34m\u001b[0m\u001b[0;34m\u001b[0m\u001b[0m\n\u001b[0;32m--> 699\u001b[0;31m             \u001b[0;32mreturn\u001b[0m \u001b[0mself\u001b[0m\u001b[0;34m.\u001b[0m\u001b[0mfit\u001b[0m\u001b[0;34m(\u001b[0m\u001b[0mX\u001b[0m\u001b[0;34m,\u001b[0m \u001b[0;34m**\u001b[0m\u001b[0mfit_params\u001b[0m\u001b[0;34m)\u001b[0m\u001b[0;34m.\u001b[0m\u001b[0mtransform\u001b[0m\u001b[0;34m(\u001b[0m\u001b[0mX\u001b[0m\u001b[0;34m)\u001b[0m\u001b[0;34m\u001b[0m\u001b[0;34m\u001b[0m\u001b[0m\n\u001b[0m\u001b[1;32m    700\u001b[0m         \u001b[0;32melse\u001b[0m\u001b[0;34m:\u001b[0m\u001b[0;34m\u001b[0m\u001b[0;34m\u001b[0m\u001b[0m\n",
      "\u001b[0;32m~/anaconda3/lib/python3.8/site-packages/sklearn/preprocessing/_encoders.py\u001b[0m in \u001b[0;36mfit\u001b[0;34m(self, X, y)\u001b[0m\n\u001b[1;32m    416\u001b[0m         \u001b[0mself\u001b[0m\u001b[0;34m.\u001b[0m\u001b[0m_validate_keywords\u001b[0m\u001b[0;34m(\u001b[0m\u001b[0;34m)\u001b[0m\u001b[0;34m\u001b[0m\u001b[0;34m\u001b[0m\u001b[0m\n\u001b[0;32m--> 417\u001b[0;31m         self._fit(X, handle_unknown=self.handle_unknown,\n\u001b[0m\u001b[1;32m    418\u001b[0m                   force_all_finite='allow-nan')\n",
      "\u001b[0;32m~/anaconda3/lib/python3.8/site-packages/sklearn/preprocessing/_encoders.py\u001b[0m in \u001b[0;36m_fit\u001b[0;34m(self, X, handle_unknown, force_all_finite)\u001b[0m\n\u001b[1;32m     76\u001b[0m     \u001b[0;32mdef\u001b[0m \u001b[0m_fit\u001b[0m\u001b[0;34m(\u001b[0m\u001b[0mself\u001b[0m\u001b[0;34m,\u001b[0m \u001b[0mX\u001b[0m\u001b[0;34m,\u001b[0m \u001b[0mhandle_unknown\u001b[0m\u001b[0;34m=\u001b[0m\u001b[0;34m'error'\u001b[0m\u001b[0;34m,\u001b[0m \u001b[0mforce_all_finite\u001b[0m\u001b[0;34m=\u001b[0m\u001b[0;32mTrue\u001b[0m\u001b[0;34m)\u001b[0m\u001b[0;34m:\u001b[0m\u001b[0;34m\u001b[0m\u001b[0;34m\u001b[0m\u001b[0m\n\u001b[0;32m---> 77\u001b[0;31m         X_list, n_samples, n_features = self._check_X(\n\u001b[0m\u001b[1;32m     78\u001b[0m             X, force_all_finite=force_all_finite)\n",
      "\u001b[0;32m~/anaconda3/lib/python3.8/site-packages/sklearn/preprocessing/_encoders.py\u001b[0m in \u001b[0;36m_check_X\u001b[0;34m(self, X, force_all_finite)\u001b[0m\n\u001b[1;32m     43\u001b[0m             \u001b[0;31m# if not a dataframe, do normal check_array validation\u001b[0m\u001b[0;34m\u001b[0m\u001b[0;34m\u001b[0m\u001b[0;34m\u001b[0m\u001b[0m\n\u001b[0;32m---> 44\u001b[0;31m             X_temp = check_array(X, dtype=None,\n\u001b[0m\u001b[1;32m     45\u001b[0m                                  force_all_finite=force_all_finite)\n",
      "\u001b[0;32m~/anaconda3/lib/python3.8/site-packages/sklearn/utils/validation.py\u001b[0m in \u001b[0;36minner_f\u001b[0;34m(*args, **kwargs)\u001b[0m\n\u001b[1;32m     62\u001b[0m             \u001b[0;32mif\u001b[0m \u001b[0mextra_args\u001b[0m \u001b[0;34m<=\u001b[0m \u001b[0;36m0\u001b[0m\u001b[0;34m:\u001b[0m\u001b[0;34m\u001b[0m\u001b[0;34m\u001b[0m\u001b[0m\n\u001b[0;32m---> 63\u001b[0;31m                 \u001b[0;32mreturn\u001b[0m \u001b[0mf\u001b[0m\u001b[0;34m(\u001b[0m\u001b[0;34m*\u001b[0m\u001b[0margs\u001b[0m\u001b[0;34m,\u001b[0m \u001b[0;34m**\u001b[0m\u001b[0mkwargs\u001b[0m\u001b[0;34m)\u001b[0m\u001b[0;34m\u001b[0m\u001b[0;34m\u001b[0m\u001b[0m\n\u001b[0m\u001b[1;32m     64\u001b[0m \u001b[0;34m\u001b[0m\u001b[0m\n",
      "\u001b[0;32m~/anaconda3/lib/python3.8/site-packages/sklearn/utils/validation.py\u001b[0m in \u001b[0;36mcheck_array\u001b[0;34m(array, accept_sparse, accept_large_sparse, dtype, order, copy, force_all_finite, ensure_2d, allow_nd, ensure_min_samples, ensure_min_features, estimator)\u001b[0m\n\u001b[1;32m    636\u001b[0m             \u001b[0;32mif\u001b[0m \u001b[0marray\u001b[0m\u001b[0;34m.\u001b[0m\u001b[0mndim\u001b[0m \u001b[0;34m==\u001b[0m \u001b[0;36m1\u001b[0m\u001b[0;34m:\u001b[0m\u001b[0;34m\u001b[0m\u001b[0;34m\u001b[0m\u001b[0m\n\u001b[0;32m--> 637\u001b[0;31m                 raise ValueError(\n\u001b[0m\u001b[1;32m    638\u001b[0m                     \u001b[0;34m\"Expected 2D array, got 1D array instead:\\narray={}.\\n\"\u001b[0m\u001b[0;34m\u001b[0m\u001b[0;34m\u001b[0m\u001b[0m\n",
      "\u001b[0;31mValueError\u001b[0m: Expected 2D array, got 1D array instead:\narray=['Mr.' 'Mrs.' 'Miss.' 'Mrs.' 'Mr.' 'Mr.' 'Mr.' 'Master.' 'Mrs.' 'Mrs.'\n 'Miss.' 'Miss.' 'Mr.' 'Mr.' 'Miss.' 'Mrs.' 'Master.' 'Mr.' 'Mrs.' 'Mrs.'\n 'Mr.' 'Mr.' 'Miss.' 'Mr.' 'Miss.' 'Mrs.' 'Mr.' 'Mr.' 'Miss.' 'Mr.' 'Don.'\n 'Mrs.' 'Miss.' 'Mr.' 'Mr.' 'Mr.' 'Mr.' 'Mr.' 'Miss.' 'Miss.' 'Mrs.'\n 'Mrs.' 'Mr.' 'Miss.' 'Miss.' 'Mr.' 'Mr.' 'Miss.' 'Mr.' 'Mrs.' 'Master.'\n 'Mr.' 'Mrs.' 'Mrs.' 'Mr.' 'Mr.' 'Miss.' 'Mr.' 'Miss.' 'Master.' 'Mr.'\n 'Miss.' 'Mr.' 'Master.' 'Mr.' 'Master.' 'Mrs.' 'Mr.' 'Miss.' 'Mr.' 'Mr.'\n 'Miss.' 'Mr.' 'Mr.' 'Mr.' 'Mr.' 'Mr.' 'Mr.' 'Master.' 'Miss.' 'Mr.' 'Mr.'\n 'Miss.' 'Mr.' 'Miss.' 'Mrs.' 'Mr.' 'Mr.' 'Miss.' 'Mr.' 'Mr.' 'Mr.' 'Mr.'\n 'Mr.' 'Mr.' 'Mr.' 'Mr.' 'Mr.' 'Mrs.' 'Mr.' 'Miss.' 'Mr.' 'Mr.' 'Mr.'\n 'Mr.' 'Mr.' 'Miss.' 'Mr.' 'Mr.' 'Miss.' 'Mr.' 'Miss.' 'Mr.' 'Miss.'\n 'Miss.' 'Mr.' 'Mr.' 'Mr.' 'Mr.' 'Miss.' 'Mr.' 'Mr.' 'Mr.' 'Miss.' 'Mr.'\n 'Master.' 'Mr.' 'Mr.' 'Miss.' 'Mr.' 'Mr.' 'Mr.' 'Mrs.' 'Mrs.' 'Mr.' 'Mr.'\n 'Miss.' 'Mr.' 'Mr.' 'Mr.' 'Mrs.' 'Miss.' 'Mrs.' 'Mr.' 'Mr.' 'Mr.' 'Mr.'\n 'Miss.' 'Mr.' 'Rev.' 'Rev.' 'Mrs.' 'Mr.' 'Mr.' 'Mr.' 'Mr.' 'Miss.' 'Mr.'\n 'Mr.' 'Master.' 'Mr.' 'Mrs.' 'Mr.' 'Mr.' 'Master.' 'Master.' 'Mrs.'\n 'Mrs.' 'Mr.' 'Mr.' 'Mr.' 'Master.' 'Miss.' 'Mr.' 'Mr.' 'Mr.' 'Master.'\n 'Miss.' 'Mr.' 'Mr.' 'Miss.' 'Mr.' 'Master.' 'Master.' 'Miss.' 'Mr.'\n 'Mrs.' 'Mr.' 'Mr.' 'Mr.' 'Mrs.' 'Mr.' 'Miss.' 'Master.' 'Mrs.' 'Miss.'\n 'Mr.' 'Mr.' 'Miss.' 'Miss.' 'Mr.' 'Mr.' 'Mr.' 'Mr.' 'Mr.' 'Miss.' 'Mr.'\n 'Mr.' 'Miss.' 'Mr.' 'Mr.' 'Miss.' 'Mr.' 'Mr.' 'Mr.' 'Miss.' 'Miss.' 'Mr.'\n 'Miss.' 'Mr.' 'Mr.' 'Mr.' 'Mr.' 'Mr.' 'Mr.' 'Mr.' 'Mr.' 'Mr.' 'Mr.'\n 'Miss.' 'Mrs.' 'Mr.' 'Mr.' 'Miss.' 'Mr.' 'Miss.' 'Mr.' 'Miss.' 'Mr.'\n 'Mr.' 'Miss.' 'Miss.' 'Mr.' 'Mr.' 'Mr.' 'Dr.' 'Miss.' 'Mrs.' 'Mr.' 'Rev.'\n 'Mr.' 'Mrs.' 'Mr.' 'Mr.' 'Mrs.' 'Mrs.' 'Mrs.' 'Miss.' 'Miss.' 'Mrs.'\n 'Mr.' 'Master.' 'Mr.' 'Mr.' 'Miss.' 'Mr.' 'Mr.' 'Mr.' 'Mrs.' 'Miss.'\n 'Mr.' 'Mr.' 'Mrs.' 'Mr.' 'Miss.' 'Miss.' 'Miss.' 'Mr.' 'Master.' 'Mrs.'\n 'Mr.' 'Mr.' 'Mr.' 'Mr.' 'Mr.' 'Mr.' 'Mr.' 'Mr.' 'Mr.' 'Miss.' 'Miss.'\n 'Mrs.' 'Mr.' 'Miss.' 'Mr.' 'Mr.' 'Mr.' 'Miss.' 'Mr.' 'Mrs.' 'Miss.' 'Mr.'\n 'Mr.' 'Miss.' 'Mr.' 'Master.' 'Miss.' 'Mrs.' 'Mr.' 'Miss.' 'Miss.'\n 'Miss.' 'Mrs.' 'Mr.' 'Mr.' 'Miss.' 'Mrs.' 'Dr.' 'Miss.' 'Mrs.' 'Mr.'\n 'Mr.' 'Miss.' 'Mrs.' 'Mr.' 'Miss.' 'Mr.' 'Mrs.' 'Mrs.' 'Miss.' 'Miss.'\n 'Mr.' 'Mr.' 'Mr.' 'Mrs.' 'Mr.' 'Mr.' 'Miss.' 'Mr.' 'Mr.' 'Master.'\n 'Miss.' 'Mr.' 'Mr.' 'Mr.' 'Miss.' 'Miss.' 'Mrs.' 'Master.' 'Mr.' 'Mr.'\n 'Mr.' 'Mr.' 'Mr.' 'Mr.' 'Mr.' 'Miss.' 'Miss.' 'Miss.' 'Miss.' 'Mr.' 'Mr.'\n 'Mrs.' 'Mr.' 'Mr.' 'Mr.' 'Mrs.' 'Mrs.' 'Miss.' 'Mme.' 'Mr.' 'Mr.' 'Mr.'\n 'Mr.' 'Miss.' 'Mrs.' 'Miss.' 'Mr.' 'Mr.' 'Mr.' 'Miss.' 'Miss.' 'Mr.'\n 'Mrs.' 'Mr.' 'Mr.' 'Master.' 'Miss.' 'Mr.' 'Miss.' 'Mr.' 'Mr.' 'Mr.'\n 'Miss.' 'Mrs.' 'Mr.' 'Miss.' 'Mr.' 'Dr.' 'Mrs.' 'Mr.' 'Mr.' 'Miss.' 'Mr.'\n 'Miss.' 'Mr.' 'Mr.' 'Master.' 'Mr.' 'Miss.' 'Mr.' 'Mr.' 'Miss.' 'Mr.'\n 'Mr.' 'Mrs.' 'Mrs.' 'Miss.' 'Mr.' 'Miss.' 'Mr.' 'Mr.' 'Mr.' 'Mrs.' 'Mr.'\n 'Mr.' 'Mrs.' 'Miss.' 'Mr.' 'Mr.' 'Mr.' 'Mrs.' 'Mrs.' 'Mr.' 'Mr.' 'Miss.'\n 'Miss.' 'Mrs.' 'Mr.' 'Mr.' 'Mrs.' 'Mr.' 'Mr.' 'Ms.' 'Mr.' 'Master.'\n 'Miss.' 'Mr.' 'Miss.' 'Major.' 'Mr.' 'Mr.' 'Mr.' 'Mr.' 'Mr.' 'Mr.' 'Mr.'\n 'Mrs.' 'Miss.' 'Mr.' 'Mr.' 'Mr.' 'Mr.' 'Mr.' 'Mr.' 'Mr.' 'Mr.' 'Mr.'\n 'Mr.' 'Miss.' 'Mr.' 'Mr.' 'Mrs.' 'Mrs.' 'Miss.' 'Mr.' 'Mr.' 'Mr.' 'Mr.'\n 'Miss.' 'Master.' 'Mr.' 'Mr.' 'Mrs.' 'Mr.' 'Miss.' 'Mrs.' 'Mr.' 'Mr.'\n 'Master.' 'Mr.' 'Mr.' 'Mr.' 'Mr.' 'Mr.' 'Mr.' 'Miss.' 'Mr.' 'Mrs.' 'Mr.'\n 'Mr.' 'Miss.' 'Miss.' 'Miss.' 'Miss.' 'Mr.' 'Mrs.' 'Mr.' 'Mr.' 'Mr.'\n 'Mr.' 'Mr.' 'Mr.' 'Mrs.' 'Mr.' 'Mr.' 'Mrs.' 'Mr.' 'Mrs.' 'Mr.' 'Miss.'\n 'Mr.' 'Mr.' 'Mrs.' 'Mr.' 'Mr.' 'Miss.' 'Mr.' 'Mr.' 'Mr.' 'Miss.' 'Mr.'\n 'Mr.' 'Mrs.' 'Miss.' 'Miss.' 'Major.' 'Miss.' 'Mr.' 'Miss.' 'Miss.'\n 'Miss.' 'Miss.' 'Mr.' 'Mr.' 'Mr.' 'Mrs.' 'Mr.' 'Mr.' 'Master.' 'Mr.'\n 'Mr.' 'Mr.' 'Mr.' 'Miss.' 'Mr.' 'Lady.' 'Mr.' 'Mrs.' 'Mrs.' 'Mr.' 'Mr.'\n 'Mr.' 'Mr.' 'Miss.' 'Mr.' 'Mr.' 'Mrs.' 'Mr.' 'Mr.' 'Mr.' 'Mrs.' 'Mr.'\n 'Miss.' 'Mr.' 'Mr.' 'Miss.' 'Mrs.' 'Mrs.' 'Mr.' 'Miss.' 'Mrs.' 'Mr.'\n 'Mr.' 'Mr.' 'Miss.' 'Mr.' 'Mr.' 'Mr.' 'Mr.' 'Mr.' 'Mrs.' 'Mr.' 'Miss.'\n 'Mr.' 'Mr.' 'Miss.' 'Mr.' 'Mr.' 'Sir.' 'Mrs.' 'Mr.' 'Mr.' 'Mr.' 'Mr.'\n 'Mr.' 'Mr.' 'Mr.' 'Mrs.' 'Miss.' 'Mrs.' 'Mr.' 'Miss.' 'Mr.' 'Mr.' 'Miss.'\n 'Mr.' 'Mrs.' 'Miss.' 'Mr.' 'Mr.' 'Mr.' 'Mr.' 'Mr.' 'Mr.' 'Mr.' 'Rev.'\n 'Miss.' 'Mr.' 'Mr.' 'Mr.' 'Mr.' 'Dr.' 'Mr.' 'Miss.' 'Miss.' 'Mr.' 'Mr.'\n 'Mrs.' 'Mr.' 'Mr.' 'Mlle.' 'Miss.' 'Mr.' 'Miss.' 'Mr.' 'Mr.' 'Col.' 'Mr.'\n 'Miss.' 'Mr.' 'Miss.' 'Mr.' 'Miss.' 'Miss.' 'Mr.' 'Mr.' 'Mrs.' 'Mr.'\n 'Mr.' 'Dr.' 'Mr.' 'Mr.' 'Mr.' 'Mr.' 'Mr.' 'Mr.' 'Mr.' 'Mr.' 'Mrs.' 'Mrs.'\n 'Mr.' 'Mr.' 'Mr.' 'Mr.' 'Mr.' 'Mr.' 'Miss.' 'Mrs.' 'Mr.' 'Miss.' 'Mr.'\n 'Mr.' 'Mr.' 'Mr.' 'Mr.' 'Mr.' 'Mr.' 'Mr.' 'Miss.' 'Mr.' 'Miss.' 'Mr.'\n 'Mr.' 'Col.' 'Mr.' 'Mr.' 'Miss.' 'Mr.' 'Mr.' 'Mrs.' 'Mr.' 'Miss.' 'Mr.'\n 'Mr.' 'Mr.' 'Mrs.' 'Mr.' 'Miss.' 'Master.' 'Mlle.' 'Mr.' 'Mr.' 'Mr.'\n 'Mr.' 'Mr.' 'Miss.' 'Miss.' 'Mr.' 'Mr.' 'Miss.' 'Mr.' 'Mr.' 'Mr.' 'Mr.'\n 'Mr.' 'Mrs.' 'Miss.' 'Mr.' 'Miss.' 'Miss.' 'Mr.' 'Mr.' 'Mr.' 'Mr.' 'Mr.'\n 'Mrs.' 'Mr.' 'Mr.' 'Mr.' 'Mr.' 'Mr.' 'Miss.' 'Mr.' 'Mr.' 'Capt.' 'Mr.'\n 'Miss.' 'Mr.' 'Mr.' 'Miss.' 'Master.' 'Mr.' 'Mr.' 'Mrs.' 'Master.' 'Mr.'\n 'Mr.' 'Mr.' 'the' 'Mr.' 'Mr.' 'Mr.' 'Mrs.' 'Mr.' 'Mrs.' 'Dr.' 'Miss.'\n 'Mr.' 'Mr.' 'Mr.' 'Mr.' 'Mrs.' 'Mr.' 'Mrs.' 'Mr.' 'Mr.' 'Miss.' 'Mr.'\n 'Mrs.' 'Miss.' 'Mrs.' 'Mr.' 'Mr.' 'Mr.' 'Mr.' 'Miss.' 'Master.' 'Master.'\n 'Mr.' 'Mr.' 'Mr.' 'Miss.' 'Mr.' 'Mr.' 'Mr.' 'Dr.' 'Mrs.' 'Mr.' 'Mrs.'\n 'Mr.' 'Mrs.' 'Master.' 'Master.' 'Mr.' 'Mr.' 'Mr.' 'Miss.' 'Mr.' 'Mrs.'\n 'Mr.' 'Mr.' 'Mr.' 'Miss.' 'Mr.' 'Mr.' 'Miss.' 'Mr.' 'Mr.' 'Master.'\n 'Mrs.' 'Mr.' 'Jonkheer.' 'Mrs.' 'Master.' 'Mr.' 'Mr.' 'Master.' 'Mr.'\n 'Mrs.' 'Mrs.' 'Master.' 'Mr.' 'Mr.' 'Mr.' 'Miss.' 'Mr.' 'Mr.' 'Mr.' 'Mr.'\n 'Mr.' 'Mr.' 'Miss.' 'Mr.' 'Mr.' 'Mr.' 'Mr.' 'Mr.' 'Rev.' 'Mrs.' 'Master.'\n 'Mr.' 'Miss.' 'Miss.' 'Mrs.' 'Mrs.' 'Mrs.' 'Mr.' 'Mrs.' 'Mr.' 'Mr.' 'Mr.'\n 'Mrs.' 'Miss.' 'Mr.' 'Mrs.' 'Miss.' 'Mr.' 'Mr.' 'Master.' 'Mr.' 'Mrs.'\n 'Mr.' 'Mr.' 'Mrs.' 'Miss.' 'Mr.' 'Mr.' 'Mr.' 'Mrs.' 'Mrs.' 'Mr.' 'Miss.'\n 'Mr.' 'Mr.' 'Mrs.' 'Rev.' 'Miss.' 'Miss.' 'Mr.' 'Mr.'].\nReshape your data either using array.reshape(-1, 1) if your data has a single feature or array.reshape(1, -1) if it contains a single sample.",
      "\nThe above exception was the direct cause of the following exception:\n",
      "\u001b[0;31mValueError\u001b[0m                                Traceback (most recent call last)",
      "\u001b[0;32m/tmp/ipykernel_5821/3015148004.py\u001b[0m in \u001b[0;36m<module>\u001b[0;34m\u001b[0m\n\u001b[0;32m----> 1\u001b[0;31m \u001b[0mdf_train_transformed\u001b[0m \u001b[0;34m=\u001b[0m \u001b[0mpreprocessing_pipeline\u001b[0m\u001b[0;34m.\u001b[0m\u001b[0mfit_transform\u001b[0m\u001b[0;34m(\u001b[0m\u001b[0mdf_train\u001b[0m\u001b[0;34m)\u001b[0m\u001b[0;34m\u001b[0m\u001b[0;34m\u001b[0m\u001b[0m\n\u001b[0m",
      "\u001b[0;32m~/anaconda3/lib/python3.8/site-packages/sklearn/compose/_column_transformer.py\u001b[0m in \u001b[0;36mfit_transform\u001b[0;34m(self, X, y)\u001b[0m\n\u001b[1;32m    506\u001b[0m         \u001b[0mself\u001b[0m\u001b[0;34m.\u001b[0m\u001b[0m_validate_remainder\u001b[0m\u001b[0;34m(\u001b[0m\u001b[0mX\u001b[0m\u001b[0;34m)\u001b[0m\u001b[0;34m\u001b[0m\u001b[0;34m\u001b[0m\u001b[0m\n\u001b[1;32m    507\u001b[0m \u001b[0;34m\u001b[0m\u001b[0m\n\u001b[0;32m--> 508\u001b[0;31m         \u001b[0mresult\u001b[0m \u001b[0;34m=\u001b[0m \u001b[0mself\u001b[0m\u001b[0;34m.\u001b[0m\u001b[0m_fit_transform\u001b[0m\u001b[0;34m(\u001b[0m\u001b[0mX\u001b[0m\u001b[0;34m,\u001b[0m \u001b[0my\u001b[0m\u001b[0;34m,\u001b[0m \u001b[0m_fit_transform_one\u001b[0m\u001b[0;34m)\u001b[0m\u001b[0;34m\u001b[0m\u001b[0;34m\u001b[0m\u001b[0m\n\u001b[0m\u001b[1;32m    509\u001b[0m \u001b[0;34m\u001b[0m\u001b[0m\n\u001b[1;32m    510\u001b[0m         \u001b[0;32mif\u001b[0m \u001b[0;32mnot\u001b[0m \u001b[0mresult\u001b[0m\u001b[0;34m:\u001b[0m\u001b[0;34m\u001b[0m\u001b[0;34m\u001b[0m\u001b[0m\n",
      "\u001b[0;32m~/anaconda3/lib/python3.8/site-packages/sklearn/compose/_column_transformer.py\u001b[0m in \u001b[0;36m_fit_transform\u001b[0;34m(self, X, y, func, fitted)\u001b[0m\n\u001b[1;32m    445\u001b[0m         \u001b[0;32mexcept\u001b[0m \u001b[0mValueError\u001b[0m \u001b[0;32mas\u001b[0m \u001b[0me\u001b[0m\u001b[0;34m:\u001b[0m\u001b[0;34m\u001b[0m\u001b[0;34m\u001b[0m\u001b[0m\n\u001b[1;32m    446\u001b[0m             \u001b[0;32mif\u001b[0m \u001b[0;34m\"Expected 2D array, got 1D array instead\"\u001b[0m \u001b[0;32min\u001b[0m \u001b[0mstr\u001b[0m\u001b[0;34m(\u001b[0m\u001b[0me\u001b[0m\u001b[0;34m)\u001b[0m\u001b[0;34m:\u001b[0m\u001b[0;34m\u001b[0m\u001b[0;34m\u001b[0m\u001b[0m\n\u001b[0;32m--> 447\u001b[0;31m                 \u001b[0;32mraise\u001b[0m \u001b[0mValueError\u001b[0m\u001b[0;34m(\u001b[0m\u001b[0m_ERR_MSG_1DCOLUMN\u001b[0m\u001b[0;34m)\u001b[0m \u001b[0;32mfrom\u001b[0m \u001b[0me\u001b[0m\u001b[0;34m\u001b[0m\u001b[0;34m\u001b[0m\u001b[0m\n\u001b[0m\u001b[1;32m    448\u001b[0m             \u001b[0;32melse\u001b[0m\u001b[0;34m:\u001b[0m\u001b[0;34m\u001b[0m\u001b[0;34m\u001b[0m\u001b[0m\n\u001b[1;32m    449\u001b[0m                 \u001b[0;32mraise\u001b[0m\u001b[0;34m\u001b[0m\u001b[0;34m\u001b[0m\u001b[0m\n",
      "\u001b[0;31mValueError\u001b[0m: 1D data passed to a transformer that expects 2D data. Try to specify the column selection as a list of one item instead of a scalar."
     ]
    }
   ],
   "source": [
    "df_train_transformed = preprocessing_pipeline.fit_transform(df_train)"
   ]
  },
  {
   "cell_type": "code",
   "execution_count": null,
   "metadata": {
    "colab": {
     "base_uri": "https://localhost:8080/"
    },
    "id": "-fWNYUEfqpUm",
    "outputId": "1bb09803-8474-4d95-f636-412855bbff41"
   },
   "outputs": [],
   "source": [
    "df_train_transformed\n"
   ]
  },
  {
   "cell_type": "code",
   "execution_count": null,
   "metadata": {
    "colab": {
     "base_uri": "https://localhost:8080/"
    },
    "id": "dUugRkKHlYkX",
    "outputId": "461dccd6-a2fc-4bd7-d2bb-0f98343af842"
   },
   "outputs": [],
   "source": [
    "# Saving the pipeline using joblib\n",
    "dump(preprocessing_pipeline, 'preprocessing_pipeline.joblib')"
   ]
  },
  {
   "cell_type": "code",
   "execution_count": null,
   "metadata": {
    "id": "U8uLsbiBmhkV"
   },
   "outputs": [],
   "source": []
  }
 ],
 "metadata": {
  "colab": {
   "authorship_tag": "ABX9TyOk2+3THqnhiDq2v7uZOdlb",
   "include_colab_link": true,
   "provenance": []
  },
  "kernelspec": {
   "display_name": "Python 3 (ipykernel)",
   "language": "python",
   "name": "python3"
  },
  "language_info": {
   "codemirror_mode": {
    "name": "ipython",
    "version": 3
   },
   "file_extension": ".py",
   "mimetype": "text/x-python",
   "name": "python",
   "nbconvert_exporter": "python",
   "pygments_lexer": "ipython3",
   "version": "3.8.8"
  }
 },
 "nbformat": 4,
 "nbformat_minor": 4
}
