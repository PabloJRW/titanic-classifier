{
  "nbformat": 4,
  "nbformat_minor": 0,
  "metadata": {
    "colab": {
      "provenance": [],
      "authorship_tag": "ABX9TyOk2+3THqnhiDq2v7uZOdlb",
      "include_colab_link": true
    },
    "kernelspec": {
      "name": "python3",
      "display_name": "Python 3"
    },
    "language_info": {
      "name": "python"
    }
  },
  "cells": [
    {
      "cell_type": "markdown",
      "metadata": {
        "id": "view-in-github",
        "colab_type": "text"
      },
      "source": [
        "<a href=\"https://colab.research.google.com/github/PabloJRW/titanic-classifier/blob/main/notebooks/Preprocessing.ipynb\" target=\"_parent\"><img src=\"https://colab.research.google.com/assets/colab-badge.svg\" alt=\"Open In Colab\"/></a>"
      ]
    },
    {
      "cell_type": "code",
      "source": [
        "import re\n",
        "import numpy as np\n",
        "import pandas as pd\n",
        "from sklearn.pipeline import Pipeline, make_pipeline\n",
        "from sklearn.compose import ColumnTransformer\n",
        "from sklearn.impute import SimpleImputer\n",
        "from sklearn.preprocessing import StandardScaler, OneHotEncoder, FunctionTransformer\n",
        "from joblib import dump"
      ],
      "metadata": {
        "id": "soBeWaKvQKGq"
      },
      "execution_count": 24,
      "outputs": []
    },
    {
      "cell_type": "code",
      "source": [
        "num_features = ['Fare']\n",
        "cat_features = ['Pclass', 'Sex', 'SibSp', 'Embarked']"
      ],
      "metadata": {
        "id": "anS6Uig-hggB"
      },
      "execution_count": 2,
      "outputs": []
    },
    {
      "cell_type": "code",
      "source": [
        "# Importing regular expression library\n",
        "import re\n",
        "\n",
        "def extract_title(series):\n",
        "    \"\"\"\n",
        "    Extract the social title from name.\n",
        "    E.g Mr, Mrs, Miss\n",
        "    \"\"\"\n",
        "    pattern = r\",\\s(.+?)\\s\"\n",
        "    df_col = pd.Series(series).fillna(\"\")\n",
        "    titles = df_col.apply(lambda x: re.search(pattern, x).group(1) if re.search(pattern, x) else \"\")\n",
        "    return titles"
      ],
      "metadata": {
        "id": "Cdoj7O_mVGpj"
      },
      "execution_count": 3,
      "outputs": []
    },
    {
      "cell_type": "code",
      "execution_count": 23,
      "metadata": {
        "id": "Uantj4la9Myk"
      },
      "outputs": [],
      "source": [
        "# numerical transformer pipeline (only 'fare')\n",
        "num_transformer = Pipeline(steps=[\n",
        "    ('log_transform', FunctionTransformer(np.log1p)),\n",
        "    ('scaler', StandardScaler( ))]\n",
        ")\n",
        "\n",
        "# categorical transformer pipeline\n",
        "cat_transformer = Pipeline(\n",
        "    steps=[ \n",
        "      ('imputer', SimpleImputer(strategy='most_frequent')),\n",
        "      ('ohe', OneHotEncoder(handle_unknown='ignore'))]\n",
        ")\n",
        "\n",
        "# \n",
        "socialt_transformer = Pipeline(\n",
        "    steps=[\n",
        "        ('extractor', FunctionTransformer(extract_title)),\n",
        "        ('ohe', OneHotEncoder(handle_unknown='ignore'))]\n",
        ")\n",
        "\n",
        "# Final pipeline\n",
        "preprocessing_pipeline = ColumnTransformer(\n",
        "    transformers=[\n",
        "      ('num_transfomer', num_transformer, num_features),\n",
        "      ('cat_transformer', cat_transformer, cat_features),\n",
        "      #('extract', socialt_transformer, 'Name')\n",
        "    ],remainder='drop'\n",
        ")\n"
      ]
    },
    {
      "cell_type": "code",
      "source": [
        "# importing the training set\n",
        "url_train = \"https://github.com/PabloJRW/titanic-classifier/raw/main/train.csv\"\n",
        "df_train = pd.read_csv(url_train)"
      ],
      "metadata": {
        "id": "1fPX_DzejKVO"
      },
      "execution_count": 18,
      "outputs": []
    },
    {
      "cell_type": "code",
      "source": [
        "df_train_transformed = preprocessing_pipeline.fit_transform(df_train)"
      ],
      "metadata": {
        "id": "AxpCrPOUi4WB"
      },
      "execution_count": 19,
      "outputs": []
    },
    {
      "cell_type": "code",
      "source": [
        "df_train_transformed\n"
      ],
      "metadata": {
        "id": "-fWNYUEfqpUm",
        "outputId": "1bb09803-8474-4d95-f636-412855bbff41",
        "colab": {
          "base_uri": "https://localhost:8080/"
        }
      },
      "execution_count": 20,
      "outputs": [
        {
          "output_type": "execute_result",
          "data": {
            "text/plain": [
              "array([[-0.87974057,  0.        ,  0.        , ...,  0.        ,\n",
              "         0.        ,  1.        ],\n",
              "       [ 1.36121993,  1.        ,  0.        , ...,  1.        ,\n",
              "         0.        ,  0.        ],\n",
              "       [-0.79853997,  0.        ,  0.        , ...,  0.        ,\n",
              "         0.        ,  1.        ],\n",
              "       ...,\n",
              "       [ 0.24200664,  0.        ,  0.        , ...,  0.        ,\n",
              "         0.        ,  1.        ],\n",
              "       [ 0.48708246,  1.        ,  0.        , ...,  1.        ,\n",
              "         0.        ,  0.        ],\n",
              "       [-0.81898658,  0.        ,  0.        , ...,  0.        ,\n",
              "         1.        ,  0.        ]])"
            ]
          },
          "metadata": {},
          "execution_count": 20
        }
      ]
    },
    {
      "cell_type": "code",
      "source": [
        "# Saving the pipeline using joblib\n",
        "dump(preprocessing_pipeline, 'preprocessing_pipeline.joblib')"
      ],
      "metadata": {
        "id": "dUugRkKHlYkX",
        "outputId": "461dccd6-a2fc-4bd7-d2bb-0f98343af842",
        "colab": {
          "base_uri": "https://localhost:8080/"
        }
      },
      "execution_count": 27,
      "outputs": [
        {
          "output_type": "execute_result",
          "data": {
            "text/plain": [
              "['preprocessing_pipeline.joblib']"
            ]
          },
          "metadata": {},
          "execution_count": 27
        }
      ]
    },
    {
      "cell_type": "code",
      "source": [],
      "metadata": {
        "id": "U8uLsbiBmhkV"
      },
      "execution_count": null,
      "outputs": []
    }
  ]
}