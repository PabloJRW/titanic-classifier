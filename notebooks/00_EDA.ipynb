{
 "cells": [
  {
   "cell_type": "markdown",
   "metadata": {
    "id": "dCQ1jn1WkGKj"
   },
   "source": [
    "Welcome to this notebook, which contains a statistical analysis of the predictors variables that determine whether a passenger survived or did not survive the Titanic tragedy. The sinking of the Titanic in 1912 was one of the most devastating maritime disasters in history, with over 1,500 passengers and crew losing their lives. However, there were also many survivors, and this analysis aims to identify the factors that influenced their chances of survival.\n",
    "\n",
    "Using a dataset of Titanic passenger information, we will explore various predictor variables, such as age, gender, passenger class, and embarkation point, to determine their impact on survival rates. By performing statistical analyses and visualizations, we hope to gain insights into the underlying patterns and relationships between these variables and survival.\n",
    "\n",
    "This analysis will not only provide a better understanding of the factors that influenced survival on the Titanic, but it may also have broader implications for understanding survival in other catastrophic events. We hope that this notebook will be informative and insightful, and that the findings will be useful for further research and analysis in related fields."
   ]
  },
  {
   "cell_type": "code",
   "execution_count": 1,
   "metadata": {
    "id": "9eR0Fb5BvCJ6"
   },
   "outputs": [],
   "source": [
    "# Importing libraries\n",
    "import numpy as np\n",
    "import pandas as pd\n",
    "import matplotlib.pyplot as plt\n",
    "import seaborn as sns\n",
    "import matplotlib.ticker as ticker\n",
    "import pylab\n",
    "import scipy.stats as stats\n",
    "\n",
    "import warnings\n",
    "warnings.filterwarnings('ignore')"
   ]
  },
  {
   "cell_type": "code",
   "execution_count": 2,
   "metadata": {
    "id": "eTsQ946cvCKB"
   },
   "outputs": [],
   "source": [
    "# Importing dataset\n",
    "url_train = \"https://raw.githubusercontent.com/PabloJRW/titanic-classifier/main/datasets/raw/train.csv\"\n",
    "df_train = pd.read_csv(url_train)"
   ]
  },
  {
   "cell_type": "markdown",
   "metadata": {
    "id": "hMeL5fOWvCKB"
   },
   "source": [
    "# <b>EDA</b>"
   ]
  },
  {
   "cell_type": "code",
   "execution_count": 3,
   "metadata": {
    "colab": {
     "base_uri": "https://localhost:8080/",
     "height": 285
    },
    "id": "DVMdclSRvCKC",
    "outputId": "2154f978-ecd3-46fb-bf3a-2f39dddb744d"
   },
   "outputs": [
    {
     "data": {
      "text/html": [
       "<div>\n",
       "<style scoped>\n",
       "    .dataframe tbody tr th:only-of-type {\n",
       "        vertical-align: middle;\n",
       "    }\n",
       "\n",
       "    .dataframe tbody tr th {\n",
       "        vertical-align: top;\n",
       "    }\n",
       "\n",
       "    .dataframe thead th {\n",
       "        text-align: right;\n",
       "    }\n",
       "</style>\n",
       "<table border=\"1\" class=\"dataframe\">\n",
       "  <thead>\n",
       "    <tr style=\"text-align: right;\">\n",
       "      <th></th>\n",
       "      <th>PassengerId</th>\n",
       "      <th>Survived</th>\n",
       "      <th>Pclass</th>\n",
       "      <th>Name</th>\n",
       "      <th>Sex</th>\n",
       "      <th>Age</th>\n",
       "      <th>SibSp</th>\n",
       "      <th>Parch</th>\n",
       "      <th>Ticket</th>\n",
       "      <th>Fare</th>\n",
       "      <th>Cabin</th>\n",
       "      <th>Embarked</th>\n",
       "    </tr>\n",
       "  </thead>\n",
       "  <tbody>\n",
       "    <tr>\n",
       "      <th>270</th>\n",
       "      <td>271</td>\n",
       "      <td>0</td>\n",
       "      <td>1</td>\n",
       "      <td>Cairns, Mr. Alexander</td>\n",
       "      <td>male</td>\n",
       "      <td>NaN</td>\n",
       "      <td>0</td>\n",
       "      <td>0</td>\n",
       "      <td>113798</td>\n",
       "      <td>31.0000</td>\n",
       "      <td>NaN</td>\n",
       "      <td>S</td>\n",
       "    </tr>\n",
       "    <tr>\n",
       "      <th>632</th>\n",
       "      <td>633</td>\n",
       "      <td>1</td>\n",
       "      <td>1</td>\n",
       "      <td>Stahelin-Maeglin, Dr. Max</td>\n",
       "      <td>male</td>\n",
       "      <td>32.0</td>\n",
       "      <td>0</td>\n",
       "      <td>0</td>\n",
       "      <td>13214</td>\n",
       "      <td>30.5000</td>\n",
       "      <td>B50</td>\n",
       "      <td>C</td>\n",
       "    </tr>\n",
       "    <tr>\n",
       "      <th>358</th>\n",
       "      <td>359</td>\n",
       "      <td>1</td>\n",
       "      <td>3</td>\n",
       "      <td>McGovern, Miss. Mary</td>\n",
       "      <td>female</td>\n",
       "      <td>NaN</td>\n",
       "      <td>0</td>\n",
       "      <td>0</td>\n",
       "      <td>330931</td>\n",
       "      <td>7.8792</td>\n",
       "      <td>NaN</td>\n",
       "      <td>Q</td>\n",
       "    </tr>\n",
       "    <tr>\n",
       "      <th>37</th>\n",
       "      <td>38</td>\n",
       "      <td>0</td>\n",
       "      <td>3</td>\n",
       "      <td>Cann, Mr. Ernest Charles</td>\n",
       "      <td>male</td>\n",
       "      <td>21.0</td>\n",
       "      <td>0</td>\n",
       "      <td>0</td>\n",
       "      <td>A./5. 2152</td>\n",
       "      <td>8.0500</td>\n",
       "      <td>NaN</td>\n",
       "      <td>S</td>\n",
       "    </tr>\n",
       "    <tr>\n",
       "      <th>25</th>\n",
       "      <td>26</td>\n",
       "      <td>1</td>\n",
       "      <td>3</td>\n",
       "      <td>Asplund, Mrs. Carl Oscar (Selma Augusta Emilia...</td>\n",
       "      <td>female</td>\n",
       "      <td>38.0</td>\n",
       "      <td>1</td>\n",
       "      <td>5</td>\n",
       "      <td>347077</td>\n",
       "      <td>31.3875</td>\n",
       "      <td>NaN</td>\n",
       "      <td>S</td>\n",
       "    </tr>\n",
       "  </tbody>\n",
       "</table>\n",
       "</div>"
      ],
      "text/plain": [
       "     PassengerId  Survived  Pclass  \\\n",
       "270          271         0       1   \n",
       "632          633         1       1   \n",
       "358          359         1       3   \n",
       "37            38         0       3   \n",
       "25            26         1       3   \n",
       "\n",
       "                                                  Name     Sex   Age  SibSp  \\\n",
       "270                              Cairns, Mr. Alexander    male   NaN      0   \n",
       "632                          Stahelin-Maeglin, Dr. Max    male  32.0      0   \n",
       "358                               McGovern, Miss. Mary  female   NaN      0   \n",
       "37                            Cann, Mr. Ernest Charles    male  21.0      0   \n",
       "25   Asplund, Mrs. Carl Oscar (Selma Augusta Emilia...  female  38.0      1   \n",
       "\n",
       "     Parch      Ticket     Fare Cabin Embarked  \n",
       "270      0      113798  31.0000   NaN        S  \n",
       "632      0       13214  30.5000   B50        C  \n",
       "358      0      330931   7.8792   NaN        Q  \n",
       "37       0  A./5. 2152   8.0500   NaN        S  \n",
       "25       5      347077  31.3875   NaN        S  "
      ]
     },
     "execution_count": 3,
     "metadata": {},
     "output_type": "execute_result"
    }
   ],
   "source": [
    "# Dataset sample\n",
    "df_train.sample(5)"
   ]
  },
  {
   "cell_type": "code",
   "execution_count": 4,
   "metadata": {
    "colab": {
     "base_uri": "https://localhost:8080/"
    },
    "id": "8yhd6z0MvCKE",
    "outputId": "c10972a8-983e-495d-bfa2-5bef5c39c6d8"
   },
   "outputs": [
    {
     "name": "stdout",
     "output_type": "stream",
     "text": [
      "<class 'pandas.core.frame.DataFrame'>\n",
      "RangeIndex: 891 entries, 0 to 890\n",
      "Data columns (total 12 columns):\n",
      " #   Column       Non-Null Count  Dtype  \n",
      "---  ------       --------------  -----  \n",
      " 0   PassengerId  891 non-null    int64  \n",
      " 1   Survived     891 non-null    int64  \n",
      " 2   Pclass       891 non-null    int64  \n",
      " 3   Name         891 non-null    object \n",
      " 4   Sex          891 non-null    object \n",
      " 5   Age          714 non-null    float64\n",
      " 6   SibSp        891 non-null    int64  \n",
      " 7   Parch        891 non-null    int64  \n",
      " 8   Ticket       891 non-null    object \n",
      " 9   Fare         891 non-null    float64\n",
      " 10  Cabin        204 non-null    object \n",
      " 11  Embarked     889 non-null    object \n",
      "dtypes: float64(2), int64(5), object(5)\n",
      "memory usage: 83.7+ KB\n"
     ]
    }
   ],
   "source": [
    "# non-nulls values and data type\n",
    "df_train.info()"
   ]
  },
  {
   "cell_type": "code",
   "execution_count": 5,
   "metadata": {
    "colab": {
     "base_uri": "https://localhost:8080/"
    },
    "id": "RY3Vd3awCCFL",
    "outputId": "cb02ebdf-dbd2-4d5b-e994-e7c414a715c8"
   },
   "outputs": [
    {
     "data": {
      "text/plain": [
       "(891, 12)"
      ]
     },
     "execution_count": 5,
     "metadata": {},
     "output_type": "execute_result"
    }
   ],
   "source": [
    "# Train dataset dimension\n",
    "df_train.shape"
   ]
  },
  {
   "cell_type": "markdown",
   "metadata": {
    "id": "PQjdKYFXEqzf"
   },
   "source": [
    "The dataset contains 12 columns consisting of both numerical and categorical data, with a total of 891 entries. However, some columns contain null values which need to be accounted for in the analysis."
   ]
  },
  {
   "cell_type": "code",
   "execution_count": 6,
   "metadata": {
    "colab": {
     "base_uri": "https://localhost:8080/"
    },
    "id": "EI2kEsbsCCFL",
    "outputId": "312e156b-a58b-403b-824f-454b2c2c7834"
   },
   "outputs": [
    {
     "data": {
      "text/plain": [
       "Cabin          687\n",
       "Age            177\n",
       "Embarked         2\n",
       "PassengerId      0\n",
       "Survived         0\n",
       "Pclass           0\n",
       "Name             0\n",
       "Sex              0\n",
       "SibSp            0\n",
       "Parch            0\n",
       "Ticket           0\n",
       "Fare             0\n",
       "dtype: int64"
      ]
     },
     "execution_count": 6,
     "metadata": {},
     "output_type": "execute_result"
    }
   ],
   "source": [
    "# Missing values\n",
    "df_train.isna().sum().sort_values(ascending=False)"
   ]
  },
  {
   "cell_type": "markdown",
   "metadata": {
    "id": "_dx9I5K4FKSM"
   },
   "source": [
    "The following columns in the dataset contain missing values:\n",
    "\n",
    "\"Cabin\": 687 missing values <br>\n",
    "\"Age\": 177 missing values<br>\n",
    "\"Embarked\": 2 missing values"
   ]
  },
  {
   "cell_type": "code",
   "execution_count": 7,
   "metadata": {
    "colab": {
     "base_uri": "https://localhost:8080/",
     "height": 441
    },
    "id": "WKEjKP9dCCFL",
    "outputId": "939a96a9-6d71-4866-c4b9-d6ee279d8cde"
   },
   "outputs": [
    {
     "data": {
      "image/png": "[encoded data removed]",
      "text/plain": [
       "<Figure size 648x432 with 1 Axes>"
      ]
     },
     "metadata": {
      "needs_background": "light"
     },
     "output_type": "display_data"
    }
   ],
   "source": [
    "# Missing values visualization\n",
    "plt.figure(figsize=(9,6))\n",
    "plt.title('MISSING VALUES', fontweight='bold')\n",
    "sns.heatmap(df_train.isnull(), yticklabels=False, cbar=False, cmap='magma')\n",
    "plt.show()"
   ]
  },
  {
   "cell_type": "markdown",
   "metadata": {
    "id": "1riZCAb9rML6"
   },
   "source": [
    "## Feature Engeneering"
   ]
  },
  {
   "cell_type": "markdown",
   "metadata": {
    "id": "FKY91gpbrSPT"
   },
   "source": [
    "### Social Title"
   ]
  },
  {
   "cell_type": "markdown",
   "metadata": {
    "id": "ZszKhfi8lL3E"
   },
   "source": [
    "During the analysis, I discovered an interesting pattern in the 'Name' variable, which contained the social title of each passenger. The titles included various honorifics such as Mr., Mrs., Miss, Master, Dr., and others. This information provides insights into the social status and gender of the passengers, which may have influenced their chances of survival."
   ]
  },
  {
   "cell_type": "code",
   "execution_count": 8,
   "metadata": {
    "id": "jd9CnddHyuOo"
   },
   "outputs": [],
   "source": [
    "# Importing regular expression library\n",
    "import re\n",
    "\n",
    "def extract_title(text):\n",
    "    \"\"\"\n",
    "    Extract the social title from name.\n",
    "    E.g Mr, Mrs, Miss\n",
    "    \"\"\"\n",
    "    pattern = r\",\\s(.+?)\\s\"\n",
    "    match = re.search(pattern, text)\n",
    "    if match:\n",
    "        return match.group(1)\n",
    "    else:\n",
    "        return \"\""
   ]
  },
  {
   "cell_type": "code",
   "execution_count": 9,
   "metadata": {
    "colab": {
     "base_uri": "https://localhost:8080/"
    },
    "id": "s0LqEHm_y1jN",
    "outputId": "a380ca47-fe6b-4107-9911-603ab4258958"
   },
   "outputs": [
    {
     "data": {
      "text/plain": [
       "Mr.          517\n",
       "Miss.        182\n",
       "Mrs.         125\n",
       "Master.       40\n",
       "Dr.            7\n",
       "Rev.           6\n",
       "Col.           2\n",
       "Major.         2\n",
       "Mlle.          2\n",
       "the            1\n",
       "Ms.            1\n",
       "Sir.           1\n",
       "Capt.          1\n",
       "Don.           1\n",
       "Mme.           1\n",
       "Jonkheer.      1\n",
       "Lady.          1\n",
       "Name: social_title, dtype: int64"
      ]
     },
     "execution_count": 9,
     "metadata": {},
     "output_type": "execute_result"
    }
   ],
   "source": [
    "# Extracting social title from the name\n",
    "df_train['social_title'] = df_train['Name'].apply(extract_title)\n",
    "df_train.social_title.value_counts()"
   ]
  },
  {
   "cell_type": "code",
   "execution_count": 10,
   "metadata": {
    "colab": {
     "base_uri": "https://localhost:8080/"
    },
    "id": "fGhlA8reM-WS",
    "outputId": "06e99188-54fd-4455-f28b-75594717519d"
   },
   "outputs": [
    {
     "data": {
      "text/plain": [
       "681"
      ]
     },
     "execution_count": 10,
     "metadata": {},
     "output_type": "execute_result"
    }
   ],
   "source": [
    "# Number of unique tickets\n",
    "df_train.Ticket.nunique()"
   ]
  },
  {
   "cell_type": "code",
   "execution_count": 11,
   "metadata": {
    "colab": {
     "base_uri": "https://localhost:8080/"
    },
    "id": "8Lq7symNNcv6",
    "outputId": "c968e8bd-d702-4882-eb53-5e148b8e6358"
   },
   "outputs": [
    {
     "data": {
      "text/plain": [
       "Ticket\n",
       "1601            7\n",
       "CA. 2343        7\n",
       "347082          7\n",
       "CA 2144         6\n",
       "347088          6\n",
       "3101295         6\n",
       "S.O.C. 14879    5\n",
       "382652          5\n",
       "PC 17757        4\n",
       "4133            4\n",
       "2666            4\n",
       "19950           4\n",
       "113781          4\n",
       "349909          4\n",
       "LINE            4\n",
       "113760          4\n",
       "347077          4\n",
       "W./C. 6608      4\n",
       "17421           4\n",
       "345773          3\n",
       "Name: Survived, dtype: int64"
      ]
     },
     "execution_count": 11,
     "metadata": {},
     "output_type": "execute_result"
    }
   ],
   "source": [
    "# Number of passengers per ticket\n",
    "df_train.Survived.groupby(df_train.Ticket).count().sort_values(ascending=False).head(20)"
   ]
  },
  {
   "cell_type": "markdown",
   "metadata": {
    "id": "9y117ydeCCFM"
   },
   "source": [
    "## <b> Numerical Features"
   ]
  },
  {
   "cell_type": "code",
   "execution_count": 12,
   "metadata": {
    "colab": {
     "base_uri": "https://localhost:8080/",
     "height": 370
    },
    "id": "7XmzUl2CHJsQ",
    "outputId": "9459aad2-32b9-4808-d43f-b5efbd9bddb5"
   },
   "outputs": [
    {
     "data": {
      "image/png": "[encoded data removed]",
      "text/plain": [
       "<Figure size 864x360 with 2 Axes>"
      ]
     },
     "metadata": {
      "needs_background": "light"
     },
     "output_type": "display_data"
    }
   ],
   "source": [
    "# Create a figure with two subplots\n",
    "fig, axs = plt.subplots(1, 2, figsize=(12, 5))\n",
    "\n",
    "# Create the first scatter plot\n",
    "sns.histplot(df_train.Age.dropna(), kde=True, ax=axs[0])\n",
    "axs[0].set_title('Age Distribution')\n",
    "\n",
    "# Create the second scatter plot\n",
    "sns.histplot(df_train.Fare, kde=True, ax=axs[1])\n",
    "axs[1].set_title('Fare Distribution')\n",
    "\n",
    "# Add overall title for the figure\n",
    "fig.suptitle('Numerical Features Distributions')\n",
    "\n",
    "# Display the plots\n",
    "plt.show()\n"
   ]
  },
  {
   "cell_type": "code",
   "execution_count": 13,
   "metadata": {
    "colab": {
     "base_uri": "https://localhost:8080/",
     "height": 112
    },
    "id": "sDHIjvkMXYjt",
    "outputId": "8ab42509-2aac-461c-8a13-cf9680617488"
   },
   "outputs": [
    {
     "data": {
      "text/html": [
       "<div>\n",
       "<style scoped>\n",
       "    .dataframe tbody tr th:only-of-type {\n",
       "        vertical-align: middle;\n",
       "    }\n",
       "\n",
       "    .dataframe tbody tr th {\n",
       "        vertical-align: top;\n",
       "    }\n",
       "\n",
       "    .dataframe thead th {\n",
       "        text-align: right;\n",
       "    }\n",
       "</style>\n",
       "<table border=\"1\" class=\"dataframe\">\n",
       "  <thead>\n",
       "    <tr style=\"text-align: right;\">\n",
       "      <th></th>\n",
       "      <th>count</th>\n",
       "      <th>mean</th>\n",
       "      <th>std</th>\n",
       "      <th>min</th>\n",
       "      <th>25%</th>\n",
       "      <th>50%</th>\n",
       "      <th>75%</th>\n",
       "      <th>max</th>\n",
       "    </tr>\n",
       "  </thead>\n",
       "  <tbody>\n",
       "    <tr>\n",
       "      <th>Age</th>\n",
       "      <td>714.0</td>\n",
       "      <td>29.699118</td>\n",
       "      <td>14.526497</td>\n",
       "      <td>0.42</td>\n",
       "      <td>20.1250</td>\n",
       "      <td>28.0000</td>\n",
       "      <td>38.0</td>\n",
       "      <td>80.0000</td>\n",
       "    </tr>\n",
       "    <tr>\n",
       "      <th>Fare</th>\n",
       "      <td>891.0</td>\n",
       "      <td>32.204208</td>\n",
       "      <td>49.693429</td>\n",
       "      <td>0.00</td>\n",
       "      <td>7.9104</td>\n",
       "      <td>14.4542</td>\n",
       "      <td>31.0</td>\n",
       "      <td>512.3292</td>\n",
       "    </tr>\n",
       "  </tbody>\n",
       "</table>\n",
       "</div>"
      ],
      "text/plain": [
       "      count       mean        std   min      25%      50%   75%       max\n",
       "Age   714.0  29.699118  14.526497  0.42  20.1250  28.0000  38.0   80.0000\n",
       "Fare  891.0  32.204208  49.693429  0.00   7.9104  14.4542  31.0  512.3292"
      ]
     },
     "execution_count": 13,
     "metadata": {},
     "output_type": "execute_result"
    }
   ],
   "source": [
    "df_train[['Age','Fare']].describe().T"
   ]
  },
  {
   "cell_type": "markdown",
   "metadata": {
    "id": "KmZEHDCCUaUY"
   },
   "source": [
    "I am going to perform a <b>t-test</b> over the \"age\" and \"fare\" variables to investigate whether there are any significant differences between passengers that survived and those who did not. <b>t-test</b> will allow me to compare the means of these variables across the two groups, and determine whether any observed differences are statistically significant. By testing for differences between these variables, I can gain insight into whether age and fare played a role in the likelihood of surviving the Titanic disaster."
   ]
  },
  {
   "cell_type": "markdown",
   "metadata": {
    "id": "p3RDZkQxVtPx"
   },
   "source": [
    "To achieve the normality assumptions required to perform a <b>t-test</b>, I am going to check for normality using the Shapiro-Wilk test in my \"age\" and \"fare\" variables before performing a <b>t-test</b>. The Shapiro-Wilk test is a commonly used normality test that can determine whether a sample of data is drawn from a normal distribution. By testing for normality, I can determine whether the data is suitable for a <b>t-test</b>, and whether any transformations or adjustments need to be made to the data before proceeding with the test."
   ]
  },
  {
   "cell_type": "code",
   "execution_count": 14,
   "metadata": {
    "id": "sBlight7LCbx"
   },
   "outputs": [],
   "source": [
    "# Normality test - Shapiro-Wilk Test \n",
    "def normality_results(data):\n",
    "  \"\"\"\n",
    "  Apply Shapiro-Wilk test\n",
    "  \"\"\"\n",
    "  stat, p = stats.shapiro(data)\n",
    "\n",
    "  # print test statistics and p-value\n",
    "  print(f\"Shapiro-Wilk test statistic: {stat:.4f}\")\n",
    "  print(f\"p-value: {p:.4f}\")\n",
    "  if p > 0.05:\n",
    "    print(\"Data is normally distributed\")\n",
    "  else:\n",
    "    print(\"Data is not normally distributed\")"
   ]
  },
  {
   "cell_type": "code",
   "execution_count": 15,
   "metadata": {
    "colab": {
     "base_uri": "https://localhost:8080/"
    },
    "id": "N2gepBn7L5nK",
    "outputId": "7b9b4020-68c6-423b-fd75-341278b383f3"
   },
   "outputs": [
    {
     "name": "stdout",
     "output_type": "stream",
     "text": [
      "Shapiro-Wilk test statistic: 0.9815\n",
      "p-value: 0.0000\n",
      "Data is not normally distributed\n",
      "\n",
      "Shapiro-Wilk test statistic: 0.5219\n",
      "p-value: 0.0000\n",
      "Data is not normally distributed\n"
     ]
    }
   ],
   "source": [
    "# Checking for normality - Age variable\n",
    "normality_results(df_train.Age.dropna())\n",
    "\n",
    "print('')\n",
    "# Checking for normality - Age variable\n",
    "normality_results(df_train.Fare.dropna())"
   ]
  },
  {
   "cell_type": "markdown",
   "metadata": {
    "id": "Rnzl9rRdaRuo"
   },
   "source": [
    "Based on the results of the Shapiro-Wilk test, the \"age\" and \"Fare\" variables are not normally distributed. Therefore, to investigate differences between passengers that survived and those who did not, it is not appropriate to perform an <b>t-test</b>, which assumes normality.\n",
    "\n",
    "Due to the non-normal distribution of the age and fare variables, the Mann-Whitney U test will be performed to analyze the relationship between these variables."
   ]
  },
  {
   "cell_type": "code",
   "execution_count": 16,
   "metadata": {
    "id": "w0PPKq1zOga_"
   },
   "outputs": [],
   "source": [
    "# Survivors and non survivors groups - Age\n",
    "age_survived = df_train[df_train['Survived'] == 1]['Age'].dropna() # Age of survivors\n",
    "age_no_survived = df_train[df_train['Survived'] == 0]['Age'].dropna() # Age of non-survivors"
   ]
  },
  {
   "cell_type": "code",
   "execution_count": 17,
   "metadata": {
    "id": "VGmx5nbfi0Xh"
   },
   "outputs": [],
   "source": [
    "from scipy.stats import mannwhitneyu\n",
    "\n",
    "# Mann-Whitney U test\n",
    "def mann_whitney_test(group1, group2):\n",
    "    \"\"\" Perform the Mann-Whitney U test \"\"\"\n",
    "    stat, p = mannwhitneyu(group1, group2)\n",
    "    \n",
    "    # Print the test results\n",
    "    print(\"Mann-Whitney U test:\")\n",
    "    print(\"Test statistic:\", stat)\n",
    "    print(\"p-value:\", p)\n",
    "    \n",
    "    # Interpret the results\n",
    "    alpha = 0.05\n",
    "    if p < alpha:\n",
    "        print(\"There is a significant difference between the two groups.\")\n",
    "    else:\n",
    "        print(\"There is no significant difference between the two groups.\")\n",
    "    \n",
    "    return stat, p\n"
   ]
  },
  {
   "cell_type": "markdown",
   "metadata": {
    "id": "LnetGNyIlNIH"
   },
   "source": [
    "### Age"
   ]
  },
  {
   "cell_type": "code",
   "execution_count": 18,
   "metadata": {
    "colab": {
     "base_uri": "https://localhost:8080/",
     "height": 295
    },
    "id": "KYNOKQpxJeJZ",
    "outputId": "7c2c9bc8-3789-48e8-f8fd-9f49a2132aff"
   },
   "outputs": [
    {
     "data": {
      "image/png": "[encoded data removed]",
      "text/plain": [
       "<Figure size 432x288 with 1 Axes>"
      ]
     },
     "metadata": {
      "needs_background": "light"
     },
     "output_type": "display_data"
    }
   ],
   "source": [
    "plt.figure()\n",
    "sns.boxplot(x=df_train.Age, y=df_train.Survived, orient='h')\n",
    "plt.title('Age distribution of survivors and non-survivors')\n",
    "plt.show()"
   ]
  },
  {
   "cell_type": "code",
   "execution_count": 19,
   "metadata": {
    "colab": {
     "base_uri": "https://localhost:8080/"
    },
    "id": "bAZBH2SxjBiX",
    "outputId": "1d4d3ea4-0b8a-4c65-bf01-4136f26c979b"
   },
   "outputs": [
    {
     "name": "stdout",
     "output_type": "stream",
     "text": [
      "Mann-Whitney U test:\n",
      "Test statistic: 57682.0\n",
      "p-value: 0.08024626238868882\n",
      "There is no significant difference between the two groups.\n"
     ]
    },
    {
     "data": {
      "text/plain": [
       "(57682.0, 0.08024626238868882)"
      ]
     },
     "execution_count": 19,
     "metadata": {},
     "output_type": "execute_result"
    }
   ],
   "source": [
    "# Mann-Whitney U test - Age\n",
    "mann_whitney_test(age_survived, age_no_survived)"
   ]
  },
  {
   "cell_type": "markdown",
   "metadata": {
    "id": "zvryfvLgkij8"
   },
   "source": [
    "Based on the results of the Mann-Whitney U test performed on the age variable of passengers who survived and those who did not, we can see that the test statistic is 57682.0 and the p-value is 0.16049252477737763.\n",
    "\n",
    "The p-value is greater than the typical significance level of 0.05, indicating that there is no statistically significant difference in age between the passengers who survived and those who did not.\n",
    "\n",
    "Therefore, we fail to reject the null hypothesis that the two groups come from the same distribution. In other words, we can conclude that age does not appear to be a significant factor in determining the likelihood of survival on the Titanic."
   ]
  },
  {
   "cell_type": "markdown",
   "metadata": {
    "id": "-NNxbW3-lRRx"
   },
   "source": [
    "### Fare"
   ]
  },
  {
   "cell_type": "code",
   "execution_count": 20,
   "metadata": {},
   "outputs": [
    {
     "data": {
      "text/plain": [
       "count    891.000000\n",
       "mean      32.204208\n",
       "std       49.693429\n",
       "min        0.000000\n",
       "25%        7.910400\n",
       "50%       14.454200\n",
       "75%       31.000000\n",
       "max      512.329200\n",
       "Name: Fare, dtype: float64"
      ]
     },
     "execution_count": 20,
     "metadata": {},
     "output_type": "execute_result"
    }
   ],
   "source": [
    "df_train.Fare.describe()"
   ]
  },
  {
   "cell_type": "code",
   "execution_count": 51,
   "metadata": {},
   "outputs": [
    {
     "data": {
      "image/png": "[encoded data removed]",
      "text/plain": [
       "<Figure size 432x288 with 1 Axes>"
      ]
     },
     "metadata": {
      "needs_background": "light"
     },
     "output_type": "display_data"
    }
   ],
   "source": [
    "sns.histplot(df_train.Fare)\n",
    "plt.title('Fare Distribution')\n",
    "plt.show()"
   ]
  },
  {
   "cell_type": "code",
   "execution_count": 48,
   "metadata": {
    "colab": {
     "base_uri": "https://localhost:8080/",
     "height": 295
    },
    "id": "h57YnJSyRm4U",
    "outputId": "2fbc048b-99bd-45f5-8dff-cfebc5dd4887"
   },
   "outputs": [
    {
     "data": {
      "image/png": "[encoded data removed]",
      "text/plain": [
       "<Figure size 432x288 with 1 Axes>"
      ]
     },
     "metadata": {
      "needs_background": "light"
     },
     "output_type": "display_data"
    }
   ],
   "source": [
    "plt.figure()\n",
    "sns.boxplot(y=df_train.Survived, x=df_train.Fare, orient='h')\n",
    "plt.title('Age distribution of survivors and non-survivors')\n",
    "plt.show()"
   ]
  },
  {
   "cell_type": "code",
   "execution_count": 56,
   "metadata": {},
   "outputs": [
    {
     "data": {
      "image/png": "[encoded data removed]",
      "text/plain": [
       "<Figure size 432x288 with 1 Axes>"
      ]
     },
     "metadata": {
      "needs_background": "light"
     },
     "output_type": "display_data"
    }
   ],
   "source": [
    "df_train['log_fare'] = np.log1p(df_train.Fare)\n",
    "\n",
    "sns.histplot(df_train.log_fare)\n",
    "plt.title('Log Fare')\n",
    "plt.show()"
   ]
  },
  {
   "cell_type": "code",
   "execution_count": 57,
   "metadata": {},
   "outputs": [],
   "source": [
    "# Survivors and non survivors groups - Fare\n",
    "fare_survived = df_train[df_train['Survived'] == 1]['log_fare'] # Fare paid for survivors\n",
    "fare_no_survived = df_train[df_train['Survived'] == 0]['log_fare'] # Fare paid for non-survivors"
   ]
  },
  {
   "cell_type": "code",
   "execution_count": 58,
   "metadata": {
    "colab": {
     "base_uri": "https://localhost:8080/"
    },
    "id": "eKNR29P9kmGL",
    "outputId": "4a46b75b-90ea-412d-dc41-9f22b8f60b9b"
   },
   "outputs": [
    {
     "name": "stdout",
     "output_type": "stream",
     "text": [
      "Mann-Whitney U test:\n",
      "Test statistic: 57806.5\n",
      "p-value: 2.2767385896251186e-22\n",
      "There is a significant difference between the two groups.\n"
     ]
    },
    {
     "data": {
      "text/plain": [
       "(57806.5, 2.2767385896251186e-22)"
      ]
     },
     "execution_count": 58,
     "metadata": {},
     "output_type": "execute_result"
    }
   ],
   "source": [
    "# Mann-Whitney U test - Fare\n",
    "mann_whitney_test(fare_survived, fare_no_survived)"
   ]
  },
  {
   "cell_type": "markdown",
   "metadata": {
    "id": "4TQZo-zSlA51"
   },
   "source": [
    "Based on the results of the Mann-Whitney U test performed on the fare variable of passengers who survived and those who did not, we can see that the test statistic is 57806.5 and the p-value is 2.2767385896251186e-22.\n",
    "\n",
    "The p-value is less than the typical significance level of 0.05, indicating that there is a statistically significant difference in fare between the passengers who survived and those who did not.\n",
    "\n",
    "Therefore, we reject the null hypothesis that the two groups come from the same distribution. In other words, we can conclude that fare appears to be a significant factor in determining the likelihood of survival on the Titanic."
   ]
  },
  {
   "cell_type": "markdown",
   "metadata": {
    "id": "0hyyqyJ2Hffv"
   },
   "source": [
    "## <b>Categorical Features"
   ]
  },
  {
   "cell_type": "markdown",
   "metadata": {
    "id": "QauyYYganuAN"
   },
   "source": [
    "I am going to perform a chi-square test to determine if the categorical variables are correlated to the target variable. The chi-square test is a statistical measure used to determine the association between two categorical variables and to determine if they are independent or not. By performing this test, we can see if there is a significant correlation between the categorical variable and the target variable, which can provide insight into the relationship between these variables."
   ]
  },
  {
   "cell_type": "code",
   "execution_count": 23,
   "metadata": {
    "id": "_VHx0CuFmlP5"
   },
   "outputs": [],
   "source": [
    "from scipy.stats import chi2_contingency\n",
    "\n",
    "def chi2_test(predictor, target):\n",
    "  # Create a contingency table from the two categorical features\n",
    "  contingency_table = pd.crosstab(predictor, target)\n",
    "\n",
    "  # Perform the chi-square test of independence\n",
    "  stat, p, dof, expected = chi2_contingency(contingency_table)\n",
    "\n",
    "  # Print the test results\n",
    "  print(\"Chi-square test results:\")\n",
    "  print(\"Test statistic:\", stat)\n",
    "  print(\"p-value:\", p)\n",
    "  print(\"Degrees of freedom:\", dof)\n",
    "  print(\"Expected frequencies:\\n\", expected)"
   ]
  },
  {
   "cell_type": "markdown",
   "metadata": {
    "id": "gV_OQnTWoCC_"
   },
   "source": [
    "### Pclass"
   ]
  },
  {
   "cell_type": "code",
   "execution_count": 24,
   "metadata": {
    "colab": {
     "base_uri": "https://localhost:8080/",
     "height": 295
    },
    "id": "MoOSAGKJoJsV",
    "outputId": "3e67e8fc-5962-4d15-f80b-dc296fc606a7"
   },
   "outputs": [
    {
     "data": {
      "image/png": "[encoded data removed]",
      "text/plain": [
       "<Figure size 432x288 with 1 Axes>"
      ]
     },
     "metadata": {
      "needs_background": "light"
     },
     "output_type": "display_data"
    }
   ],
   "source": [
    "plt.figure()\n",
    "sns.countplot( x=df_train.Pclass,  hue=df_train.Survived)\n",
    "plt.title('Pclass vs Survived')\n",
    "plt.show()"
   ]
  },
  {
   "cell_type": "code",
   "execution_count": 25,
   "metadata": {
    "colab": {
     "base_uri": "https://localhost:8080/"
    },
    "id": "x27NwQXMtcyF",
    "outputId": "9ab5c30e-0b88-4b95-9270-afd520edc453"
   },
   "outputs": [
    {
     "name": "stdout",
     "output_type": "stream",
     "text": [
      "Chi-square test results:\n",
      "Test statistic: 102.88898875696056\n",
      "p-value: 4.549251711298793e-23\n",
      "Degrees of freedom: 2\n",
      "Expected frequencies:\n",
      " [[133.09090909  82.90909091]\n",
      " [113.37373737  70.62626263]\n",
      " [302.53535354 188.46464646]]\n"
     ]
    }
   ],
   "source": [
    "# Chi2 test - Pclass vs Survived\n",
    "chi2_test(df_train.Pclass, df_train.Survived)"
   ]
  },
  {
   "cell_type": "markdown",
   "metadata": {
    "id": "1Q85SvKEualL"
   },
   "source": [
    "The Chi-square test was performed to determine if there is a significant correlation between the passenger class predictor and the survived target variable.\n",
    "\n",
    "The test results show that the test statistic is 102.88898875696056, with a p-value of 4.549251711298793e-23 and 2 degrees of freedom. This indicates that there is a significant correlation between the passenger class and survival, as the p-value is much smaller than the typical significance level of 0.05.\n",
    "\n",
    "In summary, the Chi-square test results suggest that there is a significant correlation between passenger class and survival on the Titanic. Specifically, the results suggest that passengers in higher classes (i.e., class 1) had a higher chance of survival, while those in lower classes (i.e., class 3) had a lower chance of survival."
   ]
  },
  {
   "cell_type": "markdown",
   "metadata": {
    "id": "7gpZCP3CwTHV"
   },
   "source": [
    "### Sex"
   ]
  },
  {
   "cell_type": "code",
   "execution_count": 26,
   "metadata": {
    "colab": {
     "base_uri": "https://localhost:8080/",
     "height": 295
    },
    "id": "Cfm0XaBQwSvl",
    "outputId": "0cd467ec-e0c0-4726-c8ce-a1f15a2fab3c"
   },
   "outputs": [
    {
     "data": {
      "image/png": "[encoded data removed]",
      "text/plain": [
       "<Figure size 432x288 with 1 Axes>"
      ]
     },
     "metadata": {
      "needs_background": "light"
     },
     "output_type": "display_data"
    }
   ],
   "source": [
    "plt.figure()\n",
    "sns.countplot( x=df_train.Sex,  hue=df_train.Survived)\n",
    "plt.title('Sex vs Survived')\n",
    "plt.legend(['Non-Survivors', 'Survivors'])\n",
    "plt.show()"
   ]
  },
  {
   "cell_type": "code",
   "execution_count": 27,
   "metadata": {
    "colab": {
     "base_uri": "https://localhost:8080/"
    },
    "id": "zZYwrKCywgPg",
    "outputId": "2c7078d7-155e-4b12-ba39-7062ea8d3ccf"
   },
   "outputs": [
    {
     "name": "stdout",
     "output_type": "stream",
     "text": [
      "Chi-square test results:\n",
      "Test statistic: 260.71702016732104\n",
      "p-value: 1.1973570627755645e-58\n",
      "Degrees of freedom: 1\n",
      "Expected frequencies:\n",
      " [[193.47474747 120.52525253]\n",
      " [355.52525253 221.47474747]]\n"
     ]
    }
   ],
   "source": [
    "# Chi2 test - Sex vs Survived\n",
    "chi2_test(df_train.Sex, df_train.Survived)"
   ]
  },
  {
   "cell_type": "markdown",
   "metadata": {
    "id": "oUtTTeWV5Df_"
   },
   "source": [
    "The Chi-square test was performed to determine if there is a significant correlation between the sex variable and the survived variable.\n",
    "\n",
    "The interpretation of these results is that there is a significant correlation between sex and survival on the Titanic. Specifically, the results suggest that female passengers had a higher chance of survival than male passengers. This finding is consistent with the well-known fact that the \"women and children first\" policy was followed during the Titanic disaster."
   ]
  },
  {
   "cell_type": "markdown",
   "metadata": {
    "id": "bHEieTUCOdyl"
   },
   "source": [
    "### Embarked"
   ]
  },
  {
   "cell_type": "markdown",
   "metadata": {
    "id": "9ddQq4BzO69-"
   },
   "source": [
    "Port of embarkation"
   ]
  },
  {
   "cell_type": "code",
   "execution_count": 28,
   "metadata": {
    "colab": {
     "base_uri": "https://localhost:8080/",
     "height": 295
    },
    "id": "5PHA1zRgOii6",
    "outputId": "5da8a25f-cc91-4ccc-e9f3-ad106c4052ec"
   },
   "outputs": [
    {
     "data": {
      "image/png": "[encoded data removed]",
      "text/plain": [
       "<Figure size 432x288 with 1 Axes>"
      ]
     },
     "metadata": {
      "needs_background": "light"
     },
     "output_type": "display_data"
    }
   ],
   "source": [
    "plt.figure()\n",
    "sns.countplot(x=df_train.Embarked,  hue=df_train.Survived)\n",
    "plt.title('Embarked vs Survived')\n",
    "plt.legend(['Non-Survivors', 'Survivors'])\n",
    "plt.show()"
   ]
  },
  {
   "cell_type": "code",
   "execution_count": 29,
   "metadata": {
    "colab": {
     "base_uri": "https://localhost:8080/"
    },
    "id": "o5AUfgilOx55",
    "outputId": "1f087e7e-f231-4b4f-a9c0-06b731b4020b"
   },
   "outputs": [
    {
     "name": "stdout",
     "output_type": "stream",
     "text": [
      "Chi-square test results:\n",
      "Test statistic: 26.48914983923762\n",
      "p-value: 1.769922284120912e-06\n",
      "Degrees of freedom: 2\n",
      "Expected frequencies:\n",
      " [[103.7480315  64.2519685]\n",
      " [ 47.5511811  29.4488189]\n",
      " [397.7007874 246.2992126]]\n"
     ]
    }
   ],
   "source": [
    "# Chi2 test - Embarked vs Survived\n",
    "chi2_test(df_train.Embarked, df_train.Survived)"
   ]
  },
  {
   "cell_type": "markdown",
   "metadata": {
    "id": "P2O2VA-3qATb"
   },
   "source": [
    "The chi-square test was conducted to investigate the relationship between the variables \"embarked\" (port of embarkation) and \"survived\" (whether or not a passenger survived) in a dataset. The test statistic was found to be 26.49, with a corresponding p-value of 1.77e-06 and degrees of freedom equal to 2.\n",
    "\n",
    "To interpret the results, we can compare the p-value to a significance level (e.g., α = 0.05) to determine whether or not to reject the null hypothesis of independence. In this case, the p-value is much smaller than 0.05, indicating strong evidence against the null hypothesis. Therefore, we can conclude that there is a statistically significant association between the \"embarked\" and \"survived\" variables."
   ]
  },
  {
   "cell_type": "markdown",
   "metadata": {
    "id": "QVUvwXqRqc1H"
   },
   "source": [
    "### SibSp"
   ]
  },
  {
   "cell_type": "markdown",
   "metadata": {
    "id": "i4d1i3fFO2KF"
   },
   "source": [
    "Number of siblings/spouses aboard"
   ]
  },
  {
   "cell_type": "code",
   "execution_count": 30,
   "metadata": {
    "colab": {
     "base_uri": "https://localhost:8080/",
     "height": 295
    },
    "id": "PUQryuXJqiSX",
    "outputId": "276aeac5-cd65-4924-ce2d-fb3605cb4dcc"
   },
   "outputs": [
    {
     "data": {
      "image/png": "[encoded data removed]",
      "text/plain": [
       "<Figure size 432x288 with 1 Axes>"
      ]
     },
     "metadata": {
      "needs_background": "light"
     },
     "output_type": "display_data"
    }
   ],
   "source": [
    "plt.figure()\n",
    "sns.countplot(x=df_train.SibSp,  hue=df_train.Survived)\n",
    "plt.title('SibSp vs Survived')\n",
    "plt.legend(['Non-Survivors', 'Survivors'])\n",
    "plt.show()"
   ]
  },
  {
   "cell_type": "code",
   "execution_count": 31,
   "metadata": {
    "colab": {
     "base_uri": "https://localhost:8080/"
    },
    "id": "PIBsd2apqvAy",
    "outputId": "10b90a1a-0249-4bb5-b2d4-b52ba040920b"
   },
   "outputs": [
    {
     "name": "stdout",
     "output_type": "stream",
     "text": [
      "Chi-square test results:\n",
      "Test statistic: 37.2717929152043\n",
      "p-value: 1.5585810465902147e-06\n",
      "Degrees of freedom: 6\n",
      "Expected frequencies:\n",
      " [[374.62626263 233.37373737]\n",
      " [128.77777778  80.22222222]\n",
      " [ 17.25252525  10.74747475]\n",
      " [  9.85858586   6.14141414]\n",
      " [ 11.09090909   6.90909091]\n",
      " [  3.08080808   1.91919192]\n",
      " [  4.31313131   2.68686869]]\n"
     ]
    }
   ],
   "source": [
    "# Chi2 test - SibSp vs Survived\n",
    "chi2_test(df_train.SibSp, df_train.Survived)"
   ]
  },
  {
   "cell_type": "markdown",
   "metadata": {
    "id": "9EmKNsDGreHd"
   },
   "source": [
    "The chi-square test was conducted to investigate the relationship between the variables \"SibSp\" (number of siblings/spouses aboard) and \"survived\" (whether or not a passenger survived) in a dataset. The test statistic was found to be 37.27, with a corresponding p-value of 1.56e-06 and degrees of freedom equal to 6.\n",
    "\n",
    "To interpret the results, we can compare the p-value to a significance level (e.g., α = 0.05) to determine whether or not to reject the null hypothesis of independence. In this case, the p-value is much smaller than 0.05, indicating strong evidence against the null hypothesis. Therefore, we can conclude that there is a statistically significant association between the \"SibSp\" and \"survived\" variables.\n",
    "\n",
    "The expected frequencies can also be examined to gain insight into the nature of the association. For example, we can see that the expected number of survivors decreases as the number of siblings/spouses aboard increases. This suggests that passengers with more siblings/spouses aboard were less likely to survive than those with fewer siblings/spouses aboard."
   ]
  },
  {
   "cell_type": "markdown",
   "metadata": {
    "id": "mR9K0RIRsXd3"
   },
   "source": [
    "### Parch"
   ]
  },
  {
   "cell_type": "markdown",
   "metadata": {
    "id": "FAZv6GDUOvM7"
   },
   "source": [
    "Number of parents/children aboard"
   ]
  },
  {
   "cell_type": "code",
   "execution_count": 32,
   "metadata": {
    "colab": {
     "base_uri": "https://localhost:8080/",
     "height": 295
    },
    "id": "PUek_qCQsZ5u",
    "outputId": "c1848f1d-cf97-492f-c59f-efe2e6486ad3"
   },
   "outputs": [
    {
     "data": {
      "image/png": "[encoded data removed]",
      "text/plain": [
       "<Figure size 432x288 with 1 Axes>"
      ]
     },
     "metadata": {
      "needs_background": "light"
     },
     "output_type": "display_data"
    }
   ],
   "source": [
    "plt.figure()\n",
    "sns.countplot(x=df_train.Parch,  hue=df_train.Survived)\n",
    "plt.title('Parch vs Survived')\n",
    "plt.legend(['Non-Survivors', 'Survivors'])\n",
    "plt.show()"
   ]
  },
  {
   "cell_type": "code",
   "execution_count": 33,
   "metadata": {
    "colab": {
     "base_uri": "https://localhost:8080/"
    },
    "id": "RzC7FioYskLl",
    "outputId": "3464c2f9-7402-4f10-efc0-c84d294fdd2d"
   },
   "outputs": [
    {
     "name": "stdout",
     "output_type": "stream",
     "text": [
      "Chi-square test results:\n",
      "Test statistic: 27.925784060236168\n",
      "p-value: 9.703526421039997e-05\n",
      "Degrees of freedom: 6\n",
      "Expected frequencies:\n",
      " [[4.17757576e+02 2.60242424e+02]\n",
      " [7.27070707e+01 4.52929293e+01]\n",
      " [4.92929293e+01 3.07070707e+01]\n",
      " [3.08080808e+00 1.91919192e+00]\n",
      " [2.46464646e+00 1.53535354e+00]\n",
      " [3.08080808e+00 1.91919192e+00]\n",
      " [6.16161616e-01 3.83838384e-01]]\n"
     ]
    }
   ],
   "source": [
    "# Chi2 test - Parch vs Survived\n",
    "chi2_test(df_train.Parch, df_train.Survived)"
   ]
  },
  {
   "cell_type": "markdown",
   "metadata": {
    "id": "lfeNbFPgtLA0"
   },
   "source": [
    "To interpret the results, we can compare the p-value to a significance level (e.g., α = 0.05) to determine whether or not to reject the null hypothesis of independence. In this case, the p-value is much smaller than 0.05, indicating strong evidence against the null hypothesis. Therefore, we can conclude that there is a statistically significant association between the \"Parch\" (number of parents/children aboard) and \"survived\" (whether or not a passenger survived) variables.\n",
    "\n",
    "The expected frequencies can also be examined to gain insight into the nature of the association. For example, we can see that the expected number of survivors decreases as the number of parents/children aboard increases. This suggests that passengers with more parents/children aboard were less likely to survive than those with fewer parents/children aboard. However, it is important to note that the expected frequencies are based on the assumption of independence, so deviations from these values do not necessarily indicate a causal relationship between the variables."
   ]
  },
  {
   "cell_type": "code",
   "execution_count": 34,
   "metadata": {
    "colab": {
     "base_uri": "https://localhost:8080/"
    },
    "id": "9i6DlMKcu-jl",
    "outputId": "093b3955-a8b3-4d2b-848a-0547f4aef94b"
   },
   "outputs": [
    {
     "name": "stdout",
     "output_type": "stream",
     "text": [
      "Parch    0   1   2  3  4  5  6\n",
      "SibSp                         \n",
      "0      537  38  29  1  1  2  0\n",
      "1      123  57  19  3  3  3  1\n",
      "2       16   7   4  1  0  0  0\n",
      "3        2   7   7  0  0  0  0\n",
      "4        0   9   9  0  0  0  0\n",
      "5        0   0   5  0  0  0  0\n",
      "8        0   0   7  0  0  0  0\n"
     ]
    }
   ],
   "source": [
    "# Create a contingency table of SibSp and Parch\n",
    "cont_table = pd.crosstab(df_train['SibSp'], df_train['Parch'])\n",
    "\n",
    "# Display the contingency table\n",
    "print(cont_table)"
   ]
  },
  {
   "cell_type": "code",
   "execution_count": 35,
   "metadata": {
    "colab": {
     "base_uri": "https://localhost:8080/"
    },
    "id": "H4hIecbjvUka",
    "outputId": "46326c4d-f748-44ac-f3bf-ad136f00cedf"
   },
   "outputs": [
    {
     "name": "stdout",
     "output_type": "stream",
     "text": [
      "Cramer's V = \n",
      "Parch\n",
      "0    0.118316\n",
      "1    0.283608\n",
      "2    0.344441\n",
      "3    1.377764\n",
      "4    1.540387\n",
      "5    1.377764\n",
      "6    3.080774\n",
      "dtype: float64\n",
      "p-value = 0.000\n"
     ]
    }
   ],
   "source": [
    "# Calculate the chi-square test statistic and p-value\n",
    "chi2, p, dof, expected = chi2_contingency(cont_table)\n",
    "\n",
    "# Calculate Cramer's V\n",
    "n = np.sum(cont_table)\n",
    "phi = np.sqrt(chi2 / (n * (min(cont_table.shape) - 1)))\n",
    "v = phi / np.sqrt(min(cont_table.shape) - 1)\n",
    "\n",
    "# Display the results\n",
    "print(\"Cramer's V = \")\n",
    "print(v)\n",
    "print(\"p-value = {:.3f}\".format(p))"
   ]
  },
  {
   "cell_type": "markdown",
   "metadata": {
    "id": "ilmdzZII0WDK"
   },
   "source": [
    "### Social title"
   ]
  },
  {
   "cell_type": "markdown",
   "metadata": {
    "id": "eZV2OJTL7jkp"
   },
   "source": [
    "\"Social title\" is a term that is sometimes used to refer to the title or form of address used to address a person in a social or professional context."
   ]
  },
  {
   "cell_type": "code",
   "execution_count": 36,
   "metadata": {
    "colab": {
     "base_uri": "https://localhost:8080/",
     "height": 614
    },
    "id": "RArFQup70aJY",
    "outputId": "3d98ad66-0e1e-46b0-a380-70393589a1e5"
   },
   "outputs": [
    {
     "data": {
      "text/html": [
       "<div>\n",
       "<style scoped>\n",
       "    .dataframe tbody tr th:only-of-type {\n",
       "        vertical-align: middle;\n",
       "    }\n",
       "\n",
       "    .dataframe tbody tr th {\n",
       "        vertical-align: top;\n",
       "    }\n",
       "\n",
       "    .dataframe thead th {\n",
       "        text-align: right;\n",
       "    }\n",
       "</style>\n",
       "<table border=\"1\" class=\"dataframe\">\n",
       "  <thead>\n",
       "    <tr style=\"text-align: right;\">\n",
       "      <th>Survived</th>\n",
       "      <th>0</th>\n",
       "      <th>1</th>\n",
       "    </tr>\n",
       "    <tr>\n",
       "      <th>social_title</th>\n",
       "      <th></th>\n",
       "      <th></th>\n",
       "    </tr>\n",
       "  </thead>\n",
       "  <tbody>\n",
       "    <tr>\n",
       "      <th>Capt.</th>\n",
       "      <td>1</td>\n",
       "      <td>0</td>\n",
       "    </tr>\n",
       "    <tr>\n",
       "      <th>Col.</th>\n",
       "      <td>1</td>\n",
       "      <td>1</td>\n",
       "    </tr>\n",
       "    <tr>\n",
       "      <th>Don.</th>\n",
       "      <td>1</td>\n",
       "      <td>0</td>\n",
       "    </tr>\n",
       "    <tr>\n",
       "      <th>Dr.</th>\n",
       "      <td>4</td>\n",
       "      <td>3</td>\n",
       "    </tr>\n",
       "    <tr>\n",
       "      <th>Jonkheer.</th>\n",
       "      <td>1</td>\n",
       "      <td>0</td>\n",
       "    </tr>\n",
       "    <tr>\n",
       "      <th>Lady.</th>\n",
       "      <td>0</td>\n",
       "      <td>1</td>\n",
       "    </tr>\n",
       "    <tr>\n",
       "      <th>Major.</th>\n",
       "      <td>1</td>\n",
       "      <td>1</td>\n",
       "    </tr>\n",
       "    <tr>\n",
       "      <th>Master.</th>\n",
       "      <td>17</td>\n",
       "      <td>23</td>\n",
       "    </tr>\n",
       "    <tr>\n",
       "      <th>Miss.</th>\n",
       "      <td>55</td>\n",
       "      <td>127</td>\n",
       "    </tr>\n",
       "    <tr>\n",
       "      <th>Mlle.</th>\n",
       "      <td>0</td>\n",
       "      <td>2</td>\n",
       "    </tr>\n",
       "    <tr>\n",
       "      <th>Mme.</th>\n",
       "      <td>0</td>\n",
       "      <td>1</td>\n",
       "    </tr>\n",
       "    <tr>\n",
       "      <th>Mr.</th>\n",
       "      <td>436</td>\n",
       "      <td>81</td>\n",
       "    </tr>\n",
       "    <tr>\n",
       "      <th>Mrs.</th>\n",
       "      <td>26</td>\n",
       "      <td>99</td>\n",
       "    </tr>\n",
       "    <tr>\n",
       "      <th>Ms.</th>\n",
       "      <td>0</td>\n",
       "      <td>1</td>\n",
       "    </tr>\n",
       "    <tr>\n",
       "      <th>Rev.</th>\n",
       "      <td>6</td>\n",
       "      <td>0</td>\n",
       "    </tr>\n",
       "    <tr>\n",
       "      <th>Sir.</th>\n",
       "      <td>0</td>\n",
       "      <td>1</td>\n",
       "    </tr>\n",
       "    <tr>\n",
       "      <th>the</th>\n",
       "      <td>0</td>\n",
       "      <td>1</td>\n",
       "    </tr>\n",
       "  </tbody>\n",
       "</table>\n",
       "</div>"
      ],
      "text/plain": [
       "Survived        0    1\n",
       "social_title          \n",
       "Capt.           1    0\n",
       "Col.            1    1\n",
       "Don.            1    0\n",
       "Dr.             4    3\n",
       "Jonkheer.       1    0\n",
       "Lady.           0    1\n",
       "Major.          1    1\n",
       "Master.        17   23\n",
       "Miss.          55  127\n",
       "Mlle.           0    2\n",
       "Mme.            0    1\n",
       "Mr.           436   81\n",
       "Mrs.           26   99\n",
       "Ms.             0    1\n",
       "Rev.            6    0\n",
       "Sir.            0    1\n",
       "the             0    1"
      ]
     },
     "execution_count": 36,
     "metadata": {},
     "output_type": "execute_result"
    }
   ],
   "source": [
    "# Contingency table\n",
    "title_survived_crosstab = pd.crosstab(df_train.social_title, df_train.Survived) \n",
    "title_survived_crosstab"
   ]
  },
  {
   "cell_type": "code",
   "execution_count": 37,
   "metadata": {
    "colab": {
     "base_uri": "https://localhost:8080/",
     "height": 297
    },
    "id": "bHfxwcwArftI",
    "outputId": "3d18862e-4392-4795-9e9d-f42caef676b7"
   },
   "outputs": [
    {
     "data": {
      "text/plain": [
       "[]"
      ]
     },
     "execution_count": 37,
     "metadata": {},
     "output_type": "execute_result"
    },
    {
     "data": {
      "image/png": "[encoded data removed]",
      "text/plain": [
       "<Figure size 432x288 with 1 Axes>"
      ]
     },
     "metadata": {
      "needs_background": "light"
     },
     "output_type": "display_data"
    }
   ],
   "source": [
    "# Filter the data to include only values that appear more than n times\n",
    "filtered_data = df_train.groupby('social_title').filter(lambda x: len(x) >= 40)\n",
    "\n",
    "sns.countplot(x='social_title', hue='Survived', data=filtered_data)\n",
    "plt.legend(['Non-survived', 'Survived'])\n",
    "plt.plot()"
   ]
  },
  {
   "cell_type": "code",
   "execution_count": 38,
   "metadata": {
    "colab": {
     "base_uri": "https://localhost:8080/"
    },
    "id": "CLTrD16P7mkf",
    "outputId": "45cfb6ab-e504-47ff-fa91-8b44cdc6d6fd"
   },
   "outputs": [
    {
     "name": "stdout",
     "output_type": "stream",
     "text": [
      "Chi-square test results:\n",
      "Test statistic: 300.02302134972405\n",
      "p-value: 2.522768232466142e-54\n",
      "Degrees of freedom: 16\n",
      "Expected frequencies:\n",
      " [[  0.61616162   0.38383838]\n",
      " [  1.23232323   0.76767677]\n",
      " [  0.61616162   0.38383838]\n",
      " [  4.31313131   2.68686869]\n",
      " [  0.61616162   0.38383838]\n",
      " [  0.61616162   0.38383838]\n",
      " [  1.23232323   0.76767677]\n",
      " [ 24.64646465  15.35353535]\n",
      " [112.14141414  69.85858586]\n",
      " [  1.23232323   0.76767677]\n",
      " [  0.61616162   0.38383838]\n",
      " [318.55555556 198.44444444]\n",
      " [ 77.02020202  47.97979798]\n",
      " [  0.61616162   0.38383838]\n",
      " [  3.6969697    2.3030303 ]\n",
      " [  0.61616162   0.38383838]\n",
      " [  0.61616162   0.38383838]]\n"
     ]
    }
   ],
   "source": [
    "# Chi2 test - social_title vs Survived\n",
    "chi2_test(df_train.social_title, df_train.Survived)"
   ]
  },
  {
   "cell_type": "markdown",
   "metadata": {
    "id": "bS4JKWzf8xrx"
   },
   "source": [
    "This is a chi-square test result for the association between social title and survival status. The test statistic is 300.023 with 16 degrees of freedom, which indicates a strong association between these two variables. The p-value is 2.522768232466142e-54, which is very small, suggesting that we can reject the null hypothesis that there is no association between social title and survival status."
   ]
  },
  {
   "cell_type": "markdown",
   "metadata": {
    "id": "bmvfWI2qsAok"
   },
   "source": [
    "## Bivariate Analysis"
   ]
  },
  {
   "cell_type": "code",
   "execution_count": 39,
   "metadata": {
    "id": "gUXHxZZXI9-9"
   },
   "outputs": [],
   "source": [
    "from scipy.stats import kruskal\n",
    "\n",
    "def kruskal_wallis_test(*args):\n",
    "    \"\"\"\n",
    "    Performs the Kruskal-Wallis test on multiple samples and prints whether the test is significant or not.\n",
    "\n",
    "    Args:\n",
    "        *args: Multiple arrays, each containing a sample.\n",
    "\n",
    "    Returns:\n",
    "        None.\n",
    "    \"\"\"\n",
    "    stat, p_value = kruskal(*args)\n",
    "    alpha = 0.05  # significance level\n",
    "\n",
    "    if p_value < alpha:\n",
    "        print(f\"The Kruskal-Wallis test is significant with a p-value of {p_value:.4f}.\")\n",
    "    else:\n",
    "        print(f\"The Kruskal-Wallis test is not significant with a p-value of {p_value:.4f}.\")"
   ]
  },
  {
   "cell_type": "markdown",
   "metadata": {
    "id": "neRgI4-VmcqI"
   },
   "source": [
    "### Fare-Pclass"
   ]
  },
  {
   "cell_type": "code",
   "execution_count": 40,
   "metadata": {
    "colab": {
     "base_uri": "https://localhost:8080/"
    },
    "id": "FtRC0WirMPe7",
    "outputId": "72865895-e2c4-4283-d675-3ab92a4e3860"
   },
   "outputs": [
    {
     "name": "stdout",
     "output_type": "stream",
     "text": [
      "The Kruskal-Wallis test is significant with a p-value of 0.0000.\n"
     ]
    }
   ],
   "source": [
    "kruskal_wallis_test(df_train.Fare, df_train.Pclass)"
   ]
  },
  {
   "cell_type": "markdown",
   "metadata": {
    "id": "RQjBGYp1bYJR"
   },
   "source": [
    "Kruskal-Wallis test for fare and pclass is significant, it indicates that there is evidence to reject the null hypothesis that the population medians of fare are equal across all levels of pclass. In other words, at least one level of pclass has a different population median fare than the other levels. This could be interpreted as there being a significant difference in fare between different classes of passengers. However, additional post-hoc tests would be needed to determine which specific levels of pclass have different fare medians."
   ]
  },
  {
   "cell_type": "code",
   "execution_count": 41,
   "metadata": {
    "colab": {
     "base_uri": "https://localhost:8080/",
     "height": 312
    },
    "id": "3iFRfVGSsHtL",
    "outputId": "628e3ef2-af27-4a6d-d333-51d0e44bd51a"
   },
   "outputs": [
    {
     "data": {
      "text/plain": [
       "[]"
      ]
     },
     "execution_count": 41,
     "metadata": {},
     "output_type": "execute_result"
    },
    {
     "data": {
      "image/png": "[encoded data removed]",
      "text/plain": [
       "<Figure size 432x288 with 1 Axes>"
      ]
     },
     "metadata": {
      "needs_background": "light"
     },
     "output_type": "display_data"
    }
   ],
   "source": [
    "sns.boxplot(y='Pclass', x='Fare', hue='Survived', orient='h', data=filtered_data)\n",
    "plt.title('Fare Vs Pclass')\n",
    "plt.yticks(ticks=[0,1,2], labels=['1st Class','2nd Class','3rd Class'])\n",
    "plt.plot()"
   ]
  },
  {
   "cell_type": "markdown",
   "metadata": {
    "id": "xI2TA9-nlBe6"
   },
   "source": [
    "Based on previous knowledge, it is known that the fare and pclass variables are significantly correlated with the target variable, survived. However, upon examining the last plot, it appears that there is a more nuanced relationship between fare, pclass, and survived. Specifically, the plot shows that passengers in first class who paid higher fares had a higher survival rate compared to those who paid lower fares. This suggests that fare may be a stronger predictor of survival within each class, even though pclass overall is a significant predictor of survival. Therefore, it may be appropriate to include both fare and pclass in the analysis to account for this more complex relationship."
   ]
  },
  {
   "cell_type": "markdown",
   "metadata": {
    "id": "33N38O5Vy6ZQ"
   },
   "source": [
    "### Embarked-Pclass"
   ]
  },
  {
   "cell_type": "code",
   "execution_count": 42,
   "metadata": {
    "colab": {
     "base_uri": "https://localhost:8080/",
     "height": 296
    },
    "id": "qfC2NKGszAUy",
    "outputId": "e8fbcdbe-9a81-4b72-e92b-505401b0cf66"
   },
   "outputs": [
    {
     "data": {
      "text/plain": [
       "<AxesSubplot:xlabel='Embarked', ylabel='count'>"
      ]
     },
     "execution_count": 42,
     "metadata": {},
     "output_type": "execute_result"
    },
    {
     "data": {
      "image/png": "[encoded data removed]",
      "text/plain": [
       "<Figure size 432x288 with 1 Axes>"
      ]
     },
     "metadata": {
      "needs_background": "light"
     },
     "output_type": "display_data"
    }
   ],
   "source": [
    "sns.countplot(df_train.Embarked, hue=df_train.Pclass)"
   ]
  },
  {
   "cell_type": "markdown",
   "metadata": {
    "id": "pyZ87riBHT5D"
   },
   "source": [
    "## Conclusion"
   ]
  },
  {
   "cell_type": "markdown",
   "metadata": {
    "id": "1NyanfPq2ZdA"
   },
   "source": [
    "Based on the analysis performed, it can be concluded that the variables fare, pclass, sex, embarked, sibsp, and social title are significant in determining whether passengers survived or not. This implies that these variables are good predictors of the target variable and can be used to develop a machine learning model that predicts the survival of passengers on the Titanic."
   ]
  }
 ],
 "metadata": {
  "accelerator": "GPU",
  "colab": {
   "name": "Copy of Titanic-Copy1.ipynb",
   "provenance": [],
   "toc_visible": true
  },
  "kernelspec": {
   "display_name": "Python 3 (ipykernel)",
   "language": "python",
   "name": "python3"
  },
  "language_info": {
   "codemirror_mode": {
    "name": "ipython",
    "version": 3
   },
   "file_extension": ".py",
   "mimetype": "text/x-python",
   "name": "python",
   "nbconvert_exporter": "python",
   "pygments_lexer": "ipython3",
   "version": "3.8.8"
  }
 },
 "nbformat": 4,
 "nbformat_minor": 1
}
