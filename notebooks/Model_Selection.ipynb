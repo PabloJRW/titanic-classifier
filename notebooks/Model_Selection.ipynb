{
  "nbformat": 4,
  "nbformat_minor": 0,
  "metadata": {
    "colab": {
      "provenance": [],
      "authorship_tag": "ABX9TyNSr02mouOYz139bTKp7gg/",
      "include_colab_link": true
    },
    "kernelspec": {
      "name": "python3",
      "display_name": "Python 3"
    },
    "language_info": {
      "name": "python"
    }
  },
  "cells": [
    {
      "cell_type": "markdown",
      "metadata": {
        "id": "view-in-github",
        "colab_type": "text"
      },
      "source": [
        "<a href=\"https://colab.research.google.com/github/PabloJRW/titanic-classifier/blob/main/notebooks/Model_Selection.ipynb\" target=\"_parent\"><img src=\"https://colab.research.google.com/assets/colab-badge.svg\" alt=\"Open In Colab\"/></a>"
      ]
    },
    {
      "cell_type": "code",
      "source": [
        "from sklearn.svm import SVC\n",
        "from sklearn.linear_model import LogisticRegression\n",
        "from sklearn.ensemble import RandomForestClassifier\n",
        "from sklearn.neighbors import KNeighborsClassifier\n",
        "from sklearn.model_selection import cross_val_predict\n",
        "from sklearn.metrics import precision_score, recall_score, f1_score\n",
        "from sklearn.metrics import confusion_matrix, classification_report\n",
        "from sklearn.metrics import roc_curve, roc_auc_score\n",
        "\n",
        "import matplotlib.pyplot as plt"
      ],
      "metadata": {
        "id": "HKLJwmA0DR4C"
      },
      "execution_count": 3,
      "outputs": []
    },
    {
      "cell_type": "code",
      "source": [],
      "metadata": {
        "id": "cHHDsB84Gw-s"
      },
      "execution_count": null,
      "outputs": []
    },
    {
      "cell_type": "code",
      "execution_count": null,
      "metadata": {
        "id": "30eHH4i_C0C4"
      },
      "outputs": [],
      "source": [
        "# Búsqueda del modelo con mejor puntaje\n",
        "# ===================================================================================\n",
        "\n",
        "models = {'svc': SVC(), \n",
        "          'logistic': LogisticRegression(),\n",
        "          'random_forest': RandomForestClassifier(),\n",
        "          'knn': KNeighborsClassifier()}\n",
        "\n",
        "n_models = len(models)\n",
        "scores=[]\n",
        "for name, model in models.items():\n",
        "    y_train_pred = cross_val_predict(model, X_prepared, y_train, cv=10)\n",
        "    precision = np.mean(precision_score(y_train, y_train_pred)).round(2)\n",
        "    recall = np.mean(recall_score(y_train, y_train_pred)).round(2)\n",
        "    f1 = np.mean(f1_score(y_train, y_train_pred)).round(2)\n",
        "\n",
        "    model_scores = np.array([name, precision, recall, f1])\n",
        "    scores.append(np.array(model_scores))\n",
        "          \n",
        "scores_df = pd.DataFrame(scores, columns=['Model', 'Precision', 'Recall', 'F1']); scores_df.set_index('Model', inplace=True)\n",
        "scores_df.sort_values(by='F1', ascending=False)"
      ]
    },
    {
      "cell_type": "code",
      "source": [
        "# Reporte de puntuaciones del modelo Random Forest\n",
        "# ==============================================================================\n",
        "rforest_clf = RandomForestClassifier(random_state=42)\n",
        "y_pred = cross_val_predict(rforest_clf, X_prepared, y_train)\n",
        "print(confusion_matrix(y_train, y_pred))\n",
        "print(classification_report(y_train, y_pred))"
      ],
      "metadata": {
        "id": "kCEIixJQDAKw"
      },
      "execution_count": null,
      "outputs": []
    },
    {
      "cell_type": "code",
      "source": [
        "y_scores = cross_val_predict(rforest_clf, X_prepared, y_train, cv=5, n_jobs=-1)\n",
        "threshold = 0.5\n",
        "y_with_thres = (y_scores > threshold)\n",
        "fpr, tpr, thresholds = roc_curve(y_train, y_scores)\n",
        "\n",
        "# Defining AUC function\n",
        "def plot_roc_curve(fpr, tpr, label=None):\n",
        "    plt.plot(fpr, tpr, label=label)\n",
        "    plt.plot([0, 1], [0,1], 'k--')\n",
        "    plt.axis([0, 1, 0, 1])\n",
        "    plt.title('ROC Curve')\n",
        "    plt.xlabel('False Positive Rate')\n",
        "    plt.ylabel('True Positive Rate')\n",
        "    \n",
        "plot_roc_curve(fpr, tpr)\n",
        "plt.show()"
      ],
      "metadata": {
        "id": "RPndxubaDByo"
      },
      "execution_count": null,
      "outputs": []
    },
    {
      "cell_type": "code",
      "source": [
        "# Area Under Curve\n",
        "roc_auc_score(y_train, y_pred)"
      ],
      "metadata": {
        "id": "Hhks4S6ODEYm"
      },
      "execution_count": null,
      "outputs": []
    }
  ]
}