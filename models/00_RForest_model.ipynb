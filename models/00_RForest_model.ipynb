{
  "nbformat": 4,
  "nbformat_minor": 0,
  "metadata": {
    "colab": {
      "provenance": [],
      "authorship_tag": "ABX9TyOpFTGxPsNceAAGC+A25hbl",
      "include_colab_link": true
    },
    "kernelspec": {
      "name": "python3",
      "display_name": "Python 3"
    },
    "language_info": {
      "name": "python"
    }
  },
  "cells": [
    {
      "cell_type": "markdown",
      "metadata": {
        "id": "view-in-github",
        "colab_type": "text"
      },
      "source": [
        "<a href=\"https://colab.research.google.com/github/PabloJRW/titanic-classifier/blob/main/models/00_RForest_model.ipynb\" target=\"_parent\"><img src=\"https://colab.research.google.com/assets/colab-badge.svg\" alt=\"Open In Colab\"/></a>"
      ]
    },
    {
      "cell_type": "code",
      "execution_count": null,
      "metadata": {
        "id": "WJL7y2ST_EjE"
      },
      "outputs": [],
      "source": [
        "# Valores para hiperparámetros\n",
        "# ===================================================================\n",
        "# Cantidad de árboles\n",
        "n_estimators = [int(x) for x in np.linspace(start=10, stop=500)]\n",
        "# Cantidad de características a considerar en cada split\n",
        "max_features = ['auto', 'sqrt', None]\n",
        "# Máximo de niveles por árbol\n",
        "max_depth = [int(x) for x in np.linspace(5, 50, num=45)]\n",
        "max_depth.append(None)\n",
        "# Mínimas muestras requeridad para dividir un nodo\n",
        "min_samples_split = [2, 4, 6, 8, 10]\n",
        "# Cantidad de muestras requeridas para cada hoja de nodo\n",
        "min_samples_leaf = [1, 2, 4, 8, 10, 12, 14, 16, 20, 25, 30]\n",
        "# Método de selección de muestras para entrenamiento en cada árbol\n",
        "bootstrap = [True]\n",
        "\n",
        "# Create the random grid\n",
        "random_grid = {'n_estimators': n_estimators,\n",
        "               'max_features': max_features,\n",
        "               'max_depth': max_depth,\n",
        "               'min_samples_split': min_samples_split,\n",
        "               'min_samples_leaf': min_samples_leaf,\n",
        "               'bootstrap': bootstrap}"
      ]
    },
    {
      "cell_type": "code",
      "source": [
        "# Búsqueda aleatoria de hiperparámetros - RandomizedSearchCV\n",
        "# ==============================================================================\n",
        "rforest_classifier = RandomForestClassifier(random_state=23)\n",
        "rf_random = RandomizedSearchCV(estimator=rforest_classifier, param_distributions=random_grid, n_iter=100, scoring='f1',\n",
        "                               cv=3, random_state=123, n_jobs=-1,\n",
        "                               return_train_score=False)\n",
        "\n",
        "rf_random.fit(X_prepared, y_train)"
      ],
      "metadata": {
        "id": "-Oee-_HE_OKT"
      },
      "execution_count": null,
      "outputs": []
    },
    {
      "cell_type": "code",
      "source": [
        "# Mejores hiperparámetros aleatorios\n",
        "# ==============================================================================\n",
        "rf_random.best_params_"
      ],
      "metadata": {
        "id": "1dZ54TXV_T_N"
      },
      "execution_count": null,
      "outputs": []
    },
    {
      "cell_type": "code",
      "source": [
        "# Resultados de predicción del modelo con los mejores hiperparámetros aleatorios.\n",
        "# ==============================================================================\n",
        "rf_random = rf_random.best_estimator_\n",
        "rf_random_pred = cross_val_predict(rf_random, X_prepared, y_train, cv=10, n_jobs=-1)\n",
        "confusion_matrix(y_train, rf_random_pred)"
      ],
      "metadata": {
        "id": "_smcK5Pj_W-C"
      },
      "execution_count": null,
      "outputs": []
    },
    {
      "cell_type": "code",
      "source": [
        "# Reporte de puntuaciones del modelo con los mejores hiperparámetros aleatorios.\n",
        "# ==============================================================================\n",
        "print(classification_report(y_train, rf_random_pred))"
      ],
      "metadata": {
        "id": "IOwxXL59_ZYT"
      },
      "execution_count": null,
      "outputs": []
    },
    {
      "cell_type": "code",
      "source": [
        "param_grid = {\n",
        "    'n_estimators': [200, 210, 220, 230, 240],\n",
        "    'min_samples_split': [7, 8, 9],\n",
        "    'min_samples_leaf': [1, 2, 3],\n",
        "    'max_features': [None],\n",
        "    'max_depth': [40, 45, 55, 60],\n",
        "    'bootstrap': [True]\n",
        "}\n",
        "\n",
        "rforest_classifier2 = RandomForestClassifier(random_state=65)\n",
        "grid_search = GridSearchCV(estimator=rforest_classifier2, param_grid =param_grid,\n",
        "                           cv=3, n_jobs=-1, scoring='f1',\n",
        "                           return_train_score=False)\n",
        "\n",
        "grid_search.fit(X_prepared, y_train)"
      ],
      "metadata": {
        "id": "fh-VKTpG_c6I"
      },
      "execution_count": null,
      "outputs": []
    },
    {
      "cell_type": "code",
      "source": [
        "# Mejores parámetros con GridSearch\n",
        "# ==============================================================================\n",
        "grid_search.best_params_"
      ],
      "metadata": {
        "id": "pK7xCIis_gDD"
      },
      "execution_count": null,
      "outputs": []
    },
    {
      "cell_type": "code",
      "source": [
        "# Resultados de predicción del modelo con los mejores parámetros GridSearchCV\n",
        "# ==============================================================================\n",
        "grid_search_model = grid_search.best_estimator_\n",
        "grid_pred = cross_val_predict(grid_search_model, X_prepared, y_train, cv=10, n_jobs=-1)\n",
        "confusion_matrix(y_train, grid_pred)"
      ],
      "metadata": {
        "id": "4v_LV2VG_iAh"
      },
      "execution_count": null,
      "outputs": []
    },
    {
      "cell_type": "code",
      "source": [
        "# Reporte de puntuaciones del modelo Random Forest utilizando GridSearchCV\n",
        "# ==============================================================================\n",
        "print(classification_report(y_train, grid_pred))"
      ],
      "metadata": {
        "id": "ce1LxFje_lFt"
      },
      "execution_count": null,
      "outputs": []
    }
  ]
}