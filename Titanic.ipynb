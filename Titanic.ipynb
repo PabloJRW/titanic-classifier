{
  "cells": [
    {
      "cell_type": "code",
      "execution_count": 2,
      "metadata": {
        "id": "9eR0Fb5BvCJ6"
      },
      "outputs": [],
      "source": [
        "# Manipulación de datos\n",
        "# ==============================================================================\n",
        "import numpy as np\n",
        "import pandas as pd\n",
        "\n",
        "# Visualización de datos\n",
        "# ==============================================================================\n",
        "import matplotlib.pyplot as plt\n",
        "import seaborn as sns\n",
        "import matplotlib.ticker as ticker\n",
        "import pylab\n",
        "\n",
        "# Modelado\n",
        "# ==============================================================================\n",
        "import scipy.stats as stats\n",
        "from sklearn.feature_selection import mutual_info_regression\n",
        "from sklearn.base import BaseEstimator, TransformerMixin\n",
        "from sklearn.compose import ColumnTransformer\n",
        "from sklearn.pipeline import Pipeline, FeatureUnion\n",
        "from sklearn.impute import SimpleImputer\n",
        "from sklearn.preprocessing import RobustScaler\n",
        "from sklearn.preprocessing import FunctionTransformer, OneHotEncoder\n",
        "from sklearn.neighbors import KNeighborsClassifier\n",
        "from sklearn.model_selection import cross_val_predict\n",
        "from sklearn.metrics import precision_score, recall_score, f1_score\n",
        "from sklearn.svm import SVC\n",
        "from sklearn.linear_model import LogisticRegression\n",
        "from sklearn.ensemble import RandomForestClassifier\n",
        "from sklearn.neighbors import KNeighborsClassifier\n",
        "from sklearn.metrics import classification_report\n",
        "from sklearn.metrics import roc_curve\n",
        "from sklearn.metrics import roc_auc_score\n",
        "from sklearn.model_selection import GridSearchCV, KFold\n",
        "from sklearn.model_selection import RandomizedSearchCV\n",
        "from sklearn.metrics import confusion_matrix\n",
        "\n",
        "\n",
        "# Configuración warnings\n",
        "# ==============================================================================\n",
        "import warnings\n",
        "warnings.filterwarnings('ignore')"
      ]
    },
    {
      "cell_type": "code",
      "execution_count": 3,
      "metadata": {
        "id": "eTsQ946cvCKB"
      },
      "outputs": [],
      "source": [
        "url_train = \"https://github.com/PabloJRW/titanic-classifier/raw/main/train.csv\"\n",
        "url_test = \"https://github.com/PabloJRW/titanic-classifier/raw/main/test.csv\"\n",
        "df_train = pd.read_csv(url_train)\n",
        "df_test = pd.read_csv(url_test)"
      ]
    },
    {
      "cell_type": "markdown",
      "metadata": {
        "id": "hMeL5fOWvCKB"
      },
      "source": [
        "# <b>EDA</b>"
      ]
    },
    {
      "cell_type": "code",
      "execution_count": 4,
      "metadata": {
        "colab": {
          "base_uri": "https://localhost:8080/",
          "height": 206
        },
        "id": "DVMdclSRvCKC",
        "outputId": "7d83ca27-5364-4c91-af0e-6567c21a9a36"
      },
      "outputs": [
        {
          "output_type": "execute_result",
          "data": {
            "text/plain": [
              "   PassengerId  Survived  Pclass  \\\n",
              "0            1         0       3   \n",
              "1            2         1       1   \n",
              "2            3         1       3   \n",
              "3            4         1       1   \n",
              "4            5         0       3   \n",
              "\n",
              "                                                Name     Sex   Age  SibSp  \\\n",
              "0                            Braund, Mr. Owen Harris    male  22.0      1   \n",
              "1  Cumings, Mrs. John Bradley (Florence Briggs Th...  female  38.0      1   \n",
              "2                             Heikkinen, Miss. Laina  female  26.0      0   \n",
              "3       Futrelle, Mrs. Jacques Heath (Lily May Peel)  female  35.0      1   \n",
              "4                           Allen, Mr. William Henry    male  35.0      0   \n",
              "\n",
              "   Parch            Ticket     Fare Cabin Embarked  \n",
              "0      0         A/5 21171   7.2500   NaN        S  \n",
              "1      0          PC 17599  71.2833   C85        C  \n",
              "2      0  STON/O2. 3101282   7.9250   NaN        S  \n",
              "3      0            113803  53.1000  C123        S  \n",
              "4      0            373450   8.0500   NaN        S  "
            ],
            "text/html": [
              "\n",
              "  <div id=\"df-6ef10655-e37b-4537-8fb2-7cce90129b63\">\n",
              "    <div class=\"colab-df-container\">\n",
              "      <div>\n",
              "<style scoped>\n",
              "    .dataframe tbody tr th:only-of-type {\n",
              "        vertical-align: middle;\n",
              "    }\n",
              "\n",
              "    .dataframe tbody tr th {\n",
              "        vertical-align: top;\n",
              "    }\n",
              "\n",
              "    .dataframe thead th {\n",
              "        text-align: right;\n",
              "    }\n",
              "</style>\n",
              "<table border=\"1\" class=\"dataframe\">\n",
              "  <thead>\n",
              "    <tr style=\"text-align: right;\">\n",
              "      <th></th>\n",
              "      <th>PassengerId</th>\n",
              "      <th>Survived</th>\n",
              "      <th>Pclass</th>\n",
              "      <th>Name</th>\n",
              "      <th>Sex</th>\n",
              "      <th>Age</th>\n",
              "      <th>SibSp</th>\n",
              "      <th>Parch</th>\n",
              "      <th>Ticket</th>\n",
              "      <th>Fare</th>\n",
              "      <th>Cabin</th>\n",
              "      <th>Embarked</th>\n",
              "    </tr>\n",
              "  </thead>\n",
              "  <tbody>\n",
              "    <tr>\n",
              "      <th>0</th>\n",
              "      <td>1</td>\n",
              "      <td>0</td>\n",
              "      <td>3</td>\n",
              "      <td>Braund, Mr. Owen Harris</td>\n",
              "      <td>male</td>\n",
              "      <td>22.0</td>\n",
              "      <td>1</td>\n",
              "      <td>0</td>\n",
              "      <td>A/5 21171</td>\n",
              "      <td>7.2500</td>\n",
              "      <td>NaN</td>\n",
              "      <td>S</td>\n",
              "    </tr>\n",
              "    <tr>\n",
              "      <th>1</th>\n",
              "      <td>2</td>\n",
              "      <td>1</td>\n",
              "      <td>1</td>\n",
              "      <td>Cumings, Mrs. John Bradley (Florence Briggs Th...</td>\n",
              "      <td>female</td>\n",
              "      <td>38.0</td>\n",
              "      <td>1</td>\n",
              "      <td>0</td>\n",
              "      <td>PC 17599</td>\n",
              "      <td>71.2833</td>\n",
              "      <td>C85</td>\n",
              "      <td>C</td>\n",
              "    </tr>\n",
              "    <tr>\n",
              "      <th>2</th>\n",
              "      <td>3</td>\n",
              "      <td>1</td>\n",
              "      <td>3</td>\n",
              "      <td>Heikkinen, Miss. Laina</td>\n",
              "      <td>female</td>\n",
              "      <td>26.0</td>\n",
              "      <td>0</td>\n",
              "      <td>0</td>\n",
              "      <td>STON/O2. 3101282</td>\n",
              "      <td>7.9250</td>\n",
              "      <td>NaN</td>\n",
              "      <td>S</td>\n",
              "    </tr>\n",
              "    <tr>\n",
              "      <th>3</th>\n",
              "      <td>4</td>\n",
              "      <td>1</td>\n",
              "      <td>1</td>\n",
              "      <td>Futrelle, Mrs. Jacques Heath (Lily May Peel)</td>\n",
              "      <td>female</td>\n",
              "      <td>35.0</td>\n",
              "      <td>1</td>\n",
              "      <td>0</td>\n",
              "      <td>113803</td>\n",
              "      <td>53.1000</td>\n",
              "      <td>C123</td>\n",
              "      <td>S</td>\n",
              "    </tr>\n",
              "    <tr>\n",
              "      <th>4</th>\n",
              "      <td>5</td>\n",
              "      <td>0</td>\n",
              "      <td>3</td>\n",
              "      <td>Allen, Mr. William Henry</td>\n",
              "      <td>male</td>\n",
              "      <td>35.0</td>\n",
              "      <td>0</td>\n",
              "      <td>0</td>\n",
              "      <td>373450</td>\n",
              "      <td>8.0500</td>\n",
              "      <td>NaN</td>\n",
              "      <td>S</td>\n",
              "    </tr>\n",
              "  </tbody>\n",
              "</table>\n",
              "</div>\n",
              "      <button class=\"colab-df-convert\" onclick=\"convertToInteractive('df-6ef10655-e37b-4537-8fb2-7cce90129b63')\"\n",
              "              title=\"Convert this dataframe to an interactive table.\"\n",
              "              style=\"display:none;\">\n",
              "        \n",
              "  <svg xmlns=\"http://www.w3.org/2000/svg\" height=\"24px\"viewBox=\"0 0 24 24\"\n",
              "       width=\"24px\">\n",
              "    <path d=\"M0 0h24v24H0V0z\" fill=\"none\"/>\n",
              "    <path d=\"M18.56 5.44l.94 2.06.94-2.06 2.06-.94-2.06-.94-.94-2.06-.94 2.06-2.06.94zm-11 1L8.5 8.5l.94-2.06 2.06-.94-2.06-.94L8.5 2.5l-.94 2.06-2.06.94zm10 10l.94 2.06.94-2.06 2.06-.94-2.06-.94-.94-2.06-.94 2.06-2.06.94z\"/><path d=\"M17.41 7.96l-1.37-1.37c-.4-.4-.92-.59-1.43-.59-.52 0-1.04.2-1.43.59L10.3 9.45l-7.72 7.72c-.78.78-.78 2.05 0 2.83L4 21.41c.39.39.9.59 1.41.59.51 0 1.02-.2 1.41-.59l7.78-7.78 2.81-2.81c.8-.78.8-2.07 0-2.86zM5.41 20L4 18.59l7.72-7.72 1.47 1.35L5.41 20z\"/>\n",
              "  </svg>\n",
              "      </button>\n",
              "      \n",
              "  <style>\n",
              "    .colab-df-container {\n",
              "      display:flex;\n",
              "      flex-wrap:wrap;\n",
              "      gap: 12px;\n",
              "    }\n",
              "\n",
              "    .colab-df-convert {\n",
              "      background-color: #E8F0FE;\n",
              "      border: none;\n",
              "      border-radius: 50%;\n",
              "      cursor: pointer;\n",
              "      display: none;\n",
              "      fill: #1967D2;\n",
              "      height: 32px;\n",
              "      padding: 0 0 0 0;\n",
              "      width: 32px;\n",
              "    }\n",
              "\n",
              "    .colab-df-convert:hover {\n",
              "      background-color: #E2EBFA;\n",
              "      box-shadow: 0px 1px 2px rgba(60, 64, 67, 0.3), 0px 1px 3px 1px rgba(60, 64, 67, 0.15);\n",
              "      fill: #174EA6;\n",
              "    }\n",
              "\n",
              "    [theme=dark] .colab-df-convert {\n",
              "      background-color: #3B4455;\n",
              "      fill: #D2E3FC;\n",
              "    }\n",
              "\n",
              "    [theme=dark] .colab-df-convert:hover {\n",
              "      background-color: #434B5C;\n",
              "      box-shadow: 0px 1px 3px 1px rgba(0, 0, 0, 0.15);\n",
              "      filter: drop-shadow(0px 1px 2px rgba(0, 0, 0, 0.3));\n",
              "      fill: #FFFFFF;\n",
              "    }\n",
              "  </style>\n",
              "\n",
              "      <script>\n",
              "        const buttonEl =\n",
              "          document.querySelector('#df-6ef10655-e37b-4537-8fb2-7cce90129b63 button.colab-df-convert');\n",
              "        buttonEl.style.display =\n",
              "          google.colab.kernel.accessAllowed ? 'block' : 'none';\n",
              "\n",
              "        async function convertToInteractive(key) {\n",
              "          const element = document.querySelector('#df-6ef10655-e37b-4537-8fb2-7cce90129b63');\n",
              "          const dataTable =\n",
              "            await google.colab.kernel.invokeFunction('convertToInteractive',\n",
              "                                                     [key], {});\n",
              "          if (!dataTable) return;\n",
              "\n",
              "          const docLinkHtml = 'Like what you see? Visit the ' +\n",
              "            '<a target=\"_blank\" href=https://colab.research.google.com/notebooks/data_table.ipynb>data table notebook</a>'\n",
              "            + ' to learn more about interactive tables.';\n",
              "          element.innerHTML = '';\n",
              "          dataTable['output_type'] = 'display_data';\n",
              "          await google.colab.output.renderOutput(dataTable, element);\n",
              "          const docLink = document.createElement('div');\n",
              "          docLink.innerHTML = docLinkHtml;\n",
              "          element.appendChild(docLink);\n",
              "        }\n",
              "      </script>\n",
              "    </div>\n",
              "  </div>\n",
              "  "
            ]
          },
          "metadata": {},
          "execution_count": 4
        }
      ],
      "source": [
        "df_train.head(5)"
      ]
    },
    {
      "cell_type": "code",
      "execution_count": 5,
      "metadata": {
        "colab": {
          "base_uri": "https://localhost:8080/"
        },
        "id": "8yhd6z0MvCKE",
        "outputId": "4f5e2599-e8ee-4160-b122-d6a1fb90a939"
      },
      "outputs": [
        {
          "output_type": "stream",
          "name": "stdout",
          "text": [
            "<class 'pandas.core.frame.DataFrame'>\n",
            "RangeIndex: 891 entries, 0 to 890\n",
            "Data columns (total 12 columns):\n",
            " #   Column       Non-Null Count  Dtype  \n",
            "---  ------       --------------  -----  \n",
            " 0   PassengerId  891 non-null    int64  \n",
            " 1   Survived     891 non-null    int64  \n",
            " 2   Pclass       891 non-null    int64  \n",
            " 3   Name         891 non-null    object \n",
            " 4   Sex          891 non-null    object \n",
            " 5   Age          714 non-null    float64\n",
            " 6   SibSp        891 non-null    int64  \n",
            " 7   Parch        891 non-null    int64  \n",
            " 8   Ticket       891 non-null    object \n",
            " 9   Fare         891 non-null    float64\n",
            " 10  Cabin        204 non-null    object \n",
            " 11  Embarked     889 non-null    object \n",
            "dtypes: float64(2), int64(5), object(5)\n",
            "memory usage: 83.7+ KB\n"
          ]
        }
      ],
      "source": [
        "# non-nulls values and data type\n",
        "df_train.info()"
      ]
    },
    {
      "cell_type": "code",
      "execution_count": 6,
      "metadata": {
        "id": "RY3Vd3awCCFL",
        "outputId": "0d67e35a-4be2-4d95-9dbe-ff8f56bca473",
        "colab": {
          "base_uri": "https://localhost:8080/"
        }
      },
      "outputs": [
        {
          "output_type": "execute_result",
          "data": {
            "text/plain": [
              "(891, 12)"
            ]
          },
          "metadata": {},
          "execution_count": 6
        }
      ],
      "source": [
        "# Train dataset dimension\n",
        "df_train.shape"
      ]
    },
    {
      "cell_type": "markdown",
      "source": [
        "The dataset contains 12 columns consisting of both numerical and categorical data, with a total of 891 entries. However, some columns contain null values which need to be accounted for in the analysis."
      ],
      "metadata": {
        "id": "PQjdKYFXEqzf"
      }
    },
    {
      "cell_type": "code",
      "execution_count": 7,
      "metadata": {
        "id": "EI2kEsbsCCFL",
        "outputId": "1d2def6c-7795-4a49-cd12-5a7c79750377",
        "colab": {
          "base_uri": "https://localhost:8080/"
        }
      },
      "outputs": [
        {
          "output_type": "execute_result",
          "data": {
            "text/plain": [
              "Cabin          687\n",
              "Age            177\n",
              "Embarked         2\n",
              "PassengerId      0\n",
              "Survived         0\n",
              "Pclass           0\n",
              "Name             0\n",
              "Sex              0\n",
              "SibSp            0\n",
              "Parch            0\n",
              "Ticket           0\n",
              "Fare             0\n",
              "dtype: int64"
            ]
          },
          "metadata": {},
          "execution_count": 7
        }
      ],
      "source": [
        "# Missing values\n",
        "df_train.isna().sum().sort_values(ascending=False)"
      ]
    },
    {
      "cell_type": "markdown",
      "source": [
        "The following columns in the dataset contain missing values:\n",
        "\n",
        "\"Cabin\": 687 missing values <br>\n",
        "\"Age\": 177 missing values<br>\n",
        "\"Embarked\": 2 missing values"
      ],
      "metadata": {
        "id": "_dx9I5K4FKSM"
      }
    },
    {
      "cell_type": "code",
      "execution_count": 8,
      "metadata": {
        "id": "WKEjKP9dCCFL",
        "outputId": "70932809-9c07-4a09-9aed-d84cb3531f96",
        "colab": {
          "base_uri": "https://localhost:8080/",
          "height": 441
        }
      },
      "outputs": [
        {
          "output_type": "display_data",
          "data": {
            "text/plain": [
              "<Figure size 648x432 with 1 Axes>"
            ],
            "image/png": "[encoded data removed]"
          },
          "metadata": {
            "needs_background": "light"
          }
        }
      ],
      "source": [
        "# Missing values visualization\n",
        "plt.figure(figsize=(9,6))\n",
        "plt.title('MISSING VALUES', fontweight='bold')\n",
        "sns.heatmap(df_train.isnull(), yticklabels=False, cbar=False, cmap='magma')\n",
        "plt.show()"
      ]
    },
    {
      "cell_type": "markdown",
      "metadata": {
        "id": "9y117ydeCCFM"
      },
      "source": [
        "## <b> Numerical Features"
      ]
    },
    {
      "cell_type": "code",
      "source": [
        "# Create a figure with two subplots\n",
        "fig, axs = plt.subplots(1, 2, figsize=(12, 5))\n",
        "\n",
        "# Create the first scatter plot\n",
        "sns.histplot(df_train.Age.dropna(), kde=True, ax=axs[0])\n",
        "axs[0].set_title('Age Distribution')\n",
        "\n",
        "# Create the second scatter plot\n",
        "sns.histplot(df_train.Fare, kde=True, ax=axs[1])\n",
        "axs[1].set_title('Fare Distribution')\n",
        "\n",
        "# Add overall title for the figure\n",
        "fig.suptitle('Numerical Features Distributions')\n",
        "\n",
        "# Display the plots\n",
        "plt.show()\n"
      ],
      "metadata": {
        "id": "7XmzUl2CHJsQ",
        "outputId": "0c093a69-afdb-4434-f5ee-f6be64c6aec0",
        "colab": {
          "base_uri": "https://localhost:8080/",
          "height": 370
        }
      },
      "execution_count": 9,
      "outputs": [
        {
          "output_type": "display_data",
          "data": {
            "text/plain": [
              "<Figure size 864x360 with 2 Axes>"
            ],
            "image/png": "[encoded data removed]"
          },
          "metadata": {
            "needs_background": "light"
          }
        }
      ]
    },
    {
      "cell_type": "code",
      "source": [
        "df_train[['Age','Fare']].describe().T"
      ],
      "metadata": {
        "id": "sDHIjvkMXYjt",
        "outputId": "db8cd363-ee7c-4fad-fbe4-d2cfb21e373b",
        "colab": {
          "base_uri": "https://localhost:8080/",
          "height": 112
        }
      },
      "execution_count": 10,
      "outputs": [
        {
          "output_type": "execute_result",
          "data": {
            "text/plain": [
              "      count       mean        std   min      25%      50%   75%       max\n",
              "Age   714.0  29.699118  14.526497  0.42  20.1250  28.0000  38.0   80.0000\n",
              "Fare  891.0  32.204208  49.693429  0.00   7.9104  14.4542  31.0  512.3292"
            ],
            "text/html": [
              "\n",
              "  <div id=\"df-3b318375-706d-400e-aa0e-b671f5565b71\">\n",
              "    <div class=\"colab-df-container\">\n",
              "      <div>\n",
              "<style scoped>\n",
              "    .dataframe tbody tr th:only-of-type {\n",
              "        vertical-align: middle;\n",
              "    }\n",
              "\n",
              "    .dataframe tbody tr th {\n",
              "        vertical-align: top;\n",
              "    }\n",
              "\n",
              "    .dataframe thead th {\n",
              "        text-align: right;\n",
              "    }\n",
              "</style>\n",
              "<table border=\"1\" class=\"dataframe\">\n",
              "  <thead>\n",
              "    <tr style=\"text-align: right;\">\n",
              "      <th></th>\n",
              "      <th>count</th>\n",
              "      <th>mean</th>\n",
              "      <th>std</th>\n",
              "      <th>min</th>\n",
              "      <th>25%</th>\n",
              "      <th>50%</th>\n",
              "      <th>75%</th>\n",
              "      <th>max</th>\n",
              "    </tr>\n",
              "  </thead>\n",
              "  <tbody>\n",
              "    <tr>\n",
              "      <th>Age</th>\n",
              "      <td>714.0</td>\n",
              "      <td>29.699118</td>\n",
              "      <td>14.526497</td>\n",
              "      <td>0.42</td>\n",
              "      <td>20.1250</td>\n",
              "      <td>28.0000</td>\n",
              "      <td>38.0</td>\n",
              "      <td>80.0000</td>\n",
              "    </tr>\n",
              "    <tr>\n",
              "      <th>Fare</th>\n",
              "      <td>891.0</td>\n",
              "      <td>32.204208</td>\n",
              "      <td>49.693429</td>\n",
              "      <td>0.00</td>\n",
              "      <td>7.9104</td>\n",
              "      <td>14.4542</td>\n",
              "      <td>31.0</td>\n",
              "      <td>512.3292</td>\n",
              "    </tr>\n",
              "  </tbody>\n",
              "</table>\n",
              "</div>\n",
              "      <button class=\"colab-df-convert\" onclick=\"convertToInteractive('df-3b318375-706d-400e-aa0e-b671f5565b71')\"\n",
              "              title=\"Convert this dataframe to an interactive table.\"\n",
              "              style=\"display:none;\">\n",
              "        \n",
              "  <svg xmlns=\"http://www.w3.org/2000/svg\" height=\"24px\"viewBox=\"0 0 24 24\"\n",
              "       width=\"24px\">\n",
              "    <path d=\"M0 0h24v24H0V0z\" fill=\"none\"/>\n",
              "    <path d=\"M18.56 5.44l.94 2.06.94-2.06 2.06-.94-2.06-.94-.94-2.06-.94 2.06-2.06.94zm-11 1L8.5 8.5l.94-2.06 2.06-.94-2.06-.94L8.5 2.5l-.94 2.06-2.06.94zm10 10l.94 2.06.94-2.06 2.06-.94-2.06-.94-.94-2.06-.94 2.06-2.06.94z\"/><path d=\"M17.41 7.96l-1.37-1.37c-.4-.4-.92-.59-1.43-.59-.52 0-1.04.2-1.43.59L10.3 9.45l-7.72 7.72c-.78.78-.78 2.05 0 2.83L4 21.41c.39.39.9.59 1.41.59.51 0 1.02-.2 1.41-.59l7.78-7.78 2.81-2.81c.8-.78.8-2.07 0-2.86zM5.41 20L4 18.59l7.72-7.72 1.47 1.35L5.41 20z\"/>\n",
              "  </svg>\n",
              "      </button>\n",
              "      \n",
              "  <style>\n",
              "    .colab-df-container {\n",
              "      display:flex;\n",
              "      flex-wrap:wrap;\n",
              "      gap: 12px;\n",
              "    }\n",
              "\n",
              "    .colab-df-convert {\n",
              "      background-color: #E8F0FE;\n",
              "      border: none;\n",
              "      border-radius: 50%;\n",
              "      cursor: pointer;\n",
              "      display: none;\n",
              "      fill: #1967D2;\n",
              "      height: 32px;\n",
              "      padding: 0 0 0 0;\n",
              "      width: 32px;\n",
              "    }\n",
              "\n",
              "    .colab-df-convert:hover {\n",
              "      background-color: #E2EBFA;\n",
              "      box-shadow: 0px 1px 2px rgba(60, 64, 67, 0.3), 0px 1px 3px 1px rgba(60, 64, 67, 0.15);\n",
              "      fill: #174EA6;\n",
              "    }\n",
              "\n",
              "    [theme=dark] .colab-df-convert {\n",
              "      background-color: #3B4455;\n",
              "      fill: #D2E3FC;\n",
              "    }\n",
              "\n",
              "    [theme=dark] .colab-df-convert:hover {\n",
              "      background-color: #434B5C;\n",
              "      box-shadow: 0px 1px 3px 1px rgba(0, 0, 0, 0.15);\n",
              "      filter: drop-shadow(0px 1px 2px rgba(0, 0, 0, 0.3));\n",
              "      fill: #FFFFFF;\n",
              "    }\n",
              "  </style>\n",
              "\n",
              "      <script>\n",
              "        const buttonEl =\n",
              "          document.querySelector('#df-3b318375-706d-400e-aa0e-b671f5565b71 button.colab-df-convert');\n",
              "        buttonEl.style.display =\n",
              "          google.colab.kernel.accessAllowed ? 'block' : 'none';\n",
              "\n",
              "        async function convertToInteractive(key) {\n",
              "          const element = document.querySelector('#df-3b318375-706d-400e-aa0e-b671f5565b71');\n",
              "          const dataTable =\n",
              "            await google.colab.kernel.invokeFunction('convertToInteractive',\n",
              "                                                     [key], {});\n",
              "          if (!dataTable) return;\n",
              "\n",
              "          const docLinkHtml = 'Like what you see? Visit the ' +\n",
              "            '<a target=\"_blank\" href=https://colab.research.google.com/notebooks/data_table.ipynb>data table notebook</a>'\n",
              "            + ' to learn more about interactive tables.';\n",
              "          element.innerHTML = '';\n",
              "          dataTable['output_type'] = 'display_data';\n",
              "          await google.colab.output.renderOutput(dataTable, element);\n",
              "          const docLink = document.createElement('div');\n",
              "          docLink.innerHTML = docLinkHtml;\n",
              "          element.appendChild(docLink);\n",
              "        }\n",
              "      </script>\n",
              "    </div>\n",
              "  </div>\n",
              "  "
            ]
          },
          "metadata": {},
          "execution_count": 10
        }
      ]
    },
    {
      "cell_type": "markdown",
      "source": [
        "I am going to perform a <b>t-test</b> over the \"age\" and \"fare\" variables to investigate whether there are any significant differences between passengers that survived and those who did not. <b>t-test</b> will allow me to compare the means of these variables across the two groups, and determine whether any observed differences are statistically significant. By testing for differences between these variables, I can gain insight into whether age and fare played a role in the likelihood of surviving the Titanic disaster."
      ],
      "metadata": {
        "id": "KmZEHDCCUaUY"
      }
    },
    {
      "cell_type": "markdown",
      "source": [
        "To achieve the normality assumptions required to perform a <b>t-test</b>, I am going to check for normality using the Shapiro-Wilk test in my \"age\" and \"fare\" variables before performing a <b>t-test</b>. The Shapiro-Wilk test is a commonly used normality test that can determine whether a sample of data is drawn from a normal distribution. By testing for normality, I can determine whether the data is suitable for a <b>t-test</b>, and whether any transformations or adjustments need to be made to the data before proceeding with the test."
      ],
      "metadata": {
        "id": "p3RDZkQxVtPx"
      }
    },
    {
      "cell_type": "code",
      "source": [
        "# Normality test - Shapiro-Wilk Test \n",
        "def normality_results(data):\n",
        "  \"\"\"\n",
        "  Apply Shapiro-Wilk test\n",
        "  \"\"\"\n",
        "  stat, p = stats.shapiro(data)\n",
        "\n",
        "  # print test statistics and p-value\n",
        "  print(f\"Shapiro-Wilk test statistic: {stat:.4f}\")\n",
        "  print(f\"p-value: {p:.4f}\")\n",
        "  if p > 0.05:\n",
        "    print(\"Data is normally distributed\")\n",
        "  else:\n",
        "    print(\"Data is not normally distributed\")"
      ],
      "metadata": {
        "id": "sBlight7LCbx"
      },
      "execution_count": 11,
      "outputs": []
    },
    {
      "cell_type": "code",
      "source": [
        "# Checking for normality - Age variable\n",
        "normality_results(df_train.Age.dropna())\n",
        "\n",
        "print('')\n",
        "# Checking for normality - Age variable\n",
        "normality_results(df_train.Fare.dropna())"
      ],
      "metadata": {
        "id": "N2gepBn7L5nK",
        "outputId": "115aee72-5c6a-4431-f777-5ec6ab0e6e9e",
        "colab": {
          "base_uri": "https://localhost:8080/"
        }
      },
      "execution_count": 12,
      "outputs": [
        {
          "output_type": "stream",
          "name": "stdout",
          "text": [
            "Shapiro-Wilk test statistic: 0.9815\n",
            "p-value: 0.0000\n",
            "Data is not normally distributed\n",
            "\n",
            "Shapiro-Wilk test statistic: 0.5219\n",
            "p-value: 0.0000\n",
            "Data is not normally distributed\n"
          ]
        }
      ]
    },
    {
      "cell_type": "markdown",
      "source": [
        "Based on the results of the Shapiro-Wilk test, the \"age\" and \"Fare\" variables are not normally distributed. Therefore, to investigate differences between passengers that survived and those who did not, it is not appropriate to perform an <b>t-test</b>, which assumes normality.\n",
        "\n",
        "Due to the non-normal distribution of the age and fare variables, the Mann-Whitney U test will be performed to analyze the relationship between these variables."
      ],
      "metadata": {
        "id": "Rnzl9rRdaRuo"
      }
    },
    {
      "cell_type": "code",
      "source": [
        "# Survivors and non survivors groups - Age\n",
        "age_survived = df_train[df_train['Survived'] == 1]['Age'].dropna() # Age of survivors\n",
        "age_no_survived = df_train[df_train['Survived'] == 0]['Age'].dropna() # Age of non-survivors\n",
        "\n",
        "# Survivors and non survivors groups - Fare\n",
        "fare_survived = df_train[df_train['Survived'] == 1]['Fare'] # Fare paid for survivors\n",
        "fare_no_survived = df_train[df_train['Survived'] == 0]['Fare'] # Fare paid for non-survivors"
      ],
      "metadata": {
        "id": "w0PPKq1zOga_"
      },
      "execution_count": 13,
      "outputs": []
    },
    {
      "cell_type": "code",
      "source": [
        "from scipy.stats import mannwhitneyu\n",
        "\n",
        "# Mann-Whitney U test\n",
        "def mann_whitney_test(group1, group2):\n",
        "    \"\"\" Perform the Mann-Whitney U test \"\"\"\n",
        "    stat, p = mannwhitneyu(group1, group2)\n",
        "    \n",
        "    # Print the test results\n",
        "    print(\"Mann-Whitney U test:\")\n",
        "    print(\"Test statistic:\", stat)\n",
        "    print(\"p-value:\", p)\n",
        "    \n",
        "    # Interpret the results\n",
        "    alpha = 0.05\n",
        "    if p < alpha:\n",
        "        print(\"There is a significant difference between the two groups.\")\n",
        "    else:\n",
        "        print(\"There is no significant difference between the two groups.\")\n",
        "    \n",
        "    return stat, p\n"
      ],
      "metadata": {
        "id": "VGmx5nbfi0Xh"
      },
      "execution_count": 14,
      "outputs": []
    },
    {
      "cell_type": "markdown",
      "source": [
        "### Age"
      ],
      "metadata": {
        "id": "LnetGNyIlNIH"
      }
    },
    {
      "cell_type": "code",
      "source": [
        "plt.figure()\n",
        "sns.boxplot(x=df_train.Survived, y=df_train.Age, )\n",
        "plt.title('Age distribution of survivors and non-survivors')\n",
        "plt.show()"
      ],
      "metadata": {
        "id": "KYNOKQpxJeJZ",
        "outputId": "b5be6a59-78dc-45bb-ab68-dcf7d8f95908",
        "colab": {
          "base_uri": "https://localhost:8080/",
          "height": 295
        }
      },
      "execution_count": 45,
      "outputs": [
        {
          "output_type": "display_data",
          "data": {
            "text/plain": [
              "<Figure size 432x288 with 1 Axes>"
            ],
            "image/png": "[encoded data removed]"
          },
          "metadata": {
            "needs_background": "light"
          }
        }
      ]
    },
    {
      "cell_type": "code",
      "source": [
        "# Mann-Whitney U test - Age\n",
        "mann_whitney_test(age_survived, age_no_survived)"
      ],
      "metadata": {
        "id": "bAZBH2SxjBiX",
        "outputId": "bf8a8803-ec6c-4541-e300-70602a7a8223",
        "colab": {
          "base_uri": "https://localhost:8080/"
        }
      },
      "execution_count": 25,
      "outputs": [
        {
          "output_type": "stream",
          "name": "stdout",
          "text": [
            "Mann-Whitney U test:\n",
            "Test statistic: 57682.0\n",
            "p-value: 0.16049252477737763\n",
            "There is no significant difference between the two groups.\n"
          ]
        },
        {
          "output_type": "execute_result",
          "data": {
            "text/plain": [
              "(57682.0, 0.16049252477737763)"
            ]
          },
          "metadata": {},
          "execution_count": 25
        }
      ]
    },
    {
      "cell_type": "markdown",
      "source": [
        "Based on the results of the Mann-Whitney U test performed on the age variable of passengers who survived and those who did not, we can see that the test statistic is 57682.0 and the p-value is 0.16049252477737763.\n",
        "\n",
        "The p-value is greater than the typical significance level of 0.05, indicating that there is no statistically significant difference in age between the passengers who survived and those who did not.\n",
        "\n",
        "Therefore, we fail to reject the null hypothesis that the two groups come from the same distribution. In other words, we can conclude that age does not appear to be a significant factor in determining the likelihood of survival on the Titanic."
      ],
      "metadata": {
        "id": "zvryfvLgkij8"
      }
    },
    {
      "cell_type": "markdown",
      "source": [
        "### Fare"
      ],
      "metadata": {
        "id": "-NNxbW3-lRRx"
      }
    },
    {
      "cell_type": "code",
      "source": [
        "plt.figure()\n",
        "sns.boxplot(y=df_train.Survived, x=df_train.Fare, orient='h')\n",
        "plt.title('Age distribution of survivors and non-survivors')\n",
        "plt.show()"
      ],
      "metadata": {
        "id": "h57YnJSyRm4U",
        "outputId": "ea287736-541d-4561-c90d-9b84a76a1e89",
        "colab": {
          "base_uri": "https://localhost:8080/",
          "height": 295
        }
      },
      "execution_count": 53,
      "outputs": [
        {
          "output_type": "display_data",
          "data": {
            "text/plain": [
              "<Figure size 432x288 with 1 Axes>"
            ],
            "image/png": "[encoded data removed]"
          },
          "metadata": {
            "needs_background": "light"
          }
        }
      ]
    },
    {
      "cell_type": "code",
      "source": [
        "# Mann-Whitney U test - Fare\n",
        "mann_whitney_test(fare_survived, fare_no_survived)"
      ],
      "metadata": {
        "id": "eKNR29P9kmGL",
        "outputId": "13bfaceb-2643-47ec-e3b6-02f5035de74c",
        "colab": {
          "base_uri": "https://localhost:8080/"
        }
      },
      "execution_count": 47,
      "outputs": [
        {
          "output_type": "stream",
          "name": "stdout",
          "text": [
            "Mann-Whitney U test:\n",
            "Test statistic: 129951.5\n",
            "p-value: 4.553477179250237e-22\n",
            "There is a significant difference between the two groups.\n"
          ]
        },
        {
          "output_type": "execute_result",
          "data": {
            "text/plain": [
              "(129951.5, 4.553477179250237e-22)"
            ]
          },
          "metadata": {},
          "execution_count": 47
        }
      ]
    },
    {
      "cell_type": "markdown",
      "source": [
        "Based on the results of the Mann-Whitney U test performed on the fare variable of passengers who survived and those who did not, we can see that the test statistic is 129951.5 and the p-value is 4.553477179250237e-22.\n",
        "\n",
        "The p-value is less than the typical significance level of 0.05, indicating that there is a statistically significant difference in fare between the passengers who survived and those who did not.\n",
        "\n",
        "Therefore, we reject the null hypothesis that the two groups come from the same distribution. In other words, we can conclude that fare appears to be a significant factor in determining the likelihood of survival on the Titanic."
      ],
      "metadata": {
        "id": "4TQZo-zSlA51"
      }
    },
    {
      "cell_type": "markdown",
      "metadata": {
        "id": "0hyyqyJ2Hffv"
      },
      "source": [
        "## <b>Categorical Features"
      ]
    },
    {
      "cell_type": "markdown",
      "source": [
        "I am going to perform a chi-square test to determine if the categorical variables are correlated to the target variable. The chi-square test is a statistical measure used to determine the association between two categorical variables and to determine if they are independent or not. By performing this test, we can see if there is a significant correlation between the categorical variable and the target variable, which can provide insight into the relationship between these variables."
      ],
      "metadata": {
        "id": "QauyYYganuAN"
      }
    },
    {
      "cell_type": "code",
      "source": [
        "from scipy.stats import chi2_contingency\n",
        "\n",
        "def chi2_test(predictor, target):\n",
        "  # Create a contingency table from the two categorical features\n",
        "  contingency_table = pd.crosstab(predictor, target)\n",
        "\n",
        "  # Perform the chi-square test of independence\n",
        "  stat, p, dof, expected = chi2_contingency(contingency_table)\n",
        "\n",
        "  # Print the test results\n",
        "  print(\"Chi-square test results:\")\n",
        "  print(\"Test statistic:\", stat)\n",
        "  print(\"p-value:\", p)\n",
        "  print(\"Degrees of freedom:\", dof)\n",
        "  print(\"Expected frequencies:\\n\", expected)"
      ],
      "metadata": {
        "id": "_VHx0CuFmlP5"
      },
      "execution_count": 27,
      "outputs": []
    },
    {
      "cell_type": "markdown",
      "source": [
        "### Pclass"
      ],
      "metadata": {
        "id": "gV_OQnTWoCC_"
      }
    },
    {
      "cell_type": "code",
      "source": [
        "plt.figure()\n",
        "sns.countplot( x=df_train.Pclass,  hue=df_train.Survived)\n",
        "plt.title('Pclass vs Survived')\n",
        "plt.show()"
      ],
      "metadata": {
        "id": "MoOSAGKJoJsV",
        "outputId": "41bccbd3-92ce-4f9f-dff8-7a78ebbd67a9",
        "colab": {
          "base_uri": "https://localhost:8080/",
          "height": 295
        }
      },
      "execution_count": 28,
      "outputs": [
        {
          "output_type": "display_data",
          "data": {
            "text/plain": [
              "<Figure size 432x288 with 1 Axes>"
            ],
            "image/png": "[encoded data removed]"
          },
          "metadata": {
            "needs_background": "light"
          }
        }
      ]
    },
    {
      "cell_type": "code",
      "source": [
        "# Chi2 test - Pclass vs Survived\n",
        "chi2_test(df_train.Pclass, df_train.Survived)"
      ],
      "metadata": {
        "id": "x27NwQXMtcyF",
        "outputId": "a04dc037-8c38-4bb7-d47a-e90e0510e63d",
        "colab": {
          "base_uri": "https://localhost:8080/"
        }
      },
      "execution_count": 29,
      "outputs": [
        {
          "output_type": "stream",
          "name": "stdout",
          "text": [
            "Chi-square test results:\n",
            "Test statistic: 102.88898875696056\n",
            "p-value: 4.549251711298793e-23\n",
            "Degrees of freedom: 2\n",
            "Expected frequencies:\n",
            " [[133.09090909  82.90909091]\n",
            " [113.37373737  70.62626263]\n",
            " [302.53535354 188.46464646]]\n"
          ]
        }
      ]
    },
    {
      "cell_type": "markdown",
      "source": [
        "The Chi-square test was performed to determine if there is a significant correlation between the passenger class predictor and the survived target variable.\n",
        "\n",
        "The test results show that the test statistic is 102.88898875696056, with a p-value of 4.549251711298793e-23 and 2 degrees of freedom. This indicates that there is a significant correlation between the passenger class and survival, as the p-value is much smaller than the typical significance level of 0.05.\n",
        "\n",
        "In summary, the Chi-square test results suggest that there is a significant correlation between passenger class and survival on the Titanic. Specifically, the results suggest that passengers in higher classes (i.e., class 1) had a higher chance of survival, while those in lower classes (i.e., class 3) had a lower chance of survival."
      ],
      "metadata": {
        "id": "1Q85SvKEualL"
      }
    },
    {
      "cell_type": "markdown",
      "source": [
        "### Sex"
      ],
      "metadata": {
        "id": "7gpZCP3CwTHV"
      }
    },
    {
      "cell_type": "code",
      "source": [
        "plt.figure()\n",
        "sns.countplot( x=df_train.Sex,  hue=df_train.Survived)\n",
        "plt.title('Sex vs Survived')\n",
        "plt.legend(['Non-Survivors', 'Survivors'])\n",
        "plt.show()"
      ],
      "metadata": {
        "id": "Cfm0XaBQwSvl",
        "outputId": "78a088c6-1513-4a4e-f017-aa8430f47c44",
        "colab": {
          "base_uri": "https://localhost:8080/",
          "height": 295
        }
      },
      "execution_count": 30,
      "outputs": [
        {
          "output_type": "display_data",
          "data": {
            "text/plain": [
              "<Figure size 432x288 with 1 Axes>"
            ],
            "image/png": "[encoded data removed]"
          },
          "metadata": {
            "needs_background": "light"
          }
        }
      ]
    },
    {
      "cell_type": "code",
      "source": [
        "# Chi2 test - Sex vs Survived\n",
        "chi2_test(df_train.Sex, df_train.Survived)"
      ],
      "metadata": {
        "id": "zZYwrKCywgPg",
        "outputId": "51dbc67f-ec12-41d5-80a2-fe748b754c18",
        "colab": {
          "base_uri": "https://localhost:8080/"
        }
      },
      "execution_count": 31,
      "outputs": [
        {
          "output_type": "stream",
          "name": "stdout",
          "text": [
            "Chi-square test results:\n",
            "Test statistic: 260.71702016732104\n",
            "p-value: 1.1973570627755645e-58\n",
            "Degrees of freedom: 1\n",
            "Expected frequencies:\n",
            " [[193.47474747 120.52525253]\n",
            " [355.52525253 221.47474747]]\n"
          ]
        }
      ]
    },
    {
      "cell_type": "markdown",
      "source": [
        "The Chi-square test was performed to determine if there is a significant correlation between the sex variable and the survived variable.\n",
        "\n",
        "The interpretation of these results is that there is a significant correlation between sex and survival on the Titanic. Specifically, the results suggest that female passengers had a higher chance of survival than male passengers. This finding is consistent with the well-known fact that the \"women and children first\" policy was followed during the Titanic disaster."
      ],
      "metadata": {
        "id": "oUtTTeWV5Df_"
      }
    },
    {
      "cell_type": "markdown",
      "source": [
        "## Embarked"
      ],
      "metadata": {
        "id": "bHEieTUCOdyl"
      }
    },
    {
      "cell_type": "code",
      "source": [
        "plt.figure()\n",
        "sns.countplot(x=df_train.Embarked,  hue=df_train.Survived)\n",
        "plt.title('Embarked vs Survived')\n",
        "plt.legend(['Non-Survivors', 'Survivors'])\n",
        "plt.show()"
      ],
      "metadata": {
        "id": "5PHA1zRgOii6",
        "outputId": "ace2df66-1a54-4372-feaa-7544f2bc5de4",
        "colab": {
          "base_uri": "https://localhost:8080/",
          "height": 295
        }
      },
      "execution_count": 35,
      "outputs": [
        {
          "output_type": "display_data",
          "data": {
            "text/plain": [
              "<Figure size 432x288 with 1 Axes>"
            ],
            "image/png": "[encoded data removed]"
          },
          "metadata": {
            "needs_background": "light"
          }
        }
      ]
    },
    {
      "cell_type": "code",
      "source": [
        "# Chi2 test - Embarked vs Survived\n",
        "chi2_test(df_train.Embarked, df_train.Survived)"
      ],
      "metadata": {
        "id": "o5AUfgilOx55",
        "outputId": "2b019839-84d8-45eb-dbf3-ad495ca3bd39",
        "colab": {
          "base_uri": "https://localhost:8080/"
        }
      },
      "execution_count": 33,
      "outputs": [
        {
          "output_type": "stream",
          "name": "stdout",
          "text": [
            "Chi-square test results:\n",
            "Test statistic: 26.48914983923762\n",
            "p-value: 1.769922284120912e-06\n",
            "Degrees of freedom: 2\n",
            "Expected frequencies:\n",
            " [[103.7480315  64.2519685]\n",
            " [ 47.5511811  29.4488189]\n",
            " [397.7007874 246.2992126]]\n"
          ]
        }
      ]
    },
    {
      "cell_type": "markdown",
      "metadata": {
        "id": "p_LtWPW2vCKX"
      },
      "source": [
        "# <b>PREPARE DATA"
      ]
    },
    {
      "cell_type": "markdown",
      "metadata": {
        "id": "adjSLovQCCFa"
      },
      "source": [
        "<b>Sólo utilizaré tres variables 3 variables como predictores."
      ]
    },
    {
      "cell_type": "code",
      "execution_count": null,
      "metadata": {
        "id": "_AAYBTJPvCKX"
      },
      "outputs": [],
      "source": [
        "# Conjunto de datos de entrenamiento\n",
        "X_train = train[['ticket', 'clase_sexo', 'tarifa']]\n",
        "y_train = train.vida\n",
        "\n",
        "# Conjunto de datos de prueba\n",
        "X_test = test[['ticket', 'clase_sexo', 'tarifa']]"
      ]
    },
    {
      "cell_type": "code",
      "execution_count": null,
      "metadata": {
        "id": "Ft8z82O6vCKX"
      },
      "outputs": [],
      "source": [
        "num_features = X_train.select_dtypes(exclude='object').columns\n",
        "cat_features = X_train.select_dtypes(include='object').columns"
      ]
    },
    {
      "cell_type": "markdown",
      "metadata": {
        "id": "MrWtqDXTvCKY"
      },
      "source": [
        "### <b>TRANSFORMADOR"
      ]
    },
    {
      "cell_type": "code",
      "execution_count": null,
      "metadata": {
        "id": "ytZL44AmvCKY"
      },
      "outputs": [],
      "source": [
        "# Transformación de predictores\n",
        "# =============================================================================\n",
        "\n",
        "# numerical transformer pipeline (only contains 'tarifa')\n",
        "num_transformer = Pipeline([\n",
        "    ('imputer', SimpleImputer(strategy='median')),\n",
        "    (\"scaler\", RobustScaler()),\n",
        "                           ])\n",
        "\n",
        "# categorical transformer pipeline\n",
        "cat_transformer = Pipeline([ \n",
        "    ('imputer', SimpleImputer(strategy='most_frequent')),\n",
        "    ('ohe', OneHotEncoder(handle_unknown='ignore')),\n",
        "                            ])\n",
        "\n",
        "transformer = ColumnTransformer([\n",
        "    ('num_transfomer', num_transformer, num_features),\n",
        "    ('cat_transformer', cat_transformer, cat_features),\n",
        "                                ],remainder='passthrough')\n",
        "\n",
        "X_prepared = transformer.fit_transform(X_train)"
      ]
    },
    {
      "cell_type": "markdown",
      "metadata": {
        "id": "FDgrZyP6vCKY"
      },
      "source": [
        "### <b>SELECCIÓN DE MODELO"
      ]
    },
    {
      "cell_type": "code",
      "execution_count": null,
      "metadata": {
        "id": "VPwy-_jWvCKY",
        "outputId": "b8478cf0-6f9e-4626-8a54-c11ce8070bf0"
      },
      "outputs": [
        {
          "data": {
            "text/html": [
              "<div>\n",
              "<style scoped>\n",
              "    .dataframe tbody tr th:only-of-type {\n",
              "        vertical-align: middle;\n",
              "    }\n",
              "\n",
              "    .dataframe tbody tr th {\n",
              "        vertical-align: top;\n",
              "    }\n",
              "\n",
              "    .dataframe thead th {\n",
              "        text-align: right;\n",
              "    }\n",
              "</style>\n",
              "<table border=\"1\" class=\"dataframe\">\n",
              "  <thead>\n",
              "    <tr style=\"text-align: right;\">\n",
              "      <th></th>\n",
              "      <th>Precision</th>\n",
              "      <th>Recall</th>\n",
              "      <th>F1</th>\n",
              "    </tr>\n",
              "    <tr>\n",
              "      <th>Model</th>\n",
              "      <th></th>\n",
              "      <th></th>\n",
              "      <th></th>\n",
              "    </tr>\n",
              "  </thead>\n",
              "  <tbody>\n",
              "    <tr>\n",
              "      <th>random_forest</th>\n",
              "      <td>0.86</td>\n",
              "      <td>0.68</td>\n",
              "      <td>0.76</td>\n",
              "    </tr>\n",
              "    <tr>\n",
              "      <th>svc</th>\n",
              "      <td>0.8</td>\n",
              "      <td>0.69</td>\n",
              "      <td>0.74</td>\n",
              "    </tr>\n",
              "    <tr>\n",
              "      <th>knn</th>\n",
              "      <td>0.75</td>\n",
              "      <td>0.7</td>\n",
              "      <td>0.73</td>\n",
              "    </tr>\n",
              "    <tr>\n",
              "      <th>logistic</th>\n",
              "      <td>0.85</td>\n",
              "      <td>0.63</td>\n",
              "      <td>0.72</td>\n",
              "    </tr>\n",
              "  </tbody>\n",
              "</table>\n",
              "</div>"
            ],
            "text/plain": [
              "              Precision Recall    F1\n",
              "Model                               \n",
              "random_forest      0.86   0.68  0.76\n",
              "svc                 0.8   0.69  0.74\n",
              "knn                0.75    0.7  0.73\n",
              "logistic           0.85   0.63  0.72"
            ]
          },
          "execution_count": 48,
          "metadata": {},
          "output_type": "execute_result"
        }
      ],
      "source": [
        "# Búsqueda del modelo con mejor puntaje\n",
        "# ===================================================================================\n",
        "\n",
        "models = {'svc': SVC(), \n",
        "          'logistic': LogisticRegression(),\n",
        "          'random_forest': RandomForestClassifier(),\n",
        "          'knn': KNeighborsClassifier()}\n",
        "\n",
        "n_models = len(models)\n",
        "scores=[]\n",
        "for name, model in models.items():\n",
        "    y_train_pred = cross_val_predict(model, X_prepared, y_train, cv=10)\n",
        "    precision = np.mean(precision_score(y_train, y_train_pred)).round(2)\n",
        "    recall = np.mean(recall_score(y_train, y_train_pred)).round(2)\n",
        "    f1 = np.mean(f1_score(y_train, y_train_pred)).round(2)\n",
        "\n",
        "    model_scores = np.array([name, precision, recall, f1])\n",
        "    scores.append(np.array(model_scores))\n",
        "          \n",
        "scores_df = pd.DataFrame(scores, columns=['Model', 'Precision', 'Recall', 'F1']); scores_df.set_index('Model', inplace=True)\n",
        "scores_df.sort_values(by='F1', ascending=False)"
      ]
    },
    {
      "cell_type": "code",
      "execution_count": null,
      "metadata": {
        "id": "NaiJNs35vCKY",
        "outputId": "f31435b8-ccec-4c71-9f83-f3777fdfcaf0"
      },
      "outputs": [
        {
          "name": "stdout",
          "output_type": "stream",
          "text": [
            "[[507  42]\n",
            " [117 225]]\n",
            "              precision    recall  f1-score   support\n",
            "\n",
            "           0       0.81      0.92      0.86       549\n",
            "           1       0.84      0.66      0.74       342\n",
            "\n",
            "    accuracy                           0.82       891\n",
            "   macro avg       0.83      0.79      0.80       891\n",
            "weighted avg       0.82      0.82      0.82       891\n",
            "\n"
          ]
        }
      ],
      "source": [
        "# Reporte de puntuaciones del modelo Random Forest\n",
        "# ==============================================================================\n",
        "rforest_clf = RandomForestClassifier(random_state=42)\n",
        "y_pred = cross_val_predict(rforest_clf, X_prepared, y_train)\n",
        "print(confusion_matrix(y_train, y_pred))\n",
        "print(classification_report(y_train, y_pred))"
      ]
    },
    {
      "cell_type": "code",
      "execution_count": null,
      "metadata": {
        "id": "4lrLWt07vCKZ",
        "outputId": "c5091411-b94d-4e7e-a503-e21056b8519a"
      },
      "outputs": [
        {
          "data": {
            "image/png": "[encoded data removed]",
            "text/plain": [
              "<Figure size 432x288 with 1 Axes>"
            ]
          },
          "metadata": {},
          "output_type": "display_data"
        }
      ],
      "source": [
        "# Área bajo la curva\n",
        "# ================================================================================\n",
        "\n",
        "y_scores = cross_val_predict(rforest_clf, X_prepared, y_train, cv=5, n_jobs=-1)\n",
        "threshold = 0.5\n",
        "y_with_thres = (y_scores > threshold)\n",
        "fpr, tpr, thresholds = roc_curve(y_train, y_scores)\n",
        "\n",
        "def plot_roc_curve(fpr, tpr, label=None):\n",
        "    plt.plot(fpr, tpr, label=label)\n",
        "    plt.plot([0, 1], [0,1], 'k--')\n",
        "    plt.axis([0, 1, 0, 1])\n",
        "    plt.title('ROC Curve')\n",
        "    plt.xlabel('False Positive Rate')\n",
        "    plt.ylabel('True Positive Rate')\n",
        "    \n",
        "plot_roc_curve(fpr, tpr)\n",
        "plt.show()"
      ]
    },
    {
      "cell_type": "code",
      "execution_count": null,
      "metadata": {
        "id": "nXC54iqvvCKZ",
        "outputId": "58f35054-16bc-4a08-9f2e-c0b291931a5a"
      },
      "outputs": [
        {
          "data": {
            "text/plain": [
              "0.7906960023008341"
            ]
          },
          "execution_count": 51,
          "metadata": {},
          "output_type": "execute_result"
        }
      ],
      "source": [
        "# Puntaje del area bajo la curva\n",
        "# ============================================================================================\n",
        "roc_auc_score(y_train, y_pred)"
      ]
    },
    {
      "cell_type": "markdown",
      "metadata": {
        "id": "eLlXi0D3CCFc"
      },
      "source": [
        "### <b>CONSTRUCCIÓN DEL MODELO (RANDOM FOREST)"
      ]
    },
    {
      "cell_type": "code",
      "execution_count": null,
      "metadata": {
        "id": "bsf018H3vCKZ"
      },
      "outputs": [],
      "source": [
        "# Valores para hiperparámetros\n",
        "# ===================================================================\n",
        "# Cantidad de árboles\n",
        "n_estimators = [int(x) for x in np.linspace(start=10, stop=500)]\n",
        "# Cantidad de características a considerar en cada split\n",
        "max_features = ['auto', 'sqrt', None]\n",
        "# Máximo de niveles por árbol\n",
        "max_depth = [int(x) for x in np.linspace(5, 50, num=45)]\n",
        "max_depth.append(None)\n",
        "# Mínimas muestras requeridad para dividir un nodo\n",
        "min_samples_split = [2, 4, 6, 8, 10]\n",
        "# Cantidad de muestras requeridas para cada hoja de nodo\n",
        "min_samples_leaf = [1, 2, 4, 8, 10, 12, 14, 16, 20, 25, 30]\n",
        "# Método de selección de muestras para entrenamiento en cada árbol\n",
        "bootstrap = [True]\n",
        "\n",
        "# Create the random grid\n",
        "random_grid = {'n_estimators': n_estimators,\n",
        "               'max_features': max_features,\n",
        "               'max_depth': max_depth,\n",
        "               'min_samples_split': min_samples_split,\n",
        "               'min_samples_leaf': min_samples_leaf,\n",
        "               'bootstrap': bootstrap}"
      ]
    },
    {
      "cell_type": "code",
      "execution_count": null,
      "metadata": {
        "id": "GEe5QYGnCCFc",
        "outputId": "51117428-967c-44fd-a1c1-6c0818d46b44"
      },
      "outputs": [
        {
          "data": {
            "text/plain": [
              "RandomizedSearchCV(cv=3, estimator=RandomForestClassifier(random_state=23),\n",
              "                   n_iter=100, n_jobs=-1,\n",
              "                   param_distributions={'bootstrap': [True],\n",
              "                                        'max_depth': [5, 6, 7, 8, 9, 10, 11, 12,\n",
              "                                                      13, 14, 15, 16, 17, 18,\n",
              "                                                      19, 20, 21, 22, 23, 24,\n",
              "                                                      25, 26, 27, 28, 29, 30,\n",
              "                                                      31, 32, 33, 34, ...],\n",
              "                                        'max_features': ['auto', 'sqrt', None],\n",
              "                                        'min_samples_leaf': [1, 2, 4, 8, 10, 12,\n",
              "                                                             14, 16, 20, 25,\n",
              "                                                             30],\n",
              "                                        'min_samples_split': [2, 4, 6, 8, 10],\n",
              "                                        'n_estimators': [10, 20, 30, 40, 50, 60,\n",
              "                                                         70, 80, 90, 100, 110,\n",
              "                                                         120, 130, 140, 150,\n",
              "                                                         160, 170, 180, 190,\n",
              "                                                         200, 210, 220, 230,\n",
              "                                                         240, 250, 260, 270,\n",
              "                                                         280, 290, 300, ...]},\n",
              "                   random_state=123, scoring='f1')"
            ]
          },
          "execution_count": 54,
          "metadata": {},
          "output_type": "execute_result"
        }
      ],
      "source": [
        "# Búsqueda aleatoria de hiperparámetros - RandomizedSearchCV\n",
        "# ==============================================================================\n",
        "rforest_classifier = RandomForestClassifier(random_state=23)\n",
        "rf_random = RandomizedSearchCV(estimator=rforest_classifier, param_distributions=random_grid, n_iter=100, scoring='f1',\n",
        "                               cv=3, random_state=123, n_jobs=-1,\n",
        "                               return_train_score=False)\n",
        "\n",
        "rf_random.fit(X_prepared, y_train)"
      ]
    },
    {
      "cell_type": "code",
      "execution_count": null,
      "metadata": {
        "id": "9RzmeHQCCCFd",
        "outputId": "f90dac71-628c-4425-ca7d-74e4ffebd5ce"
      },
      "outputs": [
        {
          "data": {
            "text/plain": [
              "{'n_estimators': 230,\n",
              " 'min_samples_split': 8,\n",
              " 'min_samples_leaf': 1,\n",
              " 'max_features': None,\n",
              " 'max_depth': 45,\n",
              " 'bootstrap': True}"
            ]
          },
          "execution_count": 55,
          "metadata": {},
          "output_type": "execute_result"
        }
      ],
      "source": [
        "# Mejores hiperparámetros aleatorios\n",
        "# ==============================================================================\n",
        "rf_random.best_params_"
      ]
    },
    {
      "cell_type": "code",
      "execution_count": null,
      "metadata": {
        "id": "s-W7sCqevCKZ",
        "outputId": "a8e9f1d4-b253-470b-9c7c-bd92d3be24ed"
      },
      "outputs": [
        {
          "data": {
            "text/plain": [
              "array([[505,  44],\n",
              "       [108, 234]])"
            ]
          },
          "execution_count": 56,
          "metadata": {},
          "output_type": "execute_result"
        }
      ],
      "source": [
        "# Resultados de predicción del modelo con los mejores hiperparámetros aleatorios.\n",
        "# ==============================================================================\n",
        "rf_random = rf_random.best_estimator_\n",
        "rf_random_pred = cross_val_predict(rf_random, X_prepared, y_train, cv=10, n_jobs=-1)\n",
        "confusion_matrix(y_train, rf_random_pred)"
      ]
    },
    {
      "cell_type": "code",
      "execution_count": null,
      "metadata": {
        "id": "n8rZVAhbCCFd",
        "outputId": "39f0cab6-5bf6-4a77-d180-4ac8b7acfc06"
      },
      "outputs": [
        {
          "name": "stdout",
          "output_type": "stream",
          "text": [
            "              precision    recall  f1-score   support\n",
            "\n",
            "           0       0.82      0.92      0.87       549\n",
            "           1       0.84      0.68      0.75       342\n",
            "\n",
            "    accuracy                           0.83       891\n",
            "   macro avg       0.83      0.80      0.81       891\n",
            "weighted avg       0.83      0.83      0.83       891\n",
            "\n"
          ]
        }
      ],
      "source": [
        "# Reporte de puntuaciones del modelo con los mejores hiperparámetros aleatorios.\n",
        "# ==============================================================================\n",
        "print(classification_report(y_train, rf_random_pred))"
      ]
    },
    {
      "cell_type": "markdown",
      "metadata": {
        "id": "YY7po1anCCFd"
      },
      "source": [
        "<div style=\"color:#9A7D0A;\n",
        "           display:fill;\n",
        "           padding: 5px;\n",
        "           border-radius:10px;\n",
        "           border-style: solid;\n",
        "           border-color: #F9E79F;\n",
        "           background-color:#FCF3CF;\n",
        "           font-size:15px;\n",
        "           font-family: Didot;\n",
        "           letter-spacing:0.5px\">\n",
        "    <b>📝 Note:</b> Utilizando <b>F1-score</b> como métrica para evaluar el rendimiento del modelo, se puede apreciar un muy ligero incremento en la puntuación. 0.01 <b>(0.87)</b> para clase 0 y 0.01 <b>(0.75)</b> para clase 1.\n",
        "</div>"
      ]
    },
    {
      "cell_type": "markdown",
      "metadata": {
        "id": "EGhkqqotCCFe"
      },
      "source": [
        "#### <b>param_grid "
      ]
    },
    {
      "cell_type": "markdown",
      "metadata": {
        "id": "rysHGfbWCCFe"
      },
      "source": [
        "<b> Tomando como referencia los mejores parámetros arrojados por <b>RandomizedGridCV</b>, busco muevos parámetros que puedan mejor la precisión del modelo."
      ]
    },
    {
      "cell_type": "code",
      "execution_count": null,
      "metadata": {
        "id": "Jq519JbsCCFe",
        "outputId": "6f40f6ba-34b3-4c0f-cced-93a85299ec71"
      },
      "outputs": [
        {
          "data": {
            "text/plain": [
              "GridSearchCV(cv=3, estimator=RandomForestClassifier(random_state=65), n_jobs=-1,\n",
              "             param_grid={'bootstrap': [True], 'max_depth': [40, 45, 55, 60],\n",
              "                         'max_features': [None], 'min_samples_leaf': [1, 2, 3],\n",
              "                         'min_samples_split': [7, 8, 9],\n",
              "                         'n_estimators': [200, 210, 220, 230, 240]},\n",
              "             scoring='f1')"
            ]
          },
          "execution_count": 58,
          "metadata": {},
          "output_type": "execute_result"
        }
      ],
      "source": [
        "param_grid = {\n",
        "    'n_estimators': [200, 210, 220, 230, 240],\n",
        "    'min_samples_split': [7, 8, 9],\n",
        "    'min_samples_leaf': [1, 2, 3],\n",
        "    'max_features': [None],\n",
        "    'max_depth': [40, 45, 55, 60],\n",
        "    'bootstrap': [True]\n",
        "}\n",
        "\n",
        "rforest_classifier2 = RandomForestClassifier(random_state=65)\n",
        "grid_search = GridSearchCV(estimator=rforest_classifier2, param_grid =param_grid,\n",
        "                           cv=3, n_jobs=-1, scoring='f1',\n",
        "                           return_train_score=False)\n",
        "\n",
        "grid_search.fit(X_prepared, y_train)"
      ]
    },
    {
      "cell_type": "code",
      "execution_count": null,
      "metadata": {
        "id": "CipsftUeCCFe",
        "outputId": "9bbc795e-47de-4314-bf0b-25bbf8fa58c1"
      },
      "outputs": [
        {
          "data": {
            "text/plain": [
              "{'bootstrap': True,\n",
              " 'max_depth': 40,\n",
              " 'max_features': None,\n",
              " 'min_samples_leaf': 1,\n",
              " 'min_samples_split': 7,\n",
              " 'n_estimators': 210}"
            ]
          },
          "execution_count": 59,
          "metadata": {},
          "output_type": "execute_result"
        }
      ],
      "source": [
        "# Mejores parámetros con GridSearch\n",
        "# ==============================================================================\n",
        "grid_search.best_params_"
      ]
    },
    {
      "cell_type": "code",
      "execution_count": null,
      "metadata": {
        "id": "cwzax3QHCCFf",
        "outputId": "7c5b63a5-e4d2-4ef2-fc79-14a91891da12"
      },
      "outputs": [
        {
          "data": {
            "text/plain": [
              "array([[505,  44],\n",
              "       [107, 235]])"
            ]
          },
          "execution_count": 60,
          "metadata": {},
          "output_type": "execute_result"
        }
      ],
      "source": [
        "# Resultados de predicción del modelo con los mejores parámetros GridSearchCV\n",
        "# ==============================================================================\n",
        "grid_search_model = grid_search.best_estimator_\n",
        "grid_pred = cross_val_predict(grid_search_model, X_prepared, y_train, cv=10, n_jobs=-1)\n",
        "confusion_matrix(y_train, grid_pred)"
      ]
    },
    {
      "cell_type": "code",
      "execution_count": null,
      "metadata": {
        "id": "lqLr6TXcCCFf",
        "outputId": "eecf3eb6-8894-4c34-ecb6-d36c8f0c113b"
      },
      "outputs": [
        {
          "name": "stdout",
          "output_type": "stream",
          "text": [
            "              precision    recall  f1-score   support\n",
            "\n",
            "           0       0.83      0.92      0.87       549\n",
            "           1       0.84      0.69      0.76       342\n",
            "\n",
            "    accuracy                           0.83       891\n",
            "   macro avg       0.83      0.80      0.81       891\n",
            "weighted avg       0.83      0.83      0.83       891\n",
            "\n"
          ]
        }
      ],
      "source": [
        "# Reporte de puntuaciones del modelo Random Forest utilizando GridSearchCV\n",
        "# ==============================================================================\n",
        "print(classification_report(y_train, grid_pred))"
      ]
    },
    {
      "cell_type": "markdown",
      "metadata": {
        "id": "oi6vaBhnCCFf"
      },
      "source": [
        "Hubo una pequeña mejora para la clasificación de la clase 1 en un 0.01 (0.76) con el modelo <b>grid_model</b>."
      ]
    },
    {
      "cell_type": "code",
      "execution_count": null,
      "metadata": {
        "id": "GUUlNFmBCCFf",
        "outputId": "8eed5114-6515-41b3-d7a6-2e0cefe8fdde"
      },
      "outputs": [
        {
          "data": {
            "text/plain": [
              "GridSearchCV(cv=3, estimator=RandomForestClassifier(random_state=12), n_jobs=-1,\n",
              "             param_grid={'bootstrap': [True], 'max_depth': [38, 40, 42],\n",
              "                         'max_features': [None], 'min_samples_leaf': [1],\n",
              "                         'min_samples_split': [7],\n",
              "                         'n_estimators': [205, 210, 215]},\n",
              "             scoring='f1')"
            ]
          },
          "execution_count": 64,
          "metadata": {},
          "output_type": "execute_result"
        }
      ],
      "source": [
        "# Última búsqueda de parámetros\n",
        "# ================================================================================\n",
        "param_grid2 = {'bootstrap': [True],\n",
        " 'max_depth': [38, 40, 42],\n",
        " 'max_features': [None],\n",
        " 'min_samples_leaf': [1],\n",
        " 'min_samples_split': [7],\n",
        " 'n_estimators': [205, 210, 215]}\n",
        "\n",
        "rforest_classifier3 = RandomForestClassifier(random_state=12)\n",
        "grid_search2 = GridSearchCV(estimator=rforest_classifier3, param_grid =param_grid2,\n",
        "                           cv=3, n_jobs=-1, scoring='f1',\n",
        "                           return_train_score=False)\n",
        "\n",
        "grid_search2.fit(X_prepared, y_train)"
      ]
    },
    {
      "cell_type": "code",
      "execution_count": null,
      "metadata": {
        "id": "0aKb2DlFCCFf",
        "outputId": "77597247-32a1-4c5d-f1f2-3c9d2d129459"
      },
      "outputs": [
        {
          "data": {
            "text/plain": [
              "{'bootstrap': True,\n",
              " 'max_depth': 38,\n",
              " 'max_features': None,\n",
              " 'min_samples_leaf': 1,\n",
              " 'min_samples_split': 7,\n",
              " 'n_estimators': 210}"
            ]
          },
          "execution_count": 66,
          "metadata": {},
          "output_type": "execute_result"
        }
      ],
      "source": [
        "grid_search2.best_params_"
      ]
    },
    {
      "cell_type": "code",
      "execution_count": null,
      "metadata": {
        "id": "FK2FVe37CCFg",
        "outputId": "607db7c3-ceea-4915-c4d3-b9a4e9be1660"
      },
      "outputs": [
        {
          "data": {
            "text/plain": [
              "array([[505,  44],\n",
              "       [107, 235]])"
            ]
          },
          "execution_count": 67,
          "metadata": {},
          "output_type": "execute_result"
        }
      ],
      "source": [
        "# Resultados de predicción del modelo con los mejores parámetros GridSearchCV\n",
        "# ==============================================================================\n",
        "grid_search_model2 = grid_search2.best_estimator_\n",
        "grid_pred2 = cross_val_predict(grid_search_model2, X_prepared, y_train, cv=10, n_jobs=-1)\n",
        "confusion_matrix(y_train, grid_pred2)"
      ]
    },
    {
      "cell_type": "code",
      "execution_count": null,
      "metadata": {
        "id": "stkMc0ubCCFg",
        "outputId": "1c063bf4-bad4-4ea0-b7bc-b3c3490c0050"
      },
      "outputs": [
        {
          "name": "stdout",
          "output_type": "stream",
          "text": [
            "              precision    recall  f1-score   support\n",
            "\n",
            "           0       0.83      0.92      0.87       549\n",
            "           1       0.84      0.69      0.76       342\n",
            "\n",
            "    accuracy                           0.83       891\n",
            "   macro avg       0.83      0.80      0.81       891\n",
            "weighted avg       0.83      0.83      0.83       891\n",
            "\n"
          ]
        }
      ],
      "source": [
        "# Reporte de puntuaciones del modelo Random Forest utilizando GridSearchCV\n",
        "# ==============================================================================\n",
        "print(classification_report(y_train, grid_pred2))"
      ]
    },
    {
      "cell_type": "markdown",
      "metadata": {
        "id": "8GkRqh_oCCFg"
      },
      "source": [
        "No hubo mejoras en la capacidad de predicción sobre el modelo anterior. Tomo este como modelo final."
      ]
    },
    {
      "cell_type": "code",
      "execution_count": null,
      "metadata": {
        "id": "JSswDk1aCCFg"
      },
      "outputs": [],
      "source": [
        "final_model = grid_search_model2"
      ]
    },
    {
      "cell_type": "markdown",
      "metadata": {
        "id": "UaeYcKINCCFg"
      },
      "source": [
        "# <b>PREDICCIÓN"
      ]
    },
    {
      "cell_type": "code",
      "execution_count": null,
      "metadata": {
        "id": "rXNTZ1IWvCKa"
      },
      "outputs": [],
      "source": [
        "# Transformación de los predictores en el conjunto de datos de prueba\n",
        "test_prepared = transformer.transform(X_test)"
      ]
    },
    {
      "cell_type": "code",
      "execution_count": null,
      "metadata": {
        "id": "nGr9BxTmvCKb"
      },
      "outputs": [],
      "source": [
        "# Predicciones\n",
        "# ====================================================================================\n",
        "predictions = final_model.predict(test_prepared)"
      ]
    },
    {
      "cell_type": "code",
      "execution_count": null,
      "metadata": {
        "id": "VxmtYMx0vCKb"
      },
      "outputs": [],
      "source": [
        "test['vida'] = predictions\n",
        "titanic_preds = test[['id', 'vida']]\n",
        "titanic_preds.columns=['PassengerId', 'Survived']\n",
        "titanic_preds.to_csv('submission2.csv',index=False)"
      ]
    },
    {
      "cell_type": "code",
      "execution_count": null,
      "metadata": {
        "id": "TeyqrDGACCFh",
        "outputId": "c48c6a76-ac78-4bf2-938d-f05b1c54c0ea"
      },
      "outputs": [
        {
          "data": {
            "text/html": [
              "<div>\n",
              "<style scoped>\n",
              "    .dataframe tbody tr th:only-of-type {\n",
              "        vertical-align: middle;\n",
              "    }\n",
              "\n",
              "    .dataframe tbody tr th {\n",
              "        vertical-align: top;\n",
              "    }\n",
              "\n",
              "    .dataframe thead th {\n",
              "        text-align: right;\n",
              "    }\n",
              "</style>\n",
              "<table border=\"1\" class=\"dataframe\">\n",
              "  <thead>\n",
              "    <tr style=\"text-align: right;\">\n",
              "      <th></th>\n",
              "      <th>Survived</th>\n",
              "    </tr>\n",
              "    <tr>\n",
              "      <th>PassengerId</th>\n",
              "      <th></th>\n",
              "    </tr>\n",
              "  </thead>\n",
              "  <tbody>\n",
              "    <tr>\n",
              "      <th>892</th>\n",
              "      <td>0</td>\n",
              "    </tr>\n",
              "    <tr>\n",
              "      <th>893</th>\n",
              "      <td>1</td>\n",
              "    </tr>\n",
              "    <tr>\n",
              "      <th>894</th>\n",
              "      <td>0</td>\n",
              "    </tr>\n",
              "    <tr>\n",
              "      <th>895</th>\n",
              "      <td>0</td>\n",
              "    </tr>\n",
              "    <tr>\n",
              "      <th>896</th>\n",
              "      <td>1</td>\n",
              "    </tr>\n",
              "    <tr>\n",
              "      <th>...</th>\n",
              "      <td>...</td>\n",
              "    </tr>\n",
              "    <tr>\n",
              "      <th>1305</th>\n",
              "      <td>0</td>\n",
              "    </tr>\n",
              "    <tr>\n",
              "      <th>1306</th>\n",
              "      <td>1</td>\n",
              "    </tr>\n",
              "    <tr>\n",
              "      <th>1307</th>\n",
              "      <td>0</td>\n",
              "    </tr>\n",
              "    <tr>\n",
              "      <th>1308</th>\n",
              "      <td>0</td>\n",
              "    </tr>\n",
              "    <tr>\n",
              "      <th>1309</th>\n",
              "      <td>0</td>\n",
              "    </tr>\n",
              "  </tbody>\n",
              "</table>\n",
              "<p>418 rows × 1 columns</p>\n",
              "</div>"
            ],
            "text/plain": [
              "             Survived\n",
              "PassengerId          \n",
              "892                 0\n",
              "893                 1\n",
              "894                 0\n",
              "895                 0\n",
              "896                 1\n",
              "...               ...\n",
              "1305                0\n",
              "1306                1\n",
              "1307                0\n",
              "1308                0\n",
              "1309                0\n",
              "\n",
              "[418 rows x 1 columns]"
            ]
          },
          "execution_count": 93,
          "metadata": {},
          "output_type": "execute_result"
        }
      ],
      "source": [
        "# Resultados de predicciones\n",
        "# =====================================================================================\n",
        "titanic_preds"
      ]
    },
    {
      "cell_type": "code",
      "execution_count": null,
      "metadata": {
        "id": "3pewltpfCCFh"
      },
      "outputs": [],
      "source": []
    }
  ],
  "metadata": {
    "accelerator": "GPU",
    "colab": {
      "name": "Copy of Titanic-Copy1.ipynb",
      "provenance": []
    },
    "kernelspec": {
      "display_name": "Python 3 (ipykernel)",
      "language": "python",
      "name": "python3"
    },
    "language_info": {
      "codemirror_mode": {
        "name": "ipython",
        "version": 3
      },
      "file_extension": ".py",
      "mimetype": "text/x-python",
      "name": "python",
      "nbconvert_exporter": "python",
      "pygments_lexer": "ipython3",
      "version": "3.8.12"
    }
  },
  "nbformat": 4,
  "nbformat_minor": 0
}