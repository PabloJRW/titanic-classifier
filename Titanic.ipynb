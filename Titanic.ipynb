{
 "cells": [
  {
   "cell_type": "code",
   "execution_count": 1,
   "metadata": {
    "id": "9eR0Fb5BvCJ6"
   },
   "outputs": [],
   "source": [
    "import numpy as np\n",
    "import pandas as pd\n",
    "import matplotlib.pyplot as plt\n",
    "import seaborn as sns\n",
    "import re"
   ]
  },
  {
   "cell_type": "code",
   "execution_count": 2,
   "metadata": {
    "id": "AZDFft6wvCKA"
   },
   "outputs": [],
   "source": [
    "# colore settings:\n",
    "sns.set(rc={'axes.facecolor':\"#EAEDED\",\n",
    "            \"figure.facecolor\":\"#AED6F1\",\n",
    "            \"grid.color\":\"#E0D3AF\",\n",
    "            \"axes.edgecolor\":\"#424949\",\n",
    "            \"axes.labelcolor\":\"#424949\",\n",
    "            \"text.color\":\"#424949\" # color for headlines and sub headlines\n",
    "           }) "
   ]
  },
  {
   "cell_type": "code",
   "execution_count": 3,
   "metadata": {
    "id": "eTsQ946cvCKB"
   },
   "outputs": [],
   "source": [
    "df_train = pd.read_csv('https://github.com/PabloJRW/titanic-classifier/raw/main/train.csv')\n",
    "df_test = pd.read_csv('https://github.com/PabloJRW/titanic-classifier/raw/main/test.csv')"
   ]
  },
  {
   "cell_type": "markdown",
   "metadata": {
    "id": "hMeL5fOWvCKB"
   },
   "source": [
    "# <b>EXPLORING DATA"
   ]
  },
  {
   "cell_type": "code",
   "execution_count": 4,
   "metadata": {
    "colab": {
     "base_uri": "https://localhost:8080/",
     "height": 374
    },
    "id": "DVMdclSRvCKC",
    "outputId": "23a50411-9682-47ce-ada4-c627318aa4ce"
   },
   "outputs": [
    {
     "data": {
      "text/html": [
       "<div>\n",
       "<style scoped>\n",
       "    .dataframe tbody tr th:only-of-type {\n",
       "        vertical-align: middle;\n",
       "    }\n",
       "\n",
       "    .dataframe tbody tr th {\n",
       "        vertical-align: top;\n",
       "    }\n",
       "\n",
       "    .dataframe thead th {\n",
       "        text-align: right;\n",
       "    }\n",
       "</style>\n",
       "<table border=\"1\" class=\"dataframe\">\n",
       "  <thead>\n",
       "    <tr style=\"text-align: right;\">\n",
       "      <th></th>\n",
       "      <th>PassengerId</th>\n",
       "      <th>Survived</th>\n",
       "      <th>Pclass</th>\n",
       "      <th>Name</th>\n",
       "      <th>Sex</th>\n",
       "      <th>Age</th>\n",
       "      <th>SibSp</th>\n",
       "      <th>Parch</th>\n",
       "      <th>Ticket</th>\n",
       "      <th>Fare</th>\n",
       "      <th>Cabin</th>\n",
       "      <th>Embarked</th>\n",
       "    </tr>\n",
       "  </thead>\n",
       "  <tbody>\n",
       "    <tr>\n",
       "      <th>0</th>\n",
       "      <td>1</td>\n",
       "      <td>0</td>\n",
       "      <td>3</td>\n",
       "      <td>Braund, Mr. Owen Harris</td>\n",
       "      <td>male</td>\n",
       "      <td>22.0</td>\n",
       "      <td>1</td>\n",
       "      <td>0</td>\n",
       "      <td>A/5 21171</td>\n",
       "      <td>7.2500</td>\n",
       "      <td>NaN</td>\n",
       "      <td>S</td>\n",
       "    </tr>\n",
       "    <tr>\n",
       "      <th>1</th>\n",
       "      <td>2</td>\n",
       "      <td>1</td>\n",
       "      <td>1</td>\n",
       "      <td>Cumings, Mrs. John Bradley (Florence Briggs Th...</td>\n",
       "      <td>female</td>\n",
       "      <td>38.0</td>\n",
       "      <td>1</td>\n",
       "      <td>0</td>\n",
       "      <td>PC 17599</td>\n",
       "      <td>71.2833</td>\n",
       "      <td>C85</td>\n",
       "      <td>C</td>\n",
       "    </tr>\n",
       "    <tr>\n",
       "      <th>2</th>\n",
       "      <td>3</td>\n",
       "      <td>1</td>\n",
       "      <td>3</td>\n",
       "      <td>Heikkinen, Miss. Laina</td>\n",
       "      <td>female</td>\n",
       "      <td>26.0</td>\n",
       "      <td>0</td>\n",
       "      <td>0</td>\n",
       "      <td>STON/O2. 3101282</td>\n",
       "      <td>7.9250</td>\n",
       "      <td>NaN</td>\n",
       "      <td>S</td>\n",
       "    </tr>\n",
       "    <tr>\n",
       "      <th>3</th>\n",
       "      <td>4</td>\n",
       "      <td>1</td>\n",
       "      <td>1</td>\n",
       "      <td>Futrelle, Mrs. Jacques Heath (Lily May Peel)</td>\n",
       "      <td>female</td>\n",
       "      <td>35.0</td>\n",
       "      <td>1</td>\n",
       "      <td>0</td>\n",
       "      <td>113803</td>\n",
       "      <td>53.1000</td>\n",
       "      <td>C123</td>\n",
       "      <td>S</td>\n",
       "    </tr>\n",
       "    <tr>\n",
       "      <th>4</th>\n",
       "      <td>5</td>\n",
       "      <td>0</td>\n",
       "      <td>3</td>\n",
       "      <td>Allen, Mr. William Henry</td>\n",
       "      <td>male</td>\n",
       "      <td>35.0</td>\n",
       "      <td>0</td>\n",
       "      <td>0</td>\n",
       "      <td>373450</td>\n",
       "      <td>8.0500</td>\n",
       "      <td>NaN</td>\n",
       "      <td>S</td>\n",
       "    </tr>\n",
       "  </tbody>\n",
       "</table>\n",
       "</div>"
      ],
      "text/plain": [
       "   PassengerId  Survived  Pclass  \\\n",
       "0            1         0       3   \n",
       "1            2         1       1   \n",
       "2            3         1       3   \n",
       "3            4         1       1   \n",
       "4            5         0       3   \n",
       "\n",
       "                                                Name     Sex   Age  SibSp  \\\n",
       "0                            Braund, Mr. Owen Harris    male  22.0      1   \n",
       "1  Cumings, Mrs. John Bradley (Florence Briggs Th...  female  38.0      1   \n",
       "2                             Heikkinen, Miss. Laina  female  26.0      0   \n",
       "3       Futrelle, Mrs. Jacques Heath (Lily May Peel)  female  35.0      1   \n",
       "4                           Allen, Mr. William Henry    male  35.0      0   \n",
       "\n",
       "   Parch            Ticket     Fare Cabin Embarked  \n",
       "0      0         A/5 21171   7.2500   NaN        S  \n",
       "1      0          PC 17599  71.2833   C85        C  \n",
       "2      0  STON/O2. 3101282   7.9250   NaN        S  \n",
       "3      0            113803  53.1000  C123        S  \n",
       "4      0            373450   8.0500   NaN        S  "
      ]
     },
     "execution_count": 4,
     "metadata": {},
     "output_type": "execute_result"
    }
   ],
   "source": [
    "df_train.head(5)"
   ]
  },
  {
   "cell_type": "code",
   "execution_count": 5,
   "metadata": {
    "colab": {
     "base_uri": "https://localhost:8080/",
     "height": 297
    },
    "id": "DTbgdZolvCKD",
    "outputId": "7b8b89d1-a904-47bc-86d1-f5862d3c7508"
   },
   "outputs": [
    {
     "data": {
      "text/html": [
       "<div>\n",
       "<style scoped>\n",
       "    .dataframe tbody tr th:only-of-type {\n",
       "        vertical-align: middle;\n",
       "    }\n",
       "\n",
       "    .dataframe tbody tr th {\n",
       "        vertical-align: top;\n",
       "    }\n",
       "\n",
       "    .dataframe thead th {\n",
       "        text-align: right;\n",
       "    }\n",
       "</style>\n",
       "<table border=\"1\" class=\"dataframe\">\n",
       "  <thead>\n",
       "    <tr style=\"text-align: right;\">\n",
       "      <th></th>\n",
       "      <th>PassengerId</th>\n",
       "      <th>Survived</th>\n",
       "      <th>Pclass</th>\n",
       "      <th>Age</th>\n",
       "      <th>SibSp</th>\n",
       "      <th>Parch</th>\n",
       "      <th>Fare</th>\n",
       "    </tr>\n",
       "  </thead>\n",
       "  <tbody>\n",
       "    <tr>\n",
       "      <th>count</th>\n",
       "      <td>891.000000</td>\n",
       "      <td>891.000000</td>\n",
       "      <td>891.000000</td>\n",
       "      <td>714.000000</td>\n",
       "      <td>891.000000</td>\n",
       "      <td>891.000000</td>\n",
       "      <td>891.000000</td>\n",
       "    </tr>\n",
       "    <tr>\n",
       "      <th>mean</th>\n",
       "      <td>446.000000</td>\n",
       "      <td>0.383838</td>\n",
       "      <td>2.308642</td>\n",
       "      <td>29.699118</td>\n",
       "      <td>0.523008</td>\n",
       "      <td>0.381594</td>\n",
       "      <td>32.204208</td>\n",
       "    </tr>\n",
       "    <tr>\n",
       "      <th>std</th>\n",
       "      <td>257.353842</td>\n",
       "      <td>0.486592</td>\n",
       "      <td>0.836071</td>\n",
       "      <td>14.526497</td>\n",
       "      <td>1.102743</td>\n",
       "      <td>0.806057</td>\n",
       "      <td>49.693429</td>\n",
       "    </tr>\n",
       "    <tr>\n",
       "      <th>min</th>\n",
       "      <td>1.000000</td>\n",
       "      <td>0.000000</td>\n",
       "      <td>1.000000</td>\n",
       "      <td>0.420000</td>\n",
       "      <td>0.000000</td>\n",
       "      <td>0.000000</td>\n",
       "      <td>0.000000</td>\n",
       "    </tr>\n",
       "    <tr>\n",
       "      <th>25%</th>\n",
       "      <td>223.500000</td>\n",
       "      <td>0.000000</td>\n",
       "      <td>2.000000</td>\n",
       "      <td>20.125000</td>\n",
       "      <td>0.000000</td>\n",
       "      <td>0.000000</td>\n",
       "      <td>7.910400</td>\n",
       "    </tr>\n",
       "    <tr>\n",
       "      <th>50%</th>\n",
       "      <td>446.000000</td>\n",
       "      <td>0.000000</td>\n",
       "      <td>3.000000</td>\n",
       "      <td>28.000000</td>\n",
       "      <td>0.000000</td>\n",
       "      <td>0.000000</td>\n",
       "      <td>14.454200</td>\n",
       "    </tr>\n",
       "    <tr>\n",
       "      <th>75%</th>\n",
       "      <td>668.500000</td>\n",
       "      <td>1.000000</td>\n",
       "      <td>3.000000</td>\n",
       "      <td>38.000000</td>\n",
       "      <td>1.000000</td>\n",
       "      <td>0.000000</td>\n",
       "      <td>31.000000</td>\n",
       "    </tr>\n",
       "    <tr>\n",
       "      <th>max</th>\n",
       "      <td>891.000000</td>\n",
       "      <td>1.000000</td>\n",
       "      <td>3.000000</td>\n",
       "      <td>80.000000</td>\n",
       "      <td>8.000000</td>\n",
       "      <td>6.000000</td>\n",
       "      <td>512.329200</td>\n",
       "    </tr>\n",
       "  </tbody>\n",
       "</table>\n",
       "</div>"
      ],
      "text/plain": [
       "       PassengerId    Survived      Pclass         Age       SibSp  \\\n",
       "count   891.000000  891.000000  891.000000  714.000000  891.000000   \n",
       "mean    446.000000    0.383838    2.308642   29.699118    0.523008   \n",
       "std     257.353842    0.486592    0.836071   14.526497    1.102743   \n",
       "min       1.000000    0.000000    1.000000    0.420000    0.000000   \n",
       "25%     223.500000    0.000000    2.000000   20.125000    0.000000   \n",
       "50%     446.000000    0.000000    3.000000   28.000000    0.000000   \n",
       "75%     668.500000    1.000000    3.000000   38.000000    1.000000   \n",
       "max     891.000000    1.000000    3.000000   80.000000    8.000000   \n",
       "\n",
       "            Parch        Fare  \n",
       "count  891.000000  891.000000  \n",
       "mean     0.381594   32.204208  \n",
       "std      0.806057   49.693429  \n",
       "min      0.000000    0.000000  \n",
       "25%      0.000000    7.910400  \n",
       "50%      0.000000   14.454200  \n",
       "75%      0.000000   31.000000  \n",
       "max      6.000000  512.329200  "
      ]
     },
     "execution_count": 5,
     "metadata": {},
     "output_type": "execute_result"
    }
   ],
   "source": [
    "df_train.describe()"
   ]
  },
  {
   "cell_type": "code",
   "execution_count": 6,
   "metadata": {
    "colab": {
     "base_uri": "https://localhost:8080/"
    },
    "id": "8yhd6z0MvCKE",
    "outputId": "fc0c4e9f-472f-440a-a8bd-4d0aff690005"
   },
   "outputs": [
    {
     "name": "stdout",
     "output_type": "stream",
     "text": [
      "<class 'pandas.core.frame.DataFrame'>\n",
      "RangeIndex: 891 entries, 0 to 890\n",
      "Data columns (total 12 columns):\n",
      " #   Column       Non-Null Count  Dtype  \n",
      "---  ------       --------------  -----  \n",
      " 0   PassengerId  891 non-null    int64  \n",
      " 1   Survived     891 non-null    int64  \n",
      " 2   Pclass       891 non-null    int64  \n",
      " 3   Name         891 non-null    object \n",
      " 4   Sex          891 non-null    object \n",
      " 5   Age          714 non-null    float64\n",
      " 6   SibSp        891 non-null    int64  \n",
      " 7   Parch        891 non-null    int64  \n",
      " 8   Ticket       891 non-null    object \n",
      " 9   Fare         891 non-null    float64\n",
      " 10  Cabin        204 non-null    object \n",
      " 11  Embarked     889 non-null    object \n",
      "dtypes: float64(2), int64(5), object(5)\n",
      "memory usage: 83.7+ KB\n"
     ]
    }
   ],
   "source": [
    "df_train.info()"
   ]
  },
  {
   "cell_type": "markdown",
   "metadata": {
    "id": "vtl8HdzrvCKH"
   },
   "source": [
    "# <b>EDA (Análisis Exploratorio de Datos) "
   ]
  },
  {
   "cell_type": "markdown",
   "metadata": {
    "id": "0hyyqyJ2Hffv"
   },
   "source": [
    "## <b>\"Survived\" - Variable Objetivo \n"
   ]
  },
  {
   "cell_type": "code",
   "execution_count": 7,
   "metadata": {
    "id": "32OAq8d8vCKH"
   },
   "outputs": [],
   "source": [
    "train = df_train.copy()\n",
    "test = df_test.copy()"
   ]
  },
  {
   "cell_type": "code",
   "execution_count": 8,
   "metadata": {
    "colab": {
     "base_uri": "https://localhost:8080/",
     "height": 369
    },
    "id": "KD7srs23AwsJ",
    "outputId": "17fc1387-cc4a-49ca-9d11-41253e32150d"
   },
   "outputs": [
    {
     "data": {
      "image/png": "[encoded data removed]",
      "text/plain": [
       "<Figure size 720x360 with 1 Axes>"
      ]
     },
     "metadata": {},
     "output_type": "display_data"
    }
   ],
   "source": [
    "# Distribución de la variable objetivo\n",
    "fig, ax = plt.subplots(figsize=(10, 5))\n",
    "plt.title('Distribución Supervivencia', fontweight='bold', fontsize=20)\n",
    "sns.countplot(x=train['Survived'], ax=ax)\n",
    "ax.set_xticklabels(('Fallecieron', 'Sobrevivieron'), fontsize=18)\n",
    "plt.show()"
   ]
  },
  {
   "cell_type": "code",
   "execution_count": 9,
   "metadata": {
    "colab": {
     "base_uri": "https://localhost:8080/"
    },
    "id": "GGn-gnMcD53s",
    "outputId": "821af613-fbbb-4cc1-a358-f97e1e9a0cd5"
   },
   "outputs": [
    {
     "name": "stdout",
     "output_type": "stream",
     "text": [
      "Porcentaje de supervivientes: 38.4%\n"
     ]
    }
   ],
   "source": [
    "# Cuál fue el porcentaje de sobrevivientes?\n",
    "print(f\"Porcentaje de supervivientes: {round(len(df_train[df_train['Survived']==1]) / len(df_train) * 100, 1) }%\")"
   ]
  },
  {
   "cell_type": "markdown",
   "metadata": {
    "id": "XJnuPCppGf7T"
   },
   "source": [
    "<b>📝 Note:</b> El 38.4% de los pasajeros que viajaron abordo del Titanic sobrevivieron, en contraparte, falleció el 61.6%."
   ]
  },
  {
   "cell_type": "code",
   "execution_count": 10,
   "metadata": {
    "colab": {
     "base_uri": "https://localhost:8080/"
    },
    "id": "9O-89fBgDkGR",
    "outputId": "f4da268d-ab45-4d8c-8128-1338c7c75835"
   },
   "outputs": [
    {
     "name": "stdout",
     "output_type": "stream",
     "text": [
      "Survived: [0 1]\n",
      "Pclass: [3 1 2]\n",
      "Sex: ['male' 'female']\n",
      "SibSp: [1 0 3 4 2 5 8]\n",
      "Parch: [0 1 2 5 3 4 6]\n",
      "Embarked: ['S' 'C' 'Q' nan]\n"
     ]
    }
   ],
   "source": [
    "# Valores de las variables categoricas\n",
    "for col in df_train.columns:\n",
    "     if (df_train[col].nunique() < 10):\n",
    "        print(f\"{col}: {df_train[col].unique()}\")"
   ]
  },
  {
   "cell_type": "markdown",
   "metadata": {
    "id": "De3B9rS3Dv7Z"
   },
   "source": [
    "<ul>\n",
    "  <li>Pclass : Clase en la que viajaron los pasajeros (1 = 1st, 2 = 2nd, 3 = 3rd)  </li>\n",
    "  <li>SibSp : # de herman@s / espos@s abordo.  </li>\n",
    "  <li>Parch : # de padres / hijos abordo.</li>\n",
    "  <li>Embarked : Puerto de embarque (C = Cherbourg, Q = Queenstown, S = Southampton)</li>\n",
    "</ul> \n",
    "<hr>    \n"
   ]
  },
  {
   "cell_type": "markdown",
   "metadata": {
    "id": "opVhtAuFvCKI"
   },
   "source": [
    "## <b>Datos Faltantes"
   ]
  },
  {
   "cell_type": "code",
   "execution_count": 11,
   "metadata": {
    "colab": {
     "base_uri": "https://localhost:8080/",
     "height": 450
    },
    "id": "kL3RP3W5vCKI",
    "outputId": "f6e4399e-1917-4c47-e404-7450741c923c"
   },
   "outputs": [
    {
     "data": {
      "image/png": "[encoded data removed]",
      "text/plain": [
       "<Figure size 648x432 with 1 Axes>"
      ]
     },
     "metadata": {},
     "output_type": "display_data"
    }
   ],
   "source": [
    "# Visualización de variables con valores faltantes\n",
    "plt.figure(figsize=(9,6))\n",
    "plt.title('VALORES NULOS', fontweight='bold')\n",
    "sns.heatmap(train.isnull(), yticklabels=False, cbar=False, cmap='magma')\n",
    "plt.show()"
   ]
  },
  {
   "cell_type": "code",
   "execution_count": 12,
   "metadata": {
    "colab": {
     "base_uri": "https://localhost:8080/"
    },
    "id": "LnsHifTRzmYc",
    "outputId": "b0672cda-0885-44bb-8637-8b20584eef2d"
   },
   "outputs": [
    {
     "data": {
      "text/plain": [
       "Age         177\n",
       "Cabin       687\n",
       "Embarked      2\n",
       "dtype: int64"
      ]
     },
     "execution_count": 12,
     "metadata": {},
     "output_type": "execute_result"
    }
   ],
   "source": [
    "# Características con valores faltantes\n",
    "nulls = train.isnull().sum()\n",
    "nulls[nulls>0]"
   ]
  },
  {
   "cell_type": "markdown",
   "metadata": {
    "id": "_i5-0vvwzupf"
   },
   "source": [
    "<b>📝 Note:</b>Tenemos 3 variables que contienen datos nulos o datos faltantes. Age, Cabin y Embarked."
   ]
  },
  {
   "cell_type": "markdown",
   "metadata": {
    "id": "6CvdURs-vCKJ"
   },
   "source": [
    "## <b>\"Title\" (Título)"
   ]
  },
  {
   "cell_type": "code",
   "execution_count": 13,
   "metadata": {
    "colab": {
     "base_uri": "https://localhost:8080/"
    },
    "id": "CZbTcjf3vCKJ",
    "outputId": "d81b6128-3853-4187-b5dc-4033fd887608"
   },
   "outputs": [
    {
     "name": "stdout",
     "output_type": "stream",
     "text": [
      "Los 17 títulos de los pasajeros abordo son:\n",
      "['Mr', 'Mrs', 'Miss', 'Master', 'Don', 'Rev', 'Dr', 'Mme', 'Ms', 'Major', 'Lady', 'Sir', 'Mlle', 'Col', 'Capt', 'Countess', 'Jonkheer']\n"
     ]
    }
   ],
   "source": [
    "# Creando la variable 'Title' extraida de 'Name'\n",
    "train['Title'] = train.Name.apply(lambda x: re.search(' ([A-Z][a-z]+)\\.', x).group(1))\n",
    "test['Title'] = test.Name.apply(lambda x: re.search(' ([A-Z][a-z]+)\\.', x).group(1))\n",
    "print('Los '+ str(train['Title'].nunique())+' títulos de los pasajeros abordo son:')\n",
    "titles=[]\n",
    "for t in train['Title'].unique():\n",
    "    titles.append(t)\n",
    "    \n",
    "print(titles)"
   ]
  },
  {
   "cell_type": "code",
   "execution_count": 14,
   "metadata": {
    "colab": {
     "base_uri": "https://localhost:8080/",
     "height": 410
    },
    "id": "Yztg-ITAvCKJ",
    "outputId": "40946d95-2c8c-41df-aa37-275ea57eae81"
   },
   "outputs": [
    {
     "data": {
      "image/png": "[encoded data removed]",
      "text/plain": [
       "<Figure size 864x432 with 1 Axes>"
      ]
     },
     "metadata": {},
     "output_type": "display_data"
    }
   ],
   "source": [
    "plt.figure(figsize=(12,6))\n",
    "plt.title('SUPERVIVENCIA POR TITULO')\n",
    "sns.histplot(x='Title', hue='Survived', data=train)\n",
    "plt.grid(axis='y', linewidth=1, color='g', linestyle=\"--\")\n",
    "plt.ylabel('CANTIDAD DE PASAJEROS'), plt.xlabel('TITULOS')\n",
    "plt.legend(['Sobrevivieron', 'Fallecieron'])\n",
    "plt.show()"
   ]
  },
  {
   "cell_type": "markdown",
   "metadata": {
    "id": "ioSPEcl6vCKK"
   },
   "source": [
    "<div style=\"color:#9A7D0A;\n",
    "           display:fill;\n",
    "           padding: 5px;\n",
    "           border-radius:10px;\n",
    "           border-style: solid;\n",
    "           border-color: #F9E79F;\n",
    "           background-color:#FCF3CF;\n",
    "           font-size:15px;\n",
    "           font-family: Didot;\n",
    "           letter-spacing:0.5px\">\n",
    "<b>📝 Note:</b> Hay algunas nomenclaturas de los titulos que son la misma etiqueta social por lo que procedo a categorizarlos.\n",
    "</div>"
   ]
  },
  {
   "cell_type": "code",
   "execution_count": 15,
   "metadata": {
    "id": "jOv2pL6_vCKL"
   },
   "outputs": [],
   "source": [
    "# Contenedores para Title\n",
    "Title_Dictionary = {\n",
    "        \"Capt\":       \"Officer\",\n",
    "        \"Col\":        \"Officer\",\n",
    "        \"Major\":      \"Officer\",\n",
    "        \"Dr\":         \"Officer\",\n",
    "        \"Rev\":        \"Officer\",\n",
    "        \"Jonkheer\":   \"Royalty\",\n",
    "        \"Don\":        \"Royalty\",\n",
    "        \"Sir\" :       \"Royalty\",\n",
    "        \"Countess\":   \"Royalty\",\n",
    "        \"Lady\" :      \"Royalty\",\n",
    "        \"Mme\":        \"Mrs\",\n",
    "        \"Ms\":         \"Mrs\",\n",
    "        \"Mrs\" :       \"Mrs\",\n",
    "        \"Mlle\":       \"Miss\",\n",
    "        \"Miss\" :      \"Miss\",\n",
    "        \"Mr\" :        \"Mr\",\n",
    "        \"Master\" :    \"Master\"\n",
    "}\n",
    "\n",
    "# Uniendo titulos en contenedores \n",
    "train['title_bin'] = train['Title'].map(Title_Dictionary)\n",
    "test['title_bin'] = train['Title'].map(Title_Dictionary)"
   ]
  },
  {
   "cell_type": "code",
   "execution_count": 16,
   "metadata": {
    "colab": {
     "base_uri": "https://localhost:8080/",
     "height": 410
    },
    "id": "mmFkMvCNvCKL",
    "outputId": "511c37b9-8002-4e30-fc86-7a3b16c2daaf"
   },
   "outputs": [
    {
     "data": {
      "image/png": "[encoded data removed]",
      "text/plain": [
       "<Figure size 648x432 with 1 Axes>"
      ]
     },
     "metadata": {},
     "output_type": "display_data"
    }
   ],
   "source": [
    "plt.figure(figsize=(9,6))\n",
    "plt.title('TITULOS EN CONTENEDORES')\n",
    "sns.histplot(x=train.title_bin, hue=train.Survived)\n",
    "plt.xlabel('TITULOS DE LOS PASAJEROS')\n",
    "plt.yticks(), plt.ylabel('CANTIDAD DE PASAJEROS')\n",
    "plt.legend(['Survived', 'Died'])\n",
    "plt.grid(axis='y', color = 'green', linestyle = '--', linewidth = 1.)\n",
    "plt.show()"
   ]
  },
  {
   "cell_type": "markdown",
   "metadata": {
    "id": "xsHwDcC5vCKM"
   },
   "source": [
    "<div style=\"color:#9A7D0A;\n",
    "           display:fill;\n",
    "           padding: 5px;\n",
    "           border-radius:10px;\n",
    "           border-style: solid;\n",
    "           border-color: #F9E79F;\n",
    "           background-color:#FCF3CF;\n",
    "           font-size:15px;\n",
    "           font-family: Didot;\n",
    "           letter-spacing:0.5px\">\n",
    "<b>📝 Note:</b> Los títulos podrían ser un buen indicador de supervivencia. \n",
    "</div>"
   ]
  },
  {
   "cell_type": "markdown",
   "metadata": {
    "id": "Bvc5vSQhvCKM"
   },
   "source": [
    "## <b>\"Pclass\" (Clase)\n",
    "\n"
   ]
  },
  {
   "cell_type": "code",
   "execution_count": 17,
   "metadata": {
    "colab": {
     "base_uri": "https://localhost:8080/",
     "height": 515
    },
    "id": "BHdU92FHvCKN",
    "outputId": "853f999e-7c0e-40c7-900b-664665d18a73"
   },
   "outputs": [
    {
     "data": {
      "image/png": "[encoded data removed]",
      "text/plain": [
       "<Figure size 1944x432 with 2 Axes>"
      ]
     },
     "metadata": {},
     "output_type": "display_data"
    }
   ],
   "source": [
    "# Visualización de distribución de clases\n",
    "# build figure\n",
    "fig = plt.figure(figsize=(27,6))\n",
    "\n",
    "# add grid to figure\n",
    "gs = fig.add_gridspec(1,3)\n",
    "\n",
    "# fill grid with subplots\n",
    "ax0 = fig.add_subplot(gs[0,0])\n",
    "ax1 = fig.add_subplot(gs[0,1])\n",
    "\n",
    "# adjust subheadline fontsize\n",
    "ax0.set_title(\"DISTRIBUCIÓN CLASE\", fontsize=20)\n",
    "ax1.set_title(\"CLASE / SUPERVIVENCIA\", fontsize=20)\n",
    "\n",
    "# adjust lable fontsize\n",
    "ax0.tick_params(labelsize=15)\n",
    "ax1.tick_params(labelsize=15)\n",
    "\n",
    "# plot data into subplots \n",
    "sns.countplot(x=\"Pclass\",data=train, ax=ax0, linewidth = 3).set(xlabel=\"Clases\")\n",
    "sns.countplot(x=\"Pclass\",data=train, ax=ax1, linewidth = 3, hue=\"Survived\").set(xlabel=\"Clases\")\n",
    "fig.subplots_adjust(wspace=0.25)\n",
    "plt.show()"
   ]
  },
  {
   "cell_type": "markdown",
   "metadata": {
    "id": "mzZEcJhGvCKN"
   },
   "source": [
    "<b>📝 Note:</b> La mayoría de los pasajeros abordo viajaron en tercera clase, seguido por los de primera clase y segunda clase.\n"
   ]
  },
  {
   "cell_type": "markdown",
   "metadata": {
    "id": "zJpUWyfrvCKO"
   },
   "source": [
    "\n",
    "<b>📝 Note:</b> La primera clase fue la única que registró una razón de sobrevivientes mayor que los fallecidos, sin embargo, es notable la gran proporción de fallecidos que viajaron en tercera clase. Esta parece ser una variable de peso para inferir si un pasajero abordo sebrevivió o no.  \n"
   ]
  },
  {
   "cell_type": "code",
   "execution_count": 18,
   "metadata": {
    "colab": {
     "base_uri": "https://localhost:8080/"
    },
    "id": "xDmuqe7lvCKO",
    "outputId": "0a33431d-d2f5-4b30-9652-e1c388715151"
   },
   "outputs": [
    {
     "data": {
      "text/plain": [
       "1.0    136\n",
       "3.0    119\n",
       "2.0     87\n",
       "Name: Pclass, dtype: int64"
      ]
     },
     "execution_count": 18,
     "metadata": {},
     "output_type": "execute_result"
    }
   ],
   "source": [
    "train['Pclass'].where(train['Survived']==1).value_counts()"
   ]
  },
  {
   "cell_type": "markdown",
   "metadata": {
    "id": "RfF55ktU-bv6"
   },
   "source": [
    "## <b>\"Fare\" (Tarifa)"
   ]
  },
  {
   "cell_type": "code",
   "execution_count": 19,
   "metadata": {
    "colab": {
     "base_uri": "https://localhost:8080/",
     "height": 0
    },
    "id": "8x0flTUZ-ZP8",
    "outputId": "e9d82a39-f111-4dd1-c7b2-24e12dc49878"
   },
   "outputs": [
    {
     "data": {
      "image/png": "[encoded data removed]",
      "text/plain": [
       "<Figure size 648x432 with 1 Axes>"
      ]
     },
     "metadata": {},
     "output_type": "display_data"
    }
   ],
   "source": [
    "plt.figure(figsize=(9,6))\n",
    "plt.title(\"DISTRIBUCIÓN TARIFA\", fontweight='bold')\n",
    "sns.histplot(train['Fare'], bins=50, kde=True)\n",
    "plt.show()"
   ]
  },
  {
   "cell_type": "markdown",
   "metadata": {
    "id": "teLIW7pZ_5ou"
   },
   "source": [
    "<b>📝 Note:</b>"
   ]
  },
  {
   "cell_type": "markdown",
   "metadata": {
    "id": "Q-6ej84CAQZ1"
   },
   "source": [
    "### <b>Tarifa por clase"
   ]
  },
  {
   "cell_type": "code",
   "execution_count": 20,
   "metadata": {
    "colab": {
     "base_uri": "https://localhost:8080/",
     "height": 0
    },
    "id": "tRa0Jz9fAYoy",
    "outputId": "60520904-6ad0-4be9-a7ec-fd39c3f7c9b4"
   },
   "outputs": [
    {
     "data": {
      "image/png": "[encoded data removed]",
      "text/plain": [
       "<Figure size 1836x144 with 3 Axes>"
      ]
     },
     "metadata": {},
     "output_type": "display_data"
    }
   ],
   "source": [
    "# build figure\n",
    "fig = plt.figure(figsize=(25.5,2))\n",
    "\n",
    "gs = fig.add_gridspec(1,3)\n",
    "\n",
    "# fill grid with subplots\n",
    "ax0 = fig.add_subplot(gs[0,0])\n",
    "ax1 = fig.add_subplot(gs[0,1])\n",
    "ax2 = fig.add_subplot(gs[0,2])\n",
    "\n",
    "# adjust subheadline fontsize\n",
    "ax0.set_title('Pclass = 1', fontsize=20)\n",
    "ax1.set_title('Pclass = 2', fontsize=20)\n",
    "ax2.set_title('Pclass = 3', fontsize=20)\n",
    "\n",
    "# adjust lable fontsize\n",
    "ax0.tick_params(labelsize=15)\n",
    "ax1.tick_params(labelsize=15)\n",
    "ax2.tick_params(labelsize=15)\n",
    "\n",
    "# plot data into subplots \n",
    "sns.boxplot(x=\"Fare\",data=train[train['Pclass']==1], orient=\"h\", ax=ax0, linewidth = 3, hue=\"Survived\").set(xlabel=\"Fare\")\n",
    "sns.boxplot(x=\"Fare\",data=train[train['Pclass']==2], orient=\"h\", ax=ax1, linewidth = 3, hue=\"Survived\").set(xlabel=\"Fare\")\n",
    "sns.boxplot(x=\"Fare\",data=train[train['Pclass']==3], orient=\"h\", ax=ax2, linewidth = 3, hue=\"Survived\").set(xlabel=\"Fare\")\n",
    "\n",
    "# add headline\n",
    "fig.subplots_adjust(top=0.6)\n",
    "fig.suptitle('Distribución de tarifa por clase', fontsize=\"28\");"
   ]
  },
  {
   "cell_type": "markdown",
   "metadata": {
    "id": "QMmn_iUWCI9k"
   },
   "source": [
    "<b>📝 Note:</b>La distribución de tarifas para los pasajeros en primera clase es mayor que en segunda y tercera clase, por lo que, queda claro que estos pagaron un tarifa más alta por viajar en primera clase, sin embargo, podemos ver que pasajeros en primera clase pagaron poco o nada."
   ]
  },
  {
   "cell_type": "code",
   "execution_count": null,
   "metadata": {},
   "outputs": [],
   "source": []
  },
  {
   "cell_type": "code",
   "execution_count": 34,
   "metadata": {},
   "outputs": [],
   "source": [
    "def iqr_outliers(df):\n",
    "    \"\"\"Utiliza la regla del rango intercuartílico para detectar outliers en tarifa ('Fare').\"\"\"\n",
    "    \"\"\"Retorna los indices de las entradas con outliers en tarifa ('Fare') por clase ('Pclass').\"\"\"\n",
    "    \n",
    "    # Tarifas por clase\n",
    "    first_class = df[df['Pclass']==1]['Fare']  # Tarifas de los que viajaron en primera clase\n",
    "    second_class = df[df['Pclass']==2]['Fare'] # Tarifas de los que viajaron en segunda clase\n",
    "    third_class = df[df['Pclass']==3]['Fare']  # Tarifas de los que viajaron en tercera clase\n",
    "    \n",
    "    # Busca el valor desde el cual inicia los outliers en primera clase\n",
    "    sorted(first_class)\n",
    "    Q1_1class, Q3_1class = np.percentile(first_class , [25,75]) # Q1, Q3\n",
    "    IQR_1class = Q3_1class - Q1_1class   # Rango Intercuartílico\n",
    "    c1_bound = Q3_1class + (1.5 * IQR_1class)   # outlier inicial primera clase\n",
    "    \n",
    "    # Busca el valor desde el cual inicia los outliers en segunda clase\n",
    "    sorted(second_class)\n",
    "    Q1_2class,Q3_2class = np.percentile(second_class , [25,75])   #Q, Q3\n",
    "    IQR_2class = Q3_2class - Q1_2class   # Rango Intercuartílico\n",
    "    c2_bound = Q3_2class + (1.5 * IQR_2class)   # outlier inicial segunda clase\n",
    "   \n",
    "    # Busca el valor desde el cual inicia los outliers en tercera clase\n",
    "    sorted(third_class)\n",
    "    Q1_3class,Q3_3class = np.percentile(third_class , [25,75])   # Q1, Q3\n",
    "    IQR_3class = Q3_3class - Q1_3class   # Rango Intercuartílico\n",
    "    c3_bound = Q3_3class + (1.5 * IQR_3class)   # outlier inicial tercera clase\n",
    "   \n",
    "    # Outliers en primera clase\n",
    "    c1_outliers = train[(train['Pclass']==1) & (train['Fare']>=c1_bound)]\n",
    "    # Outliers en segunda clase\n",
    "    c2_outliers = train[(train['Pclass']==2) & (train['Fare']>=c2_bound)]\n",
    "    # Outliers en tercera clase\n",
    "    c3_outliers = train[(train['Pclass']==3) & (train['Fare']>=c3_bound)]\n",
    "\n",
    "    return c1_outliers.index, c2_outliers.index, c3_outliers.index"
   ]
  },
  {
   "cell_type": "markdown",
   "metadata": {
    "id": "-_JuqskjvCKO"
   },
   "source": [
    "## <b>\"Sex\" (Sexo)"
   ]
  },
  {
   "cell_type": "code",
   "execution_count": 57,
   "metadata": {
    "colab": {
     "base_uri": "https://localhost:8080/",
     "height": 0
    },
    "id": "aElfDDQmNdGk",
    "outputId": "72fee67d-37f0-4587-db77-bee41a0a4a6a"
   },
   "outputs": [
    {
     "data": {
      "image/png": "[encoded data removed]",
      "text/plain": [
       "<Figure size 1944x432 with 2 Axes>"
      ]
     },
     "metadata": {},
     "output_type": "display_data"
    }
   ],
   "source": [
    "# Visualización de distribución de sexo\n",
    "# build figure\n",
    "fig = plt.figure(figsize=(27,6))\n",
    "\n",
    "# add grid to figure\n",
    "gs = fig.add_gridspec(1,3)\n",
    "\n",
    "# fill grid with subplots\n",
    "ax0 = fig.add_subplot(gs[0,0])\n",
    "ax1 = fig.add_subplot(gs[0,1])\n",
    "\n",
    "# adjust subheadline fontsize\n",
    "ax0.set_title(\"DISTRIBUCIÓN SEXO\", fontsize=20)\n",
    "ax1.set_title(\"SEXO / SUPERVIVENCIA\", fontsize=20)\n",
    "\n",
    "# adjust lable fontsize\n",
    "ax0.tick_params(labelsize=15)\n",
    "ax1.tick_params(labelsize=15)\n",
    "\n",
    "# plot data into subplots \n",
    "sns.countplot(x=\"Sex\",data=train, ax=ax0, linewidth = 3).set(xlabel=\"SEXO\", ylabel=\"CANTIDAD DE PASAJEROS\")\n",
    "sns.countplot(x=\"Sex\",data=train, ax=ax1, linewidth = 3, hue=\"Survived\").set(xlabel=\"SEXO\", ylabel=\"CANTIDAD DE PASAJEROS\")\n",
    "plt.legend([\"fallecieron\", \"sobrevivieron\"])\n",
    "fig.subplots_adjust(wspace=0.25)\n",
    "plt.show()"
   ]
  },
  {
   "cell_type": "code",
   "execution_count": 44,
   "metadata": {
    "colab": {
     "base_uri": "https://localhost:8080/"
    },
    "id": "M9E4IJqb5QTx",
    "outputId": "0143a818-f923-44fe-e476-eb185f15fe40"
   },
   "outputs": [
    {
     "name": "stdout",
     "output_type": "stream",
     "text": [
      "El conjunto de datos de entrenamiento cuenta con 812 instancias (pasajeros), de los cuales:\n",
      "532 es decir, el 65.52 eran mujeres.\n",
      "280 es decir, el 34.48 eran hombres.\n"
     ]
    }
   ],
   "source": [
    "# Cantidad de pasajeros por sexo\n",
    "pxs = train['Sex'].value_counts() # pasajeros por sexo\n",
    "ppxs = ((pxs / len(train)) * 100).round(2) # porcentaje pasajeros por sexo\n",
    "print(\"El conjunto de datos de entrenamiento cuenta con \"+str(len(train))+\" instancias (pasajeros), de los cuales:\")\n",
    "print(str(pxs[0])+\" es decir, el \"+str(ppxs[0])+ \" eran mujeres.\")\n",
    "print(str(pxs[1])+\" es decir, el \"+str(ppxs[1])+ \" eran hombres.\")"
   ]
  },
  {
   "cell_type": "markdown",
   "metadata": {
    "id": "vOD8Wj2jvCKP"
   },
   "source": [
    "\n",
    "<b>📝 Note:</b> De manera gráfica podemos concluir que un gran porcenaje de pasajeros fallecidos fueron hombres.\n"
   ]
  },
  {
   "cell_type": "code",
   "execution_count": 59,
   "metadata": {
    "colab": {
     "base_uri": "https://localhost:8080/"
    },
    "id": "QHemycuovCKP",
    "outputId": "977f894d-1b36-4573-efc0-0b6fad43e6ec"
   },
   "outputs": [
    {
     "name": "stdout",
     "output_type": "stream",
     "text": [
      "El 19% de los hombres sobrevivió.\n",
      "El 78% de los mujeres sobrevivió.\n"
     ]
    }
   ],
   "source": [
    "# Porcentaje de supervivientes por sexo.\n",
    "hombres_df = train[train['Sex']=='male']\n",
    "mujeres_df = train[train['Sex']=='female']\n",
    "\n",
    "print('El '+ str(round(len(hombres_df[hombres_df['Survived']==1])*100/len(hombres_df))) +'% de los hombres sobrevivió.')\n",
    "print('El '+ str(round(len(mujeres_df[mujeres_df['Survived']==1])*100/len(mujeres_df))) +'% de los mujeres sobrevivió.')"
   ]
  },
  {
   "cell_type": "markdown",
   "metadata": {
    "id": "MNNWcstYvCKP"
   },
   "source": [
    "\n",
    "<b>💡 Idea:</b> Hasta el momento, al parecer las mujeres en primera clase tuvieron una alta probabilidad de sobrevivir."
   ]
  },
  {
   "cell_type": "code",
   "execution_count": 72,
   "metadata": {
    "colab": {
     "base_uri": "https://localhost:8080/",
     "height": 0
    },
    "id": "-oF8iFWAvCKQ",
    "outputId": "2dc3d70b-882c-406d-9140-b34639e3a33b"
   },
   "outputs": [
    {
     "data": {
      "image/png": "[encoded data removed]",
      "text/plain": [
       "<Figure size 1944x432 with 2 Axes>"
      ]
     },
     "metadata": {},
     "output_type": "display_data"
    }
   ],
   "source": [
    "# Supervivencia entre las variables clase y sexo.\n",
    "fig = plt.figure(figsize=(27,6))\n",
    "gs = fig.add_gridspec(1,3)\n",
    "\n",
    "ax0 = fig.add_subplot(gs[0,0])\n",
    "ax1 = fig.add_subplot(gs[0,1])\n",
    "\n",
    "ax0.set_title('MUJERES POR CLASE')\n",
    "ax1.set_title('HOMBRES POR CLASE')\n",
    "\n",
    "#plt.suptitle('SUPERVIVENCIA VS SEXO/CLASE', fontweight='bold')\n",
    "sns.countplot(data=train[train['Sex']=='female'], x='Survived', hue='Pclass', ax=ax0)\n",
    "ax0.set_xticklabels([\"fallecieron\", \"sobrevivieron\"])\n",
    "sns.countplot(data=train[train['Sex']=='male'], x='Survived', hue='Pclass', ax=ax1)\n",
    "ax1.set_xticklabels([\"fallecieron\", \"sobrevivieron\"])\n",
    "plt.subplots_adjust(top = 0.9)\n",
    "plt.show()"
   ]
  },
  {
   "cell_type": "code",
   "execution_count": null,
   "metadata": {
    "colab": {
     "base_uri": "https://localhost:8080/"
    },
    "id": "v4lIOwdZP4Bs",
    "outputId": "ee8d77c5-c6c2-4423-d2de-c3fb1bd8e209"
   },
   "outputs": [],
   "source": [
    "# Porcentaje de mujeres supervivientes por clase\n",
    "mujeres_sup = mujeres_df[mujeres_df['Survived']==1]\n",
    "for i in [1,2,3]:\n",
    "  mujeres_sup_por = len(mujeres_sup[mujeres_sup['Pclass']==i]) / len(mujeres_df[mujeres_df['Pclass']==i]) * 100\n",
    "  print(\"El \"+ str(round(mujeres_sup_por)) +\"% de las mujeres en \"+str(i)+\" clase sobrevivió.\")"
   ]
  },
  {
   "cell_type": "markdown",
   "metadata": {
    "id": "uKZjhjf7vCKT"
   },
   "source": [
    "<b>📝 Note:</b> Efectivamente, las mujeres que viajaron en primera clase tuvieron una alta probabilidad de sobrevivir, pues sobrevivió el 97% de ellas. No muy distinto, el 92% de mujeres en segunda clase sobrevivió. \n",
    "\n"
   ]
  },
  {
   "cell_type": "markdown",
   "metadata": {
    "id": "iOwv82F0vCKT"
   },
   "source": [
    "## <b>\"Age\" (Edad)"
   ]
  },
  {
   "cell_type": "code",
   "execution_count": null,
   "metadata": {
    "colab": {
     "base_uri": "https://localhost:8080/",
     "height": 0
    },
    "id": "d_NGvCt0vCKT",
    "outputId": "95bce58a-174d-473b-965f-c002843ad81e"
   },
   "outputs": [],
   "source": [
    "# Hay diferencias significativas en las edades entre los supervivientes y no supervivientes?\n",
    "plt.figure(figsize=(12,4))\n",
    "sns.boxplot(x='Age', y='Survived', hue='Survived', orient='h', data=train)\n",
    "plt.subplots_adjust(top=0.6)\n",
    "plt.show()"
   ]
  },
  {
   "cell_type": "markdown",
   "metadata": {
    "id": "aMLbyDr4vCKU"
   },
   "source": [
    "<div style=\"color:#9A7D0A;\n",
    "           display:fill;\n",
    "           padding: 5px;\n",
    "           border-radius:10px;\n",
    "           border-style: solid;\n",
    "           border-color: #F9E79F;\n",
    "           background-color:#FCF3CF;\n",
    "           font-size:15px;\n",
    "           font-family: Didot;\n",
    "           letter-spacing:0.5px\">\n",
    "<b>📝 Note:</b> Al parecer las personas de mayor edad murieron en mayor proporción.\n",
    "</div>"
   ]
  },
  {
   "cell_type": "code",
   "execution_count": null,
   "metadata": {
    "colab": {
     "base_uri": "https://localhost:8080/",
     "height": 0
    },
    "id": "gfD_zOEnvCKU",
    "outputId": "980bdce6-4dff-4f9f-b935-9bbfc9be3c43"
   },
   "outputs": [],
   "source": [
    "# \n",
    "fig = plt.figure(figsize=(12,6))\n",
    "plt.title('MEDIA DE EDAD POR CLASE', fontsize=\"20\")\n",
    "sns.boxplot(x='Age', y='Pclass', hue='Sex', orient='h', data=train)\n",
    "fig.subplots_adjust(top=0.6)\n",
    "plt.show()"
   ]
  },
  {
   "cell_type": "markdown",
   "metadata": {
    "id": "Mx4kRrVavCKU"
   },
   "source": [
    "<div style=\"color:#21618C;\n",
    "           display:fill;\n",
    "           padding: 5px;\n",
    "           border-radius:10px;\n",
    "           border-style: solid;\n",
    "           border-color: #AED6F1;\n",
    "           background-color:#D6EAF8;\n",
    "           font-size:15px;\n",
    "           font-family: Didot;\n",
    "           letter-spacing:0.5px\">\n",
    "<b>💡 Idea:</b> La media de edad por clase podria ser el mejor valor para realizar imputacion de los valores nulos en 'Age'."
   ]
  },
  {
   "cell_type": "markdown",
   "metadata": {
    "id": "f44dm2HivCKU"
   },
   "source": [
    "## <b>\"Sibsp\" (Acompañantes)"
   ]
  },
  {
   "cell_type": "code",
   "execution_count": null,
   "metadata": {
    "colab": {
     "base_uri": "https://localhost:8080/",
     "height": 0
    },
    "id": "HehsKuT8JjXu",
    "outputId": "80da5f72-40ec-4bcb-e17b-a6571bd9f6d3"
   },
   "outputs": [],
   "source": [
    "fig = plt.figure(figsize=(15, 5))\n",
    "gs = fig.add_gridspec(1, 2)\n",
    "\n",
    "ax0 = fig.add_subplot(gs[0,0])\n",
    "ax1 = fig.add_subplot(gs[0,1])\n",
    "\n",
    "plt.suptitle('SibSp vs. Parch', fontweight='bold', fontsize=20)\n",
    "plt.subplots_adjust(top=0.9, wspace=.25)\n",
    "ax0.set_title('Distribución Sibsp')\n",
    "ax1.set_title('Distribución Parch')\n",
    "\n",
    "sns.countplot(x='SibSp', data=train, ax=ax0)\n",
    "sns.countplot(x='Parch', data=train, ax=ax1)\n",
    "plt.show()"
   ]
  },
  {
   "cell_type": "markdown",
   "metadata": {
    "id": "aWLtP4NYIK-g"
   },
   "source": [
    "### Acompañados por herman@s y espos@s"
   ]
  },
  {
   "cell_type": "code",
   "execution_count": null,
   "metadata": {
    "colab": {
     "base_uri": "https://localhost:8080/",
     "height": 0
    },
    "id": "TNaVgR_nvCKU",
    "outputId": "75ac0470-600e-4100-b5c4-f0f552ff36bc"
   },
   "outputs": [],
   "source": [
    "# Distribucion de pasajeros acompañados(Herman@s-Espos@)\n",
    "fig = plt.figure(figsize=(15, 5))\n",
    "gs = fig.add_gridspec(1, 2)\n",
    "\n",
    "ax0 = fig.add_subplot(gs[0,0])\n",
    "ax1 = fig.add_subplot(gs[0,1])\n",
    "\n",
    "plt.suptitle('Acompañados SibSp', fontweight='bold', fontsize=20)\n",
    "plt.subplots_adjust(top=0.9, wspace=.25)\n",
    "ax0.set_title('Distribución')\n",
    "ax1.set_title('Sibsp / Supervivencia')\n",
    "\n",
    "sns.countplot(x='SibSp', data=train, ax=ax0)\n",
    "sns.countplot(x='SibSp', hue='Survived', data=train, ax=ax1)\n",
    "plt.show()"
   ]
  },
  {
   "cell_type": "code",
   "execution_count": null,
   "metadata": {
    "colab": {
     "base_uri": "https://localhost:8080/",
     "height": 0
    },
    "id": "IHVXKz9wMLZk",
    "outputId": "9990fc3c-e2d9-499e-ad02-cb7893200886"
   },
   "outputs": [],
   "source": [
    "super_sibsp =[]\n",
    "for x in train['SibSp'].unique():\n",
    "  frecuencia_sibsp = len(train[train['SibSp']==x])\n",
    "  sup = frecuencia_sibsp - (len(train.loc[(train['SibSp']==x) & (train['Survived']==1)]))\n",
    "  per_sibsp = round((frecuencia_sibsp / len(train['SibSp']) * 100), 2)\n",
    "  per_sup_sibsp = round((len(train.loc[(train['SibSp']==x) & (train['Survived']==1)]) / frecuencia_sibsp * 100), 2)\n",
    "  super_sibsp.append({'# Acompañantes':x, '# Sobrevivientes':sup, '% Acompañantes':per_sibsp, '% Sobrevivientes':per_sup_sibsp})\n",
    "\n",
    "super_sibsp.sort(key=lambda k: k['% Sobrevivientes'], reverse=True)\n",
    "super_sibsp = pd.DataFrame(super_sibsp)\n",
    "for i in range(len(super_sibsp)):\n",
    "  surv = super_sibsp.loc[i, '# Sobrevivientes']\n",
    "  cant = super_sibsp.loc[i, '# Acompañantes']\n",
    "  per_sibsp = super_sibsp.loc[i, '% Acompañantes']\n",
    "  perc = super_sibsp.loc[i, '% Sobrevivientes']\n",
    "pd.DataFrame(super_sibsp)"
   ]
  },
  {
   "cell_type": "markdown",
   "metadata": {
    "id": "OY2R-mdzLUyr"
   },
   "source": [
    "### Acompañados por padres e hij@s"
   ]
  },
  {
   "cell_type": "code",
   "execution_count": null,
   "metadata": {
    "colab": {
     "base_uri": "https://localhost:8080/",
     "height": 0
    },
    "id": "0xkZ0yCpvCKV",
    "outputId": "eb698731-3f8b-4169-97ff-697344b95c8b"
   },
   "outputs": [],
   "source": [
    "# Distribucion de pasajeros acompañados(Padres-Hijos)\n",
    "fig = plt.figure(figsize=(15, 5))\n",
    "gs = fig.add_gridspec(1, 2)\n",
    "\n",
    "ax0 = fig.add_subplot(gs[0,0])\n",
    "ax1 = fig.add_subplot(gs[0,1])\n",
    "\n",
    "plt.suptitle('Acompañados Parch', fontweight='bold', fontsize=20)\n",
    "plt.subplots_adjust(top=0.9, wspace=.25)\n",
    "ax0.set_title('Distribución')\n",
    "ax1.set_title('Parch / Supervivencia')\n",
    "\n",
    "sns.countplot(x='Parch', data=train, ax=ax0)\n",
    "sns.countplot(x='Parch', hue='Survived', data=train, ax=ax1)\n",
    "plt.show()"
   ]
  },
  {
   "cell_type": "code",
   "execution_count": null,
   "metadata": {
    "colab": {
     "base_uri": "https://localhost:8080/"
    },
    "id": "QuT2zG5tvCKV",
    "outputId": "caf58b0a-d23d-4148-faa1-ebdbd817b048"
   },
   "outputs": [],
   "source": [
    "super_parch =[]\n",
    "for x in train['Parch'].unique():\n",
    "  frecuencia_parch = len(train[train['Parch']==x])\n",
    "  sup = frecuencia_parch - (len(train.loc[(train['Parch']==x) & (train['Survived']==1)]))\n",
    "  per_parch = round((frecuencia_parch / len(train['Parch']) * 100), 2)\n",
    "  per_sup_parch = round((len(train.loc[(train['Parch']==x) & (train['Survived']==1)]) / frecuencia_parch * 100), 2)\n",
    "  super_parch.append({'cant':x, 'sup':sup, 'porcentaje_sup':per_sup_parch})\n",
    "  \n",
    "super_parch.sort(key=lambda k: k['porcentaje_sup'], reverse=True)\n",
    "super_parch = pd.DataFrame(super_parch)\n",
    "for i in range(len(super_parch)):\n",
    "  cant = super_parch.loc[i, 'cant']\n",
    "  surv = super_parch.loc[i, 'sup']\n",
    "  perc = super_parch.loc[i, 'porcentaje_sup']\n",
    "  print(str(surv)+\" pasajeros, es decir, el \"+str(perc)+\"% de los que viajaron acompañados por \"+str(cant)+\" personas sobrevivieron.\")"
   ]
  },
  {
   "cell_type": "markdown",
   "metadata": {
    "id": "jT1iGZo6vCKX"
   },
   "source": [
    "# <b>Correlations<b>"
   ]
  },
  {
   "cell_type": "code",
   "execution_count": null,
   "metadata": {
    "colab": {
     "base_uri": "https://localhost:8080/"
    },
    "id": "4mJOe6vkvCKX",
    "outputId": "55a690d0-f3c4-4c2f-c297-d7f3fb237929"
   },
   "outputs": [],
   "source": [
    "# Correlaciones entre todas las variables numericas contra supervivencia\n",
    "corr_matrix = train.corr(method='spearman').round(2)\n",
    "corr_matrix['Survived'].sort_values(ascending=False)"
   ]
  },
  {
   "cell_type": "code",
   "execution_count": null,
   "metadata": {
    "colab": {
     "base_uri": "https://localhost:8080/",
     "height": 329
    },
    "id": "eikfXjZ2vCKX",
    "outputId": "31ed807f-d8dc-4a28-bbdc-7f0c5aab24cc"
   },
   "outputs": [],
   "source": [
    "sns.heatmap(corr_matrix, annot=True)\n",
    "plt.show()"
   ]
  },
  {
   "cell_type": "markdown",
   "metadata": {
    "id": "p_LtWPW2vCKX"
   },
   "source": [
    "# <b>PREPARE DATA"
   ]
  },
  {
   "cell_type": "code",
   "execution_count": null,
   "metadata": {
    "id": "_AAYBTJPvCKX"
   },
   "outputs": [],
   "source": [
    "X_train = train.drop(['PassengerId', 'Survived', 'Ticket', 'Cabin', 'PassengerId', 'Fare', 'Name'], axis='columns')\n",
    "y_train = train.Survived"
   ]
  },
  {
   "cell_type": "code",
   "execution_count": null,
   "metadata": {
    "id": "Ft8z82O6vCKX"
   },
   "outputs": [],
   "source": [
    "num_features = X_train.Age\n",
    "cat_features = X_train.drop('Age', axis=1).astype('category')"
   ]
  },
  {
   "cell_type": "markdown",
   "metadata": {
    "id": "MrWtqDXTvCKY"
   },
   "source": [
    "### Preprocesador"
   ]
  },
  {
   "cell_type": "code",
   "execution_count": null,
   "metadata": {
    "colab": {
     "base_uri": "https://localhost:8080/",
     "height": 476
    },
    "id": "ytZL44AmvCKY",
    "outputId": "3257db45-6a46-414a-c47e-0d3fed4be7b0"
   },
   "outputs": [],
   "source": [
    "from sklearn.base import BaseEstimator, TransformerMixin\n",
    "from sklearn.compose import ColumnTransformer, make_column_selector as selector\n",
    "from sklearn.pipeline import Pipeline, FeatureUnion\n",
    "from sklearn.experimental import enable_iterative_imputer \n",
    "from sklearn.linear_model import BayesianRidge\n",
    "from sklearn.impute import SimpleImputer, IterativeImputer\n",
    "from sklearn.preprocessing import FunctionTransformer, OneHotEncoder, StandardScaler\n",
    "from sklearn.neighbors import KNeighborsClassifier\n",
    "\n",
    "\n",
    "# numerical transformer pipeline (only contains 'Age')\n",
    "num_transformer = Pipeline([ \n",
    "    (\"imputer\", SimpleImputer(strategy='median')),\n",
    "    (\"scaler\", StandardScaler()),\n",
    "                           ])\n",
    "\n",
    "# categorical transformer pipeline\n",
    "cat_transformer = Pipeline([ \n",
    "    ('cat_imputer', SimpleImputer(strategy='most_frequent')),\n",
    "    ('ohe', OneHotEncoder(handle_unknown='ignore')),\n",
    "                            ])\n",
    "\n",
    "final_pipe = ColumnTransformer([\n",
    "    ('num_transfomer', num_transformer, num_features),\n",
    "    ('cat_transformer', cat_transformer, cat_features),\n",
    "                                ],remainder='passthrough')\n",
    "\n",
    "X_prepared =final_pipe.fit_transform(X_train)"
   ]
  },
  {
   "cell_type": "markdown",
   "metadata": {
    "id": "FDgrZyP6vCKY"
   },
   "source": [
    "### SELECT A MODEL"
   ]
  },
  {
   "cell_type": "code",
   "execution_count": null,
   "metadata": {
    "id": "VPwy-_jWvCKY"
   },
   "outputs": [],
   "source": [
    "from sklearn.model_selection import cross_val_predict\n",
    "from sklearn.metrics import precision_score, recall_score, f1_score\n",
    "from sklearn.svm import SVC\n",
    "from sklearn.linear_model import SGDClassifier, LogisticRegression\n",
    "from sklearn.tree import DecisionTreeClassifier\n",
    "from sklearn.ensemble import RandomForestClassifier\n",
    "from sklearn.neighbors import KNeighborsClassifier\n",
    "\n",
    "\n",
    "models = {'svc': SVC(), \n",
    "          'sgd': SGDClassifier(), \n",
    "          'logistic': LogisticRegression(),\n",
    "          'decision_tree': DecisionTreeClassifier(), \n",
    "          'random_forest': RandomForestClassifier(),\n",
    "          'knn': KNeighborsClassifier()}\n",
    "\n",
    "n_models = len(models)\n",
    "scores=[]\n",
    "for name, model in models.items():\n",
    "    y_train_pred = cross_val_predict(model, X_prepared, y_train, cv=5)\n",
    "    precision = np.mean(precision_score(y_train, y_train_pred)).round(2)\n",
    "    recall = np.mean(recall_score(y_train, y_train_pred)).round(2)\n",
    "    f1 = np.mean(f1_score(y_train, y_train_pred)).round(2)\n",
    "\n",
    "    model_scores = np.array([name, precision, recall, f1])\n",
    "    scores.append(np.array(model_scores))\n",
    "    \n",
    "      \n",
    "scores_df = pd.DataFrame(scores, columns=['Model', 'Precision', 'Recall', 'F1']); scores_df.set_index('Model', inplace=True)\n",
    "scores_df.sort_values(by='F1', ascending=False)"
   ]
  },
  {
   "cell_type": "code",
   "execution_count": null,
   "metadata": {
    "id": "NaiJNs35vCKY"
   },
   "outputs": [],
   "source": [
    "from sklearn.metrics import classification_report\n",
    "\n",
    "logistic_clf = LogisticRegression(random_state=42)\n",
    "y_pred = cross_val_predict(logistic_clf, X_prepared, y_train)\n",
    "print(classification_report(y_train, y_pred))"
   ]
  },
  {
   "cell_type": "code",
   "execution_count": null,
   "metadata": {
    "id": "h8BePjKHvCKZ"
   },
   "outputs": [],
   "source": [
    "from sklearn.metrics import precision_recall_curve\n",
    "\n",
    "logistic_clf = LogisticRegression(random_state=42)\n",
    "logistic_clf.fit(X_prepared, y_train)\n",
    "y_scores = cross_val_predict(logistic_clf, X_prepared, y_train, cv=5, method='decision_function', n_jobs=-1)\n",
    "threshold = 0.5\n",
    "y_with_thres = (y_scores > threshold)\n",
    "precisions, recalls, thresholds = precision_recall_curve(y_train, y_scores)\n",
    "\n",
    "\n",
    "def plot_precision_recall_vs_threshold(precisions, recalls, thresholds):\n",
    "    plt.plot(thresholds, precisions[:-1], \"b--\", label=\"Precision\")\n",
    "    plt.plot(thresholds, recalls[:-1], \"g-\", label=\"Recall\")\n",
    "    plt.xlabel(\"Threshold\")\n",
    "    plt.legend(loc=\"upper left\")\n",
    "    plt.ylim([0, 1])\n",
    "    \n",
    "#plot_precision_recall_vs_threshold(precisions, recalls, thresholds)"
   ]
  },
  {
   "cell_type": "code",
   "execution_count": null,
   "metadata": {
    "id": "4lrLWt07vCKZ"
   },
   "outputs": [],
   "source": [
    "from sklearn.metrics import roc_curve\n",
    "\n",
    "fpr, tpr, thresholds =roc_curve(y_train, y_scores)\n",
    "\n",
    "def plot_roc_curve(fpr, tpr, label=None):\n",
    "    plt.plot(fpr, tpr, label=label)\n",
    "    plt.plot([0, 1], [0,1], 'k--')\n",
    "    plt.axis([0, 1, 0, 1])\n",
    "    plt.title('ROC Curve')\n",
    "    plt.xlabel('False Positive Rate')\n",
    "    plt.ylabel('True Positive Rate')\n",
    "    \n",
    "plot_roc_curve(fpr, tpr)\n",
    "plt.show()"
   ]
  },
  {
   "cell_type": "code",
   "execution_count": null,
   "metadata": {
    "id": "nXC54iqvvCKZ"
   },
   "outputs": [],
   "source": [
    "from sklearn.metrics import roc_auc_score\n",
    "\n",
    "# Puntaje del area bajo la curva\n",
    "roc_auc_score(y_train, y_pred)"
   ]
  },
  {
   "cell_type": "code",
   "execution_count": null,
   "metadata": {
    "id": "bsf018H3vCKZ"
   },
   "outputs": [],
   "source": [
    "from sklearn.model_selection import GridSearchCV, KFold\n",
    "\n",
    "# Busqueda de los mejores hiperparametros para el modelo(SVM)\n",
    "kfold = KFold(n_splits=10, shuffle=True, random_state=0)\n",
    "param_grid = [{'solver':['newton-cg', 'lbfgs', 'liblinear'], 'penalty':['l1', 'l2'],\n",
    "              'C':[30, 25, 20, 15, 10, 5, 1.0]}]\n",
    "              \n",
    "grid_search = GridSearchCV(logistic_clf, param_grid, cv=kfold, scoring='accuracy')"
   ]
  },
  {
   "cell_type": "code",
   "execution_count": null,
   "metadata": {
    "id": "s-W7sCqevCKZ"
   },
   "outputs": [],
   "source": [
    "grid_search.fit(X_prepared, y_train)\n",
    "grid_search.best_params_"
   ]
  },
  {
   "cell_type": "code",
   "execution_count": null,
   "metadata": {
    "id": "LRUvL_0XvCKa"
   },
   "outputs": [],
   "source": [
    "final_model = grid_search.best_estimator_\n",
    "final_model.score(X_prepared, y_train)"
   ]
  },
  {
   "cell_type": "code",
   "execution_count": null,
   "metadata": {
    "id": "4IDATA-NvCKa"
   },
   "outputs": [],
   "source": [
    "test = pd.read_csv('/kaggle/input/titanic/test.csv')"
   ]
  },
  {
   "cell_type": "code",
   "execution_count": null,
   "metadata": {
    "id": "rXNTZ1IWvCKa"
   },
   "outputs": [],
   "source": [
    "test_prepared = final_pipe.transform(test)"
   ]
  },
  {
   "cell_type": "code",
   "execution_count": null,
   "metadata": {
    "id": "nGr9BxTmvCKb"
   },
   "outputs": [],
   "source": [
    "predictions = final_model.predict(test_prepared)\n",
    "test['Survived'] = predictions"
   ]
  },
  {
   "cell_type": "code",
   "execution_count": null,
   "metadata": {
    "id": "VxmtYMx0vCKb"
   },
   "outputs": [],
   "source": [
    "preds = test[['PassengerId', 'Survived']]\n",
    "#preds = preds.set_index('PassengerId')\n",
    "preds.to_csv('submission.csv',index=False)"
   ]
  },
  {
   "cell_type": "code",
   "execution_count": null,
   "metadata": {
    "id": "4PRlmwGHvCKb"
   },
   "outputs": [],
   "source": [
    "preds"
   ]
  },
  {
   "cell_type": "code",
   "execution_count": null,
   "metadata": {
    "id": "QNqTngBZvCKb"
   },
   "outputs": [],
   "source": []
  },
  {
   "cell_type": "code",
   "execution_count": null,
   "metadata": {
    "colab": {
     "base_uri": "https://localhost:8080/"
    },
    "id": "RckcHh34EzUu",
    "outputId": "fb21cdc0-e4f9-4fc8-a6a2-5c19d361ec83"
   },
   "outputs": [],
   "source": [
    "! matplotlib version\n"
   ]
  },
  {
   "cell_type": "code",
   "execution_count": null,
   "metadata": {},
   "outputs": [],
   "source": []
  }
 ],
 "metadata": {
  "accelerator": "GPU",
  "colab": {
   "name": "Copy of Titanic-Copy1.ipynb",
   "provenance": [],
   "toc_visible": true
  },
  "kernelspec": {
   "display_name": "Python 3 (ipykernel)",
   "language": "python",
   "name": "python3"
  },
  "language_info": {
   "codemirror_mode": {
    "name": "ipython",
    "version": 3
   },
   "file_extension": ".py",
   "mimetype": "text/x-python",
   "name": "python",
   "nbconvert_exporter": "python",
   "pygments_lexer": "ipython3",
   "version": "3.8.12"
  }
 },
 "nbformat": 4,
 "nbformat_minor": 4
}
