{
 "cells": [
  {
   "cell_type": "code",
   "execution_count": 1,
   "metadata": {
    "id": "9eR0Fb5BvCJ6"
   },
   "outputs": [],
   "source": [
    "# Tratamiento de datos\n",
    "# ==============================================================================\n",
    "import numpy as np\n",
    "import pandas as pd\n",
    "\n",
    "# Gráficos\n",
    "# ==============================================================================\n",
    "import matplotlib.pyplot as plt\n",
    "import seaborn as sns\n",
    "import matplotlib.ticker as ticker\n",
    "import pylab\n",
    "\n",
    "# Modelado\n",
    "# ==============================================================================\n",
    "import scipy.stats as stats\n",
    "from sklearn.impute import SimpleImputer\n",
    "\n",
    "\n",
    "import re\n",
    "\n",
    "\n",
    "# Configuración warnings\n",
    "# ==============================================================================\n",
    "import warnings\n",
    "warnings.filterwarnings('ignore')"
   ]
  },
  {
   "cell_type": "code",
   "execution_count": 2,
   "metadata": {
    "id": "AZDFft6wvCKA"
   },
   "outputs": [],
   "source": [
    "# color settings:\n",
    "# ==============================================================================\n",
    "sns.set(rc={'axes.facecolor':\"#EAEDED\",\n",
    "            \"figure.facecolor\":\"#AED6F1\",\n",
    "            \"grid.color\":\"#E0D3AF\",\n",
    "            \"axes.edgecolor\":\"#424949\",\n",
    "            \"axes.labelcolor\":\"#424949\",\n",
    "            \"text.color\":\"#424949\" # color for headlines and sub headlines\n",
    "           }) "
   ]
  },
  {
   "cell_type": "code",
   "execution_count": 3,
   "metadata": {
    "id": "eTsQ946cvCKB"
   },
   "outputs": [],
   "source": [
    "url_train = \"https://github.com/PabloJRW/titanic-classifier/raw/main/train.csv\"\n",
    "url_test = \"https://github.com/PabloJRW/titanic-classifier/raw/main/test.csv\"\n",
    "df_train = pd.read_csv(url_train)\n",
    "df_test = pd.read_csv(url_test)"
   ]
  },
  {
   "cell_type": "markdown",
   "metadata": {
    "id": "hMeL5fOWvCKB"
   },
   "source": [
    "# <b>EDA (Análisis Exploratorio de Datos) "
   ]
  },
  {
   "cell_type": "code",
   "execution_count": 4,
   "metadata": {
    "colab": {
     "base_uri": "https://localhost:8080/",
     "height": 374
    },
    "id": "DVMdclSRvCKC",
    "outputId": "23a50411-9682-47ce-ada4-c627318aa4ce"
   },
   "outputs": [
    {
     "data": {
      "text/html": [
       "<div>\n",
       "<style scoped>\n",
       "    .dataframe tbody tr th:only-of-type {\n",
       "        vertical-align: middle;\n",
       "    }\n",
       "\n",
       "    .dataframe tbody tr th {\n",
       "        vertical-align: top;\n",
       "    }\n",
       "\n",
       "    .dataframe thead th {\n",
       "        text-align: right;\n",
       "    }\n",
       "</style>\n",
       "<table border=\"1\" class=\"dataframe\">\n",
       "  <thead>\n",
       "    <tr style=\"text-align: right;\">\n",
       "      <th></th>\n",
       "      <th>PassengerId</th>\n",
       "      <th>Survived</th>\n",
       "      <th>Pclass</th>\n",
       "      <th>Name</th>\n",
       "      <th>Sex</th>\n",
       "      <th>Age</th>\n",
       "      <th>SibSp</th>\n",
       "      <th>Parch</th>\n",
       "      <th>Ticket</th>\n",
       "      <th>Fare</th>\n",
       "      <th>Cabin</th>\n",
       "      <th>Embarked</th>\n",
       "    </tr>\n",
       "  </thead>\n",
       "  <tbody>\n",
       "    <tr>\n",
       "      <th>0</th>\n",
       "      <td>1</td>\n",
       "      <td>0</td>\n",
       "      <td>3</td>\n",
       "      <td>Braund, Mr. Owen Harris</td>\n",
       "      <td>male</td>\n",
       "      <td>22.0</td>\n",
       "      <td>1</td>\n",
       "      <td>0</td>\n",
       "      <td>A/5 21171</td>\n",
       "      <td>7.2500</td>\n",
       "      <td>NaN</td>\n",
       "      <td>S</td>\n",
       "    </tr>\n",
       "    <tr>\n",
       "      <th>1</th>\n",
       "      <td>2</td>\n",
       "      <td>1</td>\n",
       "      <td>1</td>\n",
       "      <td>Cumings, Mrs. John Bradley (Florence Briggs Th...</td>\n",
       "      <td>female</td>\n",
       "      <td>38.0</td>\n",
       "      <td>1</td>\n",
       "      <td>0</td>\n",
       "      <td>PC 17599</td>\n",
       "      <td>71.2833</td>\n",
       "      <td>C85</td>\n",
       "      <td>C</td>\n",
       "    </tr>\n",
       "    <tr>\n",
       "      <th>2</th>\n",
       "      <td>3</td>\n",
       "      <td>1</td>\n",
       "      <td>3</td>\n",
       "      <td>Heikkinen, Miss. Laina</td>\n",
       "      <td>female</td>\n",
       "      <td>26.0</td>\n",
       "      <td>0</td>\n",
       "      <td>0</td>\n",
       "      <td>STON/O2. 3101282</td>\n",
       "      <td>7.9250</td>\n",
       "      <td>NaN</td>\n",
       "      <td>S</td>\n",
       "    </tr>\n",
       "    <tr>\n",
       "      <th>3</th>\n",
       "      <td>4</td>\n",
       "      <td>1</td>\n",
       "      <td>1</td>\n",
       "      <td>Futrelle, Mrs. Jacques Heath (Lily May Peel)</td>\n",
       "      <td>female</td>\n",
       "      <td>35.0</td>\n",
       "      <td>1</td>\n",
       "      <td>0</td>\n",
       "      <td>113803</td>\n",
       "      <td>53.1000</td>\n",
       "      <td>C123</td>\n",
       "      <td>S</td>\n",
       "    </tr>\n",
       "    <tr>\n",
       "      <th>4</th>\n",
       "      <td>5</td>\n",
       "      <td>0</td>\n",
       "      <td>3</td>\n",
       "      <td>Allen, Mr. William Henry</td>\n",
       "      <td>male</td>\n",
       "      <td>35.0</td>\n",
       "      <td>0</td>\n",
       "      <td>0</td>\n",
       "      <td>373450</td>\n",
       "      <td>8.0500</td>\n",
       "      <td>NaN</td>\n",
       "      <td>S</td>\n",
       "    </tr>\n",
       "  </tbody>\n",
       "</table>\n",
       "</div>"
      ],
      "text/plain": [
       "   PassengerId  Survived  Pclass  \\\n",
       "0            1         0       3   \n",
       "1            2         1       1   \n",
       "2            3         1       3   \n",
       "3            4         1       1   \n",
       "4            5         0       3   \n",
       "\n",
       "                                                Name     Sex   Age  SibSp  \\\n",
       "0                            Braund, Mr. Owen Harris    male  22.0      1   \n",
       "1  Cumings, Mrs. John Bradley (Florence Briggs Th...  female  38.0      1   \n",
       "2                             Heikkinen, Miss. Laina  female  26.0      0   \n",
       "3       Futrelle, Mrs. Jacques Heath (Lily May Peel)  female  35.0      1   \n",
       "4                           Allen, Mr. William Henry    male  35.0      0   \n",
       "\n",
       "   Parch            Ticket     Fare Cabin Embarked  \n",
       "0      0         A/5 21171   7.2500   NaN        S  \n",
       "1      0          PC 17599  71.2833   C85        C  \n",
       "2      0  STON/O2. 3101282   7.9250   NaN        S  \n",
       "3      0            113803  53.1000  C123        S  \n",
       "4      0            373450   8.0500   NaN        S  "
      ]
     },
     "execution_count": 4,
     "metadata": {},
     "output_type": "execute_result"
    }
   ],
   "source": [
    "df_train.head(5)"
   ]
  },
  {
   "cell_type": "code",
   "execution_count": 5,
   "metadata": {},
   "outputs": [],
   "source": [
    "# Eliminción de variables irrelevantes\n",
    "df_train.drop(['PassengerId','Name'], axis=1, inplace=True)\n",
    "df_test.drop(['PassengerId','Name'], axis=1, inplace=True)\n",
    "# Renombrado de variables en datos de entrenamiento\n",
    "df_train.columns = [\"vida\", \"clase\", \"sexo\", \"edad\", \"sibsp\", \"parch\", \"ticket\", \"tarifa\", \"cabina\", \"puerto\"]\n",
    "# Renombrado de variables en datos de prueba\n",
    "df_test.columns = [\"clase\", \"sexo\", \"edad\", \"sibsp\", \"parch\", \"ticket\", \"tarifa\", \"cabina\", \"puerto\"]"
   ]
  },
  {
   "cell_type": "code",
   "execution_count": 6,
   "metadata": {
    "colab": {
     "base_uri": "https://localhost:8080/"
    },
    "id": "8yhd6z0MvCKE",
    "outputId": "fc0c4e9f-472f-440a-a8bd-4d0aff690005"
   },
   "outputs": [
    {
     "name": "stdout",
     "output_type": "stream",
     "text": [
      "<class 'pandas.core.frame.DataFrame'>\n",
      "RangeIndex: 891 entries, 0 to 890\n",
      "Data columns (total 10 columns):\n",
      " #   Column  Non-Null Count  Dtype  \n",
      "---  ------  --------------  -----  \n",
      " 0   vida    891 non-null    int64  \n",
      " 1   clase   891 non-null    int64  \n",
      " 2   sexo    891 non-null    object \n",
      " 3   edad    714 non-null    float64\n",
      " 4   sibsp   891 non-null    int64  \n",
      " 5   parch   891 non-null    int64  \n",
      " 6   ticket  891 non-null    object \n",
      " 7   tarifa  891 non-null    float64\n",
      " 8   cabina  204 non-null    object \n",
      " 9   puerto  889 non-null    object \n",
      "dtypes: float64(2), int64(4), object(4)\n",
      "memory usage: 69.7+ KB\n"
     ]
    }
   ],
   "source": [
    "# Tipo de cada columna\n",
    "# ==============================================================================\n",
    "df_train.info()"
   ]
  },
  {
   "cell_type": "code",
   "execution_count": 7,
   "metadata": {},
   "outputs": [
    {
     "data": {
      "text/plain": [
       "(891, 10)"
      ]
     },
     "execution_count": 7,
     "metadata": {},
     "output_type": "execute_result"
    }
   ],
   "source": [
    "# Dimensiones del dataset\n",
    "# ==============================================================================\n",
    "df_train.shape"
   ]
  },
  {
   "cell_type": "code",
   "execution_count": 8,
   "metadata": {},
   "outputs": [
    {
     "data": {
      "text/plain": [
       "cabina    687\n",
       "edad      177\n",
       "puerto      2\n",
       "vida        0\n",
       "clase       0\n",
       "sexo        0\n",
       "sibsp       0\n",
       "parch       0\n",
       "ticket      0\n",
       "tarifa      0\n",
       "dtype: int64"
      ]
     },
     "execution_count": 8,
     "metadata": {},
     "output_type": "execute_result"
    }
   ],
   "source": [
    "# Número de datos ausentes por variable\n",
    "# ==============================================================================\n",
    "df_train.isna().sum().sort_values(ascending=False)"
   ]
  },
  {
   "cell_type": "code",
   "execution_count": 9,
   "metadata": {},
   "outputs": [
    {
     "data": {
      "image/png": "[encoded data removed]",
      "text/plain": [
       "<Figure size 648x432 with 1 Axes>"
      ]
     },
     "metadata": {},
     "output_type": "display_data"
    }
   ],
   "source": [
    "# Visualización de variables con valores faltantes\n",
    "plt.figure(figsize=(9,6))\n",
    "plt.title('VALORES NULOS', fontweight='bold')\n",
    "sns.heatmap(df_train.isnull(), yticklabels=False, cbar=False, cmap='magma')\n",
    "plt.show()"
   ]
  },
  {
   "cell_type": "code",
   "execution_count": 11,
   "metadata": {},
   "outputs": [],
   "source": [
    "# La varaible cabina contiene gran cantida de valores faltantes\n",
    "# por lo que la elimino.\n",
    "df_train.drop('cabina', axis=1, inplace=True)\n",
    "df_test.drop('cabina', axis=1, inplace=True)\n",
    "\n",
    "# Copia de los datasets\n",
    "train = df_train.copy()\n",
    "test = df_test.copy()"
   ]
  },
  {
   "cell_type": "markdown",
   "metadata": {
    "id": "0hyyqyJ2Hffv"
   },
   "source": [
    "## <b>Variable Respuesta "
   ]
  },
  {
   "cell_type": "markdown",
   "metadata": {},
   "source": [
    "La variable respuesta para el modelo a desarrollar es <b>'vida'</b>, la cual nos indica si un pasajero sobrevivió o no\n",
    "al hundimiento del Titanic. <b>0</b> = Falleció, <b>1</b> = Sobrevivió."
   ]
  },
  {
   "cell_type": "code",
   "execution_count": 12,
   "metadata": {
    "colab": {
     "base_uri": "https://localhost:8080/",
     "height": 369
    },
    "id": "KD7srs23AwsJ",
    "outputId": "17fc1387-cc4a-49ca-9d11-41253e32150d"
   },
   "outputs": [
    {
     "data": {
      "image/png": "[encoded data removed]",
      "text/plain": [
       "<Figure size 720x360 with 1 Axes>"
      ]
     },
     "metadata": {},
     "output_type": "display_data"
    }
   ],
   "source": [
    "# Distribución de la variable objetivo\n",
    "fig, ax = plt.subplots(figsize=(10, 5))\n",
    "plt.title('Distribución Supervivencia', fontweight='bold', fontsize=20)\n",
    "sns.countplot(x=train['vida'], ax=ax)\n",
    "ax.set_xticklabels(('Fallecieron', 'Sobrevivieron'), fontsize=18)\n",
    "plt.show()"
   ]
  },
  {
   "cell_type": "code",
   "execution_count": 13,
   "metadata": {
    "colab": {
     "base_uri": "https://localhost:8080/"
    },
    "id": "GGn-gnMcD53s",
    "outputId": "821af613-fbbb-4cc1-a358-f97e1e9a0cd5"
   },
   "outputs": [
    {
     "name": "stdout",
     "output_type": "stream",
     "text": [
      "Porcentaje de supervivientes: 38.4%\n"
     ]
    }
   ],
   "source": [
    "# Cuál fue el porcentaje de sobrevivientes?\n",
    "print(f\"Porcentaje de supervivientes: {round(len(train[train['vida']==1]) / len(train) * 100, 1) }%\")"
   ]
  },
  {
   "cell_type": "markdown",
   "metadata": {
    "id": "XJnuPCppGf7T"
   },
   "source": [
    "<b>📝 Note:</b> El 38.4% de los pasajeros que viajaron abordo del Titanic sobrevivieron, en contraparte, falleció el 61.6%."
   ]
  },
  {
   "cell_type": "markdown",
   "metadata": {
    "id": "opVhtAuFvCKI"
   },
   "source": [
    "## <b>VARIABLES NUMÉRICAS"
   ]
  },
  {
   "cell_type": "markdown",
   "metadata": {},
   "source": [
    "## *****************************************************************************"
   ]
  },
  {
   "cell_type": "code",
   "execution_count": 14,
   "metadata": {
    "colab": {
     "base_uri": "https://localhost:8080/"
    },
    "id": "LnsHifTRzmYc",
    "outputId": "b0672cda-0885-44bb-8637-8b20584eef2d"
   },
   "outputs": [
    {
     "data": {
      "text/html": [
       "<div>\n",
       "<style scoped>\n",
       "    .dataframe tbody tr th:only-of-type {\n",
       "        vertical-align: middle;\n",
       "    }\n",
       "\n",
       "    .dataframe tbody tr th {\n",
       "        vertical-align: top;\n",
       "    }\n",
       "\n",
       "    .dataframe thead th {\n",
       "        text-align: right;\n",
       "    }\n",
       "</style>\n",
       "<table border=\"1\" class=\"dataframe\">\n",
       "  <thead>\n",
       "    <tr style=\"text-align: right;\">\n",
       "      <th></th>\n",
       "      <th>vida</th>\n",
       "      <th>clase</th>\n",
       "      <th>edad</th>\n",
       "      <th>sibsp</th>\n",
       "      <th>parch</th>\n",
       "      <th>tarifa</th>\n",
       "    </tr>\n",
       "  </thead>\n",
       "  <tbody>\n",
       "    <tr>\n",
       "      <th>count</th>\n",
       "      <td>891.000000</td>\n",
       "      <td>891.000000</td>\n",
       "      <td>714.000000</td>\n",
       "      <td>891.000000</td>\n",
       "      <td>891.000000</td>\n",
       "      <td>891.000000</td>\n",
       "    </tr>\n",
       "    <tr>\n",
       "      <th>mean</th>\n",
       "      <td>0.383838</td>\n",
       "      <td>2.308642</td>\n",
       "      <td>29.699118</td>\n",
       "      <td>0.523008</td>\n",
       "      <td>0.381594</td>\n",
       "      <td>32.204208</td>\n",
       "    </tr>\n",
       "    <tr>\n",
       "      <th>std</th>\n",
       "      <td>0.486592</td>\n",
       "      <td>0.836071</td>\n",
       "      <td>14.526497</td>\n",
       "      <td>1.102743</td>\n",
       "      <td>0.806057</td>\n",
       "      <td>49.693429</td>\n",
       "    </tr>\n",
       "    <tr>\n",
       "      <th>min</th>\n",
       "      <td>0.000000</td>\n",
       "      <td>1.000000</td>\n",
       "      <td>0.420000</td>\n",
       "      <td>0.000000</td>\n",
       "      <td>0.000000</td>\n",
       "      <td>0.000000</td>\n",
       "    </tr>\n",
       "    <tr>\n",
       "      <th>25%</th>\n",
       "      <td>0.000000</td>\n",
       "      <td>2.000000</td>\n",
       "      <td>20.125000</td>\n",
       "      <td>0.000000</td>\n",
       "      <td>0.000000</td>\n",
       "      <td>7.910400</td>\n",
       "    </tr>\n",
       "    <tr>\n",
       "      <th>50%</th>\n",
       "      <td>0.000000</td>\n",
       "      <td>3.000000</td>\n",
       "      <td>28.000000</td>\n",
       "      <td>0.000000</td>\n",
       "      <td>0.000000</td>\n",
       "      <td>14.454200</td>\n",
       "    </tr>\n",
       "    <tr>\n",
       "      <th>75%</th>\n",
       "      <td>1.000000</td>\n",
       "      <td>3.000000</td>\n",
       "      <td>38.000000</td>\n",
       "      <td>1.000000</td>\n",
       "      <td>0.000000</td>\n",
       "      <td>31.000000</td>\n",
       "    </tr>\n",
       "    <tr>\n",
       "      <th>max</th>\n",
       "      <td>1.000000</td>\n",
       "      <td>3.000000</td>\n",
       "      <td>80.000000</td>\n",
       "      <td>8.000000</td>\n",
       "      <td>6.000000</td>\n",
       "      <td>512.329200</td>\n",
       "    </tr>\n",
       "  </tbody>\n",
       "</table>\n",
       "</div>"
      ],
      "text/plain": [
       "             vida       clase        edad       sibsp       parch      tarifa\n",
       "count  891.000000  891.000000  714.000000  891.000000  891.000000  891.000000\n",
       "mean     0.383838    2.308642   29.699118    0.523008    0.381594   32.204208\n",
       "std      0.486592    0.836071   14.526497    1.102743    0.806057   49.693429\n",
       "min      0.000000    1.000000    0.420000    0.000000    0.000000    0.000000\n",
       "25%      0.000000    2.000000   20.125000    0.000000    0.000000    7.910400\n",
       "50%      0.000000    3.000000   28.000000    0.000000    0.000000   14.454200\n",
       "75%      1.000000    3.000000   38.000000    1.000000    0.000000   31.000000\n",
       "max      1.000000    3.000000   80.000000    8.000000    6.000000  512.329200"
      ]
     },
     "execution_count": 14,
     "metadata": {},
     "output_type": "execute_result"
    }
   ],
   "source": [
    "# Variables numéricas\n",
    "# ==============================================================================\n",
    "train.select_dtypes(include=[\"float64\", \"int\"]).describe()"
   ]
  },
  {
   "cell_type": "code",
   "execution_count": 15,
   "metadata": {},
   "outputs": [
    {
     "data": {
      "image/png": "[encoded data removed]",
      "text/plain": [
       "<Figure size 1080x432 with 6 Axes>"
      ]
     },
     "metadata": {},
     "output_type": "display_data"
    }
   ],
   "source": [
    "# Gráfico de distribución para cada variable numérica\n",
    "# ==============================================================================\n",
    "# Ajustar número de subplots en función del número de columnas\n",
    "fig, axes = plt.subplots(nrows=2, ncols=3, figsize=(15, 6))\n",
    "axes = axes.flat\n",
    "columnas_numeric = train.select_dtypes(include=['float64', 'int']).columns\n",
    "columnas_numeric = columnas_numeric.drop('vida')\n",
    "\n",
    "for i, colum in enumerate(columnas_numeric):\n",
    "    sns.histplot(\n",
    "        data    = train,\n",
    "        x       = colum,\n",
    "        stat    = \"count\",\n",
    "        kde     = True,\n",
    "        color   = (list(plt.rcParams['axes.prop_cycle'])*2)[i][\"color\"],\n",
    "        line_kws= {'linewidth': 2},\n",
    "        alpha   = 0.3,\n",
    "        ax      = axes[i]\n",
    "    )\n",
    "    axes[i].set_title(colum, fontsize = 12, fontweight = \"bold\")\n",
    "    axes[i].tick_params(labelsize = 9)\n",
    "    axes[i].set_xlabel(\"\")\n",
    "    \n",
    "    \n",
    "fig.tight_layout()\n",
    "plt.subplots_adjust(top = 0.9)\n",
    "fig.suptitle('Distribución variables numéricas', fontsize = 15, fontweight = \"bold\");"
   ]
  },
  {
   "cell_type": "markdown",
   "metadata": {},
   "source": [
    "Aunque algunas variables contienen valores numéricos, realmente son variables categóricas. Además procedo a eliminar la variable <b>\"id\"</b>, la cual hace referencia al número de indentificación de los pasajeros."
   ]
  },
  {
   "cell_type": "markdown",
   "metadata": {},
   "source": [
    "### <b> Edad"
   ]
  },
  {
   "cell_type": "markdown",
   "metadata": {},
   "source": [
    "Esta variable contiene 177 observaciones faltantes"
   ]
  },
  {
   "cell_type": "code",
   "execution_count": 16,
   "metadata": {},
   "outputs": [
    {
     "data": {
      "image/png": "[encoded data removed]",
      "text/plain": [
       "<Figure size 2160x216 with 2 Axes>"
      ]
     },
     "metadata": {},
     "output_type": "display_data"
    }
   ],
   "source": [
    "# Gráficas de distribución para la variable edad\n",
    "# ==============================================================================\n",
    "fig = plt.figure(figsize=(30,3))\n",
    "gs = fig.add_gridspec(1,3)\n",
    "\n",
    "ax0 = fig.add_subplot(gs[0,0])\n",
    "ax1 = fig.add_subplot(gs[0,1])\n",
    "\n",
    "ax0.set_title(\"HISTOGRAMA EDAD\", fontweight='bold')\n",
    "ax1.set_title(\"BOX-PLOT\", fontweight='bold')\n",
    "\n",
    "sns.histplot(x=train.edad , bins=50, kde=True, ax=ax0)\n",
    "sns.boxplot(x=train.edad, ax=ax1)\n",
    "fig.subplots_adjust(wspace=0.05)\n",
    "plt.show()"
   ]
  },
  {
   "cell_type": "code",
   "execution_count": 17,
   "metadata": {},
   "outputs": [
    {
     "name": "stdout",
     "output_type": "stream",
     "text": [
      "Statistics= 0.981, p-value= 0.000\n",
      "La muestra parece ser no Gaussiana (distribución no normal)\n"
     ]
    }
   ],
   "source": [
    "# Prueba de mormalidad Shapiro-Wilk\n",
    "# ==============================================================================\n",
    "mask = train['edad'].dropna() # 'edad' sin incluir los valores faltantes\n",
    "\n",
    "stat, p = stats.shapiro(mask)\n",
    "print('Statistics= %.3f, p-value= %.3f' %(stat, p))\n",
    "alpha = 0.05\n",
    "if p > alpha:\n",
    "    print(\"La muestra parece ser Gaussiana (distribución normal)\")\n",
    "else:\n",
    "    print(\"La muestra parece ser no Gaussiana (distribución no normal)\")"
   ]
  },
  {
   "cell_type": "markdown",
   "metadata": {},
   "source": [
    "<div style=\"color:#9A7D0A;\n",
    "           display:fill;\n",
    "           padding: 5px;\n",
    "           border-radius:10px;\n",
    "           border-style: solid;\n",
    "           border-color: #F9E79F;\n",
    "           background-color:#FCF3CF;\n",
    "           font-size:15px;\n",
    "           font-family: Didot;\n",
    "           letter-spacing:0.5px\">\n",
    "    <b>📝 Note:</b> La distribución de la variable <b>edad</b> mediante el histograma y gráfico de cajas muestra cierto sesgo positivo, sin embargo, el test de normalidad (Shapiro-Wilk), nos indica que efectivamente esta variable no se distribuye de manera Gaussiana.\n",
    "</div>"
   ]
  },
  {
   "cell_type": "markdown",
   "metadata": {},
   "source": [
    "<div style=\"color:#9A7D0A;\n",
    "           display:fill;\n",
    "           padding: 5px;\n",
    "           border-radius:10px;\n",
    "           border-style: solid;\n",
    "           border-color: #F9E79F;\n",
    "           background-color:#FCF3CF;\n",
    "           font-size:15px;\n",
    "           font-family: Didot;\n",
    "           letter-spacing:0.5px\">\n",
    "    <b>📝 Note:</b> Esta variable contiene outliers.\n",
    "</div>"
   ]
  },
  {
   "cell_type": "markdown",
   "metadata": {},
   "source": [
    "### <b>Tarifa"
   ]
  },
  {
   "cell_type": "code",
   "execution_count": 18,
   "metadata": {},
   "outputs": [
    {
     "data": {
      "image/png": "[encoded data removed]",
      "text/plain": [
       "<Figure size 2160x216 with 2 Axes>"
      ]
     },
     "metadata": {},
     "output_type": "display_data"
    }
   ],
   "source": [
    "# Gráficas de distribución para la variable tarifa\n",
    "# ==============================================================================\n",
    "fig = plt.figure(figsize=(30,3))\n",
    "gs = fig.add_gridspec(1,3)\n",
    "\n",
    "ax0 = fig.add_subplot(gs[0,0])\n",
    "ax1 = fig.add_subplot(gs[0,1])\n",
    "\n",
    "ax0.set_title(\"HISTOGRAMA TARIFA\", fontweight='bold')\n",
    "ax1.set_title(\"BOX-PLOT\", fontweight='bold')\n",
    "\n",
    "sns.histplot(x=train.tarifa , bins=50, kde=True, ax=ax0)\n",
    "sns.boxplot(x=train.tarifa, ax=ax1)\n",
    "fig.subplots_adjust(wspace=0.05)\n",
    "plt.show()"
   ]
  },
  {
   "cell_type": "markdown",
   "metadata": {},
   "source": [
    "## <b>VARIABLES CUALITATIVAS"
   ]
  },
  {
   "cell_type": "markdown",
   "metadata": {},
   "source": [
    "## *****************************************************************************"
   ]
  },
  {
   "cell_type": "code",
   "execution_count": 60,
   "metadata": {},
   "outputs": [],
   "source": [
    "train = df_train.copy()\n",
    "test = df_test.copy()"
   ]
  },
  {
   "cell_type": "code",
   "execution_count": 61,
   "metadata": {},
   "outputs": [],
   "source": [
    "# Transformando variables a categóricas\n",
    "for col in ['parch','clase','sibsp']:\n",
    "    train[col] = train[col].astype('object')"
   ]
  },
  {
   "cell_type": "code",
   "execution_count": 62,
   "metadata": {},
   "outputs": [
    {
     "data": {
      "text/html": [
       "<div>\n",
       "<style scoped>\n",
       "    .dataframe tbody tr th:only-of-type {\n",
       "        vertical-align: middle;\n",
       "    }\n",
       "\n",
       "    .dataframe tbody tr th {\n",
       "        vertical-align: top;\n",
       "    }\n",
       "\n",
       "    .dataframe thead th {\n",
       "        text-align: right;\n",
       "    }\n",
       "</style>\n",
       "<table border=\"1\" class=\"dataframe\">\n",
       "  <thead>\n",
       "    <tr style=\"text-align: right;\">\n",
       "      <th></th>\n",
       "      <th>clase</th>\n",
       "      <th>sexo</th>\n",
       "      <th>sibsp</th>\n",
       "      <th>parch</th>\n",
       "      <th>ticket</th>\n",
       "      <th>puerto</th>\n",
       "    </tr>\n",
       "  </thead>\n",
       "  <tbody>\n",
       "    <tr>\n",
       "      <th>count</th>\n",
       "      <td>891</td>\n",
       "      <td>891</td>\n",
       "      <td>891</td>\n",
       "      <td>891</td>\n",
       "      <td>891</td>\n",
       "      <td>889</td>\n",
       "    </tr>\n",
       "    <tr>\n",
       "      <th>unique</th>\n",
       "      <td>3</td>\n",
       "      <td>2</td>\n",
       "      <td>7</td>\n",
       "      <td>7</td>\n",
       "      <td>681</td>\n",
       "      <td>3</td>\n",
       "    </tr>\n",
       "    <tr>\n",
       "      <th>top</th>\n",
       "      <td>3</td>\n",
       "      <td>male</td>\n",
       "      <td>0</td>\n",
       "      <td>0</td>\n",
       "      <td>347082</td>\n",
       "      <td>S</td>\n",
       "    </tr>\n",
       "    <tr>\n",
       "      <th>freq</th>\n",
       "      <td>491</td>\n",
       "      <td>577</td>\n",
       "      <td>608</td>\n",
       "      <td>678</td>\n",
       "      <td>7</td>\n",
       "      <td>644</td>\n",
       "    </tr>\n",
       "  </tbody>\n",
       "</table>\n",
       "</div>"
      ],
      "text/plain": [
       "        clase  sexo  sibsp  parch  ticket puerto\n",
       "count     891   891    891    891     891    889\n",
       "unique      3     2      7      7     681      3\n",
       "top         3  male      0      0  347082      S\n",
       "freq      491   577    608    678       7    644"
      ]
     },
     "execution_count": 62,
     "metadata": {},
     "output_type": "execute_result"
    }
   ],
   "source": [
    "# Variables cualitativas (tipo object)\n",
    "# ==============================================================================\n",
    "train.select_dtypes(include=['object']).describe()"
   ]
  },
  {
   "cell_type": "code",
   "execution_count": 63,
   "metadata": {},
   "outputs": [
    {
     "data": {
      "image/png": "[encoded data removed]",
      "text/plain": [
       "<Figure size 1080x432 with 6 Axes>"
      ]
     },
     "metadata": {},
     "output_type": "display_data"
    }
   ],
   "source": [
    "# Gráfico para cada variable cualitativa\n",
    "# ==============================================================================\n",
    "\n",
    "mask = train.drop(['ticket'], axis=1)\n",
    "\n",
    "# Ajustar número de subplots en función del número de columnas\n",
    "fig, axes = plt.subplots(nrows=2, ncols=3, figsize=(15, 6))\n",
    "axes = axes.flat\n",
    "columnas_object = mask.select_dtypes(include=['object']).columns\n",
    "\n",
    "for i, colum in enumerate(columnas_object):\n",
    "    mask[colum].value_counts().plot.barh(ax = axes[i])\n",
    "    axes[i].set_title(colum, fontsize = 12, fontweight = \"bold\")\n",
    "    axes[i].tick_params(labelsize = 9)\n",
    "    axes[i].set_xlabel(\"\")\n",
    " \n",
    "fig.tight_layout()\n",
    "plt.subplots_adjust(top=0.9)\n",
    "fig.suptitle('Distribución variables cualitativas',\n",
    "             fontsize = 15, fontweight = \"bold\");"
   ]
  },
  {
   "cell_type": "markdown",
   "metadata": {},
   "source": [
    "### <b>Parch"
   ]
  },
  {
   "cell_type": "markdown",
   "metadata": {},
   "source": [
    "Esta variable contiene observaciones que van desde 0 hasta el 6. En la que el valor 0: representa a los pasajeros que viajaron sin acompañantes; 1: acompañados por una persona; 2: acompañados por dos personas, y así sucesivamente."
   ]
  },
  {
   "cell_type": "code",
   "execution_count": 71,
   "metadata": {},
   "outputs": [
    {
     "data": {
      "text/plain": [
       "0    678\n",
       "1    118\n",
       "2     80\n",
       "5      5\n",
       "3      5\n",
       "4      4\n",
       "6      1\n",
       "Name: parch, dtype: int64"
      ]
     },
     "execution_count": 71,
     "metadata": {},
     "output_type": "execute_result"
    }
   ],
   "source": [
    "# Cantidad por acompañantes en parch\n",
    "train.parch.value_counts()"
   ]
  },
  {
   "cell_type": "code",
   "execution_count": 70,
   "metadata": {},
   "outputs": [
    {
     "data": {
      "image/png": "[encoded data removed]",
      "text/plain": [
       "<Figure size 432x288 with 1 Axes>"
      ]
     },
     "metadata": {},
     "output_type": "display_data"
    }
   ],
   "source": [
    "# Gráfica de supervivencia por acompañantes\n",
    "plt.title(\"SUPERVIVENCIA POR ACOMPAÑANTES\")\n",
    "sns.countplot(x='parch', hue='vida', data=train)\n",
    "plt.legend(['Fallecieron', 'Sobrevivieron'], loc='upper right')\n",
    "plt.show()"
   ]
  },
  {
   "cell_type": "markdown",
   "metadata": {},
   "source": [
    "<div style=\"color:#9A7D0A;\n",
    "           display:fill;\n",
    "           padding: 5px;\n",
    "           border-radius:10px;\n",
    "           border-style: solid;\n",
    "           border-color: #F9E79F;\n",
    "           background-color:#FCF3CF;\n",
    "           font-size:15px;\n",
    "           font-family: Didot;\n",
    "           letter-spacing:0.5px\">\n",
    "<b>📝 Note:</b> Hay muy pocas observaciones de pasajeros que no viajaron solos.\n",
    "</div>"
   ]
  },
  {
   "cell_type": "markdown",
   "metadata": {},
   "source": [
    "<div style=\"color:#21618C;\n",
    "           display:fill;\n",
    "           padding: 5px;\n",
    "           border-radius:10px;\n",
    "           border-style: solid;\n",
    "           border-color: #AED6F1;\n",
    "           background-color:#D6EAF8;\n",
    "           font-size:15px;\n",
    "           font-family: Didot;\n",
    "           letter-spacing:0.5px\">\n",
    "<b>💡 Idea:</b> Convertir las observaciones en valores binarios. Pasajeros que viajaron solos y pasajeros acompañados.\n",
    "</div>"
   ]
  },
  {
   "cell_type": "markdown",
   "metadata": {
    "id": "Bvc5vSQhvCKM"
   },
   "source": [
    "## <b> Clase\n",
    "\n"
   ]
  },
  {
   "cell_type": "code",
   "execution_count": 83,
   "metadata": {
    "colab": {
     "base_uri": "https://localhost:8080/",
     "height": 515
    },
    "id": "BHdU92FHvCKN",
    "outputId": "853f999e-7c0e-40c7-900b-664665d18a73"
   },
   "outputs": [
    {
     "data": {
      "image/png": "[encoded data removed]",
      "text/plain": [
       "<Figure size 2160x216 with 2 Axes>"
      ]
     },
     "metadata": {},
     "output_type": "display_data"
    }
   ],
   "source": [
    "# Visualización de distribución de clases\n",
    "fig = plt.figure(figsize=(30,3))\n",
    "\n",
    "# add grid to figure\n",
    "gs = fig.add_gridspec(1,3)\n",
    "\n",
    "# fill grid with subplots\n",
    "ax0 = fig.add_subplot(gs[0,0])\n",
    "ax1 = fig.add_subplot(gs[0,1])\n",
    "\n",
    "# adjust subheadline fontsize\n",
    "ax0.set_title(\"DISTRIBUCIÓN CLASE\", fontsize=20)\n",
    "ax1.set_title(\"SUPERVIVENCIA POR CLASE\", fontsize=20)\n",
    "\n",
    "# adjust lable fontsize\n",
    "ax0.tick_params(labelsize=15)\n",
    "ax1.tick_params(labelsize=15)\n",
    "\n",
    "# plot data into subplots \n",
    "sns.countplot(x=\"clase\",data=train, ax=ax0, linewidth = 3).set(xlabel=\"Clase\", ylabel=\"CANTIDAD\")\n",
    "sns.countplot(x=\"clase\",data=train, ax=ax1, linewidth = 3, hue=\"vida\").set(xlabel=\"Clases\",ylabel=\"CANTIDAD\")\n",
    "fig.subplots_adjust(wspace=0.15)\n",
    "plt.show()"
   ]
  },
  {
   "cell_type": "markdown",
   "metadata": {
    "id": "mzZEcJhGvCKN"
   },
   "source": [
    "<b>📝 Note:</b> La mayoría de los pasajeros abordo viajaron en tercera clase, seguido por los de primera clase y segunda clase.\n"
   ]
  },
  {
   "cell_type": "markdown",
   "metadata": {
    "id": "zJpUWyfrvCKO"
   },
   "source": [
    "\n",
    "<b>📝 Note:</b> La primera clase fue la única que registró una razón de sobrevivientes mayor que los fallecidos, sin embargo, es notable la gran proporción de fallecidos que viajaron en tercera clase. Esta parece ser una variable de peso para inferir si un pasajero abordo sebrevivió o no.  \n"
   ]
  },
  {
   "cell_type": "code",
   "execution_count": null,
   "metadata": {
    "colab": {
     "base_uri": "https://localhost:8080/"
    },
    "id": "xDmuqe7lvCKO",
    "outputId": "0a33431d-d2f5-4b30-9652-e1c388715151"
   },
   "outputs": [],
   "source": [
    "train['Pclass'].where(train['Survived']==1).value_counts()"
   ]
  },
  {
   "cell_type": "markdown",
   "metadata": {
    "id": "RfF55ktU-bv6"
   },
   "source": [
    "## <b>\"Fare\" (Tarifa)"
   ]
  },
  {
   "cell_type": "code",
   "execution_count": null,
   "metadata": {
    "colab": {
     "base_uri": "https://localhost:8080/",
     "height": 0
    },
    "id": "8x0flTUZ-ZP8",
    "outputId": "e9d82a39-f111-4dd1-c7b2-24e12dc49878"
   },
   "outputs": [],
   "source": [
    "plt.figure(figsize=(9,6))\n",
    "plt.title(\"DISTRIBUCIÓN TARIFA\", fontweight='bold')\n",
    "sns.histplot(train['tarifa'], bins=50, kde=True)\n",
    "plt.show()"
   ]
  },
  {
   "cell_type": "markdown",
   "metadata": {
    "id": "teLIW7pZ_5ou"
   },
   "source": [
    "<b>📝 Note:</b>"
   ]
  },
  {
   "cell_type": "markdown",
   "metadata": {
    "id": "Q-6ej84CAQZ1"
   },
   "source": [
    "### <b>Tarifa por clase"
   ]
  },
  {
   "cell_type": "code",
   "execution_count": null,
   "metadata": {
    "colab": {
     "base_uri": "https://localhost:8080/",
     "height": 0
    },
    "id": "tRa0Jz9fAYoy",
    "outputId": "60520904-6ad0-4be9-a7ec-fd39c3f7c9b4"
   },
   "outputs": [],
   "source": [
    "# build figure\n",
    "fig = plt.figure(figsize=(25.5,2))\n",
    "\n",
    "gs = fig.add_gridspec(1,3)\n",
    "\n",
    "# fill grid with subplots\n",
    "ax0 = fig.add_subplot(gs[0,0])\n",
    "ax1 = fig.add_subplot(gs[0,1])\n",
    "ax2 = fig.add_subplot(gs[0,2])\n",
    "\n",
    "# adjust subheadline fontsize\n",
    "ax0.set_title('Pclass = 1', fontsize=20)\n",
    "ax1.set_title('Pclass = 2', fontsize=20)\n",
    "ax2.set_title('Pclass = 3', fontsize=20)\n",
    "\n",
    "# adjust lable fontsize\n",
    "ax0.tick_params(labelsize=15)\n",
    "ax1.tick_params(labelsize=15)\n",
    "ax2.tick_params(labelsize=15)\n",
    "\n",
    "# plot data into subplots \n",
    "sns.boxplot(x=\"tarifa\",data=train[train['clase']==1], orient=\"h\", ax=ax0, linewidth = 3, hue=\"vida\").set(xlabel=\"tarifa\")\n",
    "sns.boxplot(x=\"tarifa\",data=train[train['clase']==2], orient=\"h\", ax=ax1, linewidth = 3, hue=\"vida\").set(xlabel=\"tarifa\")\n",
    "sns.boxplot(x=\"tarifa\",data=train[train['clase']==3], orient=\"h\", ax=ax2, linewidth = 3, hue=\"vida\").set(xlabel=\"tarifa\")\n",
    "\n",
    "# add headline\n",
    "fig.subplots_adjust(top=0.6)\n",
    "fig.suptitle('Distribución de tarifa por clase', fontsize=\"28\");"
   ]
  },
  {
   "cell_type": "markdown",
   "metadata": {
    "id": "QMmn_iUWCI9k"
   },
   "source": [
    "<b>📝 Note:</b>La distribución de tarifas para los pasajeros en primera clase es mayor que en segunda y tercera clase, por lo que, queda claro que estos pagaron un tarifa más alta por viajar en primera clase, sin embargo, podemos ver que pasajeros en primera clase pagaron poco o nada."
   ]
  },
  {
   "cell_type": "code",
   "execution_count": null,
   "metadata": {},
   "outputs": [],
   "source": [
    "def iqr_outliers(df):\n",
    "    \"\"\"Utiliza la regla del rango intercuartílico para detectar outliers en tarifa ('Fare').\"\"\"\n",
    "    \"\"\"Retorna los indices de las entradas con outliers en tarifa ('Fare') por clase ('Pclass').\"\"\"\n",
    "    \n",
    "    # Tarifas por clase\n",
    "    first_class = df[df['Pclass']==1]['Fare']  # Tarifas de los que viajaron en primera clase\n",
    "    second_class = df[df['Pclass']==2]['Fare'] # Tarifas de los que viajaron en segunda clase\n",
    "    third_class = df[df['Pclass']==3]['Fare']  # Tarifas de los que viajaron en tercera clase\n",
    "    \n",
    "    # Busca el valor desde el cual inicia los outliers en primera clase\n",
    "    sorted(first_class)\n",
    "    Q1_1class, Q3_1class = np.percentile(first_class , [25,75]) # Q1, Q3\n",
    "    IQR_1class = Q3_1class - Q1_1class   # Rango Intercuartílico\n",
    "    c1_bound = Q3_1class + (1.5 * IQR_1class)   # outlier inicial primera clase\n",
    "    \n",
    "    # Busca el valor desde el cual inicia los outliers en segunda clase\n",
    "    sorted(second_class)\n",
    "    Q1_2class,Q3_2class = np.percentile(second_class , [25,75])   #Q, Q3\n",
    "    IQR_2class = Q3_2class - Q1_2class   # Rango Intercuartílico\n",
    "    c2_bound = Q3_2class + (1.5 * IQR_2class)   # outlier inicial segunda clase\n",
    "   \n",
    "    # Busca el valor desde el cual inicia los outliers en tercera clase\n",
    "    sorted(third_class)\n",
    "    Q1_3class,Q3_3class = np.percentile(third_class , [25,75])   # Q1, Q3\n",
    "    IQR_3class = Q3_3class - Q1_3class   # Rango Intercuartílico\n",
    "    c3_bound = Q3_3class + (1.5 * IQR_3class)   # outlier inicial tercera clase\n",
    "   \n",
    "    # Outliers en primera clase\n",
    "    c1_outliers = train[(train['Pclass']==1) & (train['Fare']>=c1_bound)]\n",
    "    # Outliers en segunda clase\n",
    "    c2_outliers = train[(train['Pclass']==2) & (train['Fare']>=c2_bound)]\n",
    "    # Outliers en tercera clase\n",
    "    c3_outliers = train[(train['Pclass']==3) & (train['Fare']>=c3_bound)]\n",
    "\n",
    "    return c1_outliers.index, c2_outliers.index, c3_outliers.index"
   ]
  },
  {
   "cell_type": "markdown",
   "metadata": {
    "id": "-_JuqskjvCKO"
   },
   "source": [
    "## <b>\"Sex\" (Sexo)"
   ]
  },
  {
   "cell_type": "code",
   "execution_count": null,
   "metadata": {
    "colab": {
     "base_uri": "https://localhost:8080/",
     "height": 0
    },
    "id": "aElfDDQmNdGk",
    "outputId": "72fee67d-37f0-4587-db77-bee41a0a4a6a"
   },
   "outputs": [],
   "source": [
    "# Visualización de distribución de sexo\n",
    "# build figure\n",
    "fig = plt.figure(figsize=(27,6))\n",
    "\n",
    "# add grid to figure\n",
    "gs = fig.add_gridspec(1,3)\n",
    "\n",
    "# fill grid with subplots\n",
    "ax0 = fig.add_subplot(gs[0,0])\n",
    "ax1 = fig.add_subplot(gs[0,1])\n",
    "\n",
    "# adjust subheadline fontsize\n",
    "ax0.set_title(\"DISTRIBUCIÓN SEXO\", fontsize=20)\n",
    "ax1.set_title(\"SEXO / SUPERVIVENCIA\", fontsize=20)\n",
    "\n",
    "# adjust lable fontsize\n",
    "ax0.tick_params(labelsize=15)\n",
    "ax1.tick_params(labelsize=15)\n",
    "\n",
    "# plot data into subplots \n",
    "sns.countplot(x=\"Sex\",data=train, ax=ax0, linewidth = 3).set(xlabel=\"SEXO\", ylabel=\"CANTIDAD DE PASAJEROS\")\n",
    "sns.countplot(x=\"Sex\",data=train, ax=ax1, linewidth = 3, hue=\"Survived\").set(xlabel=\"SEXO\", ylabel=\"CANTIDAD DE PASAJEROS\")\n",
    "plt.legend([\"fallecieron\", \"sobrevivieron\"])\n",
    "fig.subplots_adjust(wspace=0.25)\n",
    "plt.show()"
   ]
  },
  {
   "cell_type": "code",
   "execution_count": null,
   "metadata": {
    "colab": {
     "base_uri": "https://localhost:8080/"
    },
    "id": "M9E4IJqb5QTx",
    "outputId": "0143a818-f923-44fe-e476-eb185f15fe40"
   },
   "outputs": [],
   "source": [
    "# Cantidad de pasajeros por sexo\n",
    "pxs = train['Sex'].value_counts() # pasajeros por sexo\n",
    "ppxs = ((pxs / len(train)) * 100).round(2) # porcentaje pasajeros por sexo\n",
    "print(\"El conjunto de datos de entrenamiento cuenta con \"+str(len(train))+\" instancias (pasajeros), de los cuales:\")\n",
    "print(str(pxs[0])+\" es decir, el \"+str(ppxs[0])+ \" eran mujeres.\")\n",
    "print(str(pxs[1])+\" es decir, el \"+str(ppxs[1])+ \" eran hombres.\")"
   ]
  },
  {
   "cell_type": "markdown",
   "metadata": {
    "id": "vOD8Wj2jvCKP"
   },
   "source": [
    "\n",
    "<b>📝 Note:</b> De manera gráfica podemos concluir que un gran porcenaje de pasajeros fallecidos fueron hombres.\n"
   ]
  },
  {
   "cell_type": "code",
   "execution_count": null,
   "metadata": {
    "colab": {
     "base_uri": "https://localhost:8080/"
    },
    "id": "QHemycuovCKP",
    "outputId": "977f894d-1b36-4573-efc0-0b6fad43e6ec"
   },
   "outputs": [],
   "source": [
    "# Porcentaje de supervivientes por sexo.\n",
    "hombres_df = train[train['Sex']=='male']\n",
    "mujeres_df = train[train['Sex']=='female']\n",
    "\n",
    "print('El '+ str(round(len(hombres_df[hombres_df['Survived']==1])*100/len(hombres_df))) +'% de los hombres sobrevivió.')\n",
    "print('El '+ str(round(len(mujeres_df[mujeres_df['Survived']==1])*100/len(mujeres_df))) +'% de los mujeres sobrevivió.')"
   ]
  },
  {
   "cell_type": "markdown",
   "metadata": {
    "id": "MNNWcstYvCKP"
   },
   "source": [
    "\n",
    "<b>💡 Idea:</b> Hasta el momento, al parecer las mujeres en primera clase tuvieron una alta probabilidad de sobrevivir."
   ]
  },
  {
   "cell_type": "code",
   "execution_count": null,
   "metadata": {
    "colab": {
     "base_uri": "https://localhost:8080/",
     "height": 0
    },
    "id": "-oF8iFWAvCKQ",
    "outputId": "2dc3d70b-882c-406d-9140-b34639e3a33b"
   },
   "outputs": [],
   "source": [
    "# Supervivencia entre las variables clase y sexo.\n",
    "fig = plt.figure(figsize=(27,6))\n",
    "gs = fig.add_gridspec(1,3)\n",
    "\n",
    "ax0 = fig.add_subplot(gs[0,0])\n",
    "ax1 = fig.add_subplot(gs[0,1])\n",
    "\n",
    "ax0.set_title('MUJERES POR CLASE')\n",
    "ax1.set_title('HOMBRES POR CLASE')\n",
    "\n",
    "#plt.suptitle('SUPERVIVENCIA VS SEXO/CLASE', fontweight='bold')\n",
    "sns.countplot(data=train[train['Sex']=='female'], x='Survived', hue='Pclass', ax=ax0)\n",
    "ax0.set_xticklabels([\"fallecieron\", \"sobrevivieron\"])\n",
    "sns.countplot(data=train[train['Sex']=='male'], x='Survived', hue='Pclass', ax=ax1)\n",
    "ax1.set_xticklabels([\"fallecieron\", \"sobrevivieron\"])\n",
    "plt.subplots_adjust(top = 0.9)\n",
    "plt.show()"
   ]
  },
  {
   "cell_type": "code",
   "execution_count": null,
   "metadata": {
    "colab": {
     "base_uri": "https://localhost:8080/"
    },
    "id": "v4lIOwdZP4Bs",
    "outputId": "ee8d77c5-c6c2-4423-d2de-c3fb1bd8e209"
   },
   "outputs": [],
   "source": [
    "# Porcentaje de mujeres supervivientes por clase\n",
    "mujeres_sup = mujeres_df[mujeres_df['Survived']==1]\n",
    "for i in [1,2,3]:\n",
    "  mujeres_sup_por = len(mujeres_sup[mujeres_sup['Pclass']==i]) / len(mujeres_df[mujeres_df['Pclass']==i]) * 100\n",
    "  print(\"El \"+ str(round(mujeres_sup_por)) +\"% de las mujeres en \"+str(i)+\" clase sobrevivió.\")"
   ]
  },
  {
   "cell_type": "markdown",
   "metadata": {
    "id": "uKZjhjf7vCKT"
   },
   "source": [
    "<b>📝 Note:</b> Efectivamente, las mujeres que viajaron en primera clase tuvieron una alta probabilidad de sobrevivir, pues sobrevivió el 97% de ellas. No muy distinto, el 92% de mujeres en segunda clase sobrevivió. \n",
    "\n"
   ]
  },
  {
   "cell_type": "markdown",
   "metadata": {
    "id": "iOwv82F0vCKT"
   },
   "source": [
    "## <b>\"Age\" (Edad)"
   ]
  },
  {
   "cell_type": "code",
   "execution_count": null,
   "metadata": {},
   "outputs": [],
   "source": [
    "def normality_test(feature):\n",
    "    from scipy.stats import shapiro\n",
    "    stat, p = shapiro(feature)\n",
    "    alpha = 0.05\n",
    "    print('Statistics=%.3f, p=%.3f' % (stat, p))\n",
    "    if p > alpha:\n",
    "        print('Sample looks Gaussian (fail to reject H0)')\n",
    "    else:\n",
    "        print('Sample does not look Gaussian (reject H0)')\n",
    "normality_test(train.Age)"
   ]
  },
  {
   "cell_type": "code",
   "execution_count": null,
   "metadata": {},
   "outputs": [],
   "source": [
    "from scipy.stats import spearmanr\n",
    "\n",
    "mask = train[['Age', 'Survived']].dropna()\n",
    "edad =mask['Age']; sup = mask['Survived']\n",
    "coef, p = spearmanr(edad, sup)\n",
    "print(coef, p)"
   ]
  },
  {
   "cell_type": "code",
   "execution_count": null,
   "metadata": {
    "colab": {
     "base_uri": "https://localhost:8080/",
     "height": 0
    },
    "id": "gfD_zOEnvCKU",
    "outputId": "980bdce6-4dff-4f9f-b935-9bbfc9be3c43"
   },
   "outputs": [],
   "source": [
    "# \n",
    "fig = plt.figure(figsize=(12,6))\n",
    "plt.title('MEDIA DE EDAD POR CLASE', fontsize=\"20\")\n",
    "sns.boxplot(x='Age', y='Pclass', hue='Sex', orient='h', data=train)\n",
    "fig.subplots_adjust(top=0.6)\n",
    "plt.show()"
   ]
  },
  {
   "cell_type": "markdown",
   "metadata": {
    "id": "Mx4kRrVavCKU"
   },
   "source": [
    "<div style=\"color:#21618C;\n",
    "           display:fill;\n",
    "           padding: 5px;\n",
    "           border-radius:10px;\n",
    "           border-style: solid;\n",
    "           border-color: #AED6F1;\n",
    "           background-color:#D6EAF8;\n",
    "           font-size:15px;\n",
    "           font-family: Didot;\n",
    "           letter-spacing:0.5px\">\n",
    "<b>💡 Idea:</b> La media de edad por clase podria ser el mejor valor para realizar imputacion de los valores nulos en 'Age'."
   ]
  },
  {
   "cell_type": "markdown",
   "metadata": {
    "id": "f44dm2HivCKU"
   },
   "source": [
    "## <b>\"Sibsp\" (Acompañantes)"
   ]
  },
  {
   "cell_type": "code",
   "execution_count": null,
   "metadata": {
    "colab": {
     "base_uri": "https://localhost:8080/",
     "height": 0
    },
    "id": "HehsKuT8JjXu",
    "outputId": "80da5f72-40ec-4bcb-e17b-a6571bd9f6d3"
   },
   "outputs": [],
   "source": [
    "fig = plt.figure(figsize=(15, 5))\n",
    "gs = fig.add_gridspec(1, 2)\n",
    "\n",
    "ax0 = fig.add_subplot(gs[0,0])\n",
    "ax1 = fig.add_subplot(gs[0,1])\n",
    "\n",
    "plt.suptitle('SibSp vs. Parch', fontweight='bold', fontsize=20)\n",
    "plt.subplots_adjust(top=0.9, wspace=.25)\n",
    "ax0.set_title('Distribución Sibsp')\n",
    "ax1.set_title('Distribución Parch')\n",
    "\n",
    "sns.countplot(x='SibSp', data=train, ax=ax0)\n",
    "sns.countplot(x='Parch', data=train, ax=ax1)\n",
    "plt.show()"
   ]
  },
  {
   "cell_type": "markdown",
   "metadata": {
    "id": "aWLtP4NYIK-g"
   },
   "source": [
    "### Acompañados por herman@s y espos@s"
   ]
  },
  {
   "cell_type": "code",
   "execution_count": null,
   "metadata": {
    "colab": {
     "base_uri": "https://localhost:8080/",
     "height": 0
    },
    "id": "TNaVgR_nvCKU",
    "outputId": "75ac0470-600e-4100-b5c4-f0f552ff36bc"
   },
   "outputs": [],
   "source": [
    "# Distribucion de pasajeros acompañados(Herman@s-Espos@)\n",
    "fig = plt.figure(figsize=(15, 5))\n",
    "gs = fig.add_gridspec(1, 2)\n",
    "\n",
    "ax0 = fig.add_subplot(gs[0,0])\n",
    "ax1 = fig.add_subplot(gs[0,1])\n",
    "\n",
    "plt.suptitle('Acompañados SibSp', fontweight='bold', fontsize=20)\n",
    "plt.subplots_adjust(top=0.9, wspace=.25)\n",
    "ax0.set_title('Distribución')\n",
    "ax1.set_title('Sibsp / Supervivencia')\n",
    "\n",
    "sns.countplot(x='SibSp', data=train, ax=ax0)\n",
    "sns.countplot(x='SibSp', hue='Survived', data=train, ax=ax1)\n",
    "plt.show()"
   ]
  },
  {
   "cell_type": "code",
   "execution_count": null,
   "metadata": {
    "colab": {
     "base_uri": "https://localhost:8080/",
     "height": 0
    },
    "id": "IHVXKz9wMLZk",
    "outputId": "9990fc3c-e2d9-499e-ad02-cb7893200886"
   },
   "outputs": [],
   "source": [
    "super_sibsp =[]\n",
    "for x in train['SibSp'].unique():\n",
    "  frecuencia_sibsp = len(train[train['SibSp']==x])\n",
    "  sup = frecuencia_sibsp - (len(train.loc[(train['SibSp']==x) & (train['Survived']==1)]))\n",
    "  per_sibsp = round((frecuencia_sibsp / len(train['SibSp']) * 100), 2)\n",
    "  per_sup_sibsp = round((len(train.loc[(train['SibSp']==x) & (train['Survived']==1)]) / frecuencia_sibsp * 100), 2)\n",
    "  super_sibsp.append({'# Acompañantes':x, '# Sobrevivientes':sup, '% Acompañantes':per_sibsp, '% Sobrevivientes':per_sup_sibsp})\n",
    "\n",
    "super_sibsp.sort(key=lambda k: k['% Sobrevivientes'], reverse=True)\n",
    "super_sibsp = pd.DataFrame(super_sibsp)\n",
    "for i in range(len(super_sibsp)):\n",
    "  surv = super_sibsp.loc[i, '# Sobrevivientes']\n",
    "  cant = super_sibsp.loc[i, '# Acompañantes']\n",
    "  per_sibsp = super_sibsp.loc[i, '% Acompañantes']\n",
    "  perc = super_sibsp.loc[i, '% Sobrevivientes']\n",
    "pd.DataFrame(super_sibsp)"
   ]
  },
  {
   "cell_type": "markdown",
   "metadata": {
    "id": "OY2R-mdzLUyr"
   },
   "source": [
    "### Acompañados por padres e hij@s"
   ]
  },
  {
   "cell_type": "code",
   "execution_count": null,
   "metadata": {
    "colab": {
     "base_uri": "https://localhost:8080/",
     "height": 0
    },
    "id": "0xkZ0yCpvCKV",
    "outputId": "eb698731-3f8b-4169-97ff-697344b95c8b"
   },
   "outputs": [],
   "source": [
    "# Distribucion de pasajeros acompañados(Padres-Hijos)\n",
    "fig = plt.figure(figsize=(15, 5))\n",
    "gs = fig.add_gridspec(1, 2)\n",
    "\n",
    "ax0 = fig.add_subplot(gs[0,0])\n",
    "ax1 = fig.add_subplot(gs[0,1])\n",
    "\n",
    "plt.suptitle('Acompañados Parch', fontweight='bold', fontsize=20)\n",
    "plt.subplots_adjust(top=0.9, wspace=.25)\n",
    "ax0.set_title('Distribución')\n",
    "ax1.set_title('Parch / Supervivencia')\n",
    "\n",
    "sns.countplot(x='parch', data=train, ax=ax0)\n",
    "sns.countplot(x='parch', hue='vida', data=train, ax=ax1)\n",
    "plt.show()"
   ]
  },
  {
   "cell_type": "code",
   "execution_count": null,
   "metadata": {
    "colab": {
     "base_uri": "https://localhost:8080/"
    },
    "id": "QuT2zG5tvCKV",
    "outputId": "caf58b0a-d23d-4148-faa1-ebdbd817b048"
   },
   "outputs": [],
   "source": [
    "super_parch =[]\n",
    "for x in train['Parch'].unique():\n",
    "  frecuencia_parch = len(train[train['Parch']==x])\n",
    "  sup = frecuencia_parch - (len(train.loc[(train['Parch']==x) & (train['Survived']==1)]))\n",
    "  per_parch = round((frecuencia_parch / len(train['Parch']) * 100), 2)\n",
    "  per_sup_parch = round((len(train.loc[(train['Parch']==x) & (train['Survived']==1)]) / frecuencia_parch * 100), 2)\n",
    "  super_parch.append({'cant':x, 'sup':sup, 'porcentaje_sup':per_sup_parch})\n",
    "  \n",
    "super_parch.sort(key=lambda k: k['porcentaje_sup'], reverse=True)\n",
    "super_parch = pd.DataFrame(super_parch)\n",
    "for i in range(len(super_parch)):\n",
    "  cant = super_parch.loc[i, 'cant']\n",
    "  surv = super_parch.loc[i, 'sup']\n",
    "  perc = super_parch.loc[i, 'porcentaje_sup']\n",
    "  print(str(surv)+\" pasajeros, es decir, el \"+str(perc)+\"% de los que viajaron acompañados por \"+str(cant)+\" personas sobrevivieron.\")"
   ]
  },
  {
   "cell_type": "markdown",
   "metadata": {
    "id": "jT1iGZo6vCKX"
   },
   "source": [
    "# <b>Correlations<b>"
   ]
  },
  {
   "cell_type": "code",
   "execution_count": null,
   "metadata": {
    "colab": {
     "base_uri": "https://localhost:8080/"
    },
    "id": "4mJOe6vkvCKX",
    "outputId": "55a690d0-f3c4-4c2f-c297-d7f3fb237929"
   },
   "outputs": [],
   "source": [
    "# Correlaciones entre todas las variables numericas contra supervivencia\n",
    "corr_matrix = train.corr(method='spearman').round(2)\n",
    "corr_matrix['Survived'].sort_values(ascending=False)"
   ]
  },
  {
   "cell_type": "code",
   "execution_count": null,
   "metadata": {
    "colab": {
     "base_uri": "https://localhost:8080/",
     "height": 329
    },
    "id": "eikfXjZ2vCKX",
    "outputId": "31ed807f-d8dc-4a28-bbdc-7f0c5aab24cc"
   },
   "outputs": [],
   "source": [
    "sns.heatmap(corr_matrix, annot=True)\n",
    "plt.show()"
   ]
  },
  {
   "cell_type": "markdown",
   "metadata": {
    "id": "p_LtWPW2vCKX"
   },
   "source": [
    "# <b>PREPARE DATA"
   ]
  },
  {
   "cell_type": "code",
   "execution_count": null,
   "metadata": {
    "id": "_AAYBTJPvCKX"
   },
   "outputs": [],
   "source": [
    "X_train = train.drop(['PassengerId', 'Survived', 'Ticket', 'Cabin', 'PassengerId', 'Fare', 'Name'], axis='columns')\n",
    "y_train = train.Survived"
   ]
  },
  {
   "cell_type": "code",
   "execution_count": null,
   "metadata": {
    "id": "Ft8z82O6vCKX"
   },
   "outputs": [],
   "source": [
    "num_features = X_train.Age\n",
    "cat_features = X_train.drop('Age', axis=1).astype('category')"
   ]
  },
  {
   "cell_type": "markdown",
   "metadata": {
    "id": "MrWtqDXTvCKY"
   },
   "source": [
    "### Preprocesador"
   ]
  },
  {
   "cell_type": "code",
   "execution_count": null,
   "metadata": {
    "colab": {
     "base_uri": "https://localhost:8080/",
     "height": 476
    },
    "id": "ytZL44AmvCKY",
    "outputId": "3257db45-6a46-414a-c47e-0d3fed4be7b0"
   },
   "outputs": [],
   "source": [
    "from sklearn.base import BaseEstimator, TransformerMixin\n",
    "from sklearn.compose import ColumnTransformer, make_column_selector as selector\n",
    "from sklearn.pipeline import Pipeline, FeatureUnion\n",
    "from sklearn.experimental import enable_iterative_imputer \n",
    "from sklearn.linear_model import BayesianRidge\n",
    "from sklearn.impute import SimpleImputer, IterativeImputer\n",
    "from sklearn.preprocessing import FunctionTransformer, OneHotEncoder, StandardScaler\n",
    "from sklearn.neighbors import KNeighborsClassifier\n",
    "\n",
    "\n",
    "# numerical transformer pipeline (only contains 'Age')\n",
    "num_transformer = Pipeline([ \n",
    "    (\"imputer\", SimpleImputer(strategy='median')),\n",
    "    (\"scaler\", StandardScaler()),\n",
    "                           ])\n",
    "\n",
    "# categorical transformer pipeline\n",
    "cat_transformer = Pipeline([ \n",
    "    ('cat_imputer', SimpleImputer(strategy='most_frequent')),\n",
    "    ('ohe', OneHotEncoder(handle_unknown='ignore')),\n",
    "                            ])\n",
    "\n",
    "final_pipe = ColumnTransformer([\n",
    "    ('num_transfomer', num_transformer, num_features),\n",
    "    ('cat_transformer', cat_transformer, cat_features),\n",
    "                                ],remainder='passthrough')\n",
    "\n",
    "X_prepared =final_pipe.fit_transform(X_train)"
   ]
  },
  {
   "cell_type": "markdown",
   "metadata": {
    "id": "FDgrZyP6vCKY"
   },
   "source": [
    "### SELECT A MODEL"
   ]
  },
  {
   "cell_type": "code",
   "execution_count": null,
   "metadata": {
    "id": "VPwy-_jWvCKY"
   },
   "outputs": [],
   "source": [
    "from sklearn.model_selection import cross_val_predict\n",
    "from sklearn.metrics import precision_score, recall_score, f1_score\n",
    "from sklearn.svm import SVC\n",
    "from sklearn.linear_model import SGDClassifier, LogisticRegression\n",
    "from sklearn.tree import DecisionTreeClassifier\n",
    "from sklearn.ensemble import RandomForestClassifier\n",
    "from sklearn.neighbors import KNeighborsClassifier\n",
    "\n",
    "\n",
    "models = {'svc': SVC(), \n",
    "          'sgd': SGDClassifier(), \n",
    "          'logistic': LogisticRegression(),\n",
    "          'decision_tree': DecisionTreeClassifier(), \n",
    "          'random_forest': RandomForestClassifier(),\n",
    "          'knn': KNeighborsClassifier()}\n",
    "\n",
    "n_models = len(models)\n",
    "scores=[]\n",
    "for name, model in models.items():\n",
    "    y_train_pred = cross_val_predict(model, X_prepared, y_train, cv=5)\n",
    "    precision = np.mean(precision_score(y_train, y_train_pred)).round(2)\n",
    "    recall = np.mean(recall_score(y_train, y_train_pred)).round(2)\n",
    "    f1 = np.mean(f1_score(y_train, y_train_pred)).round(2)\n",
    "\n",
    "    model_scores = np.array([name, precision, recall, f1])\n",
    "    scores.append(np.array(model_scores))\n",
    "    \n",
    "      \n",
    "scores_df = pd.DataFrame(scores, columns=['Model', 'Precision', 'Recall', 'F1']); scores_df.set_index('Model', inplace=True)\n",
    "scores_df.sort_values(by='F1', ascending=False)"
   ]
  },
  {
   "cell_type": "code",
   "execution_count": null,
   "metadata": {
    "id": "NaiJNs35vCKY"
   },
   "outputs": [],
   "source": [
    "from sklearn.metrics import classification_report\n",
    "\n",
    "logistic_clf = LogisticRegression(random_state=42)\n",
    "y_pred = cross_val_predict(logistic_clf, X_prepared, y_train)\n",
    "print(classification_report(y_train, y_pred))"
   ]
  },
  {
   "cell_type": "code",
   "execution_count": null,
   "metadata": {
    "id": "h8BePjKHvCKZ"
   },
   "outputs": [],
   "source": [
    "from sklearn.metrics import precision_recall_curve\n",
    "\n",
    "logistic_clf = LogisticRegression(random_state=42)\n",
    "logistic_clf.fit(X_prepared, y_train)\n",
    "y_scores = cross_val_predict(logistic_clf, X_prepared, y_train, cv=5, method='decision_function', n_jobs=-1)\n",
    "threshold = 0.5\n",
    "y_with_thres = (y_scores > threshold)\n",
    "precisions, recalls, thresholds = precision_recall_curve(y_train, y_scores)\n",
    "\n",
    "\n",
    "def plot_precision_recall_vs_threshold(precisions, recalls, thresholds):\n",
    "    plt.plot(thresholds, precisions[:-1], \"b--\", label=\"Precision\")\n",
    "    plt.plot(thresholds, recalls[:-1], \"g-\", label=\"Recall\")\n",
    "    plt.xlabel(\"Threshold\")\n",
    "    plt.legend(loc=\"upper left\")\n",
    "    plt.ylim([0, 1])\n",
    "    \n",
    "#plot_precision_recall_vs_threshold(precisions, recalls, thresholds)"
   ]
  },
  {
   "cell_type": "code",
   "execution_count": null,
   "metadata": {
    "id": "4lrLWt07vCKZ"
   },
   "outputs": [],
   "source": [
    "from sklearn.metrics import roc_curve\n",
    "\n",
    "fpr, tpr, thresholds =roc_curve(y_train, y_scores)\n",
    "\n",
    "def plot_roc_curve(fpr, tpr, label=None):\n",
    "    plt.plot(fpr, tpr, label=label)\n",
    "    plt.plot([0, 1], [0,1], 'k--')\n",
    "    plt.axis([0, 1, 0, 1])\n",
    "    plt.title('ROC Curve')\n",
    "    plt.xlabel('False Positive Rate')\n",
    "    plt.ylabel('True Positive Rate')\n",
    "    \n",
    "plot_roc_curve(fpr, tpr)\n",
    "plt.show()"
   ]
  },
  {
   "cell_type": "code",
   "execution_count": null,
   "metadata": {
    "id": "nXC54iqvvCKZ"
   },
   "outputs": [],
   "source": [
    "from sklearn.metrics import roc_auc_score\n",
    "\n",
    "# Puntaje del area bajo la curva\n",
    "roc_auc_score(y_train, y_pred)"
   ]
  },
  {
   "cell_type": "code",
   "execution_count": null,
   "metadata": {
    "id": "bsf018H3vCKZ"
   },
   "outputs": [],
   "source": [
    "from sklearn.model_selection import GridSearchCV, KFold\n",
    "\n",
    "# Busqueda de los mejores hiperparametros para el modelo(SVM)\n",
    "kfold = KFold(n_splits=10, shuffle=True, random_state=0)\n",
    "param_grid = [{'solver':['newton-cg', 'lbfgs', 'liblinear'], 'penalty':['l1', 'l2'],\n",
    "              'C':[30, 25, 20, 15, 10, 5, 1.0]}]\n",
    "              \n",
    "grid_search = GridSearchCV(logistic_clf, param_grid, cv=kfold, scoring='accuracy')"
   ]
  },
  {
   "cell_type": "code",
   "execution_count": null,
   "metadata": {
    "id": "s-W7sCqevCKZ"
   },
   "outputs": [],
   "source": [
    "grid_search.fit(X_prepared, y_train)\n",
    "grid_search.best_params_"
   ]
  },
  {
   "cell_type": "code",
   "execution_count": null,
   "metadata": {
    "id": "LRUvL_0XvCKa"
   },
   "outputs": [],
   "source": [
    "final_model = grid_search.best_estimator_\n",
    "final_model.score(X_prepared, y_train)"
   ]
  },
  {
   "cell_type": "code",
   "execution_count": null,
   "metadata": {
    "id": "4IDATA-NvCKa"
   },
   "outputs": [],
   "source": [
    "test = pd.read_csv('/kaggle/input/titanic/test.csv')"
   ]
  },
  {
   "cell_type": "code",
   "execution_count": null,
   "metadata": {
    "id": "rXNTZ1IWvCKa"
   },
   "outputs": [],
   "source": [
    "test_prepared = final_pipe.transform(test)"
   ]
  },
  {
   "cell_type": "code",
   "execution_count": null,
   "metadata": {
    "id": "nGr9BxTmvCKb"
   },
   "outputs": [],
   "source": [
    "predictions = final_model.predict(test_prepared)\n",
    "test['Survived'] = predictions"
   ]
  },
  {
   "cell_type": "code",
   "execution_count": null,
   "metadata": {
    "id": "VxmtYMx0vCKb"
   },
   "outputs": [],
   "source": [
    "preds = test[['PassengerId', 'Survived']]\n",
    "#preds = preds.set_index('PassengerId')\n",
    "preds.to_csv('submission.csv',index=False)"
   ]
  },
  {
   "cell_type": "code",
   "execution_count": null,
   "metadata": {
    "id": "4PRlmwGHvCKb"
   },
   "outputs": [],
   "source": [
    "preds"
   ]
  },
  {
   "cell_type": "code",
   "execution_count": null,
   "metadata": {
    "id": "QNqTngBZvCKb"
   },
   "outputs": [],
   "source": []
  },
  {
   "cell_type": "code",
   "execution_count": null,
   "metadata": {},
   "outputs": [],
   "source": []
  }
 ],
 "metadata": {
  "accelerator": "GPU",
  "colab": {
   "name": "Copy of Titanic-Copy1.ipynb",
   "provenance": [],
   "toc_visible": true
  },
  "kernelspec": {
   "display_name": "Python 3 (ipykernel)",
   "language": "python",
   "name": "python3"
  },
  "language_info": {
   "codemirror_mode": {
    "name": "ipython",
    "version": 3
   },
   "file_extension": ".py",
   "mimetype": "text/x-python",
   "name": "python",
   "nbconvert_exporter": "python",
   "pygments_lexer": "ipython3",
   "version": "3.8.12"
  }
 },
 "nbformat": 4,
 "nbformat_minor": 4
}
