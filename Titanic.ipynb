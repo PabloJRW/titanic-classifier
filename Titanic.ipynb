{
 "cells": [
  {
   "cell_type": "code",
   "execution_count": 2,
   "metadata": {
    "id": "9eR0Fb5BvCJ6"
   },
   "outputs": [],
   "source": [
    "# Manipulación de datos\n",
    "# ==============================================================================\n",
    "import numpy as np\n",
    "import pandas as pd\n",
    "\n",
    "# Visualización de datos\n",
    "# ==============================================================================\n",
    "import matplotlib.pyplot as plt\n",
    "import seaborn as sns\n",
    "import matplotlib.ticker as ticker\n",
    "import pylab\n",
    "\n",
    "# Modelado\n",
    "# ==============================================================================\n",
    "import scipy.stats as stats\n",
    "from sklearn.feature_selection import mutual_info_regression\n",
    "from sklearn.base import BaseEstimator, TransformerMixin\n",
    "from sklearn.compose import ColumnTransformer\n",
    "from sklearn.pipeline import Pipeline, FeatureUnion\n",
    "from sklearn.impute import SimpleImputer\n",
    "from sklearn.preprocessing import RobustScaler\n",
    "from sklearn.preprocessing import FunctionTransformer, OneHotEncoder\n",
    "from sklearn.neighbors import KNeighborsClassifier\n",
    "from sklearn.model_selection import cross_val_predict\n",
    "from sklearn.metrics import precision_score, recall_score, f1_score\n",
    "from sklearn.svm import SVC\n",
    "from sklearn.linear_model import LogisticRegression\n",
    "from sklearn.ensemble import RandomForestClassifier\n",
    "from sklearn.neighbors import KNeighborsClassifier\n",
    "from sklearn.metrics import classification_report\n",
    "from sklearn.metrics import roc_curve\n",
    "from sklearn.metrics import roc_auc_score\n",
    "from sklearn.model_selection import GridSearchCV, KFold\n",
    "from sklearn.model_selection import RandomizedSearchCV\n",
    "from sklearn.metrics import confusion_matrix\n",
    "\n",
    "\n",
    "# Configuración warnings\n",
    "# ==============================================================================\n",
    "import warnings\n",
    "warnings.filterwarnings('ignore')"
   ]
  },
  {
   "cell_type": "code",
   "execution_count": 3,
   "metadata": {},
   "outputs": [],
   "source": [
    "# colore settings:\n",
    "sns.set(rc={'axes.facecolor':\"#EAEDED\",\n",
    "            \"figure.facecolor\":\"#AED6F1\",\n",
    "            \"grid.color\":\"#E0D3AF\",\n",
    "            \"axes.edgecolor\":\"#424949\",\n",
    "            \"axes.labelcolor\":\"#424949\",\n",
    "            \"text.color\":\"#424949\" # color for headlines and sub headlines\n",
    "           })"
   ]
  },
  {
   "cell_type": "code",
   "execution_count": 4,
   "metadata": {
    "id": "eTsQ946cvCKB"
   },
   "outputs": [],
   "source": [
    "url_train = \"https://github.com/PabloJRW/titanic-classifier/raw/main/train.csv\"\n",
    "url_test = \"https://github.com/PabloJRW/titanic-classifier/raw/main/test.csv\"\n",
    "df_train = pd.read_csv(url_train)\n",
    "df_test = pd.read_csv(url_test)"
   ]
  },
  {
   "cell_type": "markdown",
   "metadata": {
    "id": "hMeL5fOWvCKB"
   },
   "source": [
    "# <b>EDA (Análisis Exploratorio de Datos) "
   ]
  },
  {
   "cell_type": "code",
   "execution_count": 5,
   "metadata": {
    "colab": {
     "base_uri": "https://localhost:8080/",
     "height": 374
    },
    "id": "DVMdclSRvCKC",
    "outputId": "23a50411-9682-47ce-ada4-c627318aa4ce"
   },
   "outputs": [
    {
     "data": {
      "text/html": [
       "<div>\n",
       "<style scoped>\n",
       "    .dataframe tbody tr th:only-of-type {\n",
       "        vertical-align: middle;\n",
       "    }\n",
       "\n",
       "    .dataframe tbody tr th {\n",
       "        vertical-align: top;\n",
       "    }\n",
       "\n",
       "    .dataframe thead th {\n",
       "        text-align: right;\n",
       "    }\n",
       "</style>\n",
       "<table border=\"1\" class=\"dataframe\">\n",
       "  <thead>\n",
       "    <tr style=\"text-align: right;\">\n",
       "      <th></th>\n",
       "      <th>PassengerId</th>\n",
       "      <th>Survived</th>\n",
       "      <th>Pclass</th>\n",
       "      <th>Name</th>\n",
       "      <th>Sex</th>\n",
       "      <th>Age</th>\n",
       "      <th>SibSp</th>\n",
       "      <th>Parch</th>\n",
       "      <th>Ticket</th>\n",
       "      <th>Fare</th>\n",
       "      <th>Cabin</th>\n",
       "      <th>Embarked</th>\n",
       "    </tr>\n",
       "  </thead>\n",
       "  <tbody>\n",
       "    <tr>\n",
       "      <th>0</th>\n",
       "      <td>1</td>\n",
       "      <td>0</td>\n",
       "      <td>3</td>\n",
       "      <td>Braund, Mr. Owen Harris</td>\n",
       "      <td>male</td>\n",
       "      <td>22.0</td>\n",
       "      <td>1</td>\n",
       "      <td>0</td>\n",
       "      <td>A/5 21171</td>\n",
       "      <td>7.2500</td>\n",
       "      <td>NaN</td>\n",
       "      <td>S</td>\n",
       "    </tr>\n",
       "    <tr>\n",
       "      <th>1</th>\n",
       "      <td>2</td>\n",
       "      <td>1</td>\n",
       "      <td>1</td>\n",
       "      <td>Cumings, Mrs. John Bradley (Florence Briggs Th...</td>\n",
       "      <td>female</td>\n",
       "      <td>38.0</td>\n",
       "      <td>1</td>\n",
       "      <td>0</td>\n",
       "      <td>PC 17599</td>\n",
       "      <td>71.2833</td>\n",
       "      <td>C85</td>\n",
       "      <td>C</td>\n",
       "    </tr>\n",
       "    <tr>\n",
       "      <th>2</th>\n",
       "      <td>3</td>\n",
       "      <td>1</td>\n",
       "      <td>3</td>\n",
       "      <td>Heikkinen, Miss. Laina</td>\n",
       "      <td>female</td>\n",
       "      <td>26.0</td>\n",
       "      <td>0</td>\n",
       "      <td>0</td>\n",
       "      <td>STON/O2. 3101282</td>\n",
       "      <td>7.9250</td>\n",
       "      <td>NaN</td>\n",
       "      <td>S</td>\n",
       "    </tr>\n",
       "    <tr>\n",
       "      <th>3</th>\n",
       "      <td>4</td>\n",
       "      <td>1</td>\n",
       "      <td>1</td>\n",
       "      <td>Futrelle, Mrs. Jacques Heath (Lily May Peel)</td>\n",
       "      <td>female</td>\n",
       "      <td>35.0</td>\n",
       "      <td>1</td>\n",
       "      <td>0</td>\n",
       "      <td>113803</td>\n",
       "      <td>53.1000</td>\n",
       "      <td>C123</td>\n",
       "      <td>S</td>\n",
       "    </tr>\n",
       "    <tr>\n",
       "      <th>4</th>\n",
       "      <td>5</td>\n",
       "      <td>0</td>\n",
       "      <td>3</td>\n",
       "      <td>Allen, Mr. William Henry</td>\n",
       "      <td>male</td>\n",
       "      <td>35.0</td>\n",
       "      <td>0</td>\n",
       "      <td>0</td>\n",
       "      <td>373450</td>\n",
       "      <td>8.0500</td>\n",
       "      <td>NaN</td>\n",
       "      <td>S</td>\n",
       "    </tr>\n",
       "  </tbody>\n",
       "</table>\n",
       "</div>"
      ],
      "text/plain": [
       "   PassengerId  Survived  Pclass  \\\n",
       "0            1         0       3   \n",
       "1            2         1       1   \n",
       "2            3         1       3   \n",
       "3            4         1       1   \n",
       "4            5         0       3   \n",
       "\n",
       "                                                Name     Sex   Age  SibSp  \\\n",
       "0                            Braund, Mr. Owen Harris    male  22.0      1   \n",
       "1  Cumings, Mrs. John Bradley (Florence Briggs Th...  female  38.0      1   \n",
       "2                             Heikkinen, Miss. Laina  female  26.0      0   \n",
       "3       Futrelle, Mrs. Jacques Heath (Lily May Peel)  female  35.0      1   \n",
       "4                           Allen, Mr. William Henry    male  35.0      0   \n",
       "\n",
       "   Parch            Ticket     Fare Cabin Embarked  \n",
       "0      0         A/5 21171   7.2500   NaN        S  \n",
       "1      0          PC 17599  71.2833   C85        C  \n",
       "2      0  STON/O2. 3101282   7.9250   NaN        S  \n",
       "3      0            113803  53.1000  C123        S  \n",
       "4      0            373450   8.0500   NaN        S  "
      ]
     },
     "execution_count": 5,
     "metadata": {},
     "output_type": "execute_result"
    }
   ],
   "source": [
    "df_train.head(5)"
   ]
  },
  {
   "cell_type": "code",
   "execution_count": 6,
   "metadata": {},
   "outputs": [],
   "source": [
    "# Eliminción de variables irrelevantes\n",
    "df_train.drop(['Name'], axis=1, inplace=True)\n",
    "df_test.drop(['Name'], axis=1, inplace=True)\n",
    "# Renombrado de variables en datos de entrenamiento\n",
    "df_train.columns = [\"id\", \"vida\", \"clase\", \"sexo\", \"edad\", \"sibsp\", \"parch\", \"ticket\", \"tarifa\", \"cabina\", \"puerto\"]\n",
    "# Renombrado de variables en datos de prueba\n",
    "df_test.columns = [\"id\", \"clase\", \"sexo\", \"edad\", \"sibsp\", \"parch\", \"ticket\", \"tarifa\", \"cabina\", \"puerto\"]"
   ]
  },
  {
   "cell_type": "code",
   "execution_count": 7,
   "metadata": {
    "colab": {
     "base_uri": "https://localhost:8080/"
    },
    "id": "8yhd6z0MvCKE",
    "outputId": "fc0c4e9f-472f-440a-a8bd-4d0aff690005"
   },
   "outputs": [
    {
     "name": "stdout",
     "output_type": "stream",
     "text": [
      "<class 'pandas.core.frame.DataFrame'>\n",
      "RangeIndex: 891 entries, 0 to 890\n",
      "Data columns (total 11 columns):\n",
      " #   Column  Non-Null Count  Dtype  \n",
      "---  ------  --------------  -----  \n",
      " 0   id      891 non-null    int64  \n",
      " 1   vida    891 non-null    int64  \n",
      " 2   clase   891 non-null    int64  \n",
      " 3   sexo    891 non-null    object \n",
      " 4   edad    714 non-null    float64\n",
      " 5   sibsp   891 non-null    int64  \n",
      " 6   parch   891 non-null    int64  \n",
      " 7   ticket  891 non-null    object \n",
      " 8   tarifa  891 non-null    float64\n",
      " 9   cabina  204 non-null    object \n",
      " 10  puerto  889 non-null    object \n",
      "dtypes: float64(2), int64(5), object(4)\n",
      "memory usage: 76.7+ KB\n"
     ]
    }
   ],
   "source": [
    "# Tipo de cada columna\n",
    "# ==============================================================================\n",
    "df_train.info()"
   ]
  },
  {
   "cell_type": "code",
   "execution_count": 8,
   "metadata": {},
   "outputs": [
    {
     "data": {
      "text/plain": [
       "(891, 11)"
      ]
     },
     "execution_count": 8,
     "metadata": {},
     "output_type": "execute_result"
    }
   ],
   "source": [
    "# Dimensiones del dataset de entrenamiento\n",
    "# ==============================================================================\n",
    "df_train.shape"
   ]
  },
  {
   "cell_type": "code",
   "execution_count": 9,
   "metadata": {},
   "outputs": [
    {
     "data": {
      "text/plain": [
       "cabina    687\n",
       "edad      177\n",
       "puerto      2\n",
       "id          0\n",
       "vida        0\n",
       "clase       0\n",
       "sexo        0\n",
       "sibsp       0\n",
       "parch       0\n",
       "ticket      0\n",
       "tarifa      0\n",
       "dtype: int64"
      ]
     },
     "execution_count": 9,
     "metadata": {},
     "output_type": "execute_result"
    }
   ],
   "source": [
    "# Número de datos ausentes por variable en datos de entrenamiento\n",
    "# ==============================================================================\n",
    "df_train.isna().sum().sort_values(ascending=False)"
   ]
  },
  {
   "cell_type": "code",
   "execution_count": 10,
   "metadata": {},
   "outputs": [
    {
     "data": {
      "image/png": "[encoded data removed]",
      "text/plain": [
       "<Figure size 648x432 with 1 Axes>"
      ]
     },
     "metadata": {},
     "output_type": "display_data"
    }
   ],
   "source": [
    "# Visualización de variables con valores faltantes\n",
    "plt.figure(figsize=(9,6))\n",
    "plt.title('VALORES NULOS', fontweight='bold')\n",
    "sns.heatmap(df_train.isnull(), yticklabels=False, cbar=False, cmap='magma')\n",
    "plt.show()"
   ]
  },
  {
   "cell_type": "code",
   "execution_count": 11,
   "metadata": {},
   "outputs": [],
   "source": [
    "# La variable cabina contiene gran cantidad de valores faltantes por lo que la elimino.\n",
    "df_train.drop('cabina', axis=1, inplace=True)\n",
    "df_test.drop('cabina', axis=1, inplace=True)\n",
    "\n",
    "# Copia de los datasets\n",
    "train = df_train.copy()\n",
    "test = df_test.copy()"
   ]
  },
  {
   "cell_type": "markdown",
   "metadata": {},
   "source": [
    "### <b>Mutual Information"
   ]
  },
  {
   "cell_type": "code",
   "execution_count": 12,
   "metadata": {},
   "outputs": [],
   "source": [
    "X = train.drop('id', axis=1)\n",
    "X = X.dropna()\n",
    "y = X.pop('vida')\n",
    "\n",
    "# Label encoding for categoricals\n",
    "for colname in train.select_dtypes(\"object\"):\n",
    "    X[colname], _ = X[colname].factorize()\n",
    "\n",
    "# All discrete features should now have integer dtypes (double-check this before using MI!)\n",
    "discrete_features = X.dtypes == int"
   ]
  },
  {
   "cell_type": "code",
   "execution_count": 13,
   "metadata": {},
   "outputs": [
    {
     "data": {
      "text/plain": [
       "ticket    1.410423\n",
       "sexo      0.142660\n",
       "tarifa    0.139388\n",
       "clase     0.058367\n",
       "sibsp     0.034831\n",
       "edad      0.006947\n",
       "puerto    0.002861\n",
       "parch     0.000000\n",
       "Name: MI Scores, dtype: float64"
      ]
     },
     "execution_count": 13,
     "metadata": {},
     "output_type": "execute_result"
    }
   ],
   "source": [
    "def make_mi_scores(X, y, discrete_features):\n",
    "    mi_scores = mutual_info_regression(X, y, discrete_features=discrete_features)\n",
    "    mi_scores = pd.Series(mi_scores, name=\"MI Scores\", index=X.columns)\n",
    "    mi_scores = mi_scores.sort_values(ascending=False)\n",
    "    return mi_scores\n",
    "\n",
    "mi_scores = make_mi_scores(X, y, discrete_features)\n",
    "mi_scores  # show a few features with their MI scores"
   ]
  },
  {
   "cell_type": "code",
   "execution_count": 14,
   "metadata": {},
   "outputs": [
    {
     "data": {
      "image/png": "[encoded data removed]",
      "text/plain": [
       "<Figure size 800x500 with 1 Axes>"
      ]
     },
     "metadata": {},
     "output_type": "display_data"
    }
   ],
   "source": [
    "def plot_mi_scores(scores):\n",
    "    scores = scores.sort_values(ascending=True)\n",
    "    width = np.arange(len(scores))\n",
    "    ticks = list(scores.index)\n",
    "    plt.barh(width, scores)\n",
    "    plt.yticks(width, ticks)\n",
    "    plt.title(\"Mutual Information Scores\")\n",
    "\n",
    "\n",
    "plt.figure(dpi=100, figsize=(8, 5))\n",
    "plot_mi_scores(mi_scores)"
   ]
  },
  {
   "cell_type": "markdown",
   "metadata": {
    "id": "0hyyqyJ2Hffv"
   },
   "source": [
    "## <b>Variable Respuesta "
   ]
  },
  {
   "cell_type": "markdown",
   "metadata": {},
   "source": [
    "La variable respuesta para el modelo a desarrollar es <b>'vida'</b>, la cual nos indica si un pasajero sobrevivió o no\n",
    "al hundimiento del Titanic. <b>0</b> = Falleció, <b>1</b> = Sobrevivió."
   ]
  },
  {
   "cell_type": "code",
   "execution_count": 15,
   "metadata": {
    "colab": {
     "base_uri": "https://localhost:8080/",
     "height": 369
    },
    "id": "KD7srs23AwsJ",
    "outputId": "17fc1387-cc4a-49ca-9d11-41253e32150d"
   },
   "outputs": [
    {
     "data": {
      "image/png": "[encoded data removed]",
      "text/plain": [
       "<Figure size 720x360 with 1 Axes>"
      ]
     },
     "metadata": {},
     "output_type": "display_data"
    }
   ],
   "source": [
    "# Distribución de la variable objetivo\n",
    "fig, ax = plt.subplots(figsize=(10, 5))\n",
    "plt.title('Distribución Supervivencia', fontweight='bold', fontsize=20)\n",
    "sns.countplot(x=train['vida'], ax=ax)\n",
    "ax.set_xticklabels(('Fallecieron', 'Sobrevivieron'), fontsize=18)\n",
    "plt.show()"
   ]
  },
  {
   "cell_type": "code",
   "execution_count": 16,
   "metadata": {
    "colab": {
     "base_uri": "https://localhost:8080/"
    },
    "id": "GGn-gnMcD53s",
    "outputId": "821af613-fbbb-4cc1-a358-f97e1e9a0cd5"
   },
   "outputs": [
    {
     "name": "stdout",
     "output_type": "stream",
     "text": [
      "Porcentaje de supervivientes: 38.4%\n"
     ]
    }
   ],
   "source": [
    "# Cuál fue el porcentaje de sobrevivientes?\n",
    "print(f\"Porcentaje de supervivientes: {round(len(train[train['vida']==1]) / len(train) * 100, 1) }%\")"
   ]
  },
  {
   "cell_type": "markdown",
   "metadata": {
    "id": "XJnuPCppGf7T"
   },
   "source": [
    "<b>📝 Note:</b> El 38.4% de los pasajeros que viajaron abordo del Titanic sobrevivieron, en contraparte, falleció el 61.6%."
   ]
  },
  {
   "cell_type": "markdown",
   "metadata": {
    "id": "opVhtAuFvCKI"
   },
   "source": [
    "## <b>VARIABLES NUMÉRICAS"
   ]
  },
  {
   "cell_type": "markdown",
   "metadata": {},
   "source": [
    "## *****************************************************************************"
   ]
  },
  {
   "cell_type": "code",
   "execution_count": 18,
   "metadata": {},
   "outputs": [],
   "source": [
    "# Copia de los datasets\n",
    "train = train.copy()\n",
    "test = test.copy()"
   ]
  },
  {
   "cell_type": "code",
   "execution_count": 19,
   "metadata": {
    "colab": {
     "base_uri": "https://localhost:8080/"
    },
    "id": "LnsHifTRzmYc",
    "outputId": "b0672cda-0885-44bb-8637-8b20584eef2d"
   },
   "outputs": [
    {
     "data": {
      "text/html": [
       "<div>\n",
       "<style scoped>\n",
       "    .dataframe tbody tr th:only-of-type {\n",
       "        vertical-align: middle;\n",
       "    }\n",
       "\n",
       "    .dataframe tbody tr th {\n",
       "        vertical-align: top;\n",
       "    }\n",
       "\n",
       "    .dataframe thead th {\n",
       "        text-align: right;\n",
       "    }\n",
       "</style>\n",
       "<table border=\"1\" class=\"dataframe\">\n",
       "  <thead>\n",
       "    <tr style=\"text-align: right;\">\n",
       "      <th></th>\n",
       "      <th>id</th>\n",
       "      <th>vida</th>\n",
       "      <th>clase</th>\n",
       "      <th>edad</th>\n",
       "      <th>sibsp</th>\n",
       "      <th>parch</th>\n",
       "      <th>tarifa</th>\n",
       "    </tr>\n",
       "  </thead>\n",
       "  <tbody>\n",
       "    <tr>\n",
       "      <th>count</th>\n",
       "      <td>891.000000</td>\n",
       "      <td>891.000000</td>\n",
       "      <td>891.000000</td>\n",
       "      <td>714.000000</td>\n",
       "      <td>891.000000</td>\n",
       "      <td>891.000000</td>\n",
       "      <td>891.000000</td>\n",
       "    </tr>\n",
       "    <tr>\n",
       "      <th>mean</th>\n",
       "      <td>446.000000</td>\n",
       "      <td>0.383838</td>\n",
       "      <td>2.308642</td>\n",
       "      <td>29.699118</td>\n",
       "      <td>0.523008</td>\n",
       "      <td>0.381594</td>\n",
       "      <td>32.204208</td>\n",
       "    </tr>\n",
       "    <tr>\n",
       "      <th>std</th>\n",
       "      <td>257.353842</td>\n",
       "      <td>0.486592</td>\n",
       "      <td>0.836071</td>\n",
       "      <td>14.526497</td>\n",
       "      <td>1.102743</td>\n",
       "      <td>0.806057</td>\n",
       "      <td>49.693429</td>\n",
       "    </tr>\n",
       "    <tr>\n",
       "      <th>min</th>\n",
       "      <td>1.000000</td>\n",
       "      <td>0.000000</td>\n",
       "      <td>1.000000</td>\n",
       "      <td>0.420000</td>\n",
       "      <td>0.000000</td>\n",
       "      <td>0.000000</td>\n",
       "      <td>0.000000</td>\n",
       "    </tr>\n",
       "    <tr>\n",
       "      <th>25%</th>\n",
       "      <td>223.500000</td>\n",
       "      <td>0.000000</td>\n",
       "      <td>2.000000</td>\n",
       "      <td>20.125000</td>\n",
       "      <td>0.000000</td>\n",
       "      <td>0.000000</td>\n",
       "      <td>7.910400</td>\n",
       "    </tr>\n",
       "    <tr>\n",
       "      <th>50%</th>\n",
       "      <td>446.000000</td>\n",
       "      <td>0.000000</td>\n",
       "      <td>3.000000</td>\n",
       "      <td>28.000000</td>\n",
       "      <td>0.000000</td>\n",
       "      <td>0.000000</td>\n",
       "      <td>14.454200</td>\n",
       "    </tr>\n",
       "    <tr>\n",
       "      <th>75%</th>\n",
       "      <td>668.500000</td>\n",
       "      <td>1.000000</td>\n",
       "      <td>3.000000</td>\n",
       "      <td>38.000000</td>\n",
       "      <td>1.000000</td>\n",
       "      <td>0.000000</td>\n",
       "      <td>31.000000</td>\n",
       "    </tr>\n",
       "    <tr>\n",
       "      <th>max</th>\n",
       "      <td>891.000000</td>\n",
       "      <td>1.000000</td>\n",
       "      <td>3.000000</td>\n",
       "      <td>80.000000</td>\n",
       "      <td>8.000000</td>\n",
       "      <td>6.000000</td>\n",
       "      <td>512.329200</td>\n",
       "    </tr>\n",
       "  </tbody>\n",
       "</table>\n",
       "</div>"
      ],
      "text/plain": [
       "               id        vida       clase        edad       sibsp       parch  \\\n",
       "count  891.000000  891.000000  891.000000  714.000000  891.000000  891.000000   \n",
       "mean   446.000000    0.383838    2.308642   29.699118    0.523008    0.381594   \n",
       "std    257.353842    0.486592    0.836071   14.526497    1.102743    0.806057   \n",
       "min      1.000000    0.000000    1.000000    0.420000    0.000000    0.000000   \n",
       "25%    223.500000    0.000000    2.000000   20.125000    0.000000    0.000000   \n",
       "50%    446.000000    0.000000    3.000000   28.000000    0.000000    0.000000   \n",
       "75%    668.500000    1.000000    3.000000   38.000000    1.000000    0.000000   \n",
       "max    891.000000    1.000000    3.000000   80.000000    8.000000    6.000000   \n",
       "\n",
       "           tarifa  \n",
       "count  891.000000  \n",
       "mean    32.204208  \n",
       "std     49.693429  \n",
       "min      0.000000  \n",
       "25%      7.910400  \n",
       "50%     14.454200  \n",
       "75%     31.000000  \n",
       "max    512.329200  "
      ]
     },
     "execution_count": 19,
     "metadata": {},
     "output_type": "execute_result"
    }
   ],
   "source": [
    "# Variables numéricas\n",
    "# ==============================================================================\n",
    "train.select_dtypes(include=[\"float64\", \"int\"]).describe()"
   ]
  },
  {
   "cell_type": "code",
   "execution_count": 20,
   "metadata": {},
   "outputs": [
    {
     "data": {
      "image/png": "[encoded data removed]",
      "text/plain": [
       "<Figure size 1080x432 with 6 Axes>"
      ]
     },
     "metadata": {},
     "output_type": "display_data"
    }
   ],
   "source": [
    "# Gráfico de distribución para cada variable numérica\n",
    "# ==============================================================================\n",
    "# Ajustar número de subplots en función del número de columnas\n",
    "fig, axes = plt.subplots(nrows=2, ncols=3, figsize=(15, 6))\n",
    "axes = axes.flat\n",
    "columnas_numeric = train.select_dtypes(include=['float64', 'int']).columns\n",
    "columnas_numeric = columnas_numeric.drop('vida')\n",
    "\n",
    "for i, colum in enumerate(columnas_numeric):\n",
    "    sns.histplot(\n",
    "        data    = train,\n",
    "        x       = colum,\n",
    "        stat    = \"count\",\n",
    "        kde     = True,\n",
    "        color   = (list(plt.rcParams['axes.prop_cycle'])*2)[i][\"color\"],\n",
    "        line_kws= {'linewidth': 2},\n",
    "        alpha   = 0.3,\n",
    "        ax      = axes[i]\n",
    "    )\n",
    "    axes[i].set_title(colum, fontsize = 12, fontweight = \"bold\")\n",
    "    axes[i].tick_params(labelsize = 9)\n",
    "    axes[i].set_xlabel(\"\")\n",
    "    \n",
    "    \n",
    "fig.tight_layout()\n",
    "plt.subplots_adjust(top = 0.9)\n",
    "fig.suptitle('Distribución variables numéricas', fontsize = 15, fontweight = \"bold\");"
   ]
  },
  {
   "cell_type": "markdown",
   "metadata": {},
   "source": [
    "<b>Aunque algunas variables contienen valores numéricos, realmente son variables categóricas. Además procedo a eliminar la variable <b>\"id\"</b>, la cual hace referencia al número de indentificación de los pasajeros."
   ]
  },
  {
   "cell_type": "markdown",
   "metadata": {},
   "source": [
    "### <b> Edad"
   ]
  },
  {
   "cell_type": "markdown",
   "metadata": {},
   "source": [
    "Esta variable contiene 177 observaciones faltantes."
   ]
  },
  {
   "cell_type": "code",
   "execution_count": 21,
   "metadata": {},
   "outputs": [
    {
     "data": {
      "image/png": "[encoded data removed]",
      "text/plain": [
       "<Figure size 2160x216 with 2 Axes>"
      ]
     },
     "metadata": {},
     "output_type": "display_data"
    }
   ],
   "source": [
    "# Gráficas de distribución para la variable edad\n",
    "# ==============================================================================\n",
    "fig = plt.figure(figsize=(30,3))\n",
    "gs = fig.add_gridspec(1,3)\n",
    "\n",
    "ax0 = fig.add_subplot(gs[0,0])\n",
    "ax1 = fig.add_subplot(gs[0,1])\n",
    "\n",
    "ax0.set_title(\"HISTOGRAMA EDAD\", fontweight='bold')\n",
    "ax1.set_title(\"BOX-PLOT\", fontweight='bold')\n",
    "\n",
    "sns.histplot(x=train.edad , bins=50, kde=True, ax=ax0)\n",
    "sns.boxplot(x=train.edad, ax=ax1)\n",
    "fig.subplots_adjust(wspace=0.05)\n",
    "plt.show()"
   ]
  },
  {
   "cell_type": "code",
   "execution_count": 23,
   "metadata": {},
   "outputs": [
    {
     "name": "stdout",
     "output_type": "stream",
     "text": [
      "ShapiroResult(statistic=0.9814548492431641, pvalue=7.322165629375377e-08)\n",
      "NormaltestResult(statistic=18.105032952089758, pvalue=0.00011709599657350757)\n"
     ]
    }
   ],
   "source": [
    "# Pruebas de normalidad \n",
    "# ==============================================================================\n",
    "mask = train['edad'].dropna() # 'edad' sin incluir los valores faltantes\n",
    "\n",
    "# Shapiro-Wilk\n",
    "shapiro = stats.shapiro(mask)\n",
    "#K^2 D'Agostino\n",
    "dagostino = stats.normaltest(mask)\n",
    "print(shapiro)\n",
    "print(dagostino)"
   ]
  },
  {
   "cell_type": "markdown",
   "metadata": {},
   "source": [
    "<div style=\"color:#9A7D0A;\n",
    "           display:fill;\n",
    "           padding: 5px;\n",
    "           border-radius:10px;\n",
    "           border-style: solid;\n",
    "           border-color: #F9E79F;\n",
    "           background-color:#FCF3CF;\n",
    "           font-size:15px;\n",
    "           font-family: Didot;\n",
    "           letter-spacing:0.5px\">\n",
    "    <b>📝 Note:</b> Las pruebas de normalidad (Shapiro-Wilk y K^2 D'Agostino), nos indica que hay evidencias significativas de que la variable <b>edad</b> no se distribuye de manera normal.\n",
    "</div>"
   ]
  },
  {
   "cell_type": "markdown",
   "metadata": {},
   "source": [
    "<b>Prueba de hipótesis</b> para comprobar si hay diferencia entre las distribuciones de <b>edad</b>, entre los pasajeros que sobrevivieron y los que fallecieron.  "
   ]
  },
  {
   "cell_type": "code",
   "execution_count": 24,
   "metadata": {},
   "outputs": [
    {
     "name": "stdout",
     "output_type": "stream",
     "text": [
      "MannwhitneyuResult(statistic=65278.0, pvalue=0.16049252477737763)\n",
      "KruskalResult(statistic=1.970097978146391, pvalue=0.16043746252207006)\n"
     ]
    }
   ],
   "source": [
    "# Creación de grupos (vivos - muertos)\n",
    "edad_vida_0 = train[train['vida']==0]['edad'].dropna() # Fallecidos\n",
    "edad_vida_1 = train[train['vida']==1]['edad'].dropna() # Sobrevivientes\n",
    "\n",
    "# Mann-Withney U test\n",
    "# ===============================================================================\n",
    "mannwhitneyu = stats.mannwhitneyu(edad_vida_0, edad_vida_1)\n",
    "# Kruskal-Wallis test\n",
    "# ===============================================================================\n",
    "kruskalwallis = stats.kruskal(edad_vida_0, edad_vida_1)\n",
    "print(mannwhitneyu)\n",
    "print(kruskalwallis)"
   ]
  },
  {
   "cell_type": "markdown",
   "metadata": {},
   "source": [
    "Al igual que la puntuación de <b>mutual information</b> lo sugiere; mediante las pruebas de hipótesis no paramétricas <b>Mann-Withney U</b> y <b>Kruskal-Wallis</b> podemos concluir que la <b>edad</b> no es predictora de supervivencia. Mediante ambas hipótesis se encontró que no hay evidencias significativas de que haya difrencias entre la <b>edad</b> del grupo de supervivientes en contraste no el grupo de fallecidos. Elimino esta variable"
   ]
  },
  {
   "cell_type": "code",
   "execution_count": 25,
   "metadata": {},
   "outputs": [],
   "source": [
    "train.drop('edad', axis=1, inplace=True)\n",
    "test.drop('edad', axis=1, inplace=True)"
   ]
  },
  {
   "cell_type": "markdown",
   "metadata": {},
   "source": [
    "### <b>Tarifa"
   ]
  },
  {
   "cell_type": "code",
   "execution_count": 29,
   "metadata": {},
   "outputs": [
    {
     "data": {
      "image/png": "[encoded data removed]",
      "text/plain": [
       "<Figure size 2160x216 with 2 Axes>"
      ]
     },
     "metadata": {},
     "output_type": "display_data"
    }
   ],
   "source": [
    "# Gráficas de distribución para la variable tarifa\n",
    "# ==============================================================================\n",
    "fig = plt.figure(figsize=(30,3))\n",
    "gs = fig.add_gridspec(1,3)\n",
    "\n",
    "ax0 = fig.add_subplot(gs[0,0])\n",
    "ax1 = fig.add_subplot(gs[0,1])\n",
    "\n",
    "ax0.set_title(\"HISTOGRAMA TARIFA\", fontweight='bold')\n",
    "ax1.set_title(\"BOX-PLOT\", fontweight='bold')\n",
    "\n",
    "sns.histplot(x=train.tarifa , bins=50, kde=True, ax=ax0)\n",
    "sns.boxplot(x=train.tarifa, ax=ax1)\n",
    "fig.subplots_adjust(wspace=0.05)\n",
    "plt.show()"
   ]
  },
  {
   "cell_type": "markdown",
   "metadata": {},
   "source": [
    "Se puede observar que <b>tarifa</b> tiene una distribución asimetrica y contiene gran cantidad de valores atípicos."
   ]
  },
  {
   "cell_type": "markdown",
   "metadata": {},
   "source": [
    "## <b>VARIABLES CUALITATIVAS"
   ]
  },
  {
   "cell_type": "markdown",
   "metadata": {
    "tags": []
   },
   "source": [
    "## *****************************************************************************"
   ]
  },
  {
   "cell_type": "code",
   "execution_count": 31,
   "metadata": {},
   "outputs": [],
   "source": [
    "train = train.copy()\n",
    "test = test.copy()"
   ]
  },
  {
   "cell_type": "code",
   "execution_count": 26,
   "metadata": {},
   "outputs": [],
   "source": [
    "# Transformando variables a categóricas\n",
    "for col in ['parch','clase','sibsp']:\n",
    "    train[col] = train[col].astype('object')"
   ]
  },
  {
   "cell_type": "code",
   "execution_count": 30,
   "metadata": {},
   "outputs": [
    {
     "data": {
      "text/html": [
       "<div>\n",
       "<style scoped>\n",
       "    .dataframe tbody tr th:only-of-type {\n",
       "        vertical-align: middle;\n",
       "    }\n",
       "\n",
       "    .dataframe tbody tr th {\n",
       "        vertical-align: top;\n",
       "    }\n",
       "\n",
       "    .dataframe thead th {\n",
       "        text-align: right;\n",
       "    }\n",
       "</style>\n",
       "<table border=\"1\" class=\"dataframe\">\n",
       "  <thead>\n",
       "    <tr style=\"text-align: right;\">\n",
       "      <th></th>\n",
       "      <th>sexo</th>\n",
       "      <th>ticket</th>\n",
       "      <th>puerto</th>\n",
       "    </tr>\n",
       "  </thead>\n",
       "  <tbody>\n",
       "    <tr>\n",
       "      <th>count</th>\n",
       "      <td>891</td>\n",
       "      <td>891</td>\n",
       "      <td>889</td>\n",
       "    </tr>\n",
       "    <tr>\n",
       "      <th>unique</th>\n",
       "      <td>2</td>\n",
       "      <td>681</td>\n",
       "      <td>3</td>\n",
       "    </tr>\n",
       "    <tr>\n",
       "      <th>top</th>\n",
       "      <td>male</td>\n",
       "      <td>347082</td>\n",
       "      <td>S</td>\n",
       "    </tr>\n",
       "    <tr>\n",
       "      <th>freq</th>\n",
       "      <td>577</td>\n",
       "      <td>7</td>\n",
       "      <td>644</td>\n",
       "    </tr>\n",
       "  </tbody>\n",
       "</table>\n",
       "</div>"
      ],
      "text/plain": [
       "        sexo  ticket puerto\n",
       "count    891     891    889\n",
       "unique     2     681      3\n",
       "top     male  347082      S\n",
       "freq     577       7    644"
      ]
     },
     "execution_count": 30,
     "metadata": {},
     "output_type": "execute_result"
    }
   ],
   "source": [
    "# Variables cualitativas (tipo object)\n",
    "# ==============================================================================\n",
    "train.select_dtypes(include=['object']).describe()"
   ]
  },
  {
   "cell_type": "code",
   "execution_count": 28,
   "metadata": {},
   "outputs": [
    {
     "data": {
      "image/png": "[encoded data removed]",
      "text/plain": [
       "<Figure size 1080x432 with 6 Axes>"
      ]
     },
     "metadata": {},
     "output_type": "display_data"
    }
   ],
   "source": [
    "# Gráfico para cada variable cualitativa\n",
    "# ==============================================================================\n",
    "\n",
    "mask = train.drop(['ticket'], axis=1)\n",
    "\n",
    "# Ajustar número de subplots en función del número de columnas\n",
    "fig, axes = plt.subplots(nrows=2, ncols=3, figsize=(15, 6))\n",
    "axes = axes.flat\n",
    "columnas_object = mask.select_dtypes(include=['object']).columns\n",
    "\n",
    "for i, colum in enumerate(columnas_object):\n",
    "    mask[colum].value_counts().plot.barh(ax = axes[i])\n",
    "    axes[i].set_title(colum, fontsize = 12, fontweight = \"bold\")\n",
    "    axes[i].tick_params(labelsize = 9)\n",
    "    axes[i].set_xlabel(\"\")\n",
    " \n",
    "fig.tight_layout()\n",
    "plt.subplots_adjust(top=0.9)\n",
    "fig.suptitle('Distribución variables cualitativas',\n",
    "             fontsize = 15, fontweight = \"bold\");"
   ]
  },
  {
   "cell_type": "markdown",
   "metadata": {
    "tags": []
   },
   "source": [
    "## <b>Ticket"
   ]
  },
  {
   "cell_type": "code",
   "execution_count": 33,
   "metadata": {},
   "outputs": [
    {
     "data": {
      "text/plain": [
       "347082      7\n",
       "CA. 2343    7\n",
       "1601        7\n",
       "3101295     6\n",
       "CA 2144     6\n",
       "           ..\n",
       "9234        1\n",
       "19988       1\n",
       "2693        1\n",
       "PC 17612    1\n",
       "370376      1\n",
       "Name: ticket, Length: 681, dtype: int64"
      ]
     },
     "execution_count": 33,
     "metadata": {},
     "output_type": "execute_result"
    }
   ],
   "source": [
    "train['ticket'].value_counts()"
   ]
  },
  {
   "cell_type": "markdown",
   "metadata": {},
   "source": [
    "## <b>Parch"
   ]
  },
  {
   "cell_type": "markdown",
   "metadata": {},
   "source": [
    "Esta variable contiene observaciones que van desde 0 hasta el 6. En la que el valor 0: representa a los pasajeros que viajaron sin acompañantes; 1: acompañados por una persona; 2: acompañados por dos personas, y así sucesivamente."
   ]
  },
  {
   "cell_type": "code",
   "execution_count": 35,
   "metadata": {},
   "outputs": [
    {
     "data": {
      "text/plain": [
       "0    678\n",
       "1    118\n",
       "2     80\n",
       "5      5\n",
       "3      5\n",
       "4      4\n",
       "6      1\n",
       "Name: parch, dtype: int64"
      ]
     },
     "execution_count": 35,
     "metadata": {},
     "output_type": "execute_result"
    }
   ],
   "source": [
    "# Cantidad por acompañantes en parch\n",
    "train.parch.value_counts()"
   ]
  },
  {
   "cell_type": "code",
   "execution_count": 31,
   "metadata": {},
   "outputs": [
    {
     "data": {
      "image/png": "[encoded data removed]",
      "text/plain": [
       "<Figure size 432x288 with 1 Axes>"
      ]
     },
     "metadata": {},
     "output_type": "display_data"
    }
   ],
   "source": [
    "# Gráfica de supervivencia por acompañantes\n",
    "plt.title(\"SUPERVIVENCIA POR ACOMPAÑANTES\")\n",
    "sns.countplot(x='parch', hue='vida', data=train)\n",
    "plt.legend(['Fallecieron', 'Sobrevivieron'], loc='upper right')\n",
    "plt.show()"
   ]
  },
  {
   "cell_type": "markdown",
   "metadata": {},
   "source": [
    "<div style=\"color:#9A7D0A;\n",
    "           display:fill;\n",
    "           padding: 5px;\n",
    "           border-radius:10px;\n",
    "           border-style: solid;\n",
    "           border-color: #F9E79F;\n",
    "           background-color:#FCF3CF;\n",
    "           font-size:15px;\n",
    "           font-family: Didot;\n",
    "           letter-spacing:0.5px\">\n",
    "<b>📝 Note:</b> Hay muy pocas observaciones de pasajeros que no viajaron solos.\n",
    "</div>"
   ]
  },
  {
   "cell_type": "markdown",
   "metadata": {},
   "source": [
    "<div style=\"color:#21618C;\n",
    "           display:fill;\n",
    "           padding: 5px;\n",
    "           border-radius:10px;\n",
    "           border-style: solid;\n",
    "           border-color: #AED6F1;\n",
    "           background-color:#D6EAF8;\n",
    "           font-size:15px;\n",
    "           font-family: Didot;\n",
    "           letter-spacing:0.5px\">\n",
    "<b>💡 Idea:</b> Convertir las observaciones en valores binarios. Pasajeros que viajaron solos y pasajeros acompañados.\n",
    "</div>"
   ]
  },
  {
   "cell_type": "markdown",
   "metadata": {
    "id": "Bvc5vSQhvCKM"
   },
   "source": [
    "## <b> Clase\n",
    "\n"
   ]
  },
  {
   "cell_type": "code",
   "execution_count": 37,
   "metadata": {
    "colab": {
     "base_uri": "https://localhost:8080/",
     "height": 515
    },
    "id": "BHdU92FHvCKN",
    "outputId": "853f999e-7c0e-40c7-900b-664665d18a73"
   },
   "outputs": [
    {
     "data": {
      "image/png": "[encoded data removed]",
      "text/plain": [
       "<Figure size 2160x216 with 2 Axes>"
      ]
     },
     "metadata": {},
     "output_type": "display_data"
    }
   ],
   "source": [
    "# Visualización de distribución de clases\n",
    "fig = plt.figure(figsize=(30,3))\n",
    "\n",
    "# add grid to figure\n",
    "gs = fig.add_gridspec(1,3)\n",
    "\n",
    "# fill grid with subplots\n",
    "ax0 = fig.add_subplot(gs[0,0])\n",
    "ax1 = fig.add_subplot(gs[0,1])\n",
    "\n",
    "# adjust subheadline fontsize\n",
    "ax0.set_title(\"DISTRIBUCIÓN CLASE\", fontsize=20)\n",
    "ax1.set_title(\"SUPERVIVENCIA POR CLASE\", fontsize=20)\n",
    "\n",
    "# adjust lable fontsize\n",
    "ax0.tick_params(labelsize=15)\n",
    "ax1.tick_params(labelsize=15)\n",
    "\n",
    "# plot data into subplots \n",
    "sns.countplot(x=\"clase\",data=train, ax=ax0, linewidth = 3).set(xlabel=\"Clase\", ylabel=\"CANTIDAD\")\n",
    "sns.countplot(x=\"clase\",data=train, ax=ax1, linewidth = 3, hue=\"vida\").set(xlabel=\"Clases\",ylabel=\"CANTIDAD\")\n",
    "fig.subplots_adjust(wspace=0.15)\n",
    "plt.show()"
   ]
  },
  {
   "cell_type": "markdown",
   "metadata": {
    "id": "mzZEcJhGvCKN"
   },
   "source": [
    "<div style=\"color:#9A7D0A;\n",
    "           display:fill;\n",
    "           padding: 5px;\n",
    "           border-radius:10px;\n",
    "           border-style: solid;\n",
    "           border-color: #F9E79F;\n",
    "           background-color:#FCF3CF;\n",
    "           font-size:15px;\n",
    "           font-family: Didot;\n",
    "           letter-spacing:0.5px\">\n",
    "<b>📝 Note:</b> La mayoría de los pasajeros abordo viajaron en tercera clase, seguido por los de primera clase y segunda clase.\n",
    "</div>"
   ]
  },
  {
   "cell_type": "markdown",
   "metadata": {
    "id": "zJpUWyfrvCKO"
   },
   "source": [
    "<div style=\"color:#9A7D0A;\n",
    "           display:fill;\n",
    "           padding: 5px;\n",
    "           border-radius:10px;\n",
    "           border-style: solid;\n",
    "           border-color: #F9E79F;\n",
    "           background-color:#FCF3CF;\n",
    "           font-size:15px;\n",
    "           font-family: Didot;\n",
    "           letter-spacing:0.5px\">\n",
    "<b>📝 Note:</b> La primera clase fue la única que registró un porcentaje de sobrevivientes mayor que de fallecidos, sin embargo, es notable la gran proporción de fallecidos que viajaron en tercera clase. Esta parece ser una variable de peso para inferir si un pasajero abordo sebrevivió o no.  \n",
    "</div>"
   ]
  },
  {
   "cell_type": "markdown",
   "metadata": {
    "colab": {
     "base_uri": "https://localhost:8080/"
    },
    "id": "xDmuqe7lvCKO",
    "outputId": "0a33431d-d2f5-4b30-9652-e1c388715151"
   },
   "source": [
    "<b> "
   ]
  },
  {
   "cell_type": "markdown",
   "metadata": {
    "id": "-_JuqskjvCKO"
   },
   "source": [
    "## <b>Sexo"
   ]
  },
  {
   "cell_type": "code",
   "execution_count": 39,
   "metadata": {
    "colab": {
     "base_uri": "https://localhost:8080/",
     "height": 0
    },
    "id": "aElfDDQmNdGk",
    "outputId": "72fee67d-37f0-4587-db77-bee41a0a4a6a"
   },
   "outputs": [
    {
     "data": {
      "image/png": "[encoded data removed]",
      "text/plain": [
       "<Figure size 2160x216 with 2 Axes>"
      ]
     },
     "metadata": {},
     "output_type": "display_data"
    }
   ],
   "source": [
    "# Visualización de distribución de sexo\n",
    "# build figure\n",
    "fig = plt.figure(figsize=(30,3))\n",
    "\n",
    "# add grid to figure\n",
    "gs = fig.add_gridspec(1,3)\n",
    "\n",
    "# fill grid with subplots\n",
    "ax0 = fig.add_subplot(gs[0,0])\n",
    "ax1 = fig.add_subplot(gs[0,1])\n",
    "\n",
    "# adjust subheadline fontsize\n",
    "ax0.set_title(\"DISTRIBUCIÓN SEXO\", fontsize=20)\n",
    "ax1.set_title(\"SEXO / SUPERVIVENCIA\", fontsize=20)\n",
    "\n",
    "# adjust lable fontsize\n",
    "ax0.tick_params(labelsize=15)\n",
    "ax1.tick_params(labelsize=15)\n",
    "\n",
    "# plot data into subplots \n",
    "sns.countplot(x=\"sexo\",data=train, ax=ax0, linewidth = 3).set(xlabel=\"SEXO\", ylabel=\"CANTIDAD DE PASAJEROS\")\n",
    "sns.countplot(x=\"sexo\",data=train, ax=ax1, linewidth = 3, hue=\"vida\").set(xlabel=\"SEXO\", ylabel=\"CANTIDAD DE PASAJEROS\")\n",
    "plt.legend([\"fallecieron\", \"sobrevivieron\"])\n",
    "fig.subplots_adjust(wspace=0.25)\n",
    "plt.show()"
   ]
  },
  {
   "cell_type": "code",
   "execution_count": 40,
   "metadata": {
    "colab": {
     "base_uri": "https://localhost:8080/"
    },
    "id": "QHemycuovCKP",
    "outputId": "977f894d-1b36-4573-efc0-0b6fad43e6ec"
   },
   "outputs": [
    {
     "name": "stdout",
     "output_type": "stream",
     "text": [
      "El 18.89% de los hombres sobrevivió.\n",
      "El 74.2% de los mujeres sobrevivió.\n"
     ]
    }
   ],
   "source": [
    "# Porcentaje de supervivientes por sexo.\n",
    "hombres_df = train[train['sexo']=='male']['vida']\n",
    "mujeres_df = train[train['sexo']=='female']['vida']\n",
    "\n",
    "print('El '+ str(round(len(hombres_df[hombres_df==1])*100/len(hombres_df),2)) +'% de los hombres sobrevivió.')\n",
    "print('El '+ str(round(len(mujeres_df[mujeres_df==1])*100/len(mujeres_df),2)) +'% de los mujeres sobrevivió.')"
   ]
  },
  {
   "cell_type": "markdown",
   "metadata": {
    "id": "MNNWcstYvCKP"
   },
   "source": [
    "<div style=\"color:#9A7D0A;\n",
    "           display:fill;\n",
    "           padding: 5px;\n",
    "           border-radius:10px;\n",
    "           border-style: solid;\n",
    "           border-color: #F9E79F;\n",
    "           background-color:#FCF3CF;\n",
    "           font-size:15px;\n",
    "           font-family: Didot;\n",
    "           letter-spacing:0.5px\">\n",
    "<b>💡 Idea:</b> Claramente se puede observar que gran porcentaje de las feminas sobrevivió (74%), en contraste, el porcentaje de los masculinos sobrevivientes fue muy bajo (19%).\n",
    "</div>"
   ]
  },
  {
   "cell_type": "markdown",
   "metadata": {},
   "source": [
    "## <b>Clase vs Sexo"
   ]
  },
  {
   "cell_type": "code",
   "execution_count": 41,
   "metadata": {},
   "outputs": [],
   "source": [
    "f_clase = train[train['sexo']=='female'][['clase', 'vida']]\n",
    "m_clase = train[train['sexo']=='male'][['clase', 'vida']]"
   ]
  },
  {
   "cell_type": "code",
   "execution_count": 42,
   "metadata": {},
   "outputs": [
    {
     "data": {
      "image/png": "[encoded data removed]",
      "text/plain": [
       "<Figure size 2160x216 with 2 Axes>"
      ]
     },
     "metadata": {},
     "output_type": "display_data"
    }
   ],
   "source": [
    "# Visualización de distribución de sexo\n",
    "# build figure\n",
    "fig = plt.figure(figsize=(30,3))\n",
    "\n",
    "# add grid to figure\n",
    "gs = fig.add_gridspec(1,3)\n",
    "\n",
    "# fill grid with subplots\n",
    "ax0 = fig.add_subplot(gs[0,0])\n",
    "ax1 = fig.add_subplot(gs[0,1])\n",
    "\n",
    "# adjust subheadline fontsize\n",
    "ax0.set_title(\"SUPERVIVENCIA FEMENINA\", fontsize=20)\n",
    "ax1.set_title(\"SUPERVIVENCIA MASCULINA\", fontsize=20)\n",
    "\n",
    "# adjust lable fontsize\n",
    "ax0.tick_params(labelsize=15)\n",
    "ax1.tick_params(labelsize=15)\n",
    "\n",
    "# plot data into subplots \n",
    "sns.countplot(x='clase', hue='vida', data=f_clase, ax=ax0).set(xlabel=\"SEXO\", ylabel=\"CANTIDAD\")\n",
    "sns.countplot(x='clase', hue='vida', data=m_clase, ax=ax1).set(xlabel=\"SEXO\", ylabel=\"CANTIDAD\")\n",
    "fig.subplots_adjust(wspace=0.25)\n",
    "plt.show()"
   ]
  },
  {
   "cell_type": "code",
   "execution_count": 43,
   "metadata": {},
   "outputs": [],
   "source": [
    "# Unión de las variables sexo y clase\n",
    "# ===========================================================================\n",
    "train['clase_sexo'] = train['sexo'].map(str) +'_'+ train['clase'].map(str)\n",
    "test['clase_sexo'] = test['sexo'].map(str) +'_'+ test['clase'].map(str)\n",
    "\n",
    "# Eliminación de variables\n",
    "# ===========================================================================\n",
    "train.drop(['clase', 'sexo'], axis=1, inplace=True)\n",
    "test.drop(['clase', 'sexo'], axis=1, inplace=True)"
   ]
  },
  {
   "cell_type": "markdown",
   "metadata": {},
   "source": [
    "# <b>Puerto"
   ]
  },
  {
   "cell_type": "code",
   "execution_count": 44,
   "metadata": {},
   "outputs": [
    {
     "data": {
      "image/png": "[encoded data removed]",
      "text/plain": [
       "<Figure size 432x288 with 1 Axes>"
      ]
     },
     "metadata": {},
     "output_type": "display_data"
    }
   ],
   "source": [
    "sns.countplot(x=train.puerto, hue=train.vida)\n",
    "plt.show()"
   ]
  },
  {
   "cell_type": "code",
   "execution_count": 42,
   "metadata": {},
   "outputs": [
    {
     "data": {
      "text/plain": [
       "<AxesSubplot:xlabel='puerto', ylabel='count'>"
      ]
     },
     "execution_count": 42,
     "metadata": {},
     "output_type": "execute_result"
    },
    {
     "data": {
      "image/png": "[encoded data removed]",
      "text/plain": [
       "<Figure size 432x288 with 1 Axes>"
      ]
     },
     "metadata": {},
     "output_type": "display_data"
    }
   ],
   "source": [
    "sns.countplot(x='puerto', hue='clase', data=df_train)\n",
    "plt.show()"
   ]
  },
  {
   "cell_type": "markdown",
   "metadata": {
    "id": "p_LtWPW2vCKX"
   },
   "source": [
    "# <b>PREPARE DATA"
   ]
  },
  {
   "cell_type": "markdown",
   "metadata": {},
   "source": [
    "<b>Sólo utilizaré tres variables 3 variables como predictores."
   ]
  },
  {
   "cell_type": "code",
   "execution_count": 45,
   "metadata": {
    "id": "_AAYBTJPvCKX"
   },
   "outputs": [],
   "source": [
    "# Conjunto de datos de entrenamiento\n",
    "X_train = train[['ticket', 'clase_sexo', 'tarifa']]\n",
    "y_train = train.vida\n",
    "\n",
    "# Conjunto de datos de prueba\n",
    "X_test = test[['ticket', 'clase_sexo', 'tarifa']]"
   ]
  },
  {
   "cell_type": "code",
   "execution_count": 46,
   "metadata": {
    "id": "Ft8z82O6vCKX"
   },
   "outputs": [],
   "source": [
    "num_features = X_train.select_dtypes(exclude='object').columns\n",
    "cat_features = X_train.select_dtypes(include='object').columns"
   ]
  },
  {
   "cell_type": "markdown",
   "metadata": {
    "id": "MrWtqDXTvCKY"
   },
   "source": [
    "### <b>TRANSFORMADOR"
   ]
  },
  {
   "cell_type": "code",
   "execution_count": 76,
   "metadata": {
    "colab": {
     "base_uri": "https://localhost:8080/",
     "height": 476
    },
    "id": "ytZL44AmvCKY",
    "outputId": "3257db45-6a46-414a-c47e-0d3fed4be7b0"
   },
   "outputs": [],
   "source": [
    "# Transformación de predictores\n",
    "# =============================================================================\n",
    "\n",
    "# numerical transformer pipeline (only contains 'tarifa')\n",
    "num_transformer = Pipeline([\n",
    "    ('imputer', SimpleImputer(strategy='median')),\n",
    "    (\"scaler\", RobustScaler()),\n",
    "                           ])\n",
    "\n",
    "# categorical transformer pipeline\n",
    "cat_transformer = Pipeline([ \n",
    "    ('imputer', SimpleImputer(strategy='most_frequent')),\n",
    "    ('ohe', OneHotEncoder(handle_unknown='ignore')),\n",
    "                            ])\n",
    "\n",
    "transformer = ColumnTransformer([\n",
    "    ('num_transfomer', num_transformer, num_features),\n",
    "    ('cat_transformer', cat_transformer, cat_features),\n",
    "                                ],remainder='passthrough')\n",
    "\n",
    "X_prepared = transformer.fit_transform(X_train)"
   ]
  },
  {
   "cell_type": "markdown",
   "metadata": {
    "id": "FDgrZyP6vCKY"
   },
   "source": [
    "### <b>SELECCIÓN DE MODELO"
   ]
  },
  {
   "cell_type": "code",
   "execution_count": 48,
   "metadata": {
    "id": "VPwy-_jWvCKY"
   },
   "outputs": [
    {
     "data": {
      "text/html": [
       "<div>\n",
       "<style scoped>\n",
       "    .dataframe tbody tr th:only-of-type {\n",
       "        vertical-align: middle;\n",
       "    }\n",
       "\n",
       "    .dataframe tbody tr th {\n",
       "        vertical-align: top;\n",
       "    }\n",
       "\n",
       "    .dataframe thead th {\n",
       "        text-align: right;\n",
       "    }\n",
       "</style>\n",
       "<table border=\"1\" class=\"dataframe\">\n",
       "  <thead>\n",
       "    <tr style=\"text-align: right;\">\n",
       "      <th></th>\n",
       "      <th>Precision</th>\n",
       "      <th>Recall</th>\n",
       "      <th>F1</th>\n",
       "    </tr>\n",
       "    <tr>\n",
       "      <th>Model</th>\n",
       "      <th></th>\n",
       "      <th></th>\n",
       "      <th></th>\n",
       "    </tr>\n",
       "  </thead>\n",
       "  <tbody>\n",
       "    <tr>\n",
       "      <th>random_forest</th>\n",
       "      <td>0.86</td>\n",
       "      <td>0.68</td>\n",
       "      <td>0.76</td>\n",
       "    </tr>\n",
       "    <tr>\n",
       "      <th>svc</th>\n",
       "      <td>0.8</td>\n",
       "      <td>0.69</td>\n",
       "      <td>0.74</td>\n",
       "    </tr>\n",
       "    <tr>\n",
       "      <th>knn</th>\n",
       "      <td>0.75</td>\n",
       "      <td>0.7</td>\n",
       "      <td>0.73</td>\n",
       "    </tr>\n",
       "    <tr>\n",
       "      <th>logistic</th>\n",
       "      <td>0.85</td>\n",
       "      <td>0.63</td>\n",
       "      <td>0.72</td>\n",
       "    </tr>\n",
       "  </tbody>\n",
       "</table>\n",
       "</div>"
      ],
      "text/plain": [
       "              Precision Recall    F1\n",
       "Model                               \n",
       "random_forest      0.86   0.68  0.76\n",
       "svc                 0.8   0.69  0.74\n",
       "knn                0.75    0.7  0.73\n",
       "logistic           0.85   0.63  0.72"
      ]
     },
     "execution_count": 48,
     "metadata": {},
     "output_type": "execute_result"
    }
   ],
   "source": [
    "# Búsqueda del modelo con mejor puntaje\n",
    "# ===================================================================================\n",
    "\n",
    "models = {'svc': SVC(), \n",
    "          'logistic': LogisticRegression(),\n",
    "          'random_forest': RandomForestClassifier(),\n",
    "          'knn': KNeighborsClassifier()}\n",
    "\n",
    "n_models = len(models)\n",
    "scores=[]\n",
    "for name, model in models.items():\n",
    "    y_train_pred = cross_val_predict(model, X_prepared, y_train, cv=10)\n",
    "    precision = np.mean(precision_score(y_train, y_train_pred)).round(2)\n",
    "    recall = np.mean(recall_score(y_train, y_train_pred)).round(2)\n",
    "    f1 = np.mean(f1_score(y_train, y_train_pred)).round(2)\n",
    "\n",
    "    model_scores = np.array([name, precision, recall, f1])\n",
    "    scores.append(np.array(model_scores))\n",
    "          \n",
    "scores_df = pd.DataFrame(scores, columns=['Model', 'Precision', 'Recall', 'F1']); scores_df.set_index('Model', inplace=True)\n",
    "scores_df.sort_values(by='F1', ascending=False)"
   ]
  },
  {
   "cell_type": "code",
   "execution_count": 49,
   "metadata": {
    "id": "NaiJNs35vCKY"
   },
   "outputs": [
    {
     "name": "stdout",
     "output_type": "stream",
     "text": [
      "[[507  42]\n",
      " [117 225]]\n",
      "              precision    recall  f1-score   support\n",
      "\n",
      "           0       0.81      0.92      0.86       549\n",
      "           1       0.84      0.66      0.74       342\n",
      "\n",
      "    accuracy                           0.82       891\n",
      "   macro avg       0.83      0.79      0.80       891\n",
      "weighted avg       0.82      0.82      0.82       891\n",
      "\n"
     ]
    }
   ],
   "source": [
    "# Reporte de puntuaciones del modelo Random Forest\n",
    "# ==============================================================================\n",
    "rforest_clf = RandomForestClassifier(random_state=42)\n",
    "y_pred = cross_val_predict(rforest_clf, X_prepared, y_train)\n",
    "print(confusion_matrix(y_train, y_pred))\n",
    "print(classification_report(y_train, y_pred))"
   ]
  },
  {
   "cell_type": "code",
   "execution_count": 50,
   "metadata": {
    "id": "4lrLWt07vCKZ"
   },
   "outputs": [
    {
     "data": {
      "image/png": "[encoded data removed]",
      "text/plain": [
       "<Figure size 432x288 with 1 Axes>"
      ]
     },
     "metadata": {},
     "output_type": "display_data"
    }
   ],
   "source": [
    "# Área bajo la curva\n",
    "# ================================================================================\n",
    "\n",
    "y_scores = cross_val_predict(rforest_clf, X_prepared, y_train, cv=5, n_jobs=-1)\n",
    "threshold = 0.5\n",
    "y_with_thres = (y_scores > threshold)\n",
    "fpr, tpr, thresholds = roc_curve(y_train, y_scores)\n",
    "\n",
    "def plot_roc_curve(fpr, tpr, label=None):\n",
    "    plt.plot(fpr, tpr, label=label)\n",
    "    plt.plot([0, 1], [0,1], 'k--')\n",
    "    plt.axis([0, 1, 0, 1])\n",
    "    plt.title('ROC Curve')\n",
    "    plt.xlabel('False Positive Rate')\n",
    "    plt.ylabel('True Positive Rate')\n",
    "    \n",
    "plot_roc_curve(fpr, tpr)\n",
    "plt.show()"
   ]
  },
  {
   "cell_type": "code",
   "execution_count": 51,
   "metadata": {
    "id": "nXC54iqvvCKZ"
   },
   "outputs": [
    {
     "data": {
      "text/plain": [
       "0.7906960023008341"
      ]
     },
     "execution_count": 51,
     "metadata": {},
     "output_type": "execute_result"
    }
   ],
   "source": [
    "# Puntaje del area bajo la curva\n",
    "# ============================================================================================\n",
    "roc_auc_score(y_train, y_pred)"
   ]
  },
  {
   "cell_type": "markdown",
   "metadata": {},
   "source": [
    "### <b>CONSTRUCCIÓN DEL MODELO (RANDOM FOREST)"
   ]
  },
  {
   "cell_type": "code",
   "execution_count": 52,
   "metadata": {
    "id": "bsf018H3vCKZ"
   },
   "outputs": [],
   "source": [
    "# Valores para hiperparámetros\n",
    "# ===================================================================\n",
    "# Cantidad de árboles\n",
    "n_estimators = [int(x) for x in np.linspace(start=10, stop=500)]\n",
    "# Cantidad de características a considerar en cada split\n",
    "max_features = ['auto', 'sqrt', None]\n",
    "# Máximo de niveles por árbol\n",
    "max_depth = [int(x) for x in np.linspace(5, 50, num=45)]\n",
    "max_depth.append(None)\n",
    "# Mínimas muestras requeridad para dividir un nodo\n",
    "min_samples_split = [2, 4, 6, 8, 10]\n",
    "# Cantidad de muestras requeridas para cada hoja de nodo\n",
    "min_samples_leaf = [1, 2, 4, 8, 10, 12, 14, 16, 20, 25, 30]\n",
    "# Método de selección de muestras para entrenamiento en cada árbol\n",
    "bootstrap = [True]\n",
    "\n",
    "# Create the random grid\n",
    "random_grid = {'n_estimators': n_estimators,\n",
    "               'max_features': max_features,\n",
    "               'max_depth': max_depth,\n",
    "               'min_samples_split': min_samples_split,\n",
    "               'min_samples_leaf': min_samples_leaf,\n",
    "               'bootstrap': bootstrap}"
   ]
  },
  {
   "cell_type": "code",
   "execution_count": 54,
   "metadata": {},
   "outputs": [
    {
     "data": {
      "text/plain": [
       "RandomizedSearchCV(cv=3, estimator=RandomForestClassifier(random_state=23),\n",
       "                   n_iter=100, n_jobs=-1,\n",
       "                   param_distributions={'bootstrap': [True],\n",
       "                                        'max_depth': [5, 6, 7, 8, 9, 10, 11, 12,\n",
       "                                                      13, 14, 15, 16, 17, 18,\n",
       "                                                      19, 20, 21, 22, 23, 24,\n",
       "                                                      25, 26, 27, 28, 29, 30,\n",
       "                                                      31, 32, 33, 34, ...],\n",
       "                                        'max_features': ['auto', 'sqrt', None],\n",
       "                                        'min_samples_leaf': [1, 2, 4, 8, 10, 12,\n",
       "                                                             14, 16, 20, 25,\n",
       "                                                             30],\n",
       "                                        'min_samples_split': [2, 4, 6, 8, 10],\n",
       "                                        'n_estimators': [10, 20, 30, 40, 50, 60,\n",
       "                                                         70, 80, 90, 100, 110,\n",
       "                                                         120, 130, 140, 150,\n",
       "                                                         160, 170, 180, 190,\n",
       "                                                         200, 210, 220, 230,\n",
       "                                                         240, 250, 260, 270,\n",
       "                                                         280, 290, 300, ...]},\n",
       "                   random_state=123, scoring='f1')"
      ]
     },
     "execution_count": 54,
     "metadata": {},
     "output_type": "execute_result"
    }
   ],
   "source": [
    "# Búsqueda aleatoria de hiperparámetros - RandomizedSearchCV\n",
    "# ==============================================================================\n",
    "rforest_classifier = RandomForestClassifier(random_state=23)\n",
    "rf_random = RandomizedSearchCV(estimator=rforest_classifier, param_distributions=random_grid, n_iter=100, scoring='f1',\n",
    "                               cv=3, random_state=123, n_jobs=-1,\n",
    "                               return_train_score=False)\n",
    "\n",
    "rf_random.fit(X_prepared, y_train)"
   ]
  },
  {
   "cell_type": "code",
   "execution_count": 55,
   "metadata": {},
   "outputs": [
    {
     "data": {
      "text/plain": [
       "{'n_estimators': 230,\n",
       " 'min_samples_split': 8,\n",
       " 'min_samples_leaf': 1,\n",
       " 'max_features': None,\n",
       " 'max_depth': 45,\n",
       " 'bootstrap': True}"
      ]
     },
     "execution_count": 55,
     "metadata": {},
     "output_type": "execute_result"
    }
   ],
   "source": [
    "# Mejores hiperparámetros aleatorios\n",
    "# ==============================================================================\n",
    "rf_random.best_params_"
   ]
  },
  {
   "cell_type": "code",
   "execution_count": 56,
   "metadata": {
    "id": "s-W7sCqevCKZ"
   },
   "outputs": [
    {
     "data": {
      "text/plain": [
       "array([[505,  44],\n",
       "       [108, 234]])"
      ]
     },
     "execution_count": 56,
     "metadata": {},
     "output_type": "execute_result"
    }
   ],
   "source": [
    "# Resultados de predicción del modelo con los mejores hiperparámetros aleatorios.\n",
    "# ==============================================================================\n",
    "rf_random = rf_random.best_estimator_\n",
    "rf_random_pred = cross_val_predict(rf_random, X_prepared, y_train, cv=10, n_jobs=-1)\n",
    "confusion_matrix(y_train, rf_random_pred)"
   ]
  },
  {
   "cell_type": "code",
   "execution_count": 57,
   "metadata": {},
   "outputs": [
    {
     "name": "stdout",
     "output_type": "stream",
     "text": [
      "              precision    recall  f1-score   support\n",
      "\n",
      "           0       0.82      0.92      0.87       549\n",
      "           1       0.84      0.68      0.75       342\n",
      "\n",
      "    accuracy                           0.83       891\n",
      "   macro avg       0.83      0.80      0.81       891\n",
      "weighted avg       0.83      0.83      0.83       891\n",
      "\n"
     ]
    }
   ],
   "source": [
    "# Reporte de puntuaciones del modelo con los mejores hiperparámetros aleatorios.\n",
    "# ==============================================================================\n",
    "print(classification_report(y_train, rf_random_pred))"
   ]
  },
  {
   "cell_type": "markdown",
   "metadata": {},
   "source": [
    "<div style=\"color:#9A7D0A;\n",
    "           display:fill;\n",
    "           padding: 5px;\n",
    "           border-radius:10px;\n",
    "           border-style: solid;\n",
    "           border-color: #F9E79F;\n",
    "           background-color:#FCF3CF;\n",
    "           font-size:15px;\n",
    "           font-family: Didot;\n",
    "           letter-spacing:0.5px\">\n",
    "    <b>📝 Note:</b> Utilizando <b>F1-score</b> como métrica para evaluar el rendimiento del modelo, se puede apreciar un muy ligero incremento en la puntuación. 0.01 <b>(0.87)</b> para clase 0 y 0.01 <b>(0.75)</b> para clase 1.\n",
    "</div>"
   ]
  },
  {
   "cell_type": "markdown",
   "metadata": {},
   "source": [
    "#### <b>param_grid "
   ]
  },
  {
   "cell_type": "markdown",
   "metadata": {},
   "source": [
    "<b> Tomando como referencia los mejores parámetros arrojados por <b>RandomizedGridCV</b>, busco muevos parámetros que puedan mejor la precisión del modelo."
   ]
  },
  {
   "cell_type": "code",
   "execution_count": 58,
   "metadata": {},
   "outputs": [
    {
     "data": {
      "text/plain": [
       "GridSearchCV(cv=3, estimator=RandomForestClassifier(random_state=65), n_jobs=-1,\n",
       "             param_grid={'bootstrap': [True], 'max_depth': [40, 45, 55, 60],\n",
       "                         'max_features': [None], 'min_samples_leaf': [1, 2, 3],\n",
       "                         'min_samples_split': [7, 8, 9],\n",
       "                         'n_estimators': [200, 210, 220, 230, 240]},\n",
       "             scoring='f1')"
      ]
     },
     "execution_count": 58,
     "metadata": {},
     "output_type": "execute_result"
    }
   ],
   "source": [
    "param_grid = {\n",
    "    'n_estimators': [200, 210, 220, 230, 240],\n",
    "    'min_samples_split': [7, 8, 9],\n",
    "    'min_samples_leaf': [1, 2, 3],\n",
    "    'max_features': [None],\n",
    "    'max_depth': [40, 45, 55, 60],\n",
    "    'bootstrap': [True]\n",
    "}\n",
    "\n",
    "rforest_classifier2 = RandomForestClassifier(random_state=65)\n",
    "grid_search = GridSearchCV(estimator=rforest_classifier2, param_grid =param_grid,\n",
    "                           cv=3, n_jobs=-1, scoring='f1',\n",
    "                           return_train_score=False)\n",
    "\n",
    "grid_search.fit(X_prepared, y_train)"
   ]
  },
  {
   "cell_type": "code",
   "execution_count": 59,
   "metadata": {},
   "outputs": [
    {
     "data": {
      "text/plain": [
       "{'bootstrap': True,\n",
       " 'max_depth': 40,\n",
       " 'max_features': None,\n",
       " 'min_samples_leaf': 1,\n",
       " 'min_samples_split': 7,\n",
       " 'n_estimators': 210}"
      ]
     },
     "execution_count": 59,
     "metadata": {},
     "output_type": "execute_result"
    }
   ],
   "source": [
    "# Mejores parámetros con GridSearch\n",
    "# ==============================================================================\n",
    "grid_search.best_params_"
   ]
  },
  {
   "cell_type": "code",
   "execution_count": 60,
   "metadata": {},
   "outputs": [
    {
     "data": {
      "text/plain": [
       "array([[505,  44],\n",
       "       [107, 235]])"
      ]
     },
     "execution_count": 60,
     "metadata": {},
     "output_type": "execute_result"
    }
   ],
   "source": [
    "# Resultados de predicción del modelo con los mejores parámetros GridSearchCV\n",
    "# ==============================================================================\n",
    "grid_search_model = grid_search.best_estimator_\n",
    "grid_pred = cross_val_predict(grid_search_model, X_prepared, y_train, cv=10, n_jobs=-1)\n",
    "confusion_matrix(y_train, grid_pred)"
   ]
  },
  {
   "cell_type": "code",
   "execution_count": 62,
   "metadata": {},
   "outputs": [
    {
     "name": "stdout",
     "output_type": "stream",
     "text": [
      "              precision    recall  f1-score   support\n",
      "\n",
      "           0       0.83      0.92      0.87       549\n",
      "           1       0.84      0.69      0.76       342\n",
      "\n",
      "    accuracy                           0.83       891\n",
      "   macro avg       0.83      0.80      0.81       891\n",
      "weighted avg       0.83      0.83      0.83       891\n",
      "\n"
     ]
    }
   ],
   "source": [
    "# Reporte de puntuaciones del modelo Random Forest utilizando GridSearchCV\n",
    "# ==============================================================================\n",
    "print(classification_report(y_train, grid_pred))"
   ]
  },
  {
   "cell_type": "markdown",
   "metadata": {},
   "source": [
    "Hubo una pequeña mejora para la clasificación de la clase 1 en un 0.01 (0.76) con el modelo <b>grid_model</b>."
   ]
  },
  {
   "cell_type": "code",
   "execution_count": 64,
   "metadata": {},
   "outputs": [
    {
     "data": {
      "text/plain": [
       "GridSearchCV(cv=3, estimator=RandomForestClassifier(random_state=12), n_jobs=-1,\n",
       "             param_grid={'bootstrap': [True], 'max_depth': [38, 40, 42],\n",
       "                         'max_features': [None], 'min_samples_leaf': [1],\n",
       "                         'min_samples_split': [7],\n",
       "                         'n_estimators': [205, 210, 215]},\n",
       "             scoring='f1')"
      ]
     },
     "execution_count": 64,
     "metadata": {},
     "output_type": "execute_result"
    }
   ],
   "source": [
    "# Última búsqueda de parámetros\n",
    "# ================================================================================\n",
    "param_grid2 = {'bootstrap': [True],\n",
    " 'max_depth': [38, 40, 42],\n",
    " 'max_features': [None],\n",
    " 'min_samples_leaf': [1],\n",
    " 'min_samples_split': [7],\n",
    " 'n_estimators': [205, 210, 215]}\n",
    "\n",
    "rforest_classifier3 = RandomForestClassifier(random_state=12)\n",
    "grid_search2 = GridSearchCV(estimator=rforest_classifier3, param_grid =param_grid2,\n",
    "                           cv=3, n_jobs=-1, scoring='f1',\n",
    "                           return_train_score=False)\n",
    "\n",
    "grid_search2.fit(X_prepared, y_train)"
   ]
  },
  {
   "cell_type": "code",
   "execution_count": 66,
   "metadata": {},
   "outputs": [
    {
     "data": {
      "text/plain": [
       "{'bootstrap': True,\n",
       " 'max_depth': 38,\n",
       " 'max_features': None,\n",
       " 'min_samples_leaf': 1,\n",
       " 'min_samples_split': 7,\n",
       " 'n_estimators': 210}"
      ]
     },
     "execution_count": 66,
     "metadata": {},
     "output_type": "execute_result"
    }
   ],
   "source": [
    "grid_search2.best_params_"
   ]
  },
  {
   "cell_type": "code",
   "execution_count": 67,
   "metadata": {},
   "outputs": [
    {
     "data": {
      "text/plain": [
       "array([[505,  44],\n",
       "       [107, 235]])"
      ]
     },
     "execution_count": 67,
     "metadata": {},
     "output_type": "execute_result"
    }
   ],
   "source": [
    "# Resultados de predicción del modelo con los mejores parámetros GridSearchCV\n",
    "# ==============================================================================\n",
    "grid_search_model2 = grid_search2.best_estimator_\n",
    "grid_pred2 = cross_val_predict(grid_search_model2, X_prepared, y_train, cv=10, n_jobs=-1)\n",
    "confusion_matrix(y_train, grid_pred2)"
   ]
  },
  {
   "cell_type": "code",
   "execution_count": 68,
   "metadata": {},
   "outputs": [
    {
     "name": "stdout",
     "output_type": "stream",
     "text": [
      "              precision    recall  f1-score   support\n",
      "\n",
      "           0       0.83      0.92      0.87       549\n",
      "           1       0.84      0.69      0.76       342\n",
      "\n",
      "    accuracy                           0.83       891\n",
      "   macro avg       0.83      0.80      0.81       891\n",
      "weighted avg       0.83      0.83      0.83       891\n",
      "\n"
     ]
    }
   ],
   "source": [
    "# Reporte de puntuaciones del modelo Random Forest utilizando GridSearchCV\n",
    "# ==============================================================================\n",
    "print(classification_report(y_train, grid_pred2))"
   ]
  },
  {
   "cell_type": "markdown",
   "metadata": {},
   "source": [
    "No hubo mejoras en la capacidad de predicción sobre el modelo anterior. Tomo este como modelo final."
   ]
  },
  {
   "cell_type": "code",
   "execution_count": 69,
   "metadata": {},
   "outputs": [],
   "source": [
    "final_model = grid_search_model2"
   ]
  },
  {
   "cell_type": "markdown",
   "metadata": {},
   "source": [
    "# <b>PREDICCIÓN"
   ]
  },
  {
   "cell_type": "code",
   "execution_count": 77,
   "metadata": {
    "id": "rXNTZ1IWvCKa"
   },
   "outputs": [],
   "source": [
    "# Transformación de los predictores en el conjunto de datos de prueba\n",
    "test_prepared = transformer.transform(X_test)"
   ]
  },
  {
   "cell_type": "code",
   "execution_count": 78,
   "metadata": {
    "id": "nGr9BxTmvCKb"
   },
   "outputs": [],
   "source": [
    "# Predicciones\n",
    "# ====================================================================================\n",
    "predictions = final_model.predict(test_prepared)"
   ]
  },
  {
   "cell_type": "code",
   "execution_count": 96,
   "metadata": {
    "id": "VxmtYMx0vCKb"
   },
   "outputs": [],
   "source": [
    "test['vida'] = predictions\n",
    "titanic_preds = test[['id', 'vida']]\n",
    "titanic_preds.columns=['PassengerId', 'Survived']\n",
    "titanic_preds.to_csv('submission2.csv',index=False)"
   ]
  },
  {
   "cell_type": "code",
   "execution_count": 93,
   "metadata": {},
   "outputs": [
    {
     "data": {
      "text/html": [
       "<div>\n",
       "<style scoped>\n",
       "    .dataframe tbody tr th:only-of-type {\n",
       "        vertical-align: middle;\n",
       "    }\n",
       "\n",
       "    .dataframe tbody tr th {\n",
       "        vertical-align: top;\n",
       "    }\n",
       "\n",
       "    .dataframe thead th {\n",
       "        text-align: right;\n",
       "    }\n",
       "</style>\n",
       "<table border=\"1\" class=\"dataframe\">\n",
       "  <thead>\n",
       "    <tr style=\"text-align: right;\">\n",
       "      <th></th>\n",
       "      <th>Survived</th>\n",
       "    </tr>\n",
       "    <tr>\n",
       "      <th>PassengerId</th>\n",
       "      <th></th>\n",
       "    </tr>\n",
       "  </thead>\n",
       "  <tbody>\n",
       "    <tr>\n",
       "      <th>892</th>\n",
       "      <td>0</td>\n",
       "    </tr>\n",
       "    <tr>\n",
       "      <th>893</th>\n",
       "      <td>1</td>\n",
       "    </tr>\n",
       "    <tr>\n",
       "      <th>894</th>\n",
       "      <td>0</td>\n",
       "    </tr>\n",
       "    <tr>\n",
       "      <th>895</th>\n",
       "      <td>0</td>\n",
       "    </tr>\n",
       "    <tr>\n",
       "      <th>896</th>\n",
       "      <td>1</td>\n",
       "    </tr>\n",
       "    <tr>\n",
       "      <th>...</th>\n",
       "      <td>...</td>\n",
       "    </tr>\n",
       "    <tr>\n",
       "      <th>1305</th>\n",
       "      <td>0</td>\n",
       "    </tr>\n",
       "    <tr>\n",
       "      <th>1306</th>\n",
       "      <td>1</td>\n",
       "    </tr>\n",
       "    <tr>\n",
       "      <th>1307</th>\n",
       "      <td>0</td>\n",
       "    </tr>\n",
       "    <tr>\n",
       "      <th>1308</th>\n",
       "      <td>0</td>\n",
       "    </tr>\n",
       "    <tr>\n",
       "      <th>1309</th>\n",
       "      <td>0</td>\n",
       "    </tr>\n",
       "  </tbody>\n",
       "</table>\n",
       "<p>418 rows × 1 columns</p>\n",
       "</div>"
      ],
      "text/plain": [
       "             Survived\n",
       "PassengerId          \n",
       "892                 0\n",
       "893                 1\n",
       "894                 0\n",
       "895                 0\n",
       "896                 1\n",
       "...               ...\n",
       "1305                0\n",
       "1306                1\n",
       "1307                0\n",
       "1308                0\n",
       "1309                0\n",
       "\n",
       "[418 rows x 1 columns]"
      ]
     },
     "execution_count": 93,
     "metadata": {},
     "output_type": "execute_result"
    }
   ],
   "source": [
    "# Resultados de predicciones\n",
    "# =====================================================================================\n",
    "titanic_preds"
   ]
  },
  {
   "cell_type": "code",
   "execution_count": null,
   "metadata": {},
   "outputs": [],
   "source": []
  }
 ],
 "metadata": {
  "accelerator": "GPU",
  "colab": {
   "name": "Copy of Titanic-Copy1.ipynb",
   "provenance": [],
   "toc_visible": true
  },
  "kernelspec": {
   "display_name": "Python 3 (ipykernel)",
   "language": "python",
   "name": "python3"
  },
  "language_info": {
   "codemirror_mode": {
    "name": "ipython",
    "version": 3
   },
   "file_extension": ".py",
   "mimetype": "text/x-python",
   "name": "python",
   "nbconvert_exporter": "python",
   "pygments_lexer": "ipython3",
   "version": "3.8.12"
  }
 },
 "nbformat": 4,
 "nbformat_minor": 4
}
