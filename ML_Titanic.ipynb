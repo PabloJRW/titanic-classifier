{
 "cells": [
  {
   "cell_type": "code",
   "execution_count": null,
   "id": "1e32ee8f-7e6f-483a-bad5-e88a8ce209ec",
   "metadata": {},
   "outputs": [],
   "source": []
  },
  {
   "cell_type": "code",
   "execution_count": null,
   "id": "9abbd853-52f6-48e4-a556-9237a9da4830",
   "metadata": {},
   "outputs": [],
   "source": [
    "# Pruebas de normalidad \n",
    "# ==============================================================================\n",
    "mask = train['edad'].dropna() # 'edad' sin incluir los valores faltantes\n",
    "\n",
    "# Shapiro-Wilk\n",
    "shapiro = stats.shapiro(mask)\n",
    "#K^2 D'Agostino\n",
    "dagostino = stats.normaltest(mask)\n",
    "print(shapiro)\n",
    "print(dagostino)"
   ]
  },
  {
   "cell_type": "markdown",
   "id": "7655c0b8-a561-4d5e-86dc-9aff1d659c07",
   "metadata": {},
   "source": [
    "<div style=\"color:#9A7D0A;\n",
    "           display:fill;\n",
    "           padding: 5px;\n",
    "           border-radius:10px;\n",
    "           border-style: solid;\n",
    "           border-color: #F9E79F;\n",
    "           background-color:#FCF3CF;\n",
    "           font-size:15px;\n",
    "           font-family: Didot;\n",
    "           letter-spacing:0.5px\">\n",
    "    <b>📝 Note:</b> Las pruebas de normalidad (Shapiro-Wilk y K^2 D'Agostino), nos indica que hay evidencias significativas de que la variable <b>edad</b> no se distribuye de manera normal.\n",
    "</div>"
   ]
  },
  {
   "cell_type": "markdown",
   "id": "9013e099-8f91-48df-a2fb-78c0c4b85af2",
   "metadata": {},
   "source": [
    "<b>Prueba de hipótesis</b> para comprobar si hay diferencia entre las distribuciones de <b>edad</b>, entre los pasajeros que sobrevivieron y los que fallecieron.  "
   ]
  },
  {
   "cell_type": "code",
   "execution_count": null,
   "id": "0954352a-8b9e-46b9-ad8a-7aaf9762fca0",
   "metadata": {},
   "outputs": [],
   "source": [
    "# Creación de grupos (vivos - muertos)\n",
    "edad_vida_0 = train[train['vida']==0]['edad'].dropna() # Fallecidos\n",
    "edad_vida_1 = train[train['vida']==1]['edad'].dropna() # Sobrevivientes\n",
    "\n",
    "# Mann-Withney U test\n",
    "# ===============================================================================\n",
    "mannwhitneyu = stats.mannwhitneyu(edad_vida_0, edad_vida_1)\n",
    "# Kruskal-Wallis test\n",
    "# ===============================================================================\n",
    "kruskalwallis = stats.kruskal(edad_vida_0, edad_vida_1)\n",
    "print(mannwhitneyu)\n",
    "print(kruskalwallis)"
   ]
  },
  {
   "cell_type": "markdown",
   "id": "4dd944d6-09e6-4277-b3fd-950619b10d6f",
   "metadata": {},
   "source": [
    "Al igual que la puntuación de <b>mutual information</b> lo sugiere; mediante las pruebas de hipótesis no paramétricas <b>Mann-Withney U</b> y <b>Kruskal-Wallis</b> podemos concluir que la <b>edad</b> no es predictora de supervivencia. Mediante ambas hipótesis se encontró que no hay evidencias significativas de que haya difrencias entre la <b>edad</b> del grupo de supervivientes en contraste no el grupo de fallecidos. Elimino esta variable"
   ]
  }
 ],
 "metadata": {
  "kernelspec": {
   "display_name": "Python 3 (ipykernel)",
   "language": "python",
   "name": "python3"
  },
  "language_info": {
   "codemirror_mode": {
    "name": "ipython",
    "version": 3
   },
   "file_extension": ".py",
   "mimetype": "text/x-python",
   "name": "python",
   "nbconvert_exporter": "python",
   "pygments_lexer": "ipython3",
   "version": "3.8.8"
  }
 },
 "nbformat": 4,
 "nbformat_minor": 5
}
